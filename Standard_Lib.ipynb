{
 "cells": [
  {
   "cell_type": "markdown",
   "id": "baa163af-8f80-4d1e-9ad6-c1705461ba0e",
   "metadata": {},
   "source": [
    "### Math Module"
   ]
  },
  {
   "cell_type": "code",
   "execution_count": 1,
   "id": "388c6343-ea8d-4fd0-a4ba-855ec3fb29ca",
   "metadata": {},
   "outputs": [],
   "source": [
    "import math"
   ]
  },
  {
   "cell_type": "code",
   "execution_count": 2,
   "id": "035f8777-a2bf-47ce-b30a-626f4e263e20",
   "metadata": {},
   "outputs": [
    {
     "data": {
      "text/plain": [
       "(3.141592653589793, 2.718281828459045, inf, nan)"
      ]
     },
     "execution_count": 2,
     "metadata": {},
     "output_type": "execute_result"
    }
   ],
   "source": [
    "math.pi, math.e, math.inf, math.nan"
   ]
  },
  {
   "cell_type": "code",
   "execution_count": 3,
   "id": "ee3e7a1e-a626-4a07-b1fc-06535ce1df57",
   "metadata": {},
   "outputs": [
    {
     "data": {
      "text/plain": [
       "3"
      ]
     },
     "execution_count": 3,
     "metadata": {},
     "output_type": "execute_result"
    }
   ],
   "source": [
    "# floor(x) : 내림\n",
    "math.floor(math.pi)"
   ]
  },
  {
   "cell_type": "code",
   "execution_count": 4,
   "id": "e7aee6a4-98da-43f6-b466-e7bab0b9e03c",
   "metadata": {},
   "outputs": [
    {
     "data": {
      "text/plain": [
       "4"
      ]
     },
     "execution_count": 4,
     "metadata": {},
     "output_type": "execute_result"
    }
   ],
   "source": [
    "# ceil(x) : 올림\n",
    "math.ceil(math.pi)"
   ]
  },
  {
   "cell_type": "code",
   "execution_count": 5,
   "id": "f55956e0-0f73-4120-b9f4-e7e07d9d3287",
   "metadata": {},
   "outputs": [
    {
     "data": {
      "text/plain": [
       "1.4142135623730951"
      ]
     },
     "execution_count": 5,
     "metadata": {},
     "output_type": "execute_result"
    }
   ],
   "source": [
    "# sqrt.(x) : 제곱근(루트)\n",
    "math.sqrt(2)"
   ]
  },
  {
   "cell_type": "code",
   "execution_count": 6,
   "id": "d281a1bd-9fa9-4bc1-9ad1-31a00fc6f2fb",
   "metadata": {},
   "outputs": [
    {
     "data": {
      "text/plain": [
       "(0.0, 0.6931471805599453, 2.302585092994046, 1.0)"
      ]
     },
     "execution_count": 6,
     "metadata": {},
     "output_type": "execute_result"
    }
   ],
   "source": [
    "# log(x) : 로그값\n",
    "math.log(1), math.log(2), math.log(10), math.log10(10)"
   ]
  },
  {
   "cell_type": "code",
   "execution_count": 7,
   "id": "dc521c19-7cbc-421c-ac87-2fd3eb9b300f",
   "metadata": {},
   "outputs": [
    {
     "data": {
      "text/plain": [
       "3.141592653589793"
      ]
     },
     "execution_count": 7,
     "metadata": {},
     "output_type": "execute_result"
    }
   ],
   "source": [
    "p = math.pi\n",
    "p"
   ]
  },
  {
   "cell_type": "code",
   "execution_count": 8,
   "id": "378737c1-c0de-4284-b1a1-2702c63076d5",
   "metadata": {},
   "outputs": [
    {
     "data": {
      "text/plain": [
       "(0.0, 1.0, -2.4492935982947064e-16)"
      ]
     },
     "execution_count": 8,
     "metadata": {},
     "output_type": "execute_result"
    }
   ],
   "source": [
    "# sin(x) : 사인값\n",
    "math.sin(0), math.sin(p/2), math.sin(2*p)\n",
    "# sin(2*pi) 는 0 이지만 정확하게 떨어지지 않는 경우가 있고, 아주 작은 수로 표현됐기에 0과 같다."
   ]
  },
  {
   "cell_type": "code",
   "execution_count": 9,
   "id": "80a24456-ef51-4d17-89d0-7381c50db430",
   "metadata": {},
   "outputs": [
    {
     "data": {
      "text/plain": [
       "(1.0, 6.123233995736766e-17, 1.0)"
      ]
     },
     "execution_count": 9,
     "metadata": {},
     "output_type": "execute_result"
    }
   ],
   "source": [
    "# cos(x) : 코사인값\n",
    "math.cos(0), math.cos(p/2), math.cos(2*p)\n",
    "# cos(p/2) 도 0 이지만 위와 같다."
   ]
  },
  {
   "cell_type": "code",
   "execution_count": 10,
   "id": "96255deb-4330-419d-9f52-ae10038966ba",
   "metadata": {},
   "outputs": [
    {
     "data": {
      "text/plain": [
       "1.5707963267948966"
      ]
     },
     "execution_count": 10,
     "metadata": {},
     "output_type": "execute_result"
    }
   ],
   "source": [
    "# radian 값 구하기\n",
    "x_degree = 90\n",
    "x_radian = x_degree * (p/180)\n",
    "x_radian"
   ]
  },
  {
   "cell_type": "code",
   "execution_count": 11,
   "id": "03da7204-286f-4438-8823-42b9f92f9684",
   "metadata": {},
   "outputs": [
    {
     "data": {
      "text/plain": [
       "1.5707963267948966"
      ]
     },
     "execution_count": 11,
     "metadata": {},
     "output_type": "execute_result"
    }
   ],
   "source": [
    "math.radians(90)"
   ]
  },
  {
   "cell_type": "code",
   "execution_count": 12,
   "id": "4fd63f47-7598-4f9d-8ff4-d9850b00ae61",
   "metadata": {},
   "outputs": [
    {
     "data": {
      "text/plain": [
       "(False, False)"
      ]
     },
     "execution_count": 12,
     "metadata": {},
     "output_type": "execute_result"
    }
   ],
   "source": [
    "# isinf(x), isnan(x) : inf 여부, nan 여부\n",
    "x = 2\n",
    "math.isinf(x), math.isnan(x)"
   ]
  },
  {
   "cell_type": "code",
   "execution_count": 13,
   "id": "d5f7a60e-ce09-4c6e-ac2c-202c2bc4eae1",
   "metadata": {},
   "outputs": [
    {
     "data": {
      "text/plain": [
       "6.0"
      ]
     },
     "execution_count": 13,
     "metadata": {},
     "output_type": "execute_result"
    }
   ],
   "source": [
    "# fsum(list) : list 안의 총합\n",
    "math.fsum([1, 2, 3])"
   ]
  },
  {
   "cell_type": "markdown",
   "id": "8ac9cfc8-3971-42bd-aba6-7ac1c4ef17e9",
   "metadata": {},
   "source": [
    "### OS"
   ]
  },
  {
   "cell_type": "code",
   "execution_count": 14,
   "id": "77a035df-ccb7-463f-8631-20a98438307f",
   "metadata": {},
   "outputs": [],
   "source": [
    "import os"
   ]
  },
  {
   "cell_type": "code",
   "execution_count": 15,
   "id": "f3dc3754-6ac5-4f7d-9007-49e3e7e77d6f",
   "metadata": {},
   "outputs": [
    {
     "data": {
      "text/plain": [
       "'C:\\\\Users\\\\Hunie\\\\Gongbro_Review'"
      ]
     },
     "execution_count": 15,
     "metadata": {},
     "output_type": "execute_result"
    }
   ],
   "source": [
    "# getcwd() : get_current_working_directory / 현재 실행중인 파일 위치\n",
    "os.getcwd()"
   ]
  },
  {
   "cell_type": "code",
   "execution_count": 16,
   "id": "8350b756-5cda-4c27-ba56-fd126547f553",
   "metadata": {},
   "outputs": [],
   "source": [
    "# chdir() : change_directory / 디렉토리 위치 변경\n",
    "os.chdir('C:\\\\Users\\\\Hunie\\\\Gongbro_Review')"
   ]
  },
  {
   "cell_type": "code",
   "execution_count": 17,
   "id": "46f8f94f-113a-4447-badd-02a69758400f",
   "metadata": {},
   "outputs": [],
   "source": [
    "# mkdir() : make_directory / 디렉토리 생성\n",
    "os.mkdir('temp')"
   ]
  },
  {
   "cell_type": "code",
   "execution_count": 18,
   "id": "6b72af7f-0612-417e-b316-465bdee4f885",
   "metadata": {},
   "outputs": [
    {
     "data": {
      "text/plain": [
       "'C:\\\\Users\\\\Hunie\\\\Gongbro_Review\\\\temp'"
      ]
     },
     "execution_count": 18,
     "metadata": {},
     "output_type": "execute_result"
    }
   ],
   "source": [
    "os.chdir('temp')\n",
    "os.getcwd()"
   ]
  },
  {
   "cell_type": "code",
   "execution_count": 19,
   "id": "4128501e-dc2f-4896-adf3-a3d32bf052fb",
   "metadata": {},
   "outputs": [
    {
     "data": {
      "text/plain": [
       "'C:\\\\Users\\\\Hunie\\\\Gongbro_Review'"
      ]
     },
     "execution_count": 19,
     "metadata": {},
     "output_type": "execute_result"
    }
   ],
   "source": [
    "os.chdir('..') # 상위폴더로 이동하기\n",
    "# os.chdir('.') # 현재 디렉토리 (이동 X)\n",
    "os.getcwd()"
   ]
  },
  {
   "cell_type": "code",
   "execution_count": 20,
   "id": "6cf05bd9-4b8c-4bef-9bed-9429fe26c41c",
   "metadata": {},
   "outputs": [
    {
     "data": {
      "text/plain": [
       "['.ipynb_checkpoints',\n",
       " 'Containers.ipynb',\n",
       " 'Standard_Lib.ipynb',\n",
       " 'temp',\n",
       " 'Variables.ipynb']"
      ]
     },
     "execution_count": 20,
     "metadata": {},
     "output_type": "execute_result"
    }
   ],
   "source": [
    "# listdir() : 현재 디렉토리에 있는 디렉토리들의 리스트\n",
    "os.listdir()"
   ]
  },
  {
   "cell_type": "code",
   "execution_count": 21,
   "id": "2a7114e2-ef27-4095-8b4e-5b2c0fdeb11a",
   "metadata": {},
   "outputs": [],
   "source": [
    "# rename(x, y) : 디렉토리 x 이름을 y 로 바꾸기\n",
    "# rmdir(x) : 디렉토리 x 없애기"
   ]
  },
  {
   "cell_type": "markdown",
   "id": "35f6abf4-979c-4a6a-849c-ac697edeb717",
   "metadata": {},
   "source": [
    "### Sys"
   ]
  },
  {
   "cell_type": "code",
   "execution_count": 22,
   "id": "12942fd1-00c8-4387-8669-3ebddfb90f50",
   "metadata": {},
   "outputs": [],
   "source": [
    "import sys"
   ]
  },
  {
   "cell_type": "code",
   "execution_count": 23,
   "id": "7ea8a46b-1ef4-4874-b8b8-faf10f7e059c",
   "metadata": {
    "scrolled": true
   },
   "outputs": [],
   "source": [
    "# sys.modules"
   ]
  },
  {
   "cell_type": "code",
   "execution_count": 24,
   "id": "410aadad-9428-4a0b-9c21-719d6a95ec3b",
   "metadata": {},
   "outputs": [
    {
     "data": {
      "text/plain": [
       "['C:\\\\Users\\\\Hunie\\\\anaconda3\\\\envs\\\\notebook\\\\python312.zip',\n",
       " 'C:\\\\Users\\\\Hunie\\\\anaconda3\\\\envs\\\\notebook\\\\DLLs',\n",
       " 'C:\\\\Users\\\\Hunie\\\\anaconda3\\\\envs\\\\notebook\\\\Lib',\n",
       " 'C:\\\\Users\\\\Hunie\\\\anaconda3\\\\envs\\\\notebook',\n",
       " '',\n",
       " 'C:\\\\Users\\\\Hunie\\\\AppData\\\\Roaming\\\\Python\\\\Python312\\\\site-packages',\n",
       " 'C:\\\\Users\\\\Hunie\\\\AppData\\\\Roaming\\\\Python\\\\Python312\\\\site-packages\\\\win32',\n",
       " 'C:\\\\Users\\\\Hunie\\\\AppData\\\\Roaming\\\\Python\\\\Python312\\\\site-packages\\\\win32\\\\lib',\n",
       " 'C:\\\\Users\\\\Hunie\\\\AppData\\\\Roaming\\\\Python\\\\Python312\\\\site-packages\\\\Pythonwin',\n",
       " 'C:\\\\Users\\\\Hunie\\\\anaconda3\\\\envs\\\\notebook\\\\Lib\\\\site-packages',\n",
       " 'C:\\\\Users\\\\Hunie\\\\anaconda3\\\\envs\\\\notebook\\\\Lib\\\\site-packages\\\\win32',\n",
       " 'C:\\\\Users\\\\Hunie\\\\anaconda3\\\\envs\\\\notebook\\\\Lib\\\\site-packages\\\\win32\\\\lib',\n",
       " 'C:\\\\Users\\\\Hunie\\\\anaconda3\\\\envs\\\\notebook\\\\Lib\\\\site-packages\\\\Pythonwin']"
      ]
     },
     "execution_count": 24,
     "metadata": {},
     "output_type": "execute_result"
    }
   ],
   "source": [
    "sys.path"
   ]
  },
  {
   "cell_type": "markdown",
   "id": "5ef6a6dd-8a53-4762-88d9-01caa831dc92",
   "metadata": {},
   "source": [
    "### File Input/Output"
   ]
  },
  {
   "cell_type": "code",
   "execution_count": 25,
   "id": "1c0dd438-0333-44f3-82fe-f53f503a0b2c",
   "metadata": {},
   "outputs": [
    {
     "data": {
      "text/plain": [
       "'C:\\\\Users\\\\Hunie\\\\Gongbro_Review'"
      ]
     },
     "execution_count": 25,
     "metadata": {},
     "output_type": "execute_result"
    }
   ],
   "source": [
    "import os\n",
    "os.getcwd()"
   ]
  },
  {
   "cell_type": "code",
   "execution_count": 26,
   "id": "e657febf-30e5-4941-9d62-e750488e0317",
   "metadata": {},
   "outputs": [
    {
     "data": {
      "text/plain": [
       "'C:\\\\Users\\\\Hunie\\\\Gongbro_Review\\\\temp'"
      ]
     },
     "execution_count": 26,
     "metadata": {},
     "output_type": "execute_result"
    }
   ],
   "source": [
    "os.chdir('C:\\\\Users\\\\Hunie\\\\Gongbro_Review\\\\temp')\n",
    "os.getcwd()"
   ]
  },
  {
   "cell_type": "code",
   "execution_count": 27,
   "id": "c36e3bb6-b0c0-4dd2-abf4-d116028b718f",
   "metadata": {},
   "outputs": [
    {
     "data": {
      "text/plain": [
       "_io.TextIOWrapper"
      ]
     },
     "execution_count": 27,
     "metadata": {},
     "output_type": "execute_result"
    }
   ],
   "source": [
    "# open()\n",
    "f = open('file1.txt', 'w')\n",
    "type(f)"
   ]
  },
  {
   "cell_type": "code",
   "execution_count": 28,
   "id": "4ac1ca71-91e2-41bf-b6c4-7eb4c08416a4",
   "metadata": {},
   "outputs": [
    {
     "data": {
      "text/plain": [
       "False"
      ]
     },
     "execution_count": 28,
     "metadata": {},
     "output_type": "execute_result"
    }
   ],
   "source": [
    "# closed : 파일 닫힘 여부\n",
    "f.closed"
   ]
  },
  {
   "cell_type": "code",
   "execution_count": 29,
   "id": "7488a758-fc17-4d70-9d34-2a9f2b3b9183",
   "metadata": {},
   "outputs": [
    {
     "data": {
      "text/plain": [
       "13"
      ]
     },
     "execution_count": 29,
     "metadata": {},
     "output_type": "execute_result"
    }
   ],
   "source": [
    "f.write('I love Python')"
   ]
  },
  {
   "cell_type": "code",
   "execution_count": 30,
   "id": "29128653-991e-452b-8525-e1d65e0297e8",
   "metadata": {},
   "outputs": [
    {
     "data": {
      "text/plain": [
       "True"
      ]
     },
     "execution_count": 30,
     "metadata": {},
     "output_type": "execute_result"
    }
   ],
   "source": [
    "# close() : 파일 닫기\n",
    "f.close()\n",
    "f.closed"
   ]
  },
  {
   "cell_type": "code",
   "execution_count": 31,
   "id": "ca3c38ae-6f64-4cb4-a826-1674fecd31b2",
   "metadata": {},
   "outputs": [],
   "source": [
    "with open('file2.txt', 'w') as f:\n",
    "    f.write('I love Python\\n')\n",
    "    f.write('I love math\\n')\n",
    "    f.write('I love engineering\\n')\n",
    "# with open(   ,   ) as 형태로 사용하면 자동으로 .close() 파일 닫기가 된다."
   ]
  },
  {
   "cell_type": "code",
   "execution_count": 32,
   "id": "8e5021fa-b823-4205-bfd1-340b6ec660af",
   "metadata": {},
   "outputs": [
    {
     "data": {
      "text/plain": [
       "True"
      ]
     },
     "execution_count": 32,
     "metadata": {},
     "output_type": "execute_result"
    }
   ],
   "source": [
    "f.closed"
   ]
  },
  {
   "cell_type": "code",
   "execution_count": 33,
   "id": "693f1aac-0c84-43ee-986e-093c6fdb6bff",
   "metadata": {},
   "outputs": [
    {
     "data": {
      "text/plain": [
       "'I love Python\\nI love math\\nI love engineering\\n'"
      ]
     },
     "execution_count": 33,
     "metadata": {},
     "output_type": "execute_result"
    }
   ],
   "source": [
    "# read() : 파일 불러오기\n",
    "fid = open('file2.txt', 'r')\n",
    "fid.read()"
   ]
  },
  {
   "cell_type": "code",
   "execution_count": 34,
   "id": "38420363-321c-44ba-afd3-fa435f9ad37d",
   "metadata": {},
   "outputs": [
    {
     "data": {
      "text/plain": [
       "''"
      ]
     },
     "execution_count": 34,
     "metadata": {},
     "output_type": "execute_result"
    }
   ],
   "source": [
    "fid.read() # 이미 다 불러와서 공백이 발생"
   ]
  },
  {
   "cell_type": "code",
   "execution_count": 35,
   "id": "30d5af2b-61e6-4e42-8795-6665f84f0917",
   "metadata": {},
   "outputs": [],
   "source": [
    "fid.close()"
   ]
  },
  {
   "cell_type": "code",
   "execution_count": 36,
   "id": "29adb405-b78a-4ce7-ac20-4784d75ee584",
   "metadata": {},
   "outputs": [
    {
     "data": {
      "text/plain": [
       "'I love Python\\n'"
      ]
     },
     "execution_count": 36,
     "metadata": {},
     "output_type": "execute_result"
    }
   ],
   "source": [
    "# readline() : 한 줄씩 불러오기\n",
    "fid = open('file2.txt', 'r')\n",
    "fid.readline()"
   ]
  },
  {
   "cell_type": "code",
   "execution_count": 37,
   "id": "842a68d7-f169-4b30-ae23-f9fd370625cc",
   "metadata": {},
   "outputs": [
    {
     "data": {
      "text/plain": [
       "'I love math\\n'"
      ]
     },
     "execution_count": 37,
     "metadata": {},
     "output_type": "execute_result"
    }
   ],
   "source": [
    "fid.readline()"
   ]
  },
  {
   "cell_type": "code",
   "execution_count": 38,
   "id": "4a20e2d0-826e-4f2c-9f72-c205b4a27c55",
   "metadata": {},
   "outputs": [
    {
     "data": {
      "text/plain": [
       "'I love engineering\\n'"
      ]
     },
     "execution_count": 38,
     "metadata": {},
     "output_type": "execute_result"
    }
   ],
   "source": [
    "fid.readline()"
   ]
  },
  {
   "cell_type": "code",
   "execution_count": 39,
   "id": "def29cc3-b2a8-45e6-8f6f-fd58c3391628",
   "metadata": {},
   "outputs": [
    {
     "data": {
      "text/plain": [
       "''"
      ]
     },
     "execution_count": 39,
     "metadata": {},
     "output_type": "execute_result"
    }
   ],
   "source": [
    "fid.readline()"
   ]
  },
  {
   "cell_type": "code",
   "execution_count": 40,
   "id": "419ddb81-8be3-42a2-9b3c-da02dc4b858e",
   "metadata": {},
   "outputs": [],
   "source": [
    "fid.close()"
   ]
  },
  {
   "cell_type": "code",
   "execution_count": 41,
   "id": "7dfba176-d1e7-43e3-99cd-d851172b06e2",
   "metadata": {},
   "outputs": [
    {
     "data": {
      "text/plain": [
       "['I love Python\\n', 'I love math\\n', 'I love engineering\\n']"
      ]
     },
     "execution_count": 41,
     "metadata": {},
     "output_type": "execute_result"
    }
   ],
   "source": [
    "# file 내용을 data 리스트로 저장하기\n",
    "fid = open('file2.txt', 'r')\n",
    "data = []\n",
    "for text in fid:\n",
    "    data.append(text)\n",
    "fid.close()\n",
    "data"
   ]
  },
  {
   "cell_type": "markdown",
   "id": "dc87e917-0169-4e29-a067-7291710f90aa",
   "metadata": {},
   "source": [
    "### Json"
   ]
  },
  {
   "cell_type": "code",
   "execution_count": 42,
   "id": "06c59c71-ab11-4b42-81dc-80aaf9cf5210",
   "metadata": {},
   "outputs": [
    {
     "data": {
      "text/plain": [
       "list"
      ]
     },
     "execution_count": 42,
     "metadata": {},
     "output_type": "execute_result"
    }
   ],
   "source": [
    "data = ['String 1', 'String 2', 'String 3']\n",
    "type(data)"
   ]
  },
  {
   "cell_type": "code",
   "execution_count": 43,
   "id": "f46483db-b001-40b1-8117-2a6fcc00e472",
   "metadata": {},
   "outputs": [],
   "source": [
    "import json\n",
    "f = open('file3.txt', 'w')"
   ]
  },
  {
   "cell_type": "code",
   "execution_count": 44,
   "id": "da948fb8-3995-4436-9034-b23f55a82084",
   "metadata": {},
   "outputs": [],
   "source": [
    "# dumo(x, y) : x 를 y 에 던져 넣기\n",
    "json.dump(data, f)\n",
    "f.close()"
   ]
  },
  {
   "cell_type": "code",
   "execution_count": 45,
   "id": "27b93896-aab6-44b7-a4b7-c32199e12bfe",
   "metadata": {},
   "outputs": [
    {
     "data": {
      "text/plain": [
       "['String 1', 'String 2', 'String 3']"
      ]
     },
     "execution_count": 45,
     "metadata": {},
     "output_type": "execute_result"
    }
   ],
   "source": [
    "# load() : data 확인\n",
    "f = open('file3.txt', 'r')\n",
    "x = json.load(f)\n",
    "x"
   ]
  },
  {
   "cell_type": "code",
   "execution_count": 46,
   "id": "87681e69-b9c5-4c0a-b285-e81c393c6192",
   "metadata": {},
   "outputs": [],
   "source": [
    "f.close()"
   ]
  },
  {
   "cell_type": "markdown",
   "id": "0092f461-b089-453f-8a73-c98cb6cbf8a1",
   "metadata": {},
   "source": [
    "### Pickle"
   ]
  },
  {
   "cell_type": "code",
   "execution_count": 47,
   "id": "05588e8e-bd2c-4f8a-aced-2004b702f03f",
   "metadata": {},
   "outputs": [],
   "source": [
    "import pickle # binary 데이터로 집어넣기, 사이즈가 매우 작아진다는 장점\n",
    "f = open('file4.txt', 'wb')\n",
    "pickle.dump(data, f)\n",
    "f.close()"
   ]
  },
  {
   "cell_type": "code",
   "execution_count": 48,
   "id": "9f313580-5372-43f1-86e7-dcf93fa64050",
   "metadata": {},
   "outputs": [
    {
     "ename": "UnicodeDecodeError",
     "evalue": "'cp949' codec can't decode byte 0x80 in position 0: illegal multibyte sequence",
     "output_type": "error",
     "traceback": [
      "\u001b[1;31m---------------------------------------------------------------------------\u001b[0m",
      "\u001b[1;31mUnicodeDecodeError\u001b[0m                        Traceback (most recent call last)",
      "Cell \u001b[1;32mIn[48], line 2\u001b[0m\n\u001b[0;32m      1\u001b[0m f \u001b[38;5;241m=\u001b[39m \u001b[38;5;28mopen\u001b[39m(\u001b[38;5;124m'\u001b[39m\u001b[38;5;124mfile4.txt\u001b[39m\u001b[38;5;124m'\u001b[39m, \u001b[38;5;124m'\u001b[39m\u001b[38;5;124mr\u001b[39m\u001b[38;5;124m'\u001b[39m)\n\u001b[1;32m----> 2\u001b[0m \u001b[43mpickle\u001b[49m\u001b[38;5;241;43m.\u001b[39;49m\u001b[43mload\u001b[49m\u001b[43m(\u001b[49m\u001b[43mf\u001b[49m\u001b[43m)\u001b[49m\n",
      "\u001b[1;31mUnicodeDecodeError\u001b[0m: 'cp949' codec can't decode byte 0x80 in position 0: illegal multibyte sequence"
     ]
    }
   ],
   "source": [
    "f = open('file4.txt', 'r')\n",
    "pickle.load(f)"
   ]
  },
  {
   "cell_type": "code",
   "execution_count": 49,
   "id": "5e210366-37cc-4667-9740-26817e699d1c",
   "metadata": {},
   "outputs": [
    {
     "data": {
      "text/plain": [
       "['String 1', 'String 2', 'String 3']"
      ]
     },
     "execution_count": 49,
     "metadata": {},
     "output_type": "execute_result"
    }
   ],
   "source": [
    "f = open('file4.txt', 'rb') # 'rb' 모드로 적용해야 에러 발생 X\n",
    "pickle.load(f)"
   ]
  }
 ],
 "metadata": {
  "kernelspec": {
   "display_name": "Python 3 (ipykernel)",
   "language": "python",
   "name": "python3"
  },
  "language_info": {
   "codemirror_mode": {
    "name": "ipython",
    "version": 3
   },
   "file_extension": ".py",
   "mimetype": "text/x-python",
   "name": "python",
   "nbconvert_exporter": "python",
   "pygments_lexer": "ipython3",
   "version": "3.12.4"
  }
 },
 "nbformat": 4,
 "nbformat_minor": 5
}
