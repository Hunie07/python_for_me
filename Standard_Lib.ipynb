{
 "cells": [
  {
   "cell_type": "markdown",
   "id": "baa163af-8f80-4d1e-9ad6-c1705461ba0e",
   "metadata": {},
   "source": [
    "### Math Module"
   ]
  },
  {
   "cell_type": "code",
   "execution_count": 1,
   "id": "388c6343-ea8d-4fd0-a4ba-855ec3fb29ca",
   "metadata": {},
   "outputs": [],
   "source": [
    "import math"
   ]
  },
  {
   "cell_type": "code",
   "execution_count": 2,
   "id": "035f8777-a2bf-47ce-b30a-626f4e263e20",
   "metadata": {},
   "outputs": [
    {
     "data": {
      "text/plain": [
       "(3.141592653589793, 2.718281828459045, inf, nan)"
      ]
     },
     "execution_count": 2,
     "metadata": {},
     "output_type": "execute_result"
    }
   ],
   "source": [
    "math.pi, math.e, math.inf, math.nan"
   ]
  },
  {
   "cell_type": "code",
   "execution_count": 3,
   "id": "ee3e7a1e-a626-4a07-b1fc-06535ce1df57",
   "metadata": {},
   "outputs": [
    {
     "data": {
      "text/plain": [
       "3"
      ]
     },
     "execution_count": 3,
     "metadata": {},
     "output_type": "execute_result"
    }
   ],
   "source": [
    "# floor(x) : 내림\n",
    "math.floor(math.pi)"
   ]
  },
  {
   "cell_type": "code",
   "execution_count": 4,
   "id": "e7aee6a4-98da-43f6-b466-e7bab0b9e03c",
   "metadata": {},
   "outputs": [
    {
     "data": {
      "text/plain": [
       "4"
      ]
     },
     "execution_count": 4,
     "metadata": {},
     "output_type": "execute_result"
    }
   ],
   "source": [
    "# ceil(x) : 올림\n",
    "math.ceil(math.pi)"
   ]
  },
  {
   "cell_type": "code",
   "execution_count": 5,
   "id": "f55956e0-0f73-4120-b9f4-e7e07d9d3287",
   "metadata": {},
   "outputs": [
    {
     "data": {
      "text/plain": [
       "1.4142135623730951"
      ]
     },
     "execution_count": 5,
     "metadata": {},
     "output_type": "execute_result"
    }
   ],
   "source": [
    "# sqrt.(x) : 제곱근(루트)\n",
    "math.sqrt(2)"
   ]
  },
  {
   "cell_type": "code",
   "execution_count": 6,
   "id": "d281a1bd-9fa9-4bc1-9ad1-31a00fc6f2fb",
   "metadata": {},
   "outputs": [
    {
     "data": {
      "text/plain": [
       "(0.0, 0.6931471805599453, 2.302585092994046, 1.0)"
      ]
     },
     "execution_count": 6,
     "metadata": {},
     "output_type": "execute_result"
    }
   ],
   "source": [
    "# log(x) : 로그값\n",
    "math.log(1), math.log(2), math.log(10), math.log10(10)"
   ]
  },
  {
   "cell_type": "code",
   "execution_count": 7,
   "id": "dc521c19-7cbc-421c-ac87-2fd3eb9b300f",
   "metadata": {},
   "outputs": [
    {
     "data": {
      "text/plain": [
       "3.141592653589793"
      ]
     },
     "execution_count": 7,
     "metadata": {},
     "output_type": "execute_result"
    }
   ],
   "source": [
    "p = math.pi\n",
    "p"
   ]
  },
  {
   "cell_type": "code",
   "execution_count": 8,
   "id": "378737c1-c0de-4284-b1a1-2702c63076d5",
   "metadata": {},
   "outputs": [
    {
     "data": {
      "text/plain": [
       "(0.0, 1.0, -2.4492935982947064e-16)"
      ]
     },
     "execution_count": 8,
     "metadata": {},
     "output_type": "execute_result"
    }
   ],
   "source": [
    "# sin(x) : 사인값\n",
    "math.sin(0), math.sin(p/2), math.sin(2*p)\n",
    "# sin(2*pi) 는 0 이지만 정확하게 떨어지지 않는 경우가 있고, 아주 작은 수로 표현됐기에 0과 같다."
   ]
  },
  {
   "cell_type": "code",
   "execution_count": 9,
   "id": "80a24456-ef51-4d17-89d0-7381c50db430",
   "metadata": {},
   "outputs": [
    {
     "data": {
      "text/plain": [
       "(1.0, 6.123233995736766e-17, 1.0)"
      ]
     },
     "execution_count": 9,
     "metadata": {},
     "output_type": "execute_result"
    }
   ],
   "source": [
    "# cos(x) : 코사인값\n",
    "math.cos(0), math.cos(p/2), math.cos(2*p)\n",
    "# cos(p/2) 도 0 이지만 위와 같다."
   ]
  },
  {
   "cell_type": "code",
   "execution_count": 10,
   "id": "96255deb-4330-419d-9f52-ae10038966ba",
   "metadata": {},
   "outputs": [
    {
     "data": {
      "text/plain": [
       "1.5707963267948966"
      ]
     },
     "execution_count": 10,
     "metadata": {},
     "output_type": "execute_result"
    }
   ],
   "source": [
    "# radian 값 구하기\n",
    "x_degree = 90\n",
    "x_radian = x_degree * (p/180)\n",
    "x_radian"
   ]
  },
  {
   "cell_type": "code",
   "execution_count": 11,
   "id": "03da7204-286f-4438-8823-42b9f92f9684",
   "metadata": {},
   "outputs": [
    {
     "data": {
      "text/plain": [
       "1.5707963267948966"
      ]
     },
     "execution_count": 11,
     "metadata": {},
     "output_type": "execute_result"
    }
   ],
   "source": [
    "math.radians(90)"
   ]
  },
  {
   "cell_type": "code",
   "execution_count": 12,
   "id": "4fd63f47-7598-4f9d-8ff4-d9850b00ae61",
   "metadata": {},
   "outputs": [
    {
     "data": {
      "text/plain": [
       "(False, False)"
      ]
     },
     "execution_count": 12,
     "metadata": {},
     "output_type": "execute_result"
    }
   ],
   "source": [
    "# isinf(x), isnan(x) : inf 여부, nan 여부\n",
    "x = 2\n",
    "math.isinf(x), math.isnan(x)"
   ]
  },
  {
   "cell_type": "code",
   "execution_count": 13,
   "id": "d5f7a60e-ce09-4c6e-ac2c-202c2bc4eae1",
   "metadata": {},
   "outputs": [
    {
     "data": {
      "text/plain": [
       "6.0"
      ]
     },
     "execution_count": 13,
     "metadata": {},
     "output_type": "execute_result"
    }
   ],
   "source": [
    "# fsum(list) : list 안의 총합\n",
    "math.fsum([1, 2, 3])"
   ]
  },
  {
   "cell_type": "markdown",
   "id": "8ac9cfc8-3971-42bd-aba6-7ac1c4ef17e9",
   "metadata": {},
   "source": [
    "### OS"
   ]
  },
  {
   "cell_type": "code",
   "execution_count": 14,
   "id": "77a035df-ccb7-463f-8631-20a98438307f",
   "metadata": {},
   "outputs": [],
   "source": [
    "import os"
   ]
  },
  {
   "cell_type": "code",
   "execution_count": 15,
   "id": "f3dc3754-6ac5-4f7d-9007-49e3e7e77d6f",
   "metadata": {},
   "outputs": [
    {
     "data": {
      "text/plain": [
       "'C:\\\\Users\\\\Hunie\\\\Gongbro_Review'"
      ]
     },
     "execution_count": 15,
     "metadata": {},
     "output_type": "execute_result"
    }
   ],
   "source": [
    "# getcwd() : get_current_working_directory / 현재 실행중인 파일 위치\n",
    "os.getcwd()"
   ]
  },
  {
   "cell_type": "code",
   "execution_count": 16,
   "id": "8350b756-5cda-4c27-ba56-fd126547f553",
   "metadata": {},
   "outputs": [],
   "source": [
    "# chdir() : change_directory / 디렉토리 위치 변경\n",
    "os.chdir('C:\\\\Users\\\\Hunie\\\\Gongbro_Review')"
   ]
  },
  {
   "cell_type": "code",
   "execution_count": 17,
   "id": "46f8f94f-113a-4447-badd-02a69758400f",
   "metadata": {},
   "outputs": [
    {
     "ename": "FileExistsError",
     "evalue": "[WinError 183] 파일이 이미 있으므로 만들 수 없습니다: 'temp'",
     "output_type": "error",
     "traceback": [
      "\u001b[1;31m---------------------------------------------------------------------------\u001b[0m",
      "\u001b[1;31mFileExistsError\u001b[0m                           Traceback (most recent call last)",
      "Cell \u001b[1;32mIn[17], line 2\u001b[0m\n\u001b[0;32m      1\u001b[0m \u001b[38;5;66;03m# mkdir() : make_directory / 디렉토리 생성\u001b[39;00m\n\u001b[1;32m----> 2\u001b[0m \u001b[43mos\u001b[49m\u001b[38;5;241;43m.\u001b[39;49m\u001b[43mmkdir\u001b[49m\u001b[43m(\u001b[49m\u001b[38;5;124;43m'\u001b[39;49m\u001b[38;5;124;43mtemp\u001b[39;49m\u001b[38;5;124;43m'\u001b[39;49m\u001b[43m)\u001b[49m\n",
      "\u001b[1;31mFileExistsError\u001b[0m: [WinError 183] 파일이 이미 있으므로 만들 수 없습니다: 'temp'"
     ]
    }
   ],
   "source": [
    "# mkdir() : make_directory / 디렉토리 생성\n",
    "os.mkdir('temp')"
   ]
  },
  {
   "cell_type": "code",
   "execution_count": null,
   "id": "6b72af7f-0612-417e-b316-465bdee4f885",
   "metadata": {},
   "outputs": [],
   "source": [
    "os.chdir('temp')\n",
    "os.getcwd()"
   ]
  },
  {
   "cell_type": "code",
   "execution_count": null,
   "id": "4128501e-dc2f-4896-adf3-a3d32bf052fb",
   "metadata": {},
   "outputs": [],
   "source": [
    "os.chdir('..') # 상위폴더로 이동하기\n",
    "# os.chdir('.') # 현재 디렉토리 (이동 X)\n",
    "os.getcwd()"
   ]
  },
  {
   "cell_type": "code",
   "execution_count": null,
   "id": "6cf05bd9-4b8c-4bef-9bed-9429fe26c41c",
   "metadata": {},
   "outputs": [],
   "source": [
    "# listdir() : 현재 디렉토리에 있는 디렉토리들의 리스트\n",
    "os.listdir()"
   ]
  },
  {
   "cell_type": "code",
   "execution_count": 18,
   "id": "2a7114e2-ef27-4095-8b4e-5b2c0fdeb11a",
   "metadata": {},
   "outputs": [],
   "source": [
    "# rename(x, y) : 디렉토리 x 이름을 y 로 바꾸기\n",
    "# rmdir(x) : 디렉토리 x 없애기"
   ]
  },
  {
   "cell_type": "markdown",
   "id": "35f6abf4-979c-4a6a-849c-ac697edeb717",
   "metadata": {},
   "source": [
    "### Sys"
   ]
  },
  {
   "cell_type": "code",
   "execution_count": 19,
   "id": "12942fd1-00c8-4387-8669-3ebddfb90f50",
   "metadata": {},
   "outputs": [],
   "source": [
    "import sys"
   ]
  },
  {
   "cell_type": "code",
   "execution_count": 20,
   "id": "7ea8a46b-1ef4-4874-b8b8-faf10f7e059c",
   "metadata": {
    "scrolled": true
   },
   "outputs": [
    {
     "data": {
      "text/plain": [
       "{'sys': <module 'sys' (built-in)>,\n",
       " 'builtins': <module 'builtins' (built-in)>,\n",
       " '_frozen_importlib': <module '_frozen_importlib' (frozen)>,\n",
       " '_imp': <module '_imp' (built-in)>,\n",
       " '_thread': <module '_thread' (built-in)>,\n",
       " '_warnings': <module '_warnings' (built-in)>,\n",
       " '_weakref': <module '_weakref' (built-in)>,\n",
       " 'winreg': <module 'winreg' (built-in)>,\n",
       " '_io': <module '_io' (built-in)>,\n",
       " 'marshal': <module 'marshal' (built-in)>,\n",
       " 'nt': <module 'nt' (built-in)>,\n",
       " '_frozen_importlib_external': <module '_frozen_importlib_external' (frozen)>,\n",
       " 'time': <module 'time' (built-in)>,\n",
       " 'zipimport': <module 'zipimport' (frozen)>,\n",
       " '_codecs': <module '_codecs' (built-in)>,\n",
       " 'codecs': <module 'codecs' (frozen)>,\n",
       " 'encodings.aliases': <module 'encodings.aliases' from 'C:\\\\Users\\\\Hunie\\\\anaconda3\\\\envs\\\\notebook\\\\Lib\\\\encodings\\\\aliases.py'>,\n",
       " 'encodings': <module 'encodings' from 'C:\\\\Users\\\\Hunie\\\\anaconda3\\\\envs\\\\notebook\\\\Lib\\\\encodings\\\\__init__.py'>,\n",
       " 'encodings.utf_8': <module 'encodings.utf_8' from 'C:\\\\Users\\\\Hunie\\\\anaconda3\\\\envs\\\\notebook\\\\Lib\\\\encodings\\\\utf_8.py'>,\n",
       " '_codecs_kr': <module '_codecs_kr' (built-in)>,\n",
       " '_multibytecodec': <module '_multibytecodec' (built-in)>,\n",
       " 'encodings.cp949': <module 'encodings.cp949' from 'C:\\\\Users\\\\Hunie\\\\anaconda3\\\\envs\\\\notebook\\\\Lib\\\\encodings\\\\cp949.py'>,\n",
       " '_signal': <module '_signal' (built-in)>,\n",
       " '_abc': <module '_abc' (built-in)>,\n",
       " 'abc': <module 'abc' (frozen)>,\n",
       " 'io': <module 'io' (frozen)>,\n",
       " '__main__': <module '__main__'>,\n",
       " '_stat': <module '_stat' (built-in)>,\n",
       " 'stat': <module 'stat' (frozen)>,\n",
       " '_collections_abc': <module '_collections_abc' (frozen)>,\n",
       " 'genericpath': <module 'genericpath' (frozen)>,\n",
       " '_winapi': <module '_winapi' (built-in)>,\n",
       " 'ntpath': <module 'ntpath' (frozen)>,\n",
       " 'os.path': <module 'ntpath' (frozen)>,\n",
       " 'os': <module 'os' (frozen)>,\n",
       " '_sitebuiltins': <module '_sitebuiltins' (frozen)>,\n",
       " 'encodings.utf_8_sig': <module 'encodings.utf_8_sig' from 'C:\\\\Users\\\\Hunie\\\\anaconda3\\\\envs\\\\notebook\\\\Lib\\\\encodings\\\\utf_8_sig.py'>,\n",
       " 'pywin32_system32': <module 'pywin32_system32' (namespace) from ['C:\\\\Users\\\\Hunie\\\\AppData\\\\Roaming\\\\Python\\\\Python312\\\\site-packages\\\\pywin32_system32', 'C:\\\\Users\\\\Hunie\\\\anaconda3\\\\envs\\\\notebook\\\\Lib\\\\site-packages\\\\pywin32_system32']>,\n",
       " 'pywin32_bootstrap': <module 'pywin32_bootstrap' from 'C:\\\\Users\\\\Hunie\\\\AppData\\\\Roaming\\\\Python\\\\Python312\\\\site-packages\\\\win32\\\\lib\\\\pywin32_bootstrap.py'>,\n",
       " '_distutils_hack': <module '_distutils_hack' from 'C:\\\\Users\\\\Hunie\\\\anaconda3\\\\envs\\\\notebook\\\\Lib\\\\site-packages\\\\_distutils_hack\\\\__init__.py'>,\n",
       " 'site': <module 'site' (frozen)>,\n",
       " 'importlib._bootstrap': <module '_frozen_importlib' (frozen)>,\n",
       " 'importlib._bootstrap_external': <module '_frozen_importlib_external' (frozen)>,\n",
       " 'warnings': <module 'warnings' from 'C:\\\\Users\\\\Hunie\\\\anaconda3\\\\envs\\\\notebook\\\\Lib\\\\warnings.py'>,\n",
       " 'importlib': <module 'importlib' from 'C:\\\\Users\\\\Hunie\\\\anaconda3\\\\envs\\\\notebook\\\\Lib\\\\importlib\\\\__init__.py'>,\n",
       " 'importlib.machinery': <module 'importlib.machinery' (frozen)>,\n",
       " 'importlib._abc': <module 'importlib._abc' from 'C:\\\\Users\\\\Hunie\\\\anaconda3\\\\envs\\\\notebook\\\\Lib\\\\importlib\\\\_abc.py'>,\n",
       " 'itertools': <module 'itertools' (built-in)>,\n",
       " 'keyword': <module 'keyword' from 'C:\\\\Users\\\\Hunie\\\\anaconda3\\\\envs\\\\notebook\\\\Lib\\\\keyword.py'>,\n",
       " '_operator': <module '_operator' (built-in)>,\n",
       " 'operator': <module 'operator' from 'C:\\\\Users\\\\Hunie\\\\anaconda3\\\\envs\\\\notebook\\\\Lib\\\\operator.py'>,\n",
       " 'reprlib': <module 'reprlib' from 'C:\\\\Users\\\\Hunie\\\\anaconda3\\\\envs\\\\notebook\\\\Lib\\\\reprlib.py'>,\n",
       " '_collections': <module '_collections' (built-in)>,\n",
       " 'collections': <module 'collections' from 'C:\\\\Users\\\\Hunie\\\\anaconda3\\\\envs\\\\notebook\\\\Lib\\\\collections\\\\__init__.py'>,\n",
       " 'types': <module 'types' from 'C:\\\\Users\\\\Hunie\\\\anaconda3\\\\envs\\\\notebook\\\\Lib\\\\types.py'>,\n",
       " '_functools': <module '_functools' (built-in)>,\n",
       " 'functools': <module 'functools' from 'C:\\\\Users\\\\Hunie\\\\anaconda3\\\\envs\\\\notebook\\\\Lib\\\\functools.py'>,\n",
       " '_weakrefset': <module '_weakrefset' from 'C:\\\\Users\\\\Hunie\\\\anaconda3\\\\envs\\\\notebook\\\\Lib\\\\_weakrefset.py'>,\n",
       " 'threading': <module 'threading' from 'C:\\\\Users\\\\Hunie\\\\anaconda3\\\\envs\\\\notebook\\\\Lib\\\\threading.py'>,\n",
       " 'importlib.util': <module 'importlib.util' (frozen)>,\n",
       " 'runpy': <module 'runpy' (frozen)>,\n",
       " 'posixpath': <module 'posixpath' (frozen)>,\n",
       " 'enum': <module 'enum' from 'C:\\\\Users\\\\Hunie\\\\anaconda3\\\\envs\\\\notebook\\\\Lib\\\\enum.py'>,\n",
       " '_sre': <module '_sre' (built-in)>,\n",
       " 're._constants': <module 're._constants' from 'C:\\\\Users\\\\Hunie\\\\anaconda3\\\\envs\\\\notebook\\\\Lib\\\\re\\\\_constants.py'>,\n",
       " 're._parser': <module 're._parser' from 'C:\\\\Users\\\\Hunie\\\\anaconda3\\\\envs\\\\notebook\\\\Lib\\\\re\\\\_parser.py'>,\n",
       " 're._casefix': <module 're._casefix' from 'C:\\\\Users\\\\Hunie\\\\anaconda3\\\\envs\\\\notebook\\\\Lib\\\\re\\\\_casefix.py'>,\n",
       " 're._compiler': <module 're._compiler' from 'C:\\\\Users\\\\Hunie\\\\anaconda3\\\\envs\\\\notebook\\\\Lib\\\\re\\\\_compiler.py'>,\n",
       " 'copyreg': <module 'copyreg' from 'C:\\\\Users\\\\Hunie\\\\anaconda3\\\\envs\\\\notebook\\\\Lib\\\\copyreg.py'>,\n",
       " 're': <module 're' from 'C:\\\\Users\\\\Hunie\\\\anaconda3\\\\envs\\\\notebook\\\\Lib\\\\re\\\\__init__.py'>,\n",
       " 'fnmatch': <module 'fnmatch' from 'C:\\\\Users\\\\Hunie\\\\anaconda3\\\\envs\\\\notebook\\\\Lib\\\\fnmatch.py'>,\n",
       " 'errno': <module 'errno' (built-in)>,\n",
       " 'urllib': <module 'urllib' from 'C:\\\\Users\\\\Hunie\\\\anaconda3\\\\envs\\\\notebook\\\\Lib\\\\urllib\\\\__init__.py'>,\n",
       " 'math': <module 'math' (built-in)>,\n",
       " 'ipaddress': <module 'ipaddress' from 'C:\\\\Users\\\\Hunie\\\\anaconda3\\\\envs\\\\notebook\\\\Lib\\\\ipaddress.py'>,\n",
       " 'urllib.parse': <module 'urllib.parse' from 'C:\\\\Users\\\\Hunie\\\\anaconda3\\\\envs\\\\notebook\\\\Lib\\\\urllib\\\\parse.py'>,\n",
       " 'pathlib': <module 'pathlib' from 'C:\\\\Users\\\\Hunie\\\\anaconda3\\\\envs\\\\notebook\\\\Lib\\\\pathlib.py'>,\n",
       " 'collections.abc': <module 'collections.abc' from 'C:\\\\Users\\\\Hunie\\\\anaconda3\\\\envs\\\\notebook\\\\Lib\\\\collections\\\\abc.py'>,\n",
       " 'contextlib': <module 'contextlib' from 'C:\\\\Users\\\\Hunie\\\\anaconda3\\\\envs\\\\notebook\\\\Lib\\\\contextlib.py'>,\n",
       " '_typing': <module '_typing' (built-in)>,\n",
       " 'typing.io': typing.io,\n",
       " 'typing.re': typing.re,\n",
       " 'typing': <module 'typing' from 'C:\\\\Users\\\\Hunie\\\\anaconda3\\\\envs\\\\notebook\\\\Lib\\\\typing.py'>,\n",
       " 'ipykernel._version': <module 'ipykernel._version' from 'C:\\\\Users\\\\Hunie\\\\AppData\\\\Roaming\\\\Python\\\\Python312\\\\site-packages\\\\ipykernel\\\\_version.py'>,\n",
       " '__future__': <module '__future__' from 'C:\\\\Users\\\\Hunie\\\\anaconda3\\\\envs\\\\notebook\\\\Lib\\\\__future__.py'>,\n",
       " '_json': <module '_json' (built-in)>,\n",
       " 'json.scanner': <module 'json.scanner' from 'C:\\\\Users\\\\Hunie\\\\anaconda3\\\\envs\\\\notebook\\\\Lib\\\\json\\\\scanner.py'>,\n",
       " 'json.decoder': <module 'json.decoder' from 'C:\\\\Users\\\\Hunie\\\\anaconda3\\\\envs\\\\notebook\\\\Lib\\\\json\\\\decoder.py'>,\n",
       " 'json.encoder': <module 'json.encoder' from 'C:\\\\Users\\\\Hunie\\\\anaconda3\\\\envs\\\\notebook\\\\Lib\\\\json\\\\encoder.py'>,\n",
       " 'json': <module 'json' from 'C:\\\\Users\\\\Hunie\\\\anaconda3\\\\envs\\\\notebook\\\\Lib\\\\json\\\\__init__.py'>,\n",
       " '_locale': <module '_locale' (built-in)>,\n",
       " 'locale': <module 'locale' from 'C:\\\\Users\\\\Hunie\\\\anaconda3\\\\envs\\\\notebook\\\\Lib\\\\locale.py'>,\n",
       " 'signal': <module 'signal' from 'C:\\\\Users\\\\Hunie\\\\anaconda3\\\\envs\\\\notebook\\\\Lib\\\\signal.py'>,\n",
       " 'msvcrt': <module 'msvcrt' (built-in)>,\n",
       " 'subprocess': <module 'subprocess' from 'C:\\\\Users\\\\Hunie\\\\anaconda3\\\\envs\\\\notebook\\\\Lib\\\\subprocess.py'>,\n",
       " 'jupyter_client._version': <module 'jupyter_client._version' from 'C:\\\\Users\\\\Hunie\\\\anaconda3\\\\envs\\\\notebook\\\\Lib\\\\site-packages\\\\jupyter_client\\\\_version.py'>,\n",
       " '_wmi': <module '_wmi' from 'C:\\\\Users\\\\Hunie\\\\anaconda3\\\\envs\\\\notebook\\\\DLLs\\\\_wmi.pyd'>,\n",
       " 'platform': <module 'platform' from 'C:\\\\Users\\\\Hunie\\\\anaconda3\\\\envs\\\\notebook\\\\Lib\\\\platform.py'>,\n",
       " 'zmq.backend.select': <module 'zmq.backend.select' from 'C:\\\\Users\\\\Hunie\\\\AppData\\\\Roaming\\\\Python\\\\Python312\\\\site-packages\\\\zmq\\\\backend\\\\select.py'>,\n",
       " 'cython_runtime': <module 'cython_runtime'>,\n",
       " '_cython_3_0_6': <module '_cython_3_0_6'>,\n",
       " 'zmq.error': <module 'zmq.error' from 'C:\\\\Users\\\\Hunie\\\\AppData\\\\Roaming\\\\Python\\\\Python312\\\\site-packages\\\\zmq\\\\error.py'>,\n",
       " 'zmq.backend.cython.context': <module 'zmq.backend.cython.context' from 'C:\\\\Users\\\\Hunie\\\\AppData\\\\Roaming\\\\Python\\\\Python312\\\\site-packages\\\\zmq\\\\backend\\\\cython\\\\context.cp312-win_amd64.pyd'>,\n",
       " 'weakref': <module 'weakref' from 'C:\\\\Users\\\\Hunie\\\\anaconda3\\\\envs\\\\notebook\\\\Lib\\\\weakref.py'>,\n",
       " 'zmq.backend.cython.message': <module 'zmq.backend.cython.message' from 'C:\\\\Users\\\\Hunie\\\\AppData\\\\Roaming\\\\Python\\\\Python312\\\\site-packages\\\\zmq\\\\backend\\\\cython\\\\message.cp312-win_amd64.pyd'>,\n",
       " 'copy': <module 'copy' from 'C:\\\\Users\\\\Hunie\\\\anaconda3\\\\envs\\\\notebook\\\\Lib\\\\copy.py'>,\n",
       " '_bisect': <module '_bisect' (built-in)>,\n",
       " 'bisect': <module 'bisect' from 'C:\\\\Users\\\\Hunie\\\\anaconda3\\\\envs\\\\notebook\\\\Lib\\\\bisect.py'>,\n",
       " '_random': <module '_random' (built-in)>,\n",
       " '_sha2': <module '_sha2' (built-in)>,\n",
       " 'random': <module 'random' from 'C:\\\\Users\\\\Hunie\\\\anaconda3\\\\envs\\\\notebook\\\\Lib\\\\random.py'>,\n",
       " '_struct': <module '_struct' (built-in)>,\n",
       " 'struct': <module 'struct' from 'C:\\\\Users\\\\Hunie\\\\anaconda3\\\\envs\\\\notebook\\\\Lib\\\\struct.py'>,\n",
       " '_compat_pickle': <module '_compat_pickle' from 'C:\\\\Users\\\\Hunie\\\\anaconda3\\\\envs\\\\notebook\\\\Lib\\\\_compat_pickle.py'>,\n",
       " '_pickle': <module '_pickle' (built-in)>,\n",
       " 'pickle': <module 'pickle' from 'C:\\\\Users\\\\Hunie\\\\anaconda3\\\\envs\\\\notebook\\\\Lib\\\\pickle.py'>,\n",
       " 'zmq.constants': <module 'zmq.constants' from 'C:\\\\Users\\\\Hunie\\\\AppData\\\\Roaming\\\\Python\\\\Python312\\\\site-packages\\\\zmq\\\\constants.py'>,\n",
       " 'zmq.backend.cython.socket': <module 'zmq.backend.cython.socket' from 'C:\\\\Users\\\\Hunie\\\\AppData\\\\Roaming\\\\Python\\\\Python312\\\\site-packages\\\\zmq\\\\backend\\\\cython\\\\socket.cp312-win_amd64.pyd'>,\n",
       " 'zmq.backend.cython._device': <module 'zmq.backend.cython._device' from 'C:\\\\Users\\\\Hunie\\\\AppData\\\\Roaming\\\\Python\\\\Python312\\\\site-packages\\\\zmq\\\\backend\\\\cython\\\\_device.cp312-win_amd64.pyd'>,\n",
       " 'zmq.backend.cython._poll': <module 'zmq.backend.cython._poll' from 'C:\\\\Users\\\\Hunie\\\\AppData\\\\Roaming\\\\Python\\\\Python312\\\\site-packages\\\\zmq\\\\backend\\\\cython\\\\_poll.cp312-win_amd64.pyd'>,\n",
       " 'zmq.backend.cython._proxy_steerable': <module 'zmq.backend.cython._proxy_steerable' from 'C:\\\\Users\\\\Hunie\\\\AppData\\\\Roaming\\\\Python\\\\Python312\\\\site-packages\\\\zmq\\\\backend\\\\cython\\\\_proxy_steerable.cp312-win_amd64.pyd'>,\n",
       " 'zmq.backend.cython._version': <module 'zmq.backend.cython._version' from 'C:\\\\Users\\\\Hunie\\\\AppData\\\\Roaming\\\\Python\\\\Python312\\\\site-packages\\\\zmq\\\\backend\\\\cython\\\\_version.cp312-win_amd64.pyd'>,\n",
       " 'zmq.backend.cython.error': <module 'zmq.backend.cython.error' from 'C:\\\\Users\\\\Hunie\\\\AppData\\\\Roaming\\\\Python\\\\Python312\\\\site-packages\\\\zmq\\\\backend\\\\cython\\\\error.cp312-win_amd64.pyd'>,\n",
       " 'zmq.backend.cython.utils': <module 'zmq.backend.cython.utils' from 'C:\\\\Users\\\\Hunie\\\\AppData\\\\Roaming\\\\Python\\\\Python312\\\\site-packages\\\\zmq\\\\backend\\\\cython\\\\utils.cp312-win_amd64.pyd'>,\n",
       " 'zmq.backend.cython': <module 'zmq.backend.cython' from 'C:\\\\Users\\\\Hunie\\\\AppData\\\\Roaming\\\\Python\\\\Python312\\\\site-packages\\\\zmq\\\\backend\\\\cython\\\\__init__.py'>,\n",
       " 'zmq.backend': <module 'zmq.backend' from 'C:\\\\Users\\\\Hunie\\\\AppData\\\\Roaming\\\\Python\\\\Python312\\\\site-packages\\\\zmq\\\\backend\\\\__init__.py'>,\n",
       " 'atexit': <module 'atexit' (built-in)>,\n",
       " 'zmq.utils': <module 'zmq.utils' from 'C:\\\\Users\\\\Hunie\\\\AppData\\\\Roaming\\\\Python\\\\Python312\\\\site-packages\\\\zmq\\\\utils\\\\__init__.py'>,\n",
       " 'zmq.utils.interop': <module 'zmq.utils.interop' from 'C:\\\\Users\\\\Hunie\\\\AppData\\\\Roaming\\\\Python\\\\Python312\\\\site-packages\\\\zmq\\\\utils\\\\interop.py'>,\n",
       " 'zmq.sugar.attrsettr': <module 'zmq.sugar.attrsettr' from 'C:\\\\Users\\\\Hunie\\\\AppData\\\\Roaming\\\\Python\\\\Python312\\\\site-packages\\\\zmq\\\\sugar\\\\attrsettr.py'>,\n",
       " 'zmq._typing': <module 'zmq._typing' from 'C:\\\\Users\\\\Hunie\\\\AppData\\\\Roaming\\\\Python\\\\Python312\\\\site-packages\\\\zmq\\\\_typing.py'>,\n",
       " 'zmq.utils.jsonapi': <module 'zmq.utils.jsonapi' from 'C:\\\\Users\\\\Hunie\\\\AppData\\\\Roaming\\\\Python\\\\Python312\\\\site-packages\\\\zmq\\\\utils\\\\jsonapi.py'>,\n",
       " 'zmq.sugar.poll': <module 'zmq.sugar.poll' from 'C:\\\\Users\\\\Hunie\\\\AppData\\\\Roaming\\\\Python\\\\Python312\\\\site-packages\\\\zmq\\\\sugar\\\\poll.py'>,\n",
       " 'zmq.sugar.socket': <module 'zmq.sugar.socket' from 'C:\\\\Users\\\\Hunie\\\\AppData\\\\Roaming\\\\Python\\\\Python312\\\\site-packages\\\\zmq\\\\sugar\\\\socket.py'>,\n",
       " 'zmq.sugar.context': <module 'zmq.sugar.context' from 'C:\\\\Users\\\\Hunie\\\\AppData\\\\Roaming\\\\Python\\\\Python312\\\\site-packages\\\\zmq\\\\sugar\\\\context.py'>,\n",
       " 'zmq.sugar.frame': <module 'zmq.sugar.frame' from 'C:\\\\Users\\\\Hunie\\\\AppData\\\\Roaming\\\\Python\\\\Python312\\\\site-packages\\\\zmq\\\\sugar\\\\frame.py'>,\n",
       " 'zmq.sugar.tracker': <module 'zmq.sugar.tracker' from 'C:\\\\Users\\\\Hunie\\\\AppData\\\\Roaming\\\\Python\\\\Python312\\\\site-packages\\\\zmq\\\\sugar\\\\tracker.py'>,\n",
       " 'zmq.sugar.version': <module 'zmq.sugar.version' from 'C:\\\\Users\\\\Hunie\\\\AppData\\\\Roaming\\\\Python\\\\Python312\\\\site-packages\\\\zmq\\\\sugar\\\\version.py'>,\n",
       " 'zmq.sugar.stopwatch': <module 'zmq.sugar.stopwatch' from 'C:\\\\Users\\\\Hunie\\\\AppData\\\\Roaming\\\\Python\\\\Python312\\\\site-packages\\\\zmq\\\\sugar\\\\stopwatch.py'>,\n",
       " 'zmq.sugar': <module 'zmq.sugar' from 'C:\\\\Users\\\\Hunie\\\\AppData\\\\Roaming\\\\Python\\\\Python312\\\\site-packages\\\\zmq\\\\sugar\\\\__init__.py'>,\n",
       " 'zmq': <module 'zmq' from 'C:\\\\Users\\\\Hunie\\\\AppData\\\\Roaming\\\\Python\\\\Python312\\\\site-packages\\\\zmq\\\\__init__.py'>,\n",
       " 'concurrent': <module 'concurrent' from 'C:\\\\Users\\\\Hunie\\\\anaconda3\\\\envs\\\\notebook\\\\Lib\\\\concurrent\\\\__init__.py'>,\n",
       " 'token': <module 'token' from 'C:\\\\Users\\\\Hunie\\\\anaconda3\\\\envs\\\\notebook\\\\Lib\\\\token.py'>,\n",
       " '_tokenize': <module '_tokenize' (built-in)>,\n",
       " 'tokenize': <module 'tokenize' from 'C:\\\\Users\\\\Hunie\\\\anaconda3\\\\envs\\\\notebook\\\\Lib\\\\tokenize.py'>,\n",
       " 'linecache': <module 'linecache' from 'C:\\\\Users\\\\Hunie\\\\anaconda3\\\\envs\\\\notebook\\\\Lib\\\\linecache.py'>,\n",
       " 'textwrap': <module 'textwrap' from 'C:\\\\Users\\\\Hunie\\\\anaconda3\\\\envs\\\\notebook\\\\Lib\\\\textwrap.py'>,\n",
       " 'traceback': <module 'traceback' from 'C:\\\\Users\\\\Hunie\\\\anaconda3\\\\envs\\\\notebook\\\\Lib\\\\traceback.py'>,\n",
       " '_string': <module '_string' (built-in)>,\n",
       " 'string': <module 'string' from 'C:\\\\Users\\\\Hunie\\\\anaconda3\\\\envs\\\\notebook\\\\Lib\\\\string.py'>,\n",
       " 'logging': <module 'logging' from 'C:\\\\Users\\\\Hunie\\\\anaconda3\\\\envs\\\\notebook\\\\Lib\\\\logging\\\\__init__.py'>,\n",
       " 'concurrent.futures._base': <module 'concurrent.futures._base' from 'C:\\\\Users\\\\Hunie\\\\anaconda3\\\\envs\\\\notebook\\\\Lib\\\\concurrent\\\\futures\\\\_base.py'>,\n",
       " 'concurrent.futures': <module 'concurrent.futures' from 'C:\\\\Users\\\\Hunie\\\\anaconda3\\\\envs\\\\notebook\\\\Lib\\\\concurrent\\\\futures\\\\__init__.py'>,\n",
       " '_heapq': <module '_heapq' (built-in)>,\n",
       " 'heapq': <module 'heapq' from 'C:\\\\Users\\\\Hunie\\\\anaconda3\\\\envs\\\\notebook\\\\Lib\\\\heapq.py'>,\n",
       " '_socket': <module '_socket' from 'C:\\\\Users\\\\Hunie\\\\anaconda3\\\\envs\\\\notebook\\\\DLLs\\\\_socket.pyd'>,\n",
       " 'select': <module 'select' from 'C:\\\\Users\\\\Hunie\\\\anaconda3\\\\envs\\\\notebook\\\\DLLs\\\\select.pyd'>,\n",
       " 'selectors': <module 'selectors' from 'C:\\\\Users\\\\Hunie\\\\anaconda3\\\\envs\\\\notebook\\\\Lib\\\\selectors.py'>,\n",
       " 'socket': <module 'socket' from 'C:\\\\Users\\\\Hunie\\\\anaconda3\\\\envs\\\\notebook\\\\Lib\\\\socket.py'>,\n",
       " '_ssl': <module '_ssl' from 'C:\\\\Users\\\\Hunie\\\\anaconda3\\\\envs\\\\notebook\\\\DLLs\\\\_ssl.pyd'>,\n",
       " 'binascii': <module 'binascii' (built-in)>,\n",
       " 'base64': <module 'base64' from 'C:\\\\Users\\\\Hunie\\\\anaconda3\\\\envs\\\\notebook\\\\Lib\\\\base64.py'>,\n",
       " 'ssl': <module 'ssl' from 'C:\\\\Users\\\\Hunie\\\\anaconda3\\\\envs\\\\notebook\\\\Lib\\\\ssl.py'>,\n",
       " 'asyncio.constants': <module 'asyncio.constants' from 'C:\\\\Users\\\\Hunie\\\\anaconda3\\\\envs\\\\notebook\\\\Lib\\\\asyncio\\\\constants.py'>,\n",
       " '_ast': <module '_ast' (built-in)>,\n",
       " 'ast': <module 'ast' from 'C:\\\\Users\\\\Hunie\\\\anaconda3\\\\envs\\\\notebook\\\\Lib\\\\ast.py'>,\n",
       " '_opcode': <module '_opcode' (built-in)>,\n",
       " 'opcode': <module 'opcode' from 'C:\\\\Users\\\\Hunie\\\\anaconda3\\\\envs\\\\notebook\\\\Lib\\\\opcode.py'>,\n",
       " 'dis': <module 'dis' from 'C:\\\\Users\\\\Hunie\\\\anaconda3\\\\envs\\\\notebook\\\\Lib\\\\dis.py'>,\n",
       " 'inspect': <module 'inspect' from 'C:\\\\Users\\\\Hunie\\\\anaconda3\\\\envs\\\\notebook\\\\Lib\\\\inspect.py'>,\n",
       " 'asyncio.coroutines': <module 'asyncio.coroutines' from 'C:\\\\Users\\\\Hunie\\\\anaconda3\\\\envs\\\\notebook\\\\Lib\\\\asyncio\\\\coroutines.py'>,\n",
       " '_contextvars': <module '_contextvars' (built-in)>,\n",
       " 'contextvars': <module 'contextvars' from 'C:\\\\Users\\\\Hunie\\\\anaconda3\\\\envs\\\\notebook\\\\Lib\\\\contextvars.py'>,\n",
       " 'asyncio.format_helpers': <module 'asyncio.format_helpers' from 'C:\\\\Users\\\\Hunie\\\\anaconda3\\\\envs\\\\notebook\\\\Lib\\\\asyncio\\\\format_helpers.py'>,\n",
       " 'asyncio.base_futures': <module 'asyncio.base_futures' from 'C:\\\\Users\\\\Hunie\\\\anaconda3\\\\envs\\\\notebook\\\\Lib\\\\asyncio\\\\base_futures.py'>,\n",
       " 'asyncio.exceptions': <module 'asyncio.exceptions' from 'C:\\\\Users\\\\Hunie\\\\anaconda3\\\\envs\\\\notebook\\\\Lib\\\\asyncio\\\\exceptions.py'>,\n",
       " 'asyncio.base_tasks': <module 'asyncio.base_tasks' from 'C:\\\\Users\\\\Hunie\\\\anaconda3\\\\envs\\\\notebook\\\\Lib\\\\asyncio\\\\base_tasks.py'>,\n",
       " '_asyncio': <module '_asyncio' from 'C:\\\\Users\\\\Hunie\\\\anaconda3\\\\envs\\\\notebook\\\\DLLs\\\\_asyncio.pyd'>,\n",
       " 'asyncio.events': <module 'asyncio.events' from 'C:\\\\Users\\\\Hunie\\\\anaconda3\\\\envs\\\\notebook\\\\Lib\\\\asyncio\\\\events.py'>,\n",
       " 'asyncio.futures': <module 'asyncio.futures' from 'C:\\\\Users\\\\Hunie\\\\anaconda3\\\\envs\\\\notebook\\\\Lib\\\\asyncio\\\\futures.py'>,\n",
       " 'asyncio.protocols': <module 'asyncio.protocols' from 'C:\\\\Users\\\\Hunie\\\\anaconda3\\\\envs\\\\notebook\\\\Lib\\\\asyncio\\\\protocols.py'>,\n",
       " 'asyncio.transports': <module 'asyncio.transports' from 'C:\\\\Users\\\\Hunie\\\\anaconda3\\\\envs\\\\notebook\\\\Lib\\\\asyncio\\\\transports.py'>,\n",
       " 'asyncio.log': <module 'asyncio.log' from 'C:\\\\Users\\\\Hunie\\\\anaconda3\\\\envs\\\\notebook\\\\Lib\\\\asyncio\\\\log.py'>,\n",
       " 'asyncio.sslproto': <module 'asyncio.sslproto' from 'C:\\\\Users\\\\Hunie\\\\anaconda3\\\\envs\\\\notebook\\\\Lib\\\\asyncio\\\\sslproto.py'>,\n",
       " 'asyncio.mixins': <module 'asyncio.mixins' from 'C:\\\\Users\\\\Hunie\\\\anaconda3\\\\envs\\\\notebook\\\\Lib\\\\asyncio\\\\mixins.py'>,\n",
       " 'asyncio.locks': <module 'asyncio.locks' from 'C:\\\\Users\\\\Hunie\\\\anaconda3\\\\envs\\\\notebook\\\\Lib\\\\asyncio\\\\locks.py'>,\n",
       " 'asyncio.timeouts': <module 'asyncio.timeouts' from 'C:\\\\Users\\\\Hunie\\\\anaconda3\\\\envs\\\\notebook\\\\Lib\\\\asyncio\\\\timeouts.py'>,\n",
       " 'asyncio.tasks': <module 'asyncio.tasks' from 'C:\\\\Users\\\\Hunie\\\\anaconda3\\\\envs\\\\notebook\\\\Lib\\\\asyncio\\\\tasks.py'>,\n",
       " 'asyncio.staggered': <module 'asyncio.staggered' from 'C:\\\\Users\\\\Hunie\\\\anaconda3\\\\envs\\\\notebook\\\\Lib\\\\asyncio\\\\staggered.py'>,\n",
       " 'asyncio.trsock': <module 'asyncio.trsock' from 'C:\\\\Users\\\\Hunie\\\\anaconda3\\\\envs\\\\notebook\\\\Lib\\\\asyncio\\\\trsock.py'>,\n",
       " 'asyncio.base_events': <module 'asyncio.base_events' from 'C:\\\\Users\\\\Hunie\\\\anaconda3\\\\envs\\\\notebook\\\\Lib\\\\asyncio\\\\base_events.py'>,\n",
       " 'asyncio.runners': <module 'asyncio.runners' from 'C:\\\\Users\\\\Hunie\\\\anaconda3\\\\envs\\\\notebook\\\\Lib\\\\asyncio\\\\runners.py'>,\n",
       " 'asyncio.queues': <module 'asyncio.queues' from 'C:\\\\Users\\\\Hunie\\\\anaconda3\\\\envs\\\\notebook\\\\Lib\\\\asyncio\\\\queues.py'>,\n",
       " 'asyncio.streams': <module 'asyncio.streams' from 'C:\\\\Users\\\\Hunie\\\\anaconda3\\\\envs\\\\notebook\\\\Lib\\\\asyncio\\\\streams.py'>,\n",
       " 'asyncio.subprocess': <module 'asyncio.subprocess' from 'C:\\\\Users\\\\Hunie\\\\anaconda3\\\\envs\\\\notebook\\\\Lib\\\\asyncio\\\\subprocess.py'>,\n",
       " 'asyncio.taskgroups': <module 'asyncio.taskgroups' from 'C:\\\\Users\\\\Hunie\\\\anaconda3\\\\envs\\\\notebook\\\\Lib\\\\asyncio\\\\taskgroups.py'>,\n",
       " 'asyncio.threads': <module 'asyncio.threads' from 'C:\\\\Users\\\\Hunie\\\\anaconda3\\\\envs\\\\notebook\\\\Lib\\\\asyncio\\\\threads.py'>,\n",
       " '_overlapped': <module '_overlapped' from 'C:\\\\Users\\\\Hunie\\\\anaconda3\\\\envs\\\\notebook\\\\DLLs\\\\_overlapped.pyd'>,\n",
       " 'asyncio.base_subprocess': <module 'asyncio.base_subprocess' from 'C:\\\\Users\\\\Hunie\\\\anaconda3\\\\envs\\\\notebook\\\\Lib\\\\asyncio\\\\base_subprocess.py'>,\n",
       " 'asyncio.proactor_events': <module 'asyncio.proactor_events' from 'C:\\\\Users\\\\Hunie\\\\anaconda3\\\\envs\\\\notebook\\\\Lib\\\\asyncio\\\\proactor_events.py'>,\n",
       " 'asyncio.selector_events': <module 'asyncio.selector_events' from 'C:\\\\Users\\\\Hunie\\\\anaconda3\\\\envs\\\\notebook\\\\Lib\\\\asyncio\\\\selector_events.py'>,\n",
       " 'zlib': <module 'zlib' (built-in)>,\n",
       " '_compression': <module '_compression' from 'C:\\\\Users\\\\Hunie\\\\anaconda3\\\\envs\\\\notebook\\\\Lib\\\\_compression.py'>,\n",
       " '_bz2': <module '_bz2' from 'C:\\\\Users\\\\Hunie\\\\anaconda3\\\\envs\\\\notebook\\\\DLLs\\\\_bz2.pyd'>,\n",
       " 'bz2': <module 'bz2' from 'C:\\\\Users\\\\Hunie\\\\anaconda3\\\\envs\\\\notebook\\\\Lib\\\\bz2.py'>,\n",
       " '_lzma': <module '_lzma' from 'C:\\\\Users\\\\Hunie\\\\anaconda3\\\\envs\\\\notebook\\\\DLLs\\\\_lzma.pyd'>,\n",
       " 'lzma': <module 'lzma' from 'C:\\\\Users\\\\Hunie\\\\anaconda3\\\\envs\\\\notebook\\\\Lib\\\\lzma.py'>,\n",
       " 'shutil': <module 'shutil' from 'C:\\\\Users\\\\Hunie\\\\anaconda3\\\\envs\\\\notebook\\\\Lib\\\\shutil.py'>,\n",
       " 'tempfile': <module 'tempfile' from 'C:\\\\Users\\\\Hunie\\\\anaconda3\\\\envs\\\\notebook\\\\Lib\\\\tempfile.py'>,\n",
       " 'asyncio.windows_utils': <module 'asyncio.windows_utils' from 'C:\\\\Users\\\\Hunie\\\\anaconda3\\\\envs\\\\notebook\\\\Lib\\\\asyncio\\\\windows_utils.py'>,\n",
       " 'asyncio.windows_events': <module 'asyncio.windows_events' from 'C:\\\\Users\\\\Hunie\\\\anaconda3\\\\envs\\\\notebook\\\\Lib\\\\asyncio\\\\windows_events.py'>,\n",
       " 'asyncio': <module 'asyncio' from 'C:\\\\Users\\\\Hunie\\\\anaconda3\\\\envs\\\\notebook\\\\Lib\\\\asyncio\\\\__init__.py'>,\n",
       " 'zmq._future': <module 'zmq._future' from 'C:\\\\Users\\\\Hunie\\\\AppData\\\\Roaming\\\\Python\\\\Python312\\\\site-packages\\\\zmq\\\\_future.py'>,\n",
       " 'zmq.asyncio': <module 'zmq.asyncio' from 'C:\\\\Users\\\\Hunie\\\\AppData\\\\Roaming\\\\Python\\\\Python312\\\\site-packages\\\\zmq\\\\asyncio.py'>,\n",
       " 'traitlets.utils': <module 'traitlets.utils' from 'C:\\\\Users\\\\Hunie\\\\AppData\\\\Roaming\\\\Python\\\\Python312\\\\site-packages\\\\traitlets\\\\utils\\\\__init__.py'>,\n",
       " 'traitlets.utils.bunch': <module 'traitlets.utils.bunch' from 'C:\\\\Users\\\\Hunie\\\\AppData\\\\Roaming\\\\Python\\\\Python312\\\\site-packages\\\\traitlets\\\\utils\\\\bunch.py'>,\n",
       " 'traitlets.utils.descriptions': <module 'traitlets.utils.descriptions' from 'C:\\\\Users\\\\Hunie\\\\AppData\\\\Roaming\\\\Python\\\\Python312\\\\site-packages\\\\traitlets\\\\utils\\\\descriptions.py'>,\n",
       " 'traitlets.utils.getargspec': <module 'traitlets.utils.getargspec' from 'C:\\\\Users\\\\Hunie\\\\AppData\\\\Roaming\\\\Python\\\\Python312\\\\site-packages\\\\traitlets\\\\utils\\\\getargspec.py'>,\n",
       " 'traitlets.utils.importstring': <module 'traitlets.utils.importstring' from 'C:\\\\Users\\\\Hunie\\\\AppData\\\\Roaming\\\\Python\\\\Python312\\\\site-packages\\\\traitlets\\\\utils\\\\importstring.py'>,\n",
       " 'traitlets.utils.sentinel': <module 'traitlets.utils.sentinel' from 'C:\\\\Users\\\\Hunie\\\\AppData\\\\Roaming\\\\Python\\\\Python312\\\\site-packages\\\\traitlets\\\\utils\\\\sentinel.py'>,\n",
       " 'traitlets.utils.warnings': <module 'traitlets.utils.warnings' from 'C:\\\\Users\\\\Hunie\\\\AppData\\\\Roaming\\\\Python\\\\Python312\\\\site-packages\\\\traitlets\\\\utils\\\\warnings.py'>,\n",
       " 'traitlets.traitlets': <module 'traitlets.traitlets' from 'C:\\\\Users\\\\Hunie\\\\AppData\\\\Roaming\\\\Python\\\\Python312\\\\site-packages\\\\traitlets\\\\traitlets.py'>,\n",
       " 'traitlets._version': <module 'traitlets._version' from 'C:\\\\Users\\\\Hunie\\\\AppData\\\\Roaming\\\\Python\\\\Python312\\\\site-packages\\\\traitlets\\\\_version.py'>,\n",
       " 'traitlets.utils.decorators': <module 'traitlets.utils.decorators' from 'C:\\\\Users\\\\Hunie\\\\AppData\\\\Roaming\\\\Python\\\\Python312\\\\site-packages\\\\traitlets\\\\utils\\\\decorators.py'>,\n",
       " 'traitlets': <module 'traitlets' from 'C:\\\\Users\\\\Hunie\\\\AppData\\\\Roaming\\\\Python\\\\Python312\\\\site-packages\\\\traitlets\\\\__init__.py'>,\n",
       " '_queue': <module '_queue' from 'C:\\\\Users\\\\Hunie\\\\anaconda3\\\\envs\\\\notebook\\\\DLLs\\\\_queue.pyd'>,\n",
       " 'queue': <module 'queue' from 'C:\\\\Users\\\\Hunie\\\\anaconda3\\\\envs\\\\notebook\\\\Lib\\\\queue.py'>,\n",
       " 'jupyter_core.version': <module 'jupyter_core.version' from 'C:\\\\Users\\\\Hunie\\\\AppData\\\\Roaming\\\\Python\\\\Python312\\\\site-packages\\\\jupyter_core\\\\version.py'>,\n",
       " 'jupyter_core': <module 'jupyter_core' from 'C:\\\\Users\\\\Hunie\\\\AppData\\\\Roaming\\\\Python\\\\Python312\\\\site-packages\\\\jupyter_core\\\\__init__.py'>,\n",
       " 'jupyter_core.utils': <module 'jupyter_core.utils' from 'C:\\\\Users\\\\Hunie\\\\AppData\\\\Roaming\\\\Python\\\\Python312\\\\site-packages\\\\jupyter_core\\\\utils\\\\__init__.py'>,\n",
       " 'jupyter_client.channelsabc': <module 'jupyter_client.channelsabc' from 'C:\\\\Users\\\\Hunie\\\\anaconda3\\\\envs\\\\notebook\\\\Lib\\\\site-packages\\\\jupyter_client\\\\channelsabc.py'>,\n",
       " '_hashlib': <module '_hashlib' from 'C:\\\\Users\\\\Hunie\\\\anaconda3\\\\envs\\\\notebook\\\\DLLs\\\\_hashlib.pyd'>,\n",
       " '_blake2': <module '_blake2' (built-in)>,\n",
       " 'hashlib': <module 'hashlib' from 'C:\\\\Users\\\\Hunie\\\\anaconda3\\\\envs\\\\notebook\\\\Lib\\\\hashlib.py'>,\n",
       " 'hmac': <module 'hmac' from 'C:\\\\Users\\\\Hunie\\\\anaconda3\\\\envs\\\\notebook\\\\Lib\\\\hmac.py'>,\n",
       " 'dataclasses': <module 'dataclasses' from 'C:\\\\Users\\\\Hunie\\\\anaconda3\\\\envs\\\\notebook\\\\Lib\\\\dataclasses.py'>,\n",
       " 'pprint': <module 'pprint' from 'C:\\\\Users\\\\Hunie\\\\anaconda3\\\\envs\\\\notebook\\\\Lib\\\\pprint.py'>,\n",
       " '_datetime': <module '_datetime' (built-in)>,\n",
       " 'datetime': <module 'datetime' from 'C:\\\\Users\\\\Hunie\\\\anaconda3\\\\envs\\\\notebook\\\\Lib\\\\datetime.py'>,\n",
       " 'tornado': <module 'tornado' from 'C:\\\\Users\\\\Hunie\\\\AppData\\\\Roaming\\\\Python\\\\Python312\\\\site-packages\\\\tornado\\\\__init__.py'>,\n",
       " 'numbers': <module 'numbers' from 'C:\\\\Users\\\\Hunie\\\\anaconda3\\\\envs\\\\notebook\\\\Lib\\\\numbers.py'>,\n",
       " 'logging.handlers': <module 'logging.handlers' from 'C:\\\\Users\\\\Hunie\\\\anaconda3\\\\envs\\\\notebook\\\\Lib\\\\logging\\\\handlers.py'>,\n",
       " 'html.entities': <module 'html.entities' from 'C:\\\\Users\\\\Hunie\\\\anaconda3\\\\envs\\\\notebook\\\\Lib\\\\html\\\\entities.py'>,\n",
       " 'html': <module 'html' from 'C:\\\\Users\\\\Hunie\\\\anaconda3\\\\envs\\\\notebook\\\\Lib\\\\html\\\\__init__.py'>,\n",
       " 'array': <module 'array' (built-in)>,\n",
       " 'tornado.speedups': <module 'tornado.speedups' from 'C:\\\\Users\\\\Hunie\\\\AppData\\\\Roaming\\\\Python\\\\Python312\\\\site-packages\\\\tornado\\\\speedups.pyd'>,\n",
       " 'tornado.util': <module 'tornado.util' from 'C:\\\\Users\\\\Hunie\\\\AppData\\\\Roaming\\\\Python\\\\Python312\\\\site-packages\\\\tornado\\\\util.py'>,\n",
       " 'tornado.escape': <module 'tornado.escape' from 'C:\\\\Users\\\\Hunie\\\\AppData\\\\Roaming\\\\Python\\\\Python312\\\\site-packages\\\\tornado\\\\escape.py'>,\n",
       " 'colorama.ansi': <module 'colorama.ansi' from 'C:\\\\Users\\\\Hunie\\\\AppData\\\\Roaming\\\\Python\\\\Python312\\\\site-packages\\\\colorama\\\\ansi.py'>,\n",
       " '_ctypes': <module '_ctypes' from 'C:\\\\Users\\\\Hunie\\\\anaconda3\\\\envs\\\\notebook\\\\DLLs\\\\_ctypes.pyd'>,\n",
       " 'ctypes._endian': <module 'ctypes._endian' from 'C:\\\\Users\\\\Hunie\\\\anaconda3\\\\envs\\\\notebook\\\\Lib\\\\ctypes\\\\_endian.py'>,\n",
       " 'ctypes': <module 'ctypes' from 'C:\\\\Users\\\\Hunie\\\\anaconda3\\\\envs\\\\notebook\\\\Lib\\\\ctypes\\\\__init__.py'>,\n",
       " 'ctypes.wintypes': <module 'ctypes.wintypes' from 'C:\\\\Users\\\\Hunie\\\\anaconda3\\\\envs\\\\notebook\\\\Lib\\\\ctypes\\\\wintypes.py'>,\n",
       " 'colorama.win32': <module 'colorama.win32' from 'C:\\\\Users\\\\Hunie\\\\AppData\\\\Roaming\\\\Python\\\\Python312\\\\site-packages\\\\colorama\\\\win32.py'>,\n",
       " 'colorama.winterm': <module 'colorama.winterm' from 'C:\\\\Users\\\\Hunie\\\\AppData\\\\Roaming\\\\Python\\\\Python312\\\\site-packages\\\\colorama\\\\winterm.py'>,\n",
       " 'colorama.ansitowin32': <module 'colorama.ansitowin32' from 'C:\\\\Users\\\\Hunie\\\\AppData\\\\Roaming\\\\Python\\\\Python312\\\\site-packages\\\\colorama\\\\ansitowin32.py'>,\n",
       " 'colorama.initialise': <module 'colorama.initialise' from 'C:\\\\Users\\\\Hunie\\\\AppData\\\\Roaming\\\\Python\\\\Python312\\\\site-packages\\\\colorama\\\\initialise.py'>,\n",
       " 'colorama': <module 'colorama' from 'C:\\\\Users\\\\Hunie\\\\AppData\\\\Roaming\\\\Python\\\\Python312\\\\site-packages\\\\colorama\\\\__init__.py'>,\n",
       " 'tornado.log': <module 'tornado.log' from 'C:\\\\Users\\\\Hunie\\\\AppData\\\\Roaming\\\\Python\\\\Python312\\\\site-packages\\\\tornado\\\\log.py'>,\n",
       " 'tornado.concurrent': <module 'tornado.concurrent' from 'C:\\\\Users\\\\Hunie\\\\AppData\\\\Roaming\\\\Python\\\\Python312\\\\site-packages\\\\tornado\\\\concurrent.py'>,\n",
       " 'tornado.ioloop': <module 'tornado.ioloop' from 'C:\\\\Users\\\\Hunie\\\\AppData\\\\Roaming\\\\Python\\\\Python312\\\\site-packages\\\\tornado\\\\ioloop.py'>,\n",
       " 'socketserver': <module 'socketserver' from 'C:\\\\Users\\\\Hunie\\\\anaconda3\\\\envs\\\\notebook\\\\Lib\\\\socketserver.py'>,\n",
       " 'logging.config': <module 'logging.config' from 'C:\\\\Users\\\\Hunie\\\\anaconda3\\\\envs\\\\notebook\\\\Lib\\\\logging\\\\config.py'>,\n",
       " 'traitlets.utils.text': <module 'traitlets.utils.text' from 'C:\\\\Users\\\\Hunie\\\\AppData\\\\Roaming\\\\Python\\\\Python312\\\\site-packages\\\\traitlets\\\\utils\\\\text.py'>,\n",
       " 'gettext': <module 'gettext' from 'C:\\\\Users\\\\Hunie\\\\anaconda3\\\\envs\\\\notebook\\\\Lib\\\\gettext.py'>,\n",
       " 'argparse': <module 'argparse' from 'C:\\\\Users\\\\Hunie\\\\anaconda3\\\\envs\\\\notebook\\\\Lib\\\\argparse.py'>,\n",
       " 'traitlets.config.loader': <module 'traitlets.config.loader' from 'C:\\\\Users\\\\Hunie\\\\AppData\\\\Roaming\\\\Python\\\\Python312\\\\site-packages\\\\traitlets\\\\config\\\\loader.py'>,\n",
       " 'traitlets.config.configurable': <module 'traitlets.config.configurable' from 'C:\\\\Users\\\\Hunie\\\\AppData\\\\Roaming\\\\Python\\\\Python312\\\\site-packages\\\\traitlets\\\\config\\\\configurable.py'>,\n",
       " 'traitlets.utils.nested_update': <module 'traitlets.utils.nested_update' from 'C:\\\\Users\\\\Hunie\\\\AppData\\\\Roaming\\\\Python\\\\Python312\\\\site-packages\\\\traitlets\\\\utils\\\\nested_update.py'>,\n",
       " 'traitlets.config.application': <module 'traitlets.config.application' from 'C:\\\\Users\\\\Hunie\\\\AppData\\\\Roaming\\\\Python\\\\Python312\\\\site-packages\\\\traitlets\\\\config\\\\application.py'>,\n",
       " 'traitlets.config': <module 'traitlets.config' from 'C:\\\\Users\\\\Hunie\\\\AppData\\\\Roaming\\\\Python\\\\Python312\\\\site-packages\\\\traitlets\\\\config\\\\__init__.py'>,\n",
       " 'traitlets.log': <module 'traitlets.log' from 'C:\\\\Users\\\\Hunie\\\\AppData\\\\Roaming\\\\Python\\\\Python312\\\\site-packages\\\\traitlets\\\\log.py'>,\n",
       " 'zmq.eventloop': <module 'zmq.eventloop' from 'C:\\\\Users\\\\Hunie\\\\AppData\\\\Roaming\\\\Python\\\\Python312\\\\site-packages\\\\zmq\\\\eventloop\\\\__init__.py'>,\n",
       " 'zmq.eventloop.zmqstream': <module 'zmq.eventloop.zmqstream' from 'C:\\\\Users\\\\Hunie\\\\AppData\\\\Roaming\\\\Python\\\\Python312\\\\site-packages\\\\zmq\\\\eventloop\\\\zmqstream.py'>,\n",
       " 'jupyter_client.adapter': <module 'jupyter_client.adapter' from 'C:\\\\Users\\\\Hunie\\\\anaconda3\\\\envs\\\\notebook\\\\Lib\\\\site-packages\\\\jupyter_client\\\\adapter.py'>,\n",
       " 'dateutil._version': <module 'dateutil._version' from 'C:\\\\Users\\\\Hunie\\\\AppData\\\\Roaming\\\\Python\\\\Python312\\\\site-packages\\\\dateutil\\\\_version.py'>,\n",
       " 'dateutil': <module 'dateutil' from 'C:\\\\Users\\\\Hunie\\\\AppData\\\\Roaming\\\\Python\\\\Python312\\\\site-packages\\\\dateutil\\\\__init__.py'>,\n",
       " 'calendar': <module 'calendar' from 'C:\\\\Users\\\\Hunie\\\\anaconda3\\\\envs\\\\notebook\\\\Lib\\\\calendar.py'>,\n",
       " 'six': <module 'six' from 'C:\\\\Users\\\\Hunie\\\\AppData\\\\Roaming\\\\Python\\\\Python312\\\\site-packages\\\\six.py'>,\n",
       " '_decimal': <module '_decimal' from 'C:\\\\Users\\\\Hunie\\\\anaconda3\\\\envs\\\\notebook\\\\DLLs\\\\_decimal.pyd'>,\n",
       " 'decimal': <module 'decimal' from 'C:\\\\Users\\\\Hunie\\\\anaconda3\\\\envs\\\\notebook\\\\Lib\\\\decimal.py'>,\n",
       " 'dateutil._common': <module 'dateutil._common' from 'C:\\\\Users\\\\Hunie\\\\AppData\\\\Roaming\\\\Python\\\\Python312\\\\site-packages\\\\dateutil\\\\_common.py'>,\n",
       " 'dateutil.relativedelta': <module 'dateutil.relativedelta' from 'C:\\\\Users\\\\Hunie\\\\AppData\\\\Roaming\\\\Python\\\\Python312\\\\site-packages\\\\dateutil\\\\relativedelta.py'>,\n",
       " 'six.moves': <module 'six.moves' (<six._SixMetaPathImporter object at 0x000001E433DE1EE0>)>,\n",
       " 'dateutil.tz._common': <module 'dateutil.tz._common' from 'C:\\\\Users\\\\Hunie\\\\AppData\\\\Roaming\\\\Python\\\\Python312\\\\site-packages\\\\dateutil\\\\tz\\\\_common.py'>,\n",
       " 'dateutil.tz._factories': <module 'dateutil.tz._factories' from 'C:\\\\Users\\\\Hunie\\\\AppData\\\\Roaming\\\\Python\\\\Python312\\\\site-packages\\\\dateutil\\\\tz\\\\_factories.py'>,\n",
       " 'dateutil.tz.win': <module 'dateutil.tz.win' from 'C:\\\\Users\\\\Hunie\\\\AppData\\\\Roaming\\\\Python\\\\Python312\\\\site-packages\\\\dateutil\\\\tz\\\\win.py'>,\n",
       " 'dateutil.tz.tz': <module 'dateutil.tz.tz' from 'C:\\\\Users\\\\Hunie\\\\AppData\\\\Roaming\\\\Python\\\\Python312\\\\site-packages\\\\dateutil\\\\tz\\\\tz.py'>,\n",
       " 'dateutil.tz': <module 'dateutil.tz' from 'C:\\\\Users\\\\Hunie\\\\AppData\\\\Roaming\\\\Python\\\\Python312\\\\site-packages\\\\dateutil\\\\tz\\\\__init__.py'>,\n",
       " 'dateutil.parser._parser': <module 'dateutil.parser._parser' from 'C:\\\\Users\\\\Hunie\\\\AppData\\\\Roaming\\\\Python\\\\Python312\\\\site-packages\\\\dateutil\\\\parser\\\\_parser.py'>,\n",
       " 'dateutil.parser.isoparser': <module 'dateutil.parser.isoparser' from 'C:\\\\Users\\\\Hunie\\\\AppData\\\\Roaming\\\\Python\\\\Python312\\\\site-packages\\\\dateutil\\\\parser\\\\isoparser.py'>,\n",
       " 'dateutil.parser': <module 'dateutil.parser' from 'C:\\\\Users\\\\Hunie\\\\AppData\\\\Roaming\\\\Python\\\\Python312\\\\site-packages\\\\dateutil\\\\parser\\\\__init__.py'>,\n",
       " '_strptime': <module '_strptime' from 'C:\\\\Users\\\\Hunie\\\\anaconda3\\\\envs\\\\notebook\\\\Lib\\\\_strptime.py'>,\n",
       " 'jupyter_client.jsonutil': <module 'jupyter_client.jsonutil' from 'C:\\\\Users\\\\Hunie\\\\anaconda3\\\\envs\\\\notebook\\\\Lib\\\\site-packages\\\\jupyter_client\\\\jsonutil.py'>,\n",
       " 'jupyter_client.session': <module 'jupyter_client.session' from 'C:\\\\Users\\\\Hunie\\\\anaconda3\\\\envs\\\\notebook\\\\Lib\\\\site-packages\\\\jupyter_client\\\\session.py'>,\n",
       " 'jupyter_client.channels': <module 'jupyter_client.channels' from 'C:\\\\Users\\\\Hunie\\\\anaconda3\\\\envs\\\\notebook\\\\Lib\\\\site-packages\\\\jupyter_client\\\\channels.py'>,\n",
       " 'getpass': <module 'getpass' from 'C:\\\\Users\\\\Hunie\\\\anaconda3\\\\envs\\\\notebook\\\\Lib\\\\getpass.py'>,\n",
       " 'jupyter_client.clientabc': <module 'jupyter_client.clientabc' from 'C:\\\\Users\\\\Hunie\\\\anaconda3\\\\envs\\\\notebook\\\\Lib\\\\site-packages\\\\jupyter_client\\\\clientabc.py'>,\n",
       " 'glob': <module 'glob' from 'C:\\\\Users\\\\Hunie\\\\anaconda3\\\\envs\\\\notebook\\\\Lib\\\\glob.py'>,\n",
       " 'platformdirs.api': <module 'platformdirs.api' from 'C:\\\\Users\\\\Hunie\\\\AppData\\\\Roaming\\\\Python\\\\Python312\\\\site-packages\\\\platformdirs\\\\api.py'>,\n",
       " 'platformdirs.version': <module 'platformdirs.version' from 'C:\\\\Users\\\\Hunie\\\\AppData\\\\Roaming\\\\Python\\\\Python312\\\\site-packages\\\\platformdirs\\\\version.py'>,\n",
       " 'platformdirs.windows': <module 'platformdirs.windows' from 'C:\\\\Users\\\\Hunie\\\\AppData\\\\Roaming\\\\Python\\\\Python312\\\\site-packages\\\\platformdirs\\\\windows.py'>,\n",
       " 'platformdirs': <module 'platformdirs' from 'C:\\\\Users\\\\Hunie\\\\AppData\\\\Roaming\\\\Python\\\\Python312\\\\site-packages\\\\platformdirs\\\\__init__.py'>,\n",
       " 'jupyter_core.paths': <module 'jupyter_core.paths' from 'C:\\\\Users\\\\Hunie\\\\AppData\\\\Roaming\\\\Python\\\\Python312\\\\site-packages\\\\jupyter_core\\\\paths.py'>,\n",
       " 'jupyter_client.localinterfaces': <module 'jupyter_client.localinterfaces' from 'C:\\\\Users\\\\Hunie\\\\anaconda3\\\\envs\\\\notebook\\\\Lib\\\\site-packages\\\\jupyter_client\\\\localinterfaces.py'>,\n",
       " 'jupyter_client.utils': <module 'jupyter_client.utils' from 'C:\\\\Users\\\\Hunie\\\\anaconda3\\\\envs\\\\notebook\\\\Lib\\\\site-packages\\\\jupyter_client\\\\utils.py'>,\n",
       " 'jupyter_client.connect': <module 'jupyter_client.connect' from 'C:\\\\Users\\\\Hunie\\\\anaconda3\\\\envs\\\\notebook\\\\Lib\\\\site-packages\\\\jupyter_client\\\\connect.py'>,\n",
       " 'jupyter_client.client': <module 'jupyter_client.client' from 'C:\\\\Users\\\\Hunie\\\\anaconda3\\\\envs\\\\notebook\\\\Lib\\\\site-packages\\\\jupyter_client\\\\client.py'>,\n",
       " 'jupyter_client.asynchronous.client': <module 'jupyter_client.asynchronous.client' from 'C:\\\\Users\\\\Hunie\\\\anaconda3\\\\envs\\\\notebook\\\\Lib\\\\site-packages\\\\jupyter_client\\\\asynchronous\\\\client.py'>,\n",
       " 'jupyter_client.asynchronous': <module 'jupyter_client.asynchronous' from 'C:\\\\Users\\\\Hunie\\\\anaconda3\\\\envs\\\\notebook\\\\Lib\\\\site-packages\\\\jupyter_client\\\\asynchronous\\\\__init__.py'>,\n",
       " 'jupyter_client.blocking.client': <module 'jupyter_client.blocking.client' from 'C:\\\\Users\\\\Hunie\\\\anaconda3\\\\envs\\\\notebook\\\\Lib\\\\site-packages\\\\jupyter_client\\\\blocking\\\\client.py'>,\n",
       " 'jupyter_client.blocking': <module 'jupyter_client.blocking' from 'C:\\\\Users\\\\Hunie\\\\anaconda3\\\\envs\\\\notebook\\\\Lib\\\\site-packages\\\\jupyter_client\\\\blocking\\\\__init__.py'>,\n",
       " 'jupyter_client.launcher': <module 'jupyter_client.launcher' from 'C:\\\\Users\\\\Hunie\\\\anaconda3\\\\envs\\\\notebook\\\\Lib\\\\site-packages\\\\jupyter_client\\\\launcher.py'>,\n",
       " '_uuid': <module '_uuid' from 'C:\\\\Users\\\\Hunie\\\\anaconda3\\\\envs\\\\notebook\\\\DLLs\\\\_uuid.pyd'>,\n",
       " 'uuid': <module 'uuid' from 'C:\\\\Users\\\\Hunie\\\\anaconda3\\\\envs\\\\notebook\\\\Lib\\\\uuid.py'>,\n",
       " '_csv': <module '_csv' (built-in)>,\n",
       " 'csv': <module 'csv' from 'C:\\\\Users\\\\Hunie\\\\anaconda3\\\\envs\\\\notebook\\\\Lib\\\\csv.py'>,\n",
       " 'email': <module 'email' from 'C:\\\\Users\\\\Hunie\\\\anaconda3\\\\envs\\\\notebook\\\\Lib\\\\email\\\\__init__.py'>,\n",
       " 'zipfile._path.glob': <module 'zipfile._path.glob' from 'C:\\\\Users\\\\Hunie\\\\anaconda3\\\\envs\\\\notebook\\\\Lib\\\\zipfile\\\\_path\\\\glob.py'>,\n",
       " 'zipfile._path': <module 'zipfile._path' from 'C:\\\\Users\\\\Hunie\\\\anaconda3\\\\envs\\\\notebook\\\\Lib\\\\zipfile\\\\_path\\\\__init__.py'>,\n",
       " 'zipfile': <module 'zipfile' from 'C:\\\\Users\\\\Hunie\\\\anaconda3\\\\envs\\\\notebook\\\\Lib\\\\zipfile\\\\__init__.py'>,\n",
       " 'quopri': <module 'quopri' from 'C:\\\\Users\\\\Hunie\\\\anaconda3\\\\envs\\\\notebook\\\\Lib\\\\quopri.py'>,\n",
       " 'email._parseaddr': <module 'email._parseaddr' from 'C:\\\\Users\\\\Hunie\\\\anaconda3\\\\envs\\\\notebook\\\\Lib\\\\email\\\\_parseaddr.py'>,\n",
       " 'email.base64mime': <module 'email.base64mime' from 'C:\\\\Users\\\\Hunie\\\\anaconda3\\\\envs\\\\notebook\\\\Lib\\\\email\\\\base64mime.py'>,\n",
       " 'email.quoprimime': <module 'email.quoprimime' from 'C:\\\\Users\\\\Hunie\\\\anaconda3\\\\envs\\\\notebook\\\\Lib\\\\email\\\\quoprimime.py'>,\n",
       " 'email.errors': <module 'email.errors' from 'C:\\\\Users\\\\Hunie\\\\anaconda3\\\\envs\\\\notebook\\\\Lib\\\\email\\\\errors.py'>,\n",
       " 'email.encoders': <module 'email.encoders' from 'C:\\\\Users\\\\Hunie\\\\anaconda3\\\\envs\\\\notebook\\\\Lib\\\\email\\\\encoders.py'>,\n",
       " 'email.charset': <module 'email.charset' from 'C:\\\\Users\\\\Hunie\\\\anaconda3\\\\envs\\\\notebook\\\\Lib\\\\email\\\\charset.py'>,\n",
       " 'email.utils': <module 'email.utils' from 'C:\\\\Users\\\\Hunie\\\\anaconda3\\\\envs\\\\notebook\\\\Lib\\\\email\\\\utils.py'>,\n",
       " 'email.header': <module 'email.header' from 'C:\\\\Users\\\\Hunie\\\\anaconda3\\\\envs\\\\notebook\\\\Lib\\\\email\\\\header.py'>,\n",
       " 'email._policybase': <module 'email._policybase' from 'C:\\\\Users\\\\Hunie\\\\anaconda3\\\\envs\\\\notebook\\\\Lib\\\\email\\\\_policybase.py'>,\n",
       " 'email._encoded_words': <module 'email._encoded_words' from 'C:\\\\Users\\\\Hunie\\\\anaconda3\\\\envs\\\\notebook\\\\Lib\\\\email\\\\_encoded_words.py'>,\n",
       " 'email.iterators': <module 'email.iterators' from 'C:\\\\Users\\\\Hunie\\\\anaconda3\\\\envs\\\\notebook\\\\Lib\\\\email\\\\iterators.py'>,\n",
       " 'email.message': <module 'email.message' from 'C:\\\\Users\\\\Hunie\\\\anaconda3\\\\envs\\\\notebook\\\\Lib\\\\email\\\\message.py'>,\n",
       " 'importlib.metadata._functools': <module 'importlib.metadata._functools' from 'C:\\\\Users\\\\Hunie\\\\anaconda3\\\\envs\\\\notebook\\\\Lib\\\\importlib\\\\metadata\\\\_functools.py'>,\n",
       " 'importlib.metadata._text': <module 'importlib.metadata._text' from 'C:\\\\Users\\\\Hunie\\\\anaconda3\\\\envs\\\\notebook\\\\Lib\\\\importlib\\\\metadata\\\\_text.py'>,\n",
       " 'importlib.metadata._adapters': <module 'importlib.metadata._adapters' from 'C:\\\\Users\\\\Hunie\\\\anaconda3\\\\envs\\\\notebook\\\\Lib\\\\importlib\\\\metadata\\\\_adapters.py'>,\n",
       " 'importlib.metadata._meta': <module 'importlib.metadata._meta' from 'C:\\\\Users\\\\Hunie\\\\anaconda3\\\\envs\\\\notebook\\\\Lib\\\\importlib\\\\metadata\\\\_meta.py'>,\n",
       " 'importlib.metadata._collections': <module 'importlib.metadata._collections' from 'C:\\\\Users\\\\Hunie\\\\anaconda3\\\\envs\\\\notebook\\\\Lib\\\\importlib\\\\metadata\\\\_collections.py'>,\n",
       " 'importlib.metadata._itertools': <module 'importlib.metadata._itertools' from 'C:\\\\Users\\\\Hunie\\\\anaconda3\\\\envs\\\\notebook\\\\Lib\\\\importlib\\\\metadata\\\\_itertools.py'>,\n",
       " 'importlib.resources.abc': <module 'importlib.resources.abc' from 'C:\\\\Users\\\\Hunie\\\\anaconda3\\\\envs\\\\notebook\\\\Lib\\\\importlib\\\\resources\\\\abc.py'>,\n",
       " 'importlib.resources._adapters': <module 'importlib.resources._adapters' from 'C:\\\\Users\\\\Hunie\\\\anaconda3\\\\envs\\\\notebook\\\\Lib\\\\importlib\\\\resources\\\\_adapters.py'>,\n",
       " 'importlib.resources._common': <module 'importlib.resources._common' from 'C:\\\\Users\\\\Hunie\\\\anaconda3\\\\envs\\\\notebook\\\\Lib\\\\importlib\\\\resources\\\\_common.py'>,\n",
       " 'importlib.resources._legacy': <module 'importlib.resources._legacy' from 'C:\\\\Users\\\\Hunie\\\\anaconda3\\\\envs\\\\notebook\\\\Lib\\\\importlib\\\\resources\\\\_legacy.py'>,\n",
       " 'importlib.resources': <module 'importlib.resources' from 'C:\\\\Users\\\\Hunie\\\\anaconda3\\\\envs\\\\notebook\\\\Lib\\\\importlib\\\\resources\\\\__init__.py'>,\n",
       " 'importlib.abc': <module 'importlib.abc' from 'C:\\\\Users\\\\Hunie\\\\anaconda3\\\\envs\\\\notebook\\\\Lib\\\\importlib\\\\abc.py'>,\n",
       " 'importlib.metadata': <module 'importlib.metadata' from 'C:\\\\Users\\\\Hunie\\\\anaconda3\\\\envs\\\\notebook\\\\Lib\\\\importlib\\\\metadata\\\\__init__.py'>,\n",
       " 'jupyter_client.provisioning.provisioner_base': <module 'jupyter_client.provisioning.provisioner_base' from 'C:\\\\Users\\\\Hunie\\\\anaconda3\\\\envs\\\\notebook\\\\Lib\\\\site-packages\\\\jupyter_client\\\\provisioning\\\\provisioner_base.py'>,\n",
       " 'jupyter_client.provisioning.factory': <module 'jupyter_client.provisioning.factory' from 'C:\\\\Users\\\\Hunie\\\\anaconda3\\\\envs\\\\notebook\\\\Lib\\\\site-packages\\\\jupyter_client\\\\provisioning\\\\factory.py'>,\n",
       " 'jupyter_client.provisioning.local_provisioner': <module 'jupyter_client.provisioning.local_provisioner' from 'C:\\\\Users\\\\Hunie\\\\anaconda3\\\\envs\\\\notebook\\\\Lib\\\\site-packages\\\\jupyter_client\\\\provisioning\\\\local_provisioner.py'>,\n",
       " 'jupyter_client.provisioning': <module 'jupyter_client.provisioning' from 'C:\\\\Users\\\\Hunie\\\\anaconda3\\\\envs\\\\notebook\\\\Lib\\\\site-packages\\\\jupyter_client\\\\provisioning\\\\__init__.py'>,\n",
       " 'jupyter_client.kernelspec': <module 'jupyter_client.kernelspec' from 'C:\\\\Users\\\\Hunie\\\\anaconda3\\\\envs\\\\notebook\\\\Lib\\\\site-packages\\\\jupyter_client\\\\kernelspec.py'>,\n",
       " 'jupyter_client.managerabc': <module 'jupyter_client.managerabc' from 'C:\\\\Users\\\\Hunie\\\\anaconda3\\\\envs\\\\notebook\\\\Lib\\\\site-packages\\\\jupyter_client\\\\managerabc.py'>,\n",
       " 'jupyter_client.manager': <module 'jupyter_client.manager' from 'C:\\\\Users\\\\Hunie\\\\anaconda3\\\\envs\\\\notebook\\\\Lib\\\\site-packages\\\\jupyter_client\\\\manager.py'>,\n",
       " 'jupyter_client.multikernelmanager': <module 'jupyter_client.multikernelmanager' from 'C:\\\\Users\\\\Hunie\\\\anaconda3\\\\envs\\\\notebook\\\\Lib\\\\site-packages\\\\jupyter_client\\\\multikernelmanager.py'>,\n",
       " 'jupyter_client': <module 'jupyter_client' from 'C:\\\\Users\\\\Hunie\\\\anaconda3\\\\envs\\\\notebook\\\\Lib\\\\site-packages\\\\jupyter_client\\\\__init__.py'>,\n",
       " 'ipykernel.connect': <module 'ipykernel.connect' from 'C:\\\\Users\\\\Hunie\\\\AppData\\\\Roaming\\\\Python\\\\Python312\\\\site-packages\\\\ipykernel\\\\connect.py'>,\n",
       " 'ipykernel': <module 'ipykernel' from 'C:\\\\Users\\\\Hunie\\\\AppData\\\\Roaming\\\\Python\\\\Python312\\\\site-packages\\\\ipykernel\\\\__init__.py'>,\n",
       " 'IPython.core': <module 'IPython.core' from 'C:\\\\Users\\\\Hunie\\\\AppData\\\\Roaming\\\\Python\\\\Python312\\\\site-packages\\\\IPython\\\\core\\\\__init__.py'>,\n",
       " 'IPython.core.getipython': <module 'IPython.core.getipython' from 'C:\\\\Users\\\\Hunie\\\\AppData\\\\Roaming\\\\Python\\\\Python312\\\\site-packages\\\\IPython\\\\core\\\\getipython.py'>,\n",
       " 'IPython.core.release': <module 'IPython.core.release' from 'C:\\\\Users\\\\Hunie\\\\AppData\\\\Roaming\\\\Python\\\\Python312\\\\site-packages\\\\IPython\\\\core\\\\release.py'>,\n",
       " 'pkgutil': <module 'pkgutil' from 'C:\\\\Users\\\\Hunie\\\\anaconda3\\\\envs\\\\notebook\\\\Lib\\\\pkgutil.py'>,\n",
       " 'sysconfig': <module 'sysconfig' from 'C:\\\\Users\\\\Hunie\\\\anaconda3\\\\envs\\\\notebook\\\\Lib\\\\sysconfig.py'>,\n",
       " 'pydoc': <module 'pydoc' from 'C:\\\\Users\\\\Hunie\\\\anaconda3\\\\envs\\\\notebook\\\\Lib\\\\pydoc.py'>,\n",
       " 'executing._exceptions': <module 'executing._exceptions' from 'C:\\\\Users\\\\Hunie\\\\AppData\\\\Roaming\\\\Python\\\\Python312\\\\site-packages\\\\executing\\\\_exceptions.py'>,\n",
       " 'executing._position_node_finder': <module 'executing._position_node_finder' from 'C:\\\\Users\\\\Hunie\\\\AppData\\\\Roaming\\\\Python\\\\Python312\\\\site-packages\\\\executing\\\\_position_node_finder.py'>,\n",
       " 'executing.executing': <module 'executing.executing' from 'C:\\\\Users\\\\Hunie\\\\AppData\\\\Roaming\\\\Python\\\\Python312\\\\site-packages\\\\executing\\\\executing.py'>,\n",
       " 'executing.version': <module 'executing.version' from 'C:\\\\Users\\\\Hunie\\\\AppData\\\\Roaming\\\\Python\\\\Python312\\\\site-packages\\\\executing\\\\version.py'>,\n",
       " 'executing': <module 'executing' from 'C:\\\\Users\\\\Hunie\\\\AppData\\\\Roaming\\\\Python\\\\Python312\\\\site-packages\\\\executing\\\\__init__.py'>,\n",
       " 'asttokens.line_numbers': <module 'asttokens.line_numbers' from 'C:\\\\Users\\\\Hunie\\\\AppData\\\\Roaming\\\\Python\\\\Python312\\\\site-packages\\\\asttokens\\\\line_numbers.py'>,\n",
       " 'asttokens.util': <module 'asttokens.util' from 'C:\\\\Users\\\\Hunie\\\\AppData\\\\Roaming\\\\Python\\\\Python312\\\\site-packages\\\\asttokens\\\\util.py'>,\n",
       " 'asttokens.asttokens': <module 'asttokens.asttokens' from 'C:\\\\Users\\\\Hunie\\\\AppData\\\\Roaming\\\\Python\\\\Python312\\\\site-packages\\\\asttokens\\\\asttokens.py'>,\n",
       " 'asttokens': <module 'asttokens' from 'C:\\\\Users\\\\Hunie\\\\AppData\\\\Roaming\\\\Python\\\\Python312\\\\site-packages\\\\asttokens\\\\__init__.py'>,\n",
       " 'fractions': <module 'fractions' from 'C:\\\\Users\\\\Hunie\\\\anaconda3\\\\envs\\\\notebook\\\\Lib\\\\fractions.py'>,\n",
       " 'pure_eval.utils': <module 'pure_eval.utils' from 'C:\\\\Users\\\\Hunie\\\\AppData\\\\Roaming\\\\Python\\\\Python312\\\\site-packages\\\\pure_eval\\\\utils.py'>,\n",
       " 'pure_eval.my_getattr_static': <module 'pure_eval.my_getattr_static' from 'C:\\\\Users\\\\Hunie\\\\AppData\\\\Roaming\\\\Python\\\\Python312\\\\site-packages\\\\pure_eval\\\\my_getattr_static.py'>,\n",
       " 'pure_eval.core': <module 'pure_eval.core' from 'C:\\\\Users\\\\Hunie\\\\AppData\\\\Roaming\\\\Python\\\\Python312\\\\site-packages\\\\pure_eval\\\\core.py'>,\n",
       " 'pure_eval.version': <module 'pure_eval.version' from 'C:\\\\Users\\\\Hunie\\\\AppData\\\\Roaming\\\\Python\\\\Python312\\\\site-packages\\\\pure_eval\\\\version.py'>,\n",
       " 'pure_eval': <module 'pure_eval' from 'C:\\\\Users\\\\Hunie\\\\AppData\\\\Roaming\\\\Python\\\\Python312\\\\site-packages\\\\pure_eval\\\\__init__.py'>,\n",
       " 'stack_data.utils': <module 'stack_data.utils' from 'C:\\\\Users\\\\Hunie\\\\AppData\\\\Roaming\\\\Python\\\\Python312\\\\site-packages\\\\stack_data\\\\utils.py'>,\n",
       " 'stack_data.core': <module 'stack_data.core' from 'C:\\\\Users\\\\Hunie\\\\AppData\\\\Roaming\\\\Python\\\\Python312\\\\site-packages\\\\stack_data\\\\core.py'>,\n",
       " 'stack_data.formatting': <module 'stack_data.formatting' from 'C:\\\\Users\\\\Hunie\\\\AppData\\\\Roaming\\\\Python\\\\Python312\\\\site-packages\\\\stack_data\\\\formatting.py'>,\n",
       " 'stack_data.serializing': <module 'stack_data.serializing' from 'C:\\\\Users\\\\Hunie\\\\AppData\\\\Roaming\\\\Python\\\\Python312\\\\site-packages\\\\stack_data\\\\serializing.py'>,\n",
       " 'stack_data.version': <module 'stack_data.version' from 'C:\\\\Users\\\\Hunie\\\\AppData\\\\Roaming\\\\Python\\\\Python312\\\\site-packages\\\\stack_data\\\\version.py'>,\n",
       " 'stack_data': <module 'stack_data' from 'C:\\\\Users\\\\Hunie\\\\AppData\\\\Roaming\\\\Python\\\\Python312\\\\site-packages\\\\stack_data\\\\__init__.py'>,\n",
       " 'pygments': <module 'pygments' from 'C:\\\\Users\\\\Hunie\\\\AppData\\\\Roaming\\\\Python\\\\Python312\\\\site-packages\\\\pygments\\\\__init__.py'>,\n",
       " 'pygments.formatters._mapping': <module 'pygments.formatters._mapping' from 'C:\\\\Users\\\\Hunie\\\\AppData\\\\Roaming\\\\Python\\\\Python312\\\\site-packages\\\\pygments\\\\formatters\\\\_mapping.py'>,\n",
       " 'pygments.plugin': <module 'pygments.plugin' from 'C:\\\\Users\\\\Hunie\\\\AppData\\\\Roaming\\\\Python\\\\Python312\\\\site-packages\\\\pygments\\\\plugin.py'>,\n",
       " 'pygments.util': <module 'pygments.util' from 'C:\\\\Users\\\\Hunie\\\\AppData\\\\Roaming\\\\Python\\\\Python312\\\\site-packages\\\\pygments\\\\util.py'>,\n",
       " 'pygments.formatters': <module 'pygments.formatters' from 'C:\\\\Users\\\\Hunie\\\\AppData\\\\Roaming\\\\Python\\\\Python312\\\\site-packages\\\\pygments\\\\formatters\\\\__init__.py'>,\n",
       " 'pygments.styles._mapping': <module 'pygments.styles._mapping' from 'C:\\\\Users\\\\Hunie\\\\AppData\\\\Roaming\\\\Python\\\\Python312\\\\site-packages\\\\pygments\\\\styles\\\\_mapping.py'>,\n",
       " 'pygments.styles': <module 'pygments.styles' from 'C:\\\\Users\\\\Hunie\\\\AppData\\\\Roaming\\\\Python\\\\Python312\\\\site-packages\\\\pygments\\\\styles\\\\__init__.py'>,\n",
       " 'pygments.formatter': <module 'pygments.formatter' from 'C:\\\\Users\\\\Hunie\\\\AppData\\\\Roaming\\\\Python\\\\Python312\\\\site-packages\\\\pygments\\\\formatter.py'>,\n",
       " 'pygments.console': <module 'pygments.console' from 'C:\\\\Users\\\\Hunie\\\\AppData\\\\Roaming\\\\Python\\\\Python312\\\\site-packages\\\\pygments\\\\console.py'>,\n",
       " 'pygments.token': <module 'pygments.token' from 'C:\\\\Users\\\\Hunie\\\\AppData\\\\Roaming\\\\Python\\\\Python312\\\\site-packages\\\\pygments\\\\token.py'>,\n",
       " 'pygments.style': <module 'pygments.style' from 'C:\\\\Users\\\\Hunie\\\\AppData\\\\Roaming\\\\Python\\\\Python312\\\\site-packages\\\\pygments\\\\style.py'>,\n",
       " 'pygments.formatters.terminal256': <module 'pygments.formatters.terminal256' from 'C:\\\\Users\\\\Hunie\\\\AppData\\\\Roaming\\\\Python\\\\Python312\\\\site-packages\\\\pygments\\\\formatters\\\\terminal256.py'>,\n",
       " 'IPython.utils': <module 'IPython.utils' from 'C:\\\\Users\\\\Hunie\\\\AppData\\\\Roaming\\\\Python\\\\Python312\\\\site-packages\\\\IPython\\\\utils\\\\__init__.py'>,\n",
       " 'IPython.utils.colorable': <module 'IPython.utils.colorable' from 'C:\\\\Users\\\\Hunie\\\\AppData\\\\Roaming\\\\Python\\\\Python312\\\\site-packages\\\\IPython\\\\utils\\\\colorable.py'>,\n",
       " 'IPython.utils.ipstruct': <module 'IPython.utils.ipstruct' from 'C:\\\\Users\\\\Hunie\\\\AppData\\\\Roaming\\\\Python\\\\Python312\\\\site-packages\\\\IPython\\\\utils\\\\ipstruct.py'>,\n",
       " 'IPython.utils.coloransi': <module 'IPython.utils.coloransi' from 'C:\\\\Users\\\\Hunie\\\\AppData\\\\Roaming\\\\Python\\\\Python312\\\\site-packages\\\\IPython\\\\utils\\\\coloransi.py'>,\n",
       " 'IPython.utils.PyColorize': <module 'IPython.utils.PyColorize' from 'C:\\\\Users\\\\Hunie\\\\AppData\\\\Roaming\\\\Python\\\\Python312\\\\site-packages\\\\IPython\\\\utils\\\\PyColorize.py'>,\n",
       " 'IPython.utils.encoding': <module 'IPython.utils.encoding' from 'C:\\\\Users\\\\Hunie\\\\AppData\\\\Roaming\\\\Python\\\\Python312\\\\site-packages\\\\IPython\\\\utils\\\\encoding.py'>,\n",
       " 'IPython.utils.py3compat': <module 'IPython.utils.py3compat' from 'C:\\\\Users\\\\Hunie\\\\AppData\\\\Roaming\\\\Python\\\\Python312\\\\site-packages\\\\IPython\\\\utils\\\\py3compat.py'>,\n",
       " 'IPython.core.excolors': <module 'IPython.core.excolors' from 'C:\\\\Users\\\\Hunie\\\\AppData\\\\Roaming\\\\Python\\\\Python312\\\\site-packages\\\\IPython\\\\core\\\\excolors.py'>,\n",
       " 'cmd': <module 'cmd' from 'C:\\\\Users\\\\Hunie\\\\anaconda3\\\\envs\\\\notebook\\\\Lib\\\\cmd.py'>,\n",
       " 'bdb': <module 'bdb' from 'C:\\\\Users\\\\Hunie\\\\anaconda3\\\\envs\\\\notebook\\\\Lib\\\\bdb.py'>,\n",
       " 'codeop': <module 'codeop' from 'C:\\\\Users\\\\Hunie\\\\anaconda3\\\\envs\\\\notebook\\\\Lib\\\\codeop.py'>,\n",
       " 'code': <module 'code' from 'C:\\\\Users\\\\Hunie\\\\anaconda3\\\\envs\\\\notebook\\\\Lib\\\\code.py'>,\n",
       " 'pdb': <module 'pdb' from 'C:\\\\Users\\\\Hunie\\\\anaconda3\\\\envs\\\\notebook\\\\Lib\\\\pdb.py'>,\n",
       " 'IPython.core.debugger': <module 'IPython.core.debugger' from 'C:\\\\Users\\\\Hunie\\\\AppData\\\\Roaming\\\\Python\\\\Python312\\\\site-packages\\\\IPython\\\\core\\\\debugger.py'>,\n",
       " 'IPython.core.display_trap': <module 'IPython.core.display_trap' from 'C:\\\\Users\\\\Hunie\\\\AppData\\\\Roaming\\\\Python\\\\Python312\\\\site-packages\\\\IPython\\\\core\\\\display_trap.py'>,\n",
       " 'shlex': <module 'shlex' from 'C:\\\\Users\\\\Hunie\\\\anaconda3\\\\envs\\\\notebook\\\\Lib\\\\shlex.py'>,\n",
       " 'IPython.utils._process_common': <module 'IPython.utils._process_common' from 'C:\\\\Users\\\\Hunie\\\\AppData\\\\Roaming\\\\Python\\\\Python312\\\\site-packages\\\\IPython\\\\utils\\\\_process_common.py'>,\n",
       " 'IPython.utils._process_win32': <module 'IPython.utils._process_win32' from 'C:\\\\Users\\\\Hunie\\\\AppData\\\\Roaming\\\\Python\\\\Python312\\\\site-packages\\\\IPython\\\\utils\\\\_process_win32.py'>,\n",
       " 'IPython.utils.process': <module 'IPython.utils.process' from 'C:\\\\Users\\\\Hunie\\\\AppData\\\\Roaming\\\\Python\\\\Python312\\\\site-packages\\\\IPython\\\\utils\\\\process.py'>,\n",
       " 'IPython.utils.path': <module 'IPython.utils.path' from 'C:\\\\Users\\\\Hunie\\\\AppData\\\\Roaming\\\\Python\\\\Python312\\\\site-packages\\\\IPython\\\\utils\\\\path.py'>,\n",
       " 'IPython.utils.terminal': <module 'IPython.utils.terminal' from 'C:\\\\Users\\\\Hunie\\\\AppData\\\\Roaming\\\\Python\\\\Python312\\\\site-packages\\\\IPython\\\\utils\\\\terminal.py'>,\n",
       " 'IPython.core.ultratb': <module 'IPython.core.ultratb' from 'C:\\\\Users\\\\Hunie\\\\AppData\\\\Roaming\\\\Python\\\\Python312\\\\site-packages\\\\IPython\\\\core\\\\ultratb.py'>,\n",
       " 'IPython.utils._sysinfo': <module 'IPython.utils._sysinfo' from 'C:\\\\Users\\\\Hunie\\\\AppData\\\\Roaming\\\\Python\\\\Python312\\\\site-packages\\\\IPython\\\\utils\\\\_sysinfo.py'>,\n",
       " 'IPython.utils.sysinfo': <module 'IPython.utils.sysinfo' from 'C:\\\\Users\\\\Hunie\\\\AppData\\\\Roaming\\\\Python\\\\Python312\\\\site-packages\\\\IPython\\\\utils\\\\sysinfo.py'>,\n",
       " 'IPython.core.crashhandler': <module 'IPython.core.crashhandler' from 'C:\\\\Users\\\\Hunie\\\\AppData\\\\Roaming\\\\Python\\\\Python312\\\\site-packages\\\\IPython\\\\core\\\\crashhandler.py'>,\n",
       " 'IPython.utils.importstring': <module 'IPython.utils.importstring' from 'C:\\\\Users\\\\Hunie\\\\AppData\\\\Roaming\\\\Python\\\\Python312\\\\site-packages\\\\IPython\\\\utils\\\\importstring.py'>,\n",
       " 'IPython.paths': <module 'IPython.paths' from 'C:\\\\Users\\\\Hunie\\\\AppData\\\\Roaming\\\\Python\\\\Python312\\\\site-packages\\\\IPython\\\\paths.py'>,\n",
       " 'IPython.core.profiledir': <module 'IPython.core.profiledir' from 'C:\\\\Users\\\\Hunie\\\\AppData\\\\Roaming\\\\Python\\\\Python312\\\\site-packages\\\\IPython\\\\core\\\\profiledir.py'>,\n",
       " 'IPython.core.application': <module 'IPython.core.application' from 'C:\\\\Users\\\\Hunie\\\\AppData\\\\Roaming\\\\Python\\\\Python312\\\\site-packages\\\\IPython\\\\core\\\\application.py'>,\n",
       " 'IPython.terminal': <module 'IPython.terminal' from 'C:\\\\Users\\\\Hunie\\\\AppData\\\\Roaming\\\\Python\\\\Python312\\\\site-packages\\\\IPython\\\\terminal\\\\__init__.py'>,\n",
       " 'IPython.core.compilerop': <module 'IPython.core.compilerop' from 'C:\\\\Users\\\\Hunie\\\\AppData\\\\Roaming\\\\Python\\\\Python312\\\\site-packages\\\\IPython\\\\core\\\\compilerop.py'>,\n",
       " 'IPython.core.error': <module 'IPython.core.error' from 'C:\\\\Users\\\\Hunie\\\\AppData\\\\Roaming\\\\Python\\\\Python312\\\\site-packages\\\\IPython\\\\core\\\\error.py'>,\n",
       " 'IPython.utils.docs': <module 'IPython.utils.docs' from 'C:\\\\Users\\\\Hunie\\\\AppData\\\\Roaming\\\\Python\\\\Python312\\\\site-packages\\\\IPython\\\\utils\\\\docs.py'>,\n",
       " 'IPython.utils.decorators': <module 'IPython.utils.decorators' from 'C:\\\\Users\\\\Hunie\\\\AppData\\\\Roaming\\\\Python\\\\Python312\\\\site-packages\\\\IPython\\\\utils\\\\decorators.py'>,\n",
       " 'IPython.utils.text': <module 'IPython.utils.text' from 'C:\\\\Users\\\\Hunie\\\\AppData\\\\Roaming\\\\Python\\\\Python312\\\\site-packages\\\\IPython\\\\utils\\\\text.py'>,\n",
       " 'IPython.core.magic_arguments': <module 'IPython.core.magic_arguments' from 'C:\\\\Users\\\\Hunie\\\\AppData\\\\Roaming\\\\Python\\\\Python312\\\\site-packages\\\\IPython\\\\core\\\\magic_arguments.py'>,\n",
       " 'getopt': <module 'getopt' from 'C:\\\\Users\\\\Hunie\\\\anaconda3\\\\envs\\\\notebook\\\\Lib\\\\getopt.py'>,\n",
       " 'IPython.core.display_functions': <module 'IPython.core.display_functions' from 'C:\\\\Users\\\\Hunie\\\\AppData\\\\Roaming\\\\Python\\\\Python312\\\\site-packages\\\\IPython\\\\core\\\\display_functions.py'>,\n",
       " 'mimetypes': <module 'mimetypes' from 'C:\\\\Users\\\\Hunie\\\\anaconda3\\\\envs\\\\notebook\\\\Lib\\\\mimetypes.py'>,\n",
       " 'IPython.testing': <module 'IPython.testing' from 'C:\\\\Users\\\\Hunie\\\\AppData\\\\Roaming\\\\Python\\\\Python312\\\\site-packages\\\\IPython\\\\testing\\\\__init__.py'>,\n",
       " 'IPython.testing.skipdoctest': <module 'IPython.testing.skipdoctest' from 'C:\\\\Users\\\\Hunie\\\\AppData\\\\Roaming\\\\Python\\\\Python312\\\\site-packages\\\\IPython\\\\testing\\\\skipdoctest.py'>,\n",
       " 'IPython.core.display': <module 'IPython.core.display' from 'C:\\\\Users\\\\Hunie\\\\AppData\\\\Roaming\\\\Python\\\\Python312\\\\site-packages\\\\IPython\\\\core\\\\display.py'>,\n",
       " 'IPython.lib': <module 'IPython.lib' from 'C:\\\\Users\\\\Hunie\\\\AppData\\\\Roaming\\\\Python\\\\Python312\\\\site-packages\\\\IPython\\\\lib\\\\__init__.py'>,\n",
       " 'IPython.lib.display': <module 'IPython.lib.display' from 'C:\\\\Users\\\\Hunie\\\\AppData\\\\Roaming\\\\Python\\\\Python312\\\\site-packages\\\\IPython\\\\lib\\\\display.py'>,\n",
       " 'IPython.display': <module 'IPython.display' from 'C:\\\\Users\\\\Hunie\\\\AppData\\\\Roaming\\\\Python\\\\Python312\\\\site-packages\\\\IPython\\\\display.py'>,\n",
       " 'IPython.utils.data': <module 'IPython.utils.data' from 'C:\\\\Users\\\\Hunie\\\\AppData\\\\Roaming\\\\Python\\\\Python312\\\\site-packages\\\\IPython\\\\utils\\\\data.py'>,\n",
       " 'IPython.core.page': <module 'IPython.core.page' from 'C:\\\\Users\\\\Hunie\\\\AppData\\\\Roaming\\\\Python\\\\Python312\\\\site-packages\\\\IPython\\\\core\\\\page.py'>,\n",
       " 'IPython.lib.pretty': <module 'IPython.lib.pretty' from 'C:\\\\Users\\\\Hunie\\\\AppData\\\\Roaming\\\\Python\\\\Python312\\\\site-packages\\\\IPython\\\\lib\\\\pretty.py'>,\n",
       " 'IPython.utils.openpy': <module 'IPython.utils.openpy' from 'C:\\\\Users\\\\Hunie\\\\AppData\\\\Roaming\\\\Python\\\\Python312\\\\site-packages\\\\IPython\\\\utils\\\\openpy.py'>,\n",
       " 'IPython.utils.dir2': <module 'IPython.utils.dir2' from 'C:\\\\Users\\\\Hunie\\\\AppData\\\\Roaming\\\\Python\\\\Python312\\\\site-packages\\\\IPython\\\\utils\\\\dir2.py'>,\n",
       " 'IPython.utils.wildcard': <module 'IPython.utils.wildcard' from 'C:\\\\Users\\\\Hunie\\\\AppData\\\\Roaming\\\\Python\\\\Python312\\\\site-packages\\\\IPython\\\\utils\\\\wildcard.py'>,\n",
       " 'pygments.lexers._mapping': <module 'pygments.lexers._mapping' from 'C:\\\\Users\\\\Hunie\\\\AppData\\\\Roaming\\\\Python\\\\Python312\\\\site-packages\\\\pygments\\\\lexers\\\\_mapping.py'>,\n",
       " 'pygments.modeline': <module 'pygments.modeline' from 'C:\\\\Users\\\\Hunie\\\\AppData\\\\Roaming\\\\Python\\\\Python312\\\\site-packages\\\\pygments\\\\modeline.py'>,\n",
       " 'pygments.lexers': <module 'pygments.lexers' from 'C:\\\\Users\\\\Hunie\\\\AppData\\\\Roaming\\\\Python\\\\Python312\\\\site-packages\\\\pygments\\\\lexers\\\\__init__.py'>,\n",
       " 'pygments.filter': <module 'pygments.filter' from 'C:\\\\Users\\\\Hunie\\\\AppData\\\\Roaming\\\\Python\\\\Python312\\\\site-packages\\\\pygments\\\\filter.py'>,\n",
       " 'pygments.filters': <module 'pygments.filters' from 'C:\\\\Users\\\\Hunie\\\\AppData\\\\Roaming\\\\Python\\\\Python312\\\\site-packages\\\\pygments\\\\filters\\\\__init__.py'>,\n",
       " 'pygments.regexopt': <module 'pygments.regexopt' from 'C:\\\\Users\\\\Hunie\\\\AppData\\\\Roaming\\\\Python\\\\Python312\\\\site-packages\\\\pygments\\\\regexopt.py'>,\n",
       " 'pygments.lexer': <module 'pygments.lexer' from 'C:\\\\Users\\\\Hunie\\\\AppData\\\\Roaming\\\\Python\\\\Python312\\\\site-packages\\\\pygments\\\\lexer.py'>,\n",
       " 'pygments.unistring': <module 'pygments.unistring' from 'C:\\\\Users\\\\Hunie\\\\AppData\\\\Roaming\\\\Python\\\\Python312\\\\site-packages\\\\pygments\\\\unistring.py'>,\n",
       " 'pygments.lexers.python': <module 'pygments.lexers.python' from 'C:\\\\Users\\\\Hunie\\\\AppData\\\\Roaming\\\\Python\\\\Python312\\\\site-packages\\\\pygments\\\\lexers\\\\python.py'>,\n",
       " 'pygments.formatters.html': <module 'pygments.formatters.html' from 'C:\\\\Users\\\\Hunie\\\\AppData\\\\Roaming\\\\Python\\\\Python312\\\\site-packages\\\\pygments\\\\formatters\\\\html.py'>,\n",
       " 'IPython.core.oinspect': <module 'IPython.core.oinspect' from 'C:\\\\Users\\\\Hunie\\\\AppData\\\\Roaming\\\\Python\\\\Python312\\\\site-packages\\\\IPython\\\\core\\\\oinspect.py'>,\n",
       " 'IPython.utils.tokenutil': <module 'IPython.utils.tokenutil' from 'C:\\\\Users\\\\Hunie\\\\AppData\\\\Roaming\\\\Python\\\\Python312\\\\site-packages\\\\IPython\\\\utils\\\\tokenutil.py'>,\n",
       " 'IPython.core.inputtransformer2': <module 'IPython.core.inputtransformer2' from 'C:\\\\Users\\\\Hunie\\\\AppData\\\\Roaming\\\\Python\\\\Python312\\\\site-packages\\\\IPython\\\\core\\\\inputtransformer2.py'>,\n",
       " 'IPython.core.magic': <module 'IPython.core.magic' from 'C:\\\\Users\\\\Hunie\\\\AppData\\\\Roaming\\\\Python\\\\Python312\\\\site-packages\\\\IPython\\\\core\\\\magic.py'>,\n",
       " 'IPython.core.hooks': <module 'IPython.core.hooks' from 'C:\\\\Users\\\\Hunie\\\\AppData\\\\Roaming\\\\Python\\\\Python312\\\\site-packages\\\\IPython\\\\core\\\\hooks.py'>,\n",
       " 'IPython.core.autocall': <module 'IPython.core.autocall' from 'C:\\\\Users\\\\Hunie\\\\AppData\\\\Roaming\\\\Python\\\\Python312\\\\site-packages\\\\IPython\\\\core\\\\autocall.py'>,\n",
       " 'IPython.core.macro': <module 'IPython.core.macro' from 'C:\\\\Users\\\\Hunie\\\\AppData\\\\Roaming\\\\Python\\\\Python312\\\\site-packages\\\\IPython\\\\core\\\\macro.py'>,\n",
       " 'IPython.core.splitinput': <module 'IPython.core.splitinput' from 'C:\\\\Users\\\\Hunie\\\\AppData\\\\Roaming\\\\Python\\\\Python312\\\\site-packages\\\\IPython\\\\core\\\\splitinput.py'>,\n",
       " 'IPython.core.prefilter': <module 'IPython.core.prefilter' from 'C:\\\\Users\\\\Hunie\\\\AppData\\\\Roaming\\\\Python\\\\Python312\\\\site-packages\\\\IPython\\\\core\\\\prefilter.py'>,\n",
       " 'IPython.core.alias': <module 'IPython.core.alias' from 'C:\\\\Users\\\\Hunie\\\\AppData\\\\Roaming\\\\Python\\\\Python312\\\\site-packages\\\\IPython\\\\core\\\\alias.py'>,\n",
       " 'IPython.core.builtin_trap': <module 'IPython.core.builtin_trap' from 'C:\\\\Users\\\\Hunie\\\\AppData\\\\Roaming\\\\Python\\\\Python312\\\\site-packages\\\\IPython\\\\core\\\\builtin_trap.py'>,\n",
       " 'IPython.core.displayhook': <module 'IPython.core.displayhook' from 'C:\\\\Users\\\\Hunie\\\\AppData\\\\Roaming\\\\Python\\\\Python312\\\\site-packages\\\\IPython\\\\core\\\\displayhook.py'>,\n",
       " 'IPython.core.displaypub': <module 'IPython.core.displaypub' from 'C:\\\\Users\\\\Hunie\\\\AppData\\\\Roaming\\\\Python\\\\Python312\\\\site-packages\\\\IPython\\\\core\\\\displaypub.py'>,\n",
       " 'IPython.core.events': <module 'IPython.core.events' from 'C:\\\\Users\\\\Hunie\\\\AppData\\\\Roaming\\\\Python\\\\Python312\\\\site-packages\\\\IPython\\\\core\\\\events.py'>,\n",
       " 'IPython.core.extensions': <module 'IPython.core.extensions' from 'C:\\\\Users\\\\Hunie\\\\AppData\\\\Roaming\\\\Python\\\\Python312\\\\site-packages\\\\IPython\\\\core\\\\extensions.py'>,\n",
       " 'decorator': <module 'decorator' from 'C:\\\\Users\\\\Hunie\\\\AppData\\\\Roaming\\\\Python\\\\Python312\\\\site-packages\\\\decorator.py'>,\n",
       " 'IPython.utils.sentinel': <module 'IPython.utils.sentinel' from 'C:\\\\Users\\\\Hunie\\\\AppData\\\\Roaming\\\\Python\\\\Python312\\\\site-packages\\\\IPython\\\\utils\\\\sentinel.py'>,\n",
       " 'IPython.core.formatters': <module 'IPython.core.formatters' from 'C:\\\\Users\\\\Hunie\\\\AppData\\\\Roaming\\\\Python\\\\Python312\\\\site-packages\\\\IPython\\\\core\\\\formatters.py'>,\n",
       " '_sqlite3': <module '_sqlite3' from 'C:\\\\Users\\\\Hunie\\\\anaconda3\\\\envs\\\\notebook\\\\DLLs\\\\_sqlite3.pyd'>,\n",
       " 'sqlite3.dbapi2': <module 'sqlite3.dbapi2' from 'C:\\\\Users\\\\Hunie\\\\anaconda3\\\\envs\\\\notebook\\\\Lib\\\\sqlite3\\\\dbapi2.py'>,\n",
       " 'sqlite3': <module 'sqlite3' from 'C:\\\\Users\\\\Hunie\\\\anaconda3\\\\envs\\\\notebook\\\\Lib\\\\sqlite3\\\\__init__.py'>,\n",
       " 'IPython.core.history': <module 'IPython.core.history' from 'C:\\\\Users\\\\Hunie\\\\AppData\\\\Roaming\\\\Python\\\\Python312\\\\site-packages\\\\IPython\\\\core\\\\history.py'>,\n",
       " 'IPython.core.logger': <module 'IPython.core.logger' from 'C:\\\\Users\\\\Hunie\\\\AppData\\\\Roaming\\\\Python\\\\Python312\\\\site-packages\\\\IPython\\\\core\\\\logger.py'>,\n",
       " 'IPython.core.payload': <module 'IPython.core.payload' from 'C:\\\\Users\\\\Hunie\\\\AppData\\\\Roaming\\\\Python\\\\Python312\\\\site-packages\\\\IPython\\\\core\\\\payload.py'>,\n",
       " 'IPython.core.usage': <module 'IPython.core.usage' from 'C:\\\\Users\\\\Hunie\\\\AppData\\\\Roaming\\\\Python\\\\Python312\\\\site-packages\\\\IPython\\\\core\\\\usage.py'>,\n",
       " 'IPython.utils.capture': <module 'IPython.utils.capture' from 'C:\\\\Users\\\\Hunie\\\\AppData\\\\Roaming\\\\Python\\\\Python312\\\\site-packages\\\\IPython\\\\utils\\\\capture.py'>,\n",
       " 'IPython.utils.io': <module 'IPython.utils.io' from 'C:\\\\Users\\\\Hunie\\\\AppData\\\\Roaming\\\\Python\\\\Python312\\\\site-packages\\\\IPython\\\\utils\\\\io.py'>,\n",
       " 'IPython.utils.strdispatch': <module 'IPython.utils.strdispatch' from 'C:\\\\Users\\\\Hunie\\\\AppData\\\\Roaming\\\\Python\\\\Python312\\\\site-packages\\\\IPython\\\\utils\\\\strdispatch.py'>,\n",
       " 'IPython.utils.syspathcontext': <module 'IPython.utils.syspathcontext' from 'C:\\\\Users\\\\Hunie\\\\AppData\\\\Roaming\\\\Python\\\\Python312\\\\site-packages\\\\IPython\\\\utils\\\\syspathcontext.py'>,\n",
       " 'IPython.core.async_helpers': <module 'IPython.core.async_helpers' from 'C:\\\\Users\\\\Hunie\\\\AppData\\\\Roaming\\\\Python\\\\Python312\\\\site-packages\\\\IPython\\\\core\\\\async_helpers.py'>,\n",
       " 'IPython.core.interactiveshell': <module 'IPython.core.interactiveshell' from 'C:\\\\Users\\\\Hunie\\\\AppData\\\\Roaming\\\\Python\\\\Python312\\\\site-packages\\\\IPython\\\\core\\\\interactiveshell.py'>,\n",
       " 'prompt_toolkit.application.current': <module 'prompt_toolkit.application.current' from 'C:\\\\Users\\\\Hunie\\\\AppData\\\\Roaming\\\\Python\\\\Python312\\\\site-packages\\\\prompt_toolkit\\\\application\\\\current.py'>,\n",
       " 'prompt_toolkit.eventloop.utils': <module 'prompt_toolkit.eventloop.utils' from 'C:\\\\Users\\\\Hunie\\\\AppData\\\\Roaming\\\\Python\\\\Python312\\\\site-packages\\\\prompt_toolkit\\\\eventloop\\\\utils.py'>,\n",
       " 'prompt_toolkit.eventloop.async_generator': <module 'prompt_toolkit.eventloop.async_generator' from 'C:\\\\Users\\\\Hunie\\\\AppData\\\\Roaming\\\\Python\\\\Python312\\\\site-packages\\\\prompt_toolkit\\\\eventloop\\\\async_generator.py'>,\n",
       " 'prompt_toolkit.eventloop.inputhook': <module 'prompt_toolkit.eventloop.inputhook' from 'C:\\\\Users\\\\Hunie\\\\AppData\\\\Roaming\\\\Python\\\\Python312\\\\site-packages\\\\prompt_toolkit\\\\eventloop\\\\inputhook.py'>,\n",
       " 'prompt_toolkit.eventloop': <module 'prompt_toolkit.eventloop' from 'C:\\\\Users\\\\Hunie\\\\AppData\\\\Roaming\\\\Python\\\\Python312\\\\site-packages\\\\prompt_toolkit\\\\eventloop\\\\__init__.py'>,\n",
       " 'prompt_toolkit.application.run_in_terminal': <module 'prompt_toolkit.application.run_in_terminal' from 'C:\\\\Users\\\\Hunie\\\\AppData\\\\Roaming\\\\Python\\\\Python312\\\\site-packages\\\\prompt_toolkit\\\\application\\\\run_in_terminal.py'>,\n",
       " 'prompt_toolkit.selection': <module 'prompt_toolkit.selection' from 'C:\\\\Users\\\\Hunie\\\\AppData\\\\Roaming\\\\Python\\\\Python312\\\\site-packages\\\\prompt_toolkit\\\\selection.py'>,\n",
       " 'prompt_toolkit.clipboard.base': <module 'prompt_toolkit.clipboard.base' from 'C:\\\\Users\\\\Hunie\\\\AppData\\\\Roaming\\\\Python\\\\Python312\\\\site-packages\\\\prompt_toolkit\\\\clipboard\\\\base.py'>,\n",
       " 'prompt_toolkit.clipboard.in_memory': <module 'prompt_toolkit.clipboard.in_memory' from 'C:\\\\Users\\\\Hunie\\\\AppData\\\\Roaming\\\\Python\\\\Python312\\\\site-packages\\\\prompt_toolkit\\\\clipboard\\\\in_memory.py'>,\n",
       " 'prompt_toolkit.clipboard': <module 'prompt_toolkit.clipboard' from 'C:\\\\Users\\\\Hunie\\\\AppData\\\\Roaming\\\\Python\\\\Python312\\\\site-packages\\\\prompt_toolkit\\\\clipboard\\\\__init__.py'>,\n",
       " 'prompt_toolkit.cache': <module 'prompt_toolkit.cache' from 'C:\\\\Users\\\\Hunie\\\\AppData\\\\Roaming\\\\Python\\\\Python312\\\\site-packages\\\\prompt_toolkit\\\\cache.py'>,\n",
       " 'prompt_toolkit.enums': <module 'prompt_toolkit.enums' from 'C:\\\\Users\\\\Hunie\\\\AppData\\\\Roaming\\\\Python\\\\Python312\\\\site-packages\\\\prompt_toolkit\\\\enums.py'>,\n",
       " 'prompt_toolkit.filters.base': <module 'prompt_toolkit.filters.base' from 'C:\\\\Users\\\\Hunie\\\\AppData\\\\Roaming\\\\Python\\\\Python312\\\\site-packages\\\\prompt_toolkit\\\\filters\\\\base.py'>,\n",
       " 'prompt_toolkit.filters.app': <module 'prompt_toolkit.filters.app' from 'C:\\\\Users\\\\Hunie\\\\AppData\\\\Roaming\\\\Python\\\\Python312\\\\site-packages\\\\prompt_toolkit\\\\filters\\\\app.py'>,\n",
       " 'prompt_toolkit.filters.cli': <module 'prompt_toolkit.filters.cli' from 'C:\\\\Users\\\\Hunie\\\\AppData\\\\Roaming\\\\Python\\\\Python312\\\\site-packages\\\\prompt_toolkit\\\\filters\\\\cli.py'>,\n",
       " 'prompt_toolkit.filters.utils': <module 'prompt_toolkit.filters.utils' from 'C:\\\\Users\\\\Hunie\\\\AppData\\\\Roaming\\\\Python\\\\Python312\\\\site-packages\\\\prompt_toolkit\\\\filters\\\\utils.py'>,\n",
       " 'prompt_toolkit.filters': <module 'prompt_toolkit.filters' from 'C:\\\\Users\\\\Hunie\\\\AppData\\\\Roaming\\\\Python\\\\Python312\\\\site-packages\\\\prompt_toolkit\\\\filters\\\\__init__.py'>,\n",
       " 'prompt_toolkit.document': <module 'prompt_toolkit.document' from 'C:\\\\Users\\\\Hunie\\\\AppData\\\\Roaming\\\\Python\\\\Python312\\\\site-packages\\\\prompt_toolkit\\\\document.py'>,\n",
       " 'prompt_toolkit.auto_suggest': <module 'prompt_toolkit.auto_suggest' from 'C:\\\\Users\\\\Hunie\\\\AppData\\\\Roaming\\\\Python\\\\Python312\\\\site-packages\\\\prompt_toolkit\\\\auto_suggest.py'>,\n",
       " 'prompt_toolkit.keys': <module 'prompt_toolkit.keys' from 'C:\\\\Users\\\\Hunie\\\\AppData\\\\Roaming\\\\Python\\\\Python312\\\\site-packages\\\\prompt_toolkit\\\\keys.py'>,\n",
       " 'prompt_toolkit.key_binding.key_bindings': <module 'prompt_toolkit.key_binding.key_bindings' from 'C:\\\\Users\\\\Hunie\\\\AppData\\\\Roaming\\\\Python\\\\Python312\\\\site-packages\\\\prompt_toolkit\\\\key_binding\\\\key_bindings.py'>,\n",
       " 'wcwidth.table_vs16': <module 'wcwidth.table_vs16' from 'C:\\\\Users\\\\Hunie\\\\AppData\\\\Roaming\\\\Python\\\\Python312\\\\site-packages\\\\wcwidth\\\\table_vs16.py'>,\n",
       " 'wcwidth.table_wide': <module 'wcwidth.table_wide' from 'C:\\\\Users\\\\Hunie\\\\AppData\\\\Roaming\\\\Python\\\\Python312\\\\site-packages\\\\wcwidth\\\\table_wide.py'>,\n",
       " 'wcwidth.table_zero': <module 'wcwidth.table_zero' from 'C:\\\\Users\\\\Hunie\\\\AppData\\\\Roaming\\\\Python\\\\Python312\\\\site-packages\\\\wcwidth\\\\table_zero.py'>,\n",
       " 'wcwidth.unicode_versions': <module 'wcwidth.unicode_versions' from 'C:\\\\Users\\\\Hunie\\\\AppData\\\\Roaming\\\\Python\\\\Python312\\\\site-packages\\\\wcwidth\\\\unicode_versions.py'>,\n",
       " 'wcwidth.wcwidth': <module 'wcwidth.wcwidth' from 'C:\\\\Users\\\\Hunie\\\\AppData\\\\Roaming\\\\Python\\\\Python312\\\\site-packages\\\\wcwidth\\\\wcwidth.py'>,\n",
       " 'wcwidth': <module 'wcwidth' from 'C:\\\\Users\\\\Hunie\\\\AppData\\\\Roaming\\\\Python\\\\Python312\\\\site-packages\\\\wcwidth\\\\__init__.py'>,\n",
       " 'prompt_toolkit.utils': <module 'prompt_toolkit.utils' from 'C:\\\\Users\\\\Hunie\\\\AppData\\\\Roaming\\\\Python\\\\Python312\\\\site-packages\\\\prompt_toolkit\\\\utils.py'>,\n",
       " 'prompt_toolkit.key_binding.key_processor': <module 'prompt_toolkit.key_binding.key_processor' from 'C:\\\\Users\\\\Hunie\\\\AppData\\\\Roaming\\\\Python\\\\Python312\\\\site-packages\\\\prompt_toolkit\\\\key_binding\\\\key_processor.py'>,\n",
       " 'prompt_toolkit.key_binding': <module 'prompt_toolkit.key_binding' from 'C:\\\\Users\\\\Hunie\\\\AppData\\\\Roaming\\\\Python\\\\Python312\\\\site-packages\\\\prompt_toolkit\\\\key_binding\\\\__init__.py'>,\n",
       " 'prompt_toolkit.key_binding.vi_state': <module 'prompt_toolkit.key_binding.vi_state' from 'C:\\\\Users\\\\Hunie\\\\AppData\\\\Roaming\\\\Python\\\\Python312\\\\site-packages\\\\prompt_toolkit\\\\key_binding\\\\vi_state.py'>,\n",
       " 'prompt_toolkit.cursor_shapes': <module 'prompt_toolkit.cursor_shapes' from 'C:\\\\Users\\\\Hunie\\\\AppData\\\\Roaming\\\\Python\\\\Python312\\\\site-packages\\\\prompt_toolkit\\\\cursor_shapes.py'>,\n",
       " 'prompt_toolkit.data_structures': <module 'prompt_toolkit.data_structures' from 'C:\\\\Users\\\\Hunie\\\\AppData\\\\Roaming\\\\Python\\\\Python312\\\\site-packages\\\\prompt_toolkit\\\\data_structures.py'>,\n",
       " 'prompt_toolkit.styles.base': <module 'prompt_toolkit.styles.base' from 'C:\\\\Users\\\\Hunie\\\\AppData\\\\Roaming\\\\Python\\\\Python312\\\\site-packages\\\\prompt_toolkit\\\\styles\\\\base.py'>,\n",
       " 'prompt_toolkit.styles.named_colors': <module 'prompt_toolkit.styles.named_colors' from 'C:\\\\Users\\\\Hunie\\\\AppData\\\\Roaming\\\\Python\\\\Python312\\\\site-packages\\\\prompt_toolkit\\\\styles\\\\named_colors.py'>,\n",
       " 'prompt_toolkit.styles.style': <module 'prompt_toolkit.styles.style' from 'C:\\\\Users\\\\Hunie\\\\AppData\\\\Roaming\\\\Python\\\\Python312\\\\site-packages\\\\prompt_toolkit\\\\styles\\\\style.py'>,\n",
       " 'prompt_toolkit.styles.defaults': <module 'prompt_toolkit.styles.defaults' from 'C:\\\\Users\\\\Hunie\\\\AppData\\\\Roaming\\\\Python\\\\Python312\\\\site-packages\\\\prompt_toolkit\\\\styles\\\\defaults.py'>,\n",
       " 'prompt_toolkit.styles.pygments': <module 'prompt_toolkit.styles.pygments' from 'C:\\\\Users\\\\Hunie\\\\AppData\\\\Roaming\\\\Python\\\\Python312\\\\site-packages\\\\prompt_toolkit\\\\styles\\\\pygments.py'>,\n",
       " 'colorsys': <module 'colorsys' from 'C:\\\\Users\\\\Hunie\\\\anaconda3\\\\envs\\\\notebook\\\\Lib\\\\colorsys.py'>,\n",
       " 'prompt_toolkit.styles.style_transformation': <module 'prompt_toolkit.styles.style_transformation' from 'C:\\\\Users\\\\Hunie\\\\AppData\\\\Roaming\\\\Python\\\\Python312\\\\site-packages\\\\prompt_toolkit\\\\styles\\\\style_transformation.py'>,\n",
       " 'prompt_toolkit.styles': <module 'prompt_toolkit.styles' from 'C:\\\\Users\\\\Hunie\\\\AppData\\\\Roaming\\\\Python\\\\Python312\\\\site-packages\\\\prompt_toolkit\\\\styles\\\\__init__.py'>,\n",
       " 'prompt_toolkit.output.color_depth': <module 'prompt_toolkit.output.color_depth' from 'C:\\\\Users\\\\Hunie\\\\AppData\\\\Roaming\\\\Python\\\\Python312\\\\site-packages\\\\prompt_toolkit\\\\output\\\\color_depth.py'>,\n",
       " 'prompt_toolkit.output.base': <module 'prompt_toolkit.output.base' from 'C:\\\\Users\\\\Hunie\\\\AppData\\\\Roaming\\\\Python\\\\Python312\\\\site-packages\\\\prompt_toolkit\\\\output\\\\base.py'>,\n",
       " 'prompt_toolkit.output.flush_stdout': <module 'prompt_toolkit.output.flush_stdout' from 'C:\\\\Users\\\\Hunie\\\\AppData\\\\Roaming\\\\Python\\\\Python312\\\\site-packages\\\\prompt_toolkit\\\\output\\\\flush_stdout.py'>,\n",
       " 'prompt_toolkit.output.plain_text': <module 'prompt_toolkit.output.plain_text' from 'C:\\\\Users\\\\Hunie\\\\AppData\\\\Roaming\\\\Python\\\\Python312\\\\site-packages\\\\prompt_toolkit\\\\output\\\\plain_text.py'>,\n",
       " 'prompt_toolkit.output.defaults': <module 'prompt_toolkit.output.defaults' from 'C:\\\\Users\\\\Hunie\\\\AppData\\\\Roaming\\\\Python\\\\Python312\\\\site-packages\\\\prompt_toolkit\\\\output\\\\defaults.py'>,\n",
       " 'prompt_toolkit.output': <module 'prompt_toolkit.output' from 'C:\\\\Users\\\\Hunie\\\\AppData\\\\Roaming\\\\Python\\\\Python312\\\\site-packages\\\\prompt_toolkit\\\\output\\\\__init__.py'>,\n",
       " 'prompt_toolkit.output.vt100': <module 'prompt_toolkit.output.vt100' from 'C:\\\\Users\\\\Hunie\\\\AppData\\\\Roaming\\\\Python\\\\Python312\\\\site-packages\\\\prompt_toolkit\\\\output\\\\vt100.py'>,\n",
       " 'prompt_toolkit.mouse_events': <module 'prompt_toolkit.mouse_events' from 'C:\\\\Users\\\\Hunie\\\\AppData\\\\Roaming\\\\Python\\\\Python312\\\\site-packages\\\\prompt_toolkit\\\\mouse_events.py'>,\n",
       " 'prompt_toolkit.formatted_text.base': <module 'prompt_toolkit.formatted_text.base' from 'C:\\\\Users\\\\Hunie\\\\AppData\\\\Roaming\\\\Python\\\\Python312\\\\site-packages\\\\prompt_toolkit\\\\formatted_text\\\\base.py'>,\n",
       " 'prompt_toolkit.formatted_text.ansi': <module 'prompt_toolkit.formatted_text.ansi' from 'C:\\\\Users\\\\Hunie\\\\AppData\\\\Roaming\\\\Python\\\\Python312\\\\site-packages\\\\prompt_toolkit\\\\formatted_text\\\\ansi.py'>,\n",
       " 'xml': <module 'xml' from 'C:\\\\Users\\\\Hunie\\\\anaconda3\\\\envs\\\\notebook\\\\Lib\\\\xml\\\\__init__.py'>,\n",
       " 'xml.dom.domreg': <module 'xml.dom.domreg' from 'C:\\\\Users\\\\Hunie\\\\anaconda3\\\\envs\\\\notebook\\\\Lib\\\\xml\\\\dom\\\\domreg.py'>,\n",
       " 'xml.dom': <module 'xml.dom' from 'C:\\\\Users\\\\Hunie\\\\anaconda3\\\\envs\\\\notebook\\\\Lib\\\\xml\\\\dom\\\\__init__.py'>,\n",
       " 'xml.dom.minicompat': <module 'xml.dom.minicompat' from 'C:\\\\Users\\\\Hunie\\\\anaconda3\\\\envs\\\\notebook\\\\Lib\\\\xml\\\\dom\\\\minicompat.py'>,\n",
       " 'xml.dom.NodeFilter': <module 'xml.dom.NodeFilter' from 'C:\\\\Users\\\\Hunie\\\\anaconda3\\\\envs\\\\notebook\\\\Lib\\\\xml\\\\dom\\\\NodeFilter.py'>,\n",
       " 'xml.dom.xmlbuilder': <module 'xml.dom.xmlbuilder' from 'C:\\\\Users\\\\Hunie\\\\anaconda3\\\\envs\\\\notebook\\\\Lib\\\\xml\\\\dom\\\\xmlbuilder.py'>,\n",
       " 'xml.dom.minidom': <module 'xml.dom.minidom' from 'C:\\\\Users\\\\Hunie\\\\anaconda3\\\\envs\\\\notebook\\\\Lib\\\\xml\\\\dom\\\\minidom.py'>,\n",
       " 'prompt_toolkit.formatted_text.html': <module 'prompt_toolkit.formatted_text.html' from 'C:\\\\Users\\\\Hunie\\\\AppData\\\\Roaming\\\\Python\\\\Python312\\\\site-packages\\\\prompt_toolkit\\\\formatted_text\\\\html.py'>,\n",
       " 'prompt_toolkit.formatted_text.pygments': <module 'prompt_toolkit.formatted_text.pygments' from 'C:\\\\Users\\\\Hunie\\\\AppData\\\\Roaming\\\\Python\\\\Python312\\\\site-packages\\\\prompt_toolkit\\\\formatted_text\\\\pygments.py'>,\n",
       " 'prompt_toolkit.formatted_text.utils': <module 'prompt_toolkit.formatted_text.utils' from 'C:\\\\Users\\\\Hunie\\\\AppData\\\\Roaming\\\\Python\\\\Python312\\\\site-packages\\\\prompt_toolkit\\\\formatted_text\\\\utils.py'>,\n",
       " 'prompt_toolkit.formatted_text': <module 'prompt_toolkit.formatted_text' from 'C:\\\\Users\\\\Hunie\\\\AppData\\\\Roaming\\\\Python\\\\Python312\\\\site-packages\\\\prompt_toolkit\\\\formatted_text\\\\__init__.py'>,\n",
       " 'prompt_toolkit.completion.base': <module 'prompt_toolkit.completion.base' from 'C:\\\\Users\\\\Hunie\\\\AppData\\\\Roaming\\\\Python\\\\Python312\\\\site-packages\\\\prompt_toolkit\\\\completion\\\\base.py'>,\n",
       " 'prompt_toolkit.completion.deduplicate': <module 'prompt_toolkit.completion.deduplicate' from 'C:\\\\Users\\\\Hunie\\\\AppData\\\\Roaming\\\\Python\\\\Python312\\\\site-packages\\\\prompt_toolkit\\\\completion\\\\deduplicate.py'>,\n",
       " 'prompt_toolkit.completion.filesystem': <module 'prompt_toolkit.completion.filesystem' from 'C:\\\\Users\\\\Hunie\\\\AppData\\\\Roaming\\\\Python\\\\Python312\\\\site-packages\\\\prompt_toolkit\\\\completion\\\\filesystem.py'>,\n",
       " 'prompt_toolkit.completion.word_completer': <module 'prompt_toolkit.completion.word_completer' from 'C:\\\\Users\\\\Hunie\\\\AppData\\\\Roaming\\\\Python\\\\Python312\\\\site-packages\\\\prompt_toolkit\\\\completion\\\\word_completer.py'>,\n",
       " 'prompt_toolkit.completion.fuzzy_completer': <module 'prompt_toolkit.completion.fuzzy_completer' from 'C:\\\\Users\\\\Hunie\\\\AppData\\\\Roaming\\\\Python\\\\Python312\\\\site-packages\\\\prompt_toolkit\\\\completion\\\\fuzzy_completer.py'>,\n",
       " 'prompt_toolkit.completion.nested': <module 'prompt_toolkit.completion.nested' from 'C:\\\\Users\\\\Hunie\\\\AppData\\\\Roaming\\\\Python\\\\Python312\\\\site-packages\\\\prompt_toolkit\\\\completion\\\\nested.py'>,\n",
       " 'prompt_toolkit.completion': <module 'prompt_toolkit.completion' from 'C:\\\\Users\\\\Hunie\\\\AppData\\\\Roaming\\\\Python\\\\Python312\\\\site-packages\\\\prompt_toolkit\\\\completion\\\\__init__.py'>,\n",
       " 'prompt_toolkit.history': <module 'prompt_toolkit.history' from 'C:\\\\Users\\\\Hunie\\\\AppData\\\\Roaming\\\\Python\\\\Python312\\\\site-packages\\\\prompt_toolkit\\\\history.py'>,\n",
       " 'prompt_toolkit.search': <module 'prompt_toolkit.search' from 'C:\\\\Users\\\\Hunie\\\\AppData\\\\Roaming\\\\Python\\\\Python312\\\\site-packages\\\\prompt_toolkit\\\\search.py'>,\n",
       " 'prompt_toolkit.validation': <module 'prompt_toolkit.validation' from 'C:\\\\Users\\\\Hunie\\\\AppData\\\\Roaming\\\\Python\\\\Python312\\\\site-packages\\\\prompt_toolkit\\\\validation.py'>,\n",
       " 'prompt_toolkit.buffer': <module 'prompt_toolkit.buffer' from 'C:\\\\Users\\\\Hunie\\\\AppData\\\\Roaming\\\\Python\\\\Python312\\\\site-packages\\\\prompt_toolkit\\\\buffer.py'>,\n",
       " 'prompt_toolkit.input.base': <module 'prompt_toolkit.input.base' from 'C:\\\\Users\\\\Hunie\\\\AppData\\\\Roaming\\\\Python\\\\Python312\\\\site-packages\\\\prompt_toolkit\\\\input\\\\base.py'>,\n",
       " 'prompt_toolkit.input.defaults': <module 'prompt_toolkit.input.defaults' from 'C:\\\\Users\\\\Hunie\\\\AppData\\\\Roaming\\\\Python\\\\Python312\\\\site-packages\\\\prompt_toolkit\\\\input\\\\defaults.py'>,\n",
       " 'prompt_toolkit.input': <module 'prompt_toolkit.input' from 'C:\\\\Users\\\\Hunie\\\\AppData\\\\Roaming\\\\Python\\\\Python312\\\\site-packages\\\\prompt_toolkit\\\\input\\\\__init__.py'>,\n",
       " 'prompt_toolkit.input.typeahead': <module 'prompt_toolkit.input.typeahead' from 'C:\\\\Users\\\\Hunie\\\\AppData\\\\Roaming\\\\Python\\\\Python312\\\\site-packages\\\\prompt_toolkit\\\\input\\\\typeahead.py'>,\n",
       " 'prompt_toolkit.key_binding.bindings': <module 'prompt_toolkit.key_binding.bindings' from 'C:\\\\Users\\\\Hunie\\\\AppData\\\\Roaming\\\\Python\\\\Python312\\\\site-packages\\\\prompt_toolkit\\\\key_binding\\\\bindings\\\\__init__.py'>,\n",
       " 'prompt_toolkit.key_binding.bindings.scroll': <module 'prompt_toolkit.key_binding.bindings.scroll' from 'C:\\\\Users\\\\Hunie\\\\AppData\\\\Roaming\\\\Python\\\\Python312\\\\site-packages\\\\prompt_toolkit\\\\key_binding\\\\bindings\\\\scroll.py'>,\n",
       " 'prompt_toolkit.key_binding.bindings.page_navigation': <module 'prompt_toolkit.key_binding.bindings.page_navigation' from 'C:\\\\Users\\\\Hunie\\\\AppData\\\\Roaming\\\\Python\\\\Python312\\\\site-packages\\\\prompt_toolkit\\\\key_binding\\\\bindings\\\\page_navigation.py'>,\n",
       " 'prompt_toolkit.lexers.base': <module 'prompt_toolkit.lexers.base' from 'C:\\\\Users\\\\Hunie\\\\AppData\\\\Roaming\\\\Python\\\\Python312\\\\site-packages\\\\prompt_toolkit\\\\lexers\\\\base.py'>,\n",
       " 'prompt_toolkit.lexers.pygments': <module 'prompt_toolkit.lexers.pygments' from 'C:\\\\Users\\\\Hunie\\\\AppData\\\\Roaming\\\\Python\\\\Python312\\\\site-packages\\\\prompt_toolkit\\\\lexers\\\\pygments.py'>,\n",
       " 'prompt_toolkit.lexers': <module 'prompt_toolkit.lexers' from 'C:\\\\Users\\\\Hunie\\\\AppData\\\\Roaming\\\\Python\\\\Python312\\\\site-packages\\\\prompt_toolkit\\\\lexers\\\\__init__.py'>,\n",
       " 'prompt_toolkit.layout.utils': <module 'prompt_toolkit.layout.utils' from 'C:\\\\Users\\\\Hunie\\\\AppData\\\\Roaming\\\\Python\\\\Python312\\\\site-packages\\\\prompt_toolkit\\\\layout\\\\utils.py'>,\n",
       " 'prompt_toolkit.layout.processors': <module 'prompt_toolkit.layout.processors' from 'C:\\\\Users\\\\Hunie\\\\AppData\\\\Roaming\\\\Python\\\\Python312\\\\site-packages\\\\prompt_toolkit\\\\layout\\\\processors.py'>,\n",
       " 'prompt_toolkit.layout.controls': <module 'prompt_toolkit.layout.controls' from 'C:\\\\Users\\\\Hunie\\\\AppData\\\\Roaming\\\\Python\\\\Python312\\\\site-packages\\\\prompt_toolkit\\\\layout\\\\controls.py'>,\n",
       " 'prompt_toolkit.layout.dimension': <module 'prompt_toolkit.layout.dimension' from 'C:\\\\Users\\\\Hunie\\\\AppData\\\\Roaming\\\\Python\\\\Python312\\\\site-packages\\\\prompt_toolkit\\\\layout\\\\dimension.py'>,\n",
       " 'prompt_toolkit.layout.margins': <module 'prompt_toolkit.layout.margins' from 'C:\\\\Users\\\\Hunie\\\\AppData\\\\Roaming\\\\Python\\\\Python312\\\\site-packages\\\\prompt_toolkit\\\\layout\\\\margins.py'>,\n",
       " 'prompt_toolkit.layout.mouse_handlers': <module 'prompt_toolkit.layout.mouse_handlers' from 'C:\\\\Users\\\\Hunie\\\\AppData\\\\Roaming\\\\Python\\\\Python312\\\\site-packages\\\\prompt_toolkit\\\\layout\\\\mouse_handlers.py'>,\n",
       " 'prompt_toolkit.layout.screen': <module 'prompt_toolkit.layout.screen' from 'C:\\\\Users\\\\Hunie\\\\AppData\\\\Roaming\\\\Python\\\\Python312\\\\site-packages\\\\prompt_toolkit\\\\layout\\\\screen.py'>,\n",
       " 'prompt_toolkit.layout.containers': <module 'prompt_toolkit.layout.containers' from 'C:\\\\Users\\\\Hunie\\\\AppData\\\\Roaming\\\\Python\\\\Python312\\\\site-packages\\\\prompt_toolkit\\\\layout\\\\containers.py'>,\n",
       " 'prompt_toolkit.layout.layout': <module 'prompt_toolkit.layout.layout' from 'C:\\\\Users\\\\Hunie\\\\AppData\\\\Roaming\\\\Python\\\\Python312\\\\site-packages\\\\prompt_toolkit\\\\layout\\\\layout.py'>,\n",
       " 'prompt_toolkit.layout.menus': <module 'prompt_toolkit.layout.menus' from 'C:\\\\Users\\\\Hunie\\\\AppData\\\\Roaming\\\\Python\\\\Python312\\\\site-packages\\\\prompt_toolkit\\\\layout\\\\menus.py'>,\n",
       " 'prompt_toolkit.layout.scrollable_pane': <module 'prompt_toolkit.layout.scrollable_pane' from 'C:\\\\Users\\\\Hunie\\\\AppData\\\\Roaming\\\\Python\\\\Python312\\\\site-packages\\\\prompt_toolkit\\\\layout\\\\scrollable_pane.py'>,\n",
       " 'prompt_toolkit.layout': <module 'prompt_toolkit.layout' from 'C:\\\\Users\\\\Hunie\\\\AppData\\\\Roaming\\\\Python\\\\Python312\\\\site-packages\\\\prompt_toolkit\\\\layout\\\\__init__.py'>,\n",
       " 'prompt_toolkit.key_binding.bindings.completion': <module 'prompt_toolkit.key_binding.bindings.completion' from 'C:\\\\Users\\\\Hunie\\\\AppData\\\\Roaming\\\\Python\\\\Python312\\\\site-packages\\\\prompt_toolkit\\\\key_binding\\\\bindings\\\\completion.py'>,\n",
       " 'prompt_toolkit.key_binding.bindings.named_commands': <module 'prompt_toolkit.key_binding.bindings.named_commands' from 'C:\\\\Users\\\\Hunie\\\\AppData\\\\Roaming\\\\Python\\\\Python312\\\\site-packages\\\\prompt_toolkit\\\\key_binding\\\\bindings\\\\named_commands.py'>,\n",
       " 'prompt_toolkit.key_binding.bindings.basic': <module 'prompt_toolkit.key_binding.bindings.basic' from 'C:\\\\Users\\\\Hunie\\\\AppData\\\\Roaming\\\\Python\\\\Python312\\\\site-packages\\\\prompt_toolkit\\\\key_binding\\\\bindings\\\\basic.py'>,\n",
       " 'prompt_toolkit.key_binding.bindings.cpr': <module 'prompt_toolkit.key_binding.bindings.cpr' from 'C:\\\\Users\\\\Hunie\\\\AppData\\\\Roaming\\\\Python\\\\Python312\\\\site-packages\\\\prompt_toolkit\\\\key_binding\\\\bindings\\\\cpr.py'>,\n",
       " 'prompt_toolkit.key_binding.bindings.emacs': <module 'prompt_toolkit.key_binding.bindings.emacs' from 'C:\\\\Users\\\\Hunie\\\\AppData\\\\Roaming\\\\Python\\\\Python312\\\\site-packages\\\\prompt_toolkit\\\\key_binding\\\\bindings\\\\emacs.py'>,\n",
       " 'prompt_toolkit.key_binding.bindings.mouse': <module 'prompt_toolkit.key_binding.bindings.mouse' from 'C:\\\\Users\\\\Hunie\\\\AppData\\\\Roaming\\\\Python\\\\Python312\\\\site-packages\\\\prompt_toolkit\\\\key_binding\\\\bindings\\\\mouse.py'>,\n",
       " 'prompt_toolkit.input.ansi_escape_sequences': <module 'prompt_toolkit.input.ansi_escape_sequences' from 'C:\\\\Users\\\\Hunie\\\\AppData\\\\Roaming\\\\Python\\\\Python312\\\\site-packages\\\\prompt_toolkit\\\\input\\\\ansi_escape_sequences.py'>,\n",
       " 'prompt_toolkit.input.vt100_parser': <module 'prompt_toolkit.input.vt100_parser' from 'C:\\\\Users\\\\Hunie\\\\AppData\\\\Roaming\\\\Python\\\\Python312\\\\site-packages\\\\prompt_toolkit\\\\input\\\\vt100_parser.py'>,\n",
       " 'prompt_toolkit.key_binding.digraphs': <module 'prompt_toolkit.key_binding.digraphs' from 'C:\\\\Users\\\\Hunie\\\\AppData\\\\Roaming\\\\Python\\\\Python312\\\\site-packages\\\\prompt_toolkit\\\\key_binding\\\\digraphs.py'>,\n",
       " 'prompt_toolkit.key_binding.bindings.vi': <module 'prompt_toolkit.key_binding.bindings.vi' from 'C:\\\\Users\\\\Hunie\\\\AppData\\\\Roaming\\\\Python\\\\Python312\\\\site-packages\\\\prompt_toolkit\\\\key_binding\\\\bindings\\\\vi.py'>,\n",
       " 'prompt_toolkit.key_binding.defaults': <module 'prompt_toolkit.key_binding.defaults' from 'C:\\\\Users\\\\Hunie\\\\AppData\\\\Roaming\\\\Python\\\\Python312\\\\site-packages\\\\prompt_toolkit\\\\key_binding\\\\defaults.py'>,\n",
       " 'prompt_toolkit.key_binding.emacs_state': <module 'prompt_toolkit.key_binding.emacs_state' from 'C:\\\\Users\\\\Hunie\\\\AppData\\\\Roaming\\\\Python\\\\Python312\\\\site-packages\\\\prompt_toolkit\\\\key_binding\\\\emacs_state.py'>,\n",
       " 'prompt_toolkit.layout.dummy': <module 'prompt_toolkit.layout.dummy' from 'C:\\\\Users\\\\Hunie\\\\AppData\\\\Roaming\\\\Python\\\\Python312\\\\site-packages\\\\prompt_toolkit\\\\layout\\\\dummy.py'>,\n",
       " 'prompt_toolkit.renderer': <module 'prompt_toolkit.renderer' from 'C:\\\\Users\\\\Hunie\\\\AppData\\\\Roaming\\\\Python\\\\Python312\\\\site-packages\\\\prompt_toolkit\\\\renderer.py'>,\n",
       " 'prompt_toolkit.application.application': <module 'prompt_toolkit.application.application' from 'C:\\\\Users\\\\Hunie\\\\AppData\\\\Roaming\\\\Python\\\\Python312\\\\site-packages\\\\prompt_toolkit\\\\application\\\\application.py'>,\n",
       " 'prompt_toolkit.application.dummy': <module 'prompt_toolkit.application.dummy' from 'C:\\\\Users\\\\Hunie\\\\AppData\\\\Roaming\\\\Python\\\\Python312\\\\site-packages\\\\prompt_toolkit\\\\application\\\\dummy.py'>,\n",
       " 'prompt_toolkit.application': <module 'prompt_toolkit.application' from 'C:\\\\Users\\\\Hunie\\\\AppData\\\\Roaming\\\\Python\\\\Python312\\\\site-packages\\\\prompt_toolkit\\\\application\\\\__init__.py'>,\n",
       " 'prompt_toolkit.key_binding.bindings.focus': <module 'prompt_toolkit.key_binding.bindings.focus' from 'C:\\\\Users\\\\Hunie\\\\AppData\\\\Roaming\\\\Python\\\\Python312\\\\site-packages\\\\prompt_toolkit\\\\key_binding\\\\bindings\\\\focus.py'>,\n",
       " 'prompt_toolkit.widgets.toolbars': <module 'prompt_toolkit.widgets.toolbars' from 'C:\\\\Users\\\\Hunie\\\\AppData\\\\Roaming\\\\Python\\\\Python312\\\\site-packages\\\\prompt_toolkit\\\\widgets\\\\toolbars.py'>,\n",
       " 'prompt_toolkit.widgets.base': <module 'prompt_toolkit.widgets.base' from 'C:\\\\Users\\\\Hunie\\\\AppData\\\\Roaming\\\\Python\\\\Python312\\\\site-packages\\\\prompt_toolkit\\\\widgets\\\\base.py'>,\n",
       " 'prompt_toolkit.widgets.dialogs': <module 'prompt_toolkit.widgets.dialogs' from 'C:\\\\Users\\\\Hunie\\\\AppData\\\\Roaming\\\\Python\\\\Python312\\\\site-packages\\\\prompt_toolkit\\\\widgets\\\\dialogs.py'>,\n",
       " 'prompt_toolkit.widgets.menus': <module 'prompt_toolkit.widgets.menus' from 'C:\\\\Users\\\\Hunie\\\\AppData\\\\Roaming\\\\Python\\\\Python312\\\\site-packages\\\\prompt_toolkit\\\\widgets\\\\menus.py'>,\n",
       " 'prompt_toolkit.widgets': <module 'prompt_toolkit.widgets' from 'C:\\\\Users\\\\Hunie\\\\AppData\\\\Roaming\\\\Python\\\\Python312\\\\site-packages\\\\prompt_toolkit\\\\widgets\\\\__init__.py'>,\n",
       " 'prompt_toolkit.shortcuts.dialogs': <module 'prompt_toolkit.shortcuts.dialogs' from 'C:\\\\Users\\\\Hunie\\\\AppData\\\\Roaming\\\\Python\\\\Python312\\\\site-packages\\\\prompt_toolkit\\\\shortcuts\\\\dialogs.py'>,\n",
       " 'prompt_toolkit.shortcuts.progress_bar.formatters': <module 'prompt_toolkit.shortcuts.progress_bar.formatters' from 'C:\\\\Users\\\\Hunie\\\\AppData\\\\Roaming\\\\Python\\\\Python312\\\\site-packages\\\\prompt_toolkit\\\\shortcuts\\\\progress_bar\\\\formatters.py'>,\n",
       " 'prompt_toolkit.shortcuts.progress_bar.base': <module 'prompt_toolkit.shortcuts.progress_bar.base' from 'C:\\\\Users\\\\Hunie\\\\AppData\\\\Roaming\\\\Python\\\\Python312\\\\site-packages\\\\prompt_toolkit\\\\shortcuts\\\\progress_bar\\\\base.py'>,\n",
       " 'prompt_toolkit.shortcuts.progress_bar': <module 'prompt_toolkit.shortcuts.progress_bar' from 'C:\\\\Users\\\\Hunie\\\\AppData\\\\Roaming\\\\Python\\\\Python312\\\\site-packages\\\\prompt_toolkit\\\\shortcuts\\\\progress_bar\\\\__init__.py'>,\n",
       " 'prompt_toolkit.key_binding.bindings.auto_suggest': <module 'prompt_toolkit.key_binding.bindings.auto_suggest' from 'C:\\\\Users\\\\Hunie\\\\AppData\\\\Roaming\\\\Python\\\\Python312\\\\site-packages\\\\prompt_toolkit\\\\key_binding\\\\bindings\\\\auto_suggest.py'>,\n",
       " 'prompt_toolkit.key_binding.bindings.open_in_editor': <module 'prompt_toolkit.key_binding.bindings.open_in_editor' from 'C:\\\\Users\\\\Hunie\\\\AppData\\\\Roaming\\\\Python\\\\Python312\\\\site-packages\\\\prompt_toolkit\\\\key_binding\\\\bindings\\\\open_in_editor.py'>,\n",
       " 'prompt_toolkit.shortcuts.prompt': <module 'prompt_toolkit.shortcuts.prompt' from 'C:\\\\Users\\\\Hunie\\\\AppData\\\\Roaming\\\\Python\\\\Python312\\\\site-packages\\\\prompt_toolkit\\\\shortcuts\\\\prompt.py'>,\n",
       " 'prompt_toolkit.shortcuts.utils': <module 'prompt_toolkit.shortcuts.utils' from 'C:\\\\Users\\\\Hunie\\\\AppData\\\\Roaming\\\\Python\\\\Python312\\\\site-packages\\\\prompt_toolkit\\\\shortcuts\\\\utils.py'>,\n",
       " 'prompt_toolkit.shortcuts': <module 'prompt_toolkit.shortcuts' from 'C:\\\\Users\\\\Hunie\\\\AppData\\\\Roaming\\\\Python\\\\Python312\\\\site-packages\\\\prompt_toolkit\\\\shortcuts\\\\__init__.py'>,\n",
       " 'prompt_toolkit': <module 'prompt_toolkit' from 'C:\\\\Users\\\\Hunie\\\\AppData\\\\Roaming\\\\Python\\\\Python312\\\\site-packages\\\\prompt_toolkit\\\\__init__.py'>,\n",
       " 'prompt_toolkit.patch_stdout': <module 'prompt_toolkit.patch_stdout' from 'C:\\\\Users\\\\Hunie\\\\AppData\\\\Roaming\\\\Python\\\\Python312\\\\site-packages\\\\prompt_toolkit\\\\patch_stdout.py'>,\n",
       " 'unicodedata': <module 'unicodedata' from 'C:\\\\Users\\\\Hunie\\\\anaconda3\\\\envs\\\\notebook\\\\DLLs\\\\unicodedata.pyd'>,\n",
       " 'IPython.core.guarded_eval': <module 'IPython.core.guarded_eval' from 'C:\\\\Users\\\\Hunie\\\\AppData\\\\Roaming\\\\Python\\\\Python312\\\\site-packages\\\\IPython\\\\core\\\\guarded_eval.py'>,\n",
       " 'IPython.core.latex_symbols': <module 'IPython.core.latex_symbols' from 'C:\\\\Users\\\\Hunie\\\\AppData\\\\Roaming\\\\Python\\\\Python312\\\\site-packages\\\\IPython\\\\core\\\\latex_symbols.py'>,\n",
       " 'IPython.utils.generics': <module 'IPython.utils.generics' from 'C:\\\\Users\\\\Hunie\\\\AppData\\\\Roaming\\\\Python\\\\Python312\\\\site-packages\\\\IPython\\\\utils\\\\generics.py'>,\n",
       " 'parso.utils': <module 'parso.utils' from 'C:\\\\Users\\\\Hunie\\\\AppData\\\\Roaming\\\\Python\\\\Python312\\\\site-packages\\\\parso\\\\utils.py'>,\n",
       " 'parso.tree': <module 'parso.tree' from 'C:\\\\Users\\\\Hunie\\\\AppData\\\\Roaming\\\\Python\\\\Python312\\\\site-packages\\\\parso\\\\tree.py'>,\n",
       " 'parso.python': <module 'parso.python' from 'C:\\\\Users\\\\Hunie\\\\AppData\\\\Roaming\\\\Python\\\\Python312\\\\site-packages\\\\parso\\\\python\\\\__init__.py'>,\n",
       " 'parso.python.token': <module 'parso.python.token' from 'C:\\\\Users\\\\Hunie\\\\AppData\\\\Roaming\\\\Python\\\\Python312\\\\site-packages\\\\parso\\\\python\\\\token.py'>,\n",
       " 'parso.python.tokenize': <module 'parso.python.tokenize' from 'C:\\\\Users\\\\Hunie\\\\AppData\\\\Roaming\\\\Python\\\\Python312\\\\site-packages\\\\parso\\\\python\\\\tokenize.py'>,\n",
       " 'parso.pgen2.grammar_parser': <module 'parso.pgen2.grammar_parser' from 'C:\\\\Users\\\\Hunie\\\\AppData\\\\Roaming\\\\Python\\\\Python312\\\\site-packages\\\\parso\\\\pgen2\\\\grammar_parser.py'>,\n",
       " 'parso.pgen2.generator': <module 'parso.pgen2.generator' from 'C:\\\\Users\\\\Hunie\\\\AppData\\\\Roaming\\\\Python\\\\Python312\\\\site-packages\\\\parso\\\\pgen2\\\\generator.py'>,\n",
       " 'parso.pgen2': <module 'parso.pgen2' from 'C:\\\\Users\\\\Hunie\\\\AppData\\\\Roaming\\\\Python\\\\Python312\\\\site-packages\\\\parso\\\\pgen2\\\\__init__.py'>,\n",
       " 'parso.parser': <module 'parso.parser' from 'C:\\\\Users\\\\Hunie\\\\AppData\\\\Roaming\\\\Python\\\\Python312\\\\site-packages\\\\parso\\\\parser.py'>,\n",
       " 'parso._compatibility': <module 'parso._compatibility' from 'C:\\\\Users\\\\Hunie\\\\AppData\\\\Roaming\\\\Python\\\\Python312\\\\site-packages\\\\parso\\\\_compatibility.py'>,\n",
       " 'difflib': <module 'difflib' from 'C:\\\\Users\\\\Hunie\\\\anaconda3\\\\envs\\\\notebook\\\\Lib\\\\difflib.py'>,\n",
       " 'parso.python.prefix': <module 'parso.python.prefix' from 'C:\\\\Users\\\\Hunie\\\\AppData\\\\Roaming\\\\Python\\\\Python312\\\\site-packages\\\\parso\\\\python\\\\prefix.py'>,\n",
       " 'parso.python.tree': <module 'parso.python.tree' from 'C:\\\\Users\\\\Hunie\\\\AppData\\\\Roaming\\\\Python\\\\Python312\\\\site-packages\\\\parso\\\\python\\\\tree.py'>,\n",
       " 'parso.python.parser': <module 'parso.python.parser' from 'C:\\\\Users\\\\Hunie\\\\AppData\\\\Roaming\\\\Python\\\\Python312\\\\site-packages\\\\parso\\\\python\\\\parser.py'>,\n",
       " 'parso.python.diff': <module 'parso.python.diff' from 'C:\\\\Users\\\\Hunie\\\\AppData\\\\Roaming\\\\Python\\\\Python312\\\\site-packages\\\\parso\\\\python\\\\diff.py'>,\n",
       " 'gc': <module 'gc' (built-in)>,\n",
       " 'parso.cache': <module 'parso.cache' from 'C:\\\\Users\\\\Hunie\\\\AppData\\\\Roaming\\\\Python\\\\Python312\\\\site-packages\\\\parso\\\\cache.py'>,\n",
       " 'parso.normalizer': <module 'parso.normalizer' from 'C:\\\\Users\\\\Hunie\\\\AppData\\\\Roaming\\\\Python\\\\Python312\\\\site-packages\\\\parso\\\\normalizer.py'>,\n",
       " 'parso.python.errors': <module 'parso.python.errors' from 'C:\\\\Users\\\\Hunie\\\\AppData\\\\Roaming\\\\Python\\\\Python312\\\\site-packages\\\\parso\\\\python\\\\errors.py'>,\n",
       " 'parso.python.pep8': <module 'parso.python.pep8' from 'C:\\\\Users\\\\Hunie\\\\AppData\\\\Roaming\\\\Python\\\\Python312\\\\site-packages\\\\parso\\\\python\\\\pep8.py'>,\n",
       " 'parso.file_io': <module 'parso.file_io' from 'C:\\\\Users\\\\Hunie\\\\AppData\\\\Roaming\\\\Python\\\\Python312\\\\site-packages\\\\parso\\\\file_io.py'>,\n",
       " 'parso.grammar': <module 'parso.grammar' from 'C:\\\\Users\\\\Hunie\\\\AppData\\\\Roaming\\\\Python\\\\Python312\\\\site-packages\\\\parso\\\\grammar.py'>,\n",
       " 'parso': <module 'parso' from 'C:\\\\Users\\\\Hunie\\\\AppData\\\\Roaming\\\\Python\\\\Python312\\\\site-packages\\\\parso\\\\__init__.py'>,\n",
       " 'jedi.parser_utils': <module 'jedi.parser_utils' from 'C:\\\\Users\\\\Hunie\\\\AppData\\\\Roaming\\\\Python\\\\Python312\\\\site-packages\\\\jedi\\\\parser_utils.py'>,\n",
       " 'jedi.debug': <module 'jedi.debug' from 'C:\\\\Users\\\\Hunie\\\\AppData\\\\Roaming\\\\Python\\\\Python312\\\\site-packages\\\\jedi\\\\debug.py'>,\n",
       " 'jedi.settings': <module 'jedi.settings' from 'C:\\\\Users\\\\Hunie\\\\AppData\\\\Roaming\\\\Python\\\\Python312\\\\site-packages\\\\jedi\\\\settings.py'>,\n",
       " 'jedi.cache': <module 'jedi.cache' from 'C:\\\\Users\\\\Hunie\\\\AppData\\\\Roaming\\\\Python\\\\Python312\\\\site-packages\\\\jedi\\\\cache.py'>,\n",
       " 'jedi.file_io': <module 'jedi.file_io' from 'C:\\\\Users\\\\Hunie\\\\AppData\\\\Roaming\\\\Python\\\\Python312\\\\site-packages\\\\jedi\\\\file_io.py'>,\n",
       " 'jedi.inference.cache': <module 'jedi.inference.cache' from 'C:\\\\Users\\\\Hunie\\\\AppData\\\\Roaming\\\\Python\\\\Python312\\\\site-packages\\\\jedi\\\\inference\\\\cache.py'>,\n",
       " 'jedi.inference.helpers': <module 'jedi.inference.helpers' from 'C:\\\\Users\\\\Hunie\\\\AppData\\\\Roaming\\\\Python\\\\Python312\\\\site-packages\\\\jedi\\\\inference\\\\helpers.py'>,\n",
       " 'jedi.inference.utils': <module 'jedi.inference.utils' from 'C:\\\\Users\\\\Hunie\\\\AppData\\\\Roaming\\\\Python\\\\Python312\\\\site-packages\\\\jedi\\\\inference\\\\utils.py'>,\n",
       " 'jedi.inference.base_value': <module 'jedi.inference.base_value' from 'C:\\\\Users\\\\Hunie\\\\AppData\\\\Roaming\\\\Python\\\\Python312\\\\site-packages\\\\jedi\\\\inference\\\\base_value.py'>,\n",
       " 'jedi.inference.sys_path': <module 'jedi.inference.sys_path' from 'C:\\\\Users\\\\Hunie\\\\AppData\\\\Roaming\\\\Python\\\\Python312\\\\site-packages\\\\jedi\\\\inference\\\\sys_path.py'>,\n",
       " 'jedi.inference.recursion': <module 'jedi.inference.recursion' from 'C:\\\\Users\\\\Hunie\\\\AppData\\\\Roaming\\\\Python\\\\Python312\\\\site-packages\\\\jedi\\\\inference\\\\recursion.py'>,\n",
       " 'jedi.inference.flow_analysis': <module 'jedi.inference.flow_analysis' from 'C:\\\\Users\\\\Hunie\\\\AppData\\\\Roaming\\\\Python\\\\Python312\\\\site-packages\\\\jedi\\\\inference\\\\flow_analysis.py'>,\n",
       " 'jedi.common': <module 'jedi.common' from 'C:\\\\Users\\\\Hunie\\\\AppData\\\\Roaming\\\\Python\\\\Python312\\\\site-packages\\\\jedi\\\\common.py'>,\n",
       " 'jedi.inference.lazy_value': <module 'jedi.inference.lazy_value' from 'C:\\\\Users\\\\Hunie\\\\AppData\\\\Roaming\\\\Python\\\\Python312\\\\site-packages\\\\jedi\\\\inference\\\\lazy_value.py'>,\n",
       " 'jedi.inference.docstrings': <module 'jedi.inference.docstrings' from 'C:\\\\Users\\\\Hunie\\\\AppData\\\\Roaming\\\\Python\\\\Python312\\\\site-packages\\\\jedi\\\\inference\\\\docstrings.py'>,\n",
       " 'jedi.plugins': <module 'jedi.plugins' from 'C:\\\\Users\\\\Hunie\\\\AppData\\\\Roaming\\\\Python\\\\Python312\\\\site-packages\\\\jedi\\\\plugins\\\\__init__.py'>,\n",
       " 'jedi.inference.names': <module 'jedi.inference.names' from 'C:\\\\Users\\\\Hunie\\\\AppData\\\\Roaming\\\\Python\\\\Python312\\\\site-packages\\\\jedi\\\\inference\\\\names.py'>,\n",
       " 'jedi.inference.filters': <module 'jedi.inference.filters' from 'C:\\\\Users\\\\Hunie\\\\AppData\\\\Roaming\\\\Python\\\\Python312\\\\site-packages\\\\jedi\\\\inference\\\\filters.py'>,\n",
       " 'jedi.inference.compiled.getattr_static': <module 'jedi.inference.compiled.getattr_static' from 'C:\\\\Users\\\\Hunie\\\\AppData\\\\Roaming\\\\Python\\\\Python312\\\\site-packages\\\\jedi\\\\inference\\\\compiled\\\\getattr_static.py'>,\n",
       " 'jedi.inference.compiled.access': <module 'jedi.inference.compiled.access' from 'C:\\\\Users\\\\Hunie\\\\AppData\\\\Roaming\\\\Python\\\\Python312\\\\site-packages\\\\jedi\\\\inference\\\\compiled\\\\access.py'>,\n",
       " 'jedi.inference.signature': <module 'jedi.inference.signature' from 'C:\\\\Users\\\\Hunie\\\\AppData\\\\Roaming\\\\Python\\\\Python312\\\\site-packages\\\\jedi\\\\inference\\\\signature.py'>,\n",
       " 'jedi.inference.context': <module 'jedi.inference.context' from 'C:\\\\Users\\\\Hunie\\\\AppData\\\\Roaming\\\\Python\\\\Python312\\\\site-packages\\\\jedi\\\\inference\\\\context.py'>,\n",
       " 'jedi.inference.compiled.value': <module 'jedi.inference.compiled.value' from 'C:\\\\Users\\\\Hunie\\\\AppData\\\\Roaming\\\\Python\\\\Python312\\\\site-packages\\\\jedi\\\\inference\\\\compiled\\\\value.py'>,\n",
       " 'jedi.inference.compiled': <module 'jedi.inference.compiled' from 'C:\\\\Users\\\\Hunie\\\\AppData\\\\Roaming\\\\Python\\\\Python312\\\\site-packages\\\\jedi\\\\inference\\\\compiled\\\\__init__.py'>,\n",
       " 'jedi.inference.analysis': <module 'jedi.inference.analysis' from 'C:\\\\Users\\\\Hunie\\\\AppData\\\\Roaming\\\\Python\\\\Python312\\\\site-packages\\\\jedi\\\\inference\\\\analysis.py'>,\n",
       " 'jedi.inference.gradual': <module 'jedi.inference.gradual' from 'C:\\\\Users\\\\Hunie\\\\AppData\\\\Roaming\\\\Python\\\\Python312\\\\site-packages\\\\jedi\\\\inference\\\\gradual\\\\__init__.py'>,\n",
       " 'jedi.inference.value.module': <module 'jedi.inference.value.module' from 'C:\\\\Users\\\\Hunie\\\\AppData\\\\Roaming\\\\Python\\\\Python312\\\\site-packages\\\\jedi\\\\inference\\\\value\\\\module.py'>,\n",
       " 'jedi.inference.value.dynamic_arrays': <module 'jedi.inference.value.dynamic_arrays' from 'C:\\\\Users\\\\Hunie\\\\AppData\\\\Roaming\\\\Python\\\\Python312\\\\site-packages\\\\jedi\\\\inference\\\\value\\\\dynamic_arrays.py'>,\n",
       " 'jedi.inference.value.iterable': <module 'jedi.inference.value.iterable' from 'C:\\\\Users\\\\Hunie\\\\AppData\\\\Roaming\\\\Python\\\\Python312\\\\site-packages\\\\jedi\\\\inference\\\\value\\\\iterable.py'>,\n",
       " 'jedi.inference.arguments': <module 'jedi.inference.arguments' from 'C:\\\\Users\\\\Hunie\\\\AppData\\\\Roaming\\\\Python\\\\Python312\\\\site-packages\\\\jedi\\\\inference\\\\arguments.py'>,\n",
       " 'jedi.inference.parser_cache': <module 'jedi.inference.parser_cache' from 'C:\\\\Users\\\\Hunie\\\\AppData\\\\Roaming\\\\Python\\\\Python312\\\\site-packages\\\\jedi\\\\inference\\\\parser_cache.py'>,\n",
       " 'jedi.inference.gradual.generics': <module 'jedi.inference.gradual.generics' from 'C:\\\\Users\\\\Hunie\\\\AppData\\\\Roaming\\\\Python\\\\Python312\\\\site-packages\\\\jedi\\\\inference\\\\gradual\\\\generics.py'>,\n",
       " 'jedi.inference.value.function': <module 'jedi.inference.value.function' from 'C:\\\\Users\\\\Hunie\\\\AppData\\\\Roaming\\\\Python\\\\Python312\\\\site-packages\\\\jedi\\\\inference\\\\value\\\\function.py'>,\n",
       " 'jedi.inference.value.klass': <module 'jedi.inference.value.klass' from 'C:\\\\Users\\\\Hunie\\\\AppData\\\\Roaming\\\\Python\\\\Python312\\\\site-packages\\\\jedi\\\\inference\\\\value\\\\klass.py'>,\n",
       " 'jedi.inference.value.instance': <module 'jedi.inference.value.instance' from 'C:\\\\Users\\\\Hunie\\\\AppData\\\\Roaming\\\\Python\\\\Python312\\\\site-packages\\\\jedi\\\\inference\\\\value\\\\instance.py'>,\n",
       " 'jedi.inference.value': <module 'jedi.inference.value' from 'C:\\\\Users\\\\Hunie\\\\AppData\\\\Roaming\\\\Python\\\\Python312\\\\site-packages\\\\jedi\\\\inference\\\\value\\\\__init__.py'>,\n",
       " 'jedi.inference.gradual.base': <module 'jedi.inference.gradual.base' from 'C:\\\\Users\\\\Hunie\\\\AppData\\\\Roaming\\\\Python\\\\Python312\\\\site-packages\\\\jedi\\\\inference\\\\gradual\\\\base.py'>,\n",
       " 'jedi.inference.gradual.type_var': <module 'jedi.inference.gradual.type_var' from 'C:\\\\Users\\\\Hunie\\\\AppData\\\\Roaming\\\\Python\\\\Python312\\\\site-packages\\\\jedi\\\\inference\\\\gradual\\\\type_var.py'>,\n",
       " 'jedi.inference.gradual.typing': <module 'jedi.inference.gradual.typing' from 'C:\\\\Users\\\\Hunie\\\\AppData\\\\Roaming\\\\Python\\\\Python312\\\\site-packages\\\\jedi\\\\inference\\\\gradual\\\\typing.py'>,\n",
       " 'jedi.inference.gradual.stub_value': <module 'jedi.inference.gradual.stub_value' from 'C:\\\\Users\\\\Hunie\\\\AppData\\\\Roaming\\\\Python\\\\Python312\\\\site-packages\\\\jedi\\\\inference\\\\gradual\\\\stub_value.py'>,\n",
       " 'jedi.inference.gradual.typeshed': <module 'jedi.inference.gradual.typeshed' from 'C:\\\\Users\\\\Hunie\\\\AppData\\\\Roaming\\\\Python\\\\Python312\\\\site-packages\\\\jedi\\\\inference\\\\gradual\\\\typeshed.py'>,\n",
       " 'jedi._compatibility': <module 'jedi._compatibility' from 'C:\\\\Users\\\\Hunie\\\\AppData\\\\Roaming\\\\Python\\\\Python312\\\\site-packages\\\\jedi\\\\_compatibility.py'>,\n",
       " 'jedi.inference.compiled.subprocess.functions': <module 'jedi.inference.compiled.subprocess.functions' from 'C:\\\\Users\\\\Hunie\\\\AppData\\\\Roaming\\\\Python\\\\Python312\\\\site-packages\\\\jedi\\\\inference\\\\compiled\\\\subprocess\\\\functions.py'>,\n",
       " 'jedi.api.exceptions': <module 'jedi.api.exceptions' from 'C:\\\\Users\\\\Hunie\\\\AppData\\\\Roaming\\\\Python\\\\Python312\\\\site-packages\\\\jedi\\\\api\\\\exceptions.py'>,\n",
       " 'jedi.inference.compiled.subprocess': <module 'jedi.inference.compiled.subprocess' from 'C:\\\\Users\\\\Hunie\\\\AppData\\\\Roaming\\\\Python\\\\Python312\\\\site-packages\\\\jedi\\\\inference\\\\compiled\\\\subprocess\\\\__init__.py'>,\n",
       " 'jedi.inference.imports': <module 'jedi.inference.imports' from 'C:\\\\Users\\\\Hunie\\\\AppData\\\\Roaming\\\\Python\\\\Python312\\\\site-packages\\\\jedi\\\\inference\\\\imports.py'>,\n",
       " 'jedi.inference.param': <module 'jedi.inference.param' from 'C:\\\\Users\\\\Hunie\\\\AppData\\\\Roaming\\\\Python\\\\Python312\\\\site-packages\\\\jedi\\\\inference\\\\param.py'>,\n",
       " 'jedi.inference.gradual.annotation': <module 'jedi.inference.gradual.annotation' from 'C:\\\\Users\\\\Hunie\\\\AppData\\\\Roaming\\\\Python\\\\Python312\\\\site-packages\\\\jedi\\\\inference\\\\gradual\\\\annotation.py'>,\n",
       " 'jedi.inference.value.decorator': <module 'jedi.inference.value.decorator' from 'C:\\\\Users\\\\Hunie\\\\AppData\\\\Roaming\\\\Python\\\\Python312\\\\site-packages\\\\jedi\\\\inference\\\\value\\\\decorator.py'>,\n",
       " 'jedi.inference.syntax_tree': <module 'jedi.inference.syntax_tree' from 'C:\\\\Users\\\\Hunie\\\\AppData\\\\Roaming\\\\Python\\\\Python312\\\\site-packages\\\\jedi\\\\inference\\\\syntax_tree.py'>,\n",
       " 'jedi.inference': <module 'jedi.inference' from 'C:\\\\Users\\\\Hunie\\\\AppData\\\\Roaming\\\\Python\\\\Python312\\\\site-packages\\\\jedi\\\\inference\\\\__init__.py'>,\n",
       " 'jedi.inference.gradual.conversion': <module 'jedi.inference.gradual.conversion' from 'C:\\\\Users\\\\Hunie\\\\AppData\\\\Roaming\\\\Python\\\\Python312\\\\site-packages\\\\jedi\\\\inference\\\\gradual\\\\conversion.py'>,\n",
       " 'jedi.inference.compiled.mixed': <module 'jedi.inference.compiled.mixed' from 'C:\\\\Users\\\\Hunie\\\\AppData\\\\Roaming\\\\Python\\\\Python312\\\\site-packages\\\\jedi\\\\inference\\\\compiled\\\\mixed.py'>,\n",
       " 'pydoc_data': <module 'pydoc_data' from 'C:\\\\Users\\\\Hunie\\\\anaconda3\\\\envs\\\\notebook\\\\Lib\\\\pydoc_data\\\\__init__.py'>,\n",
       " 'pydoc_data.topics': <module 'pydoc_data.topics' from 'C:\\\\Users\\\\Hunie\\\\anaconda3\\\\envs\\\\notebook\\\\Lib\\\\pydoc_data\\\\topics.py'>,\n",
       " 'jedi.api.keywords': <module 'jedi.api.keywords' from 'C:\\\\Users\\\\Hunie\\\\AppData\\\\Roaming\\\\Python\\\\Python312\\\\site-packages\\\\jedi\\\\api\\\\keywords.py'>,\n",
       " 'jedi.api.completion_cache': <module 'jedi.api.completion_cache' from 'C:\\\\Users\\\\Hunie\\\\AppData\\\\Roaming\\\\Python\\\\Python312\\\\site-packages\\\\jedi\\\\api\\\\completion_cache.py'>,\n",
       " 'jedi.api.helpers': <module 'jedi.api.helpers' from 'C:\\\\Users\\\\Hunie\\\\AppData\\\\Roaming\\\\Python\\\\Python312\\\\site-packages\\\\jedi\\\\api\\\\helpers.py'>,\n",
       " 'jedi.api.classes': <module 'jedi.api.classes' from 'C:\\\\Users\\\\Hunie\\\\AppData\\\\Roaming\\\\Python\\\\Python312\\\\site-packages\\\\jedi\\\\api\\\\classes.py'>,\n",
       " 'jedi.api.interpreter': <module 'jedi.api.interpreter' from 'C:\\\\Users\\\\Hunie\\\\AppData\\\\Roaming\\\\Python\\\\Python312\\\\site-packages\\\\jedi\\\\api\\\\interpreter.py'>,\n",
       " 'jedi.api.strings': <module 'jedi.api.strings' from 'C:\\\\Users\\\\Hunie\\\\AppData\\\\Roaming\\\\Python\\\\Python312\\\\site-packages\\\\jedi\\\\api\\\\strings.py'>,\n",
       " 'jedi.api.file_name': <module 'jedi.api.file_name' from 'C:\\\\Users\\\\Hunie\\\\AppData\\\\Roaming\\\\Python\\\\Python312\\\\site-packages\\\\jedi\\\\api\\\\file_name.py'>,\n",
       " 'jedi.inference.docstring_utils': <module 'jedi.inference.docstring_utils' from 'C:\\\\Users\\\\Hunie\\\\AppData\\\\Roaming\\\\Python\\\\Python312\\\\site-packages\\\\jedi\\\\inference\\\\docstring_utils.py'>,\n",
       " 'jedi.api.completion': <module 'jedi.api.completion' from 'C:\\\\Users\\\\Hunie\\\\AppData\\\\Roaming\\\\Python\\\\Python312\\\\site-packages\\\\jedi\\\\api\\\\completion.py'>,\n",
       " 'filecmp': <module 'filecmp' from 'C:\\\\Users\\\\Hunie\\\\anaconda3\\\\envs\\\\notebook\\\\Lib\\\\filecmp.py'>,\n",
       " 'jedi.api.environment': <module 'jedi.api.environment' from 'C:\\\\Users\\\\Hunie\\\\AppData\\\\Roaming\\\\Python\\\\Python312\\\\site-packages\\\\jedi\\\\api\\\\environment.py'>,\n",
       " 'jedi.inference.references': <module 'jedi.inference.references' from 'C:\\\\Users\\\\Hunie\\\\AppData\\\\Roaming\\\\Python\\\\Python312\\\\site-packages\\\\jedi\\\\inference\\\\references.py'>,\n",
       " 'jedi.api.project': <module 'jedi.api.project' from 'C:\\\\Users\\\\Hunie\\\\AppData\\\\Roaming\\\\Python\\\\Python312\\\\site-packages\\\\jedi\\\\api\\\\project.py'>,\n",
       " 'jedi.api.errors': <module 'jedi.api.errors' from 'C:\\\\Users\\\\Hunie\\\\AppData\\\\Roaming\\\\Python\\\\Python312\\\\site-packages\\\\jedi\\\\api\\\\errors.py'>,\n",
       " 'jedi.inference.value.namespace': <module 'jedi.inference.value.namespace' from 'C:\\\\Users\\\\Hunie\\\\AppData\\\\Roaming\\\\Python\\\\Python312\\\\site-packages\\\\jedi\\\\inference\\\\value\\\\namespace.py'>,\n",
       " 'jedi.api.refactoring': <module 'jedi.api.refactoring' from 'C:\\\\Users\\\\Hunie\\\\AppData\\\\Roaming\\\\Python\\\\Python312\\\\site-packages\\\\jedi\\\\api\\\\refactoring\\\\__init__.py'>,\n",
       " 'jedi.api.refactoring.extract': <module 'jedi.api.refactoring.extract' from 'C:\\\\Users\\\\Hunie\\\\AppData\\\\Roaming\\\\Python\\\\Python312\\\\site-packages\\\\jedi\\\\api\\\\refactoring\\\\extract.py'>,\n",
       " 'jedi.inference.gradual.utils': <module 'jedi.inference.gradual.utils' from 'C:\\\\Users\\\\Hunie\\\\AppData\\\\Roaming\\\\Python\\\\Python312\\\\site-packages\\\\jedi\\\\inference\\\\gradual\\\\utils.py'>,\n",
       " 'jedi.api': <module 'jedi.api' from 'C:\\\\Users\\\\Hunie\\\\AppData\\\\Roaming\\\\Python\\\\Python312\\\\site-packages\\\\jedi\\\\api\\\\__init__.py'>,\n",
       " 'jedi.plugins.stdlib': <module 'jedi.plugins.stdlib' from 'C:\\\\Users\\\\Hunie\\\\AppData\\\\Roaming\\\\Python\\\\Python312\\\\site-packages\\\\jedi\\\\plugins\\\\stdlib.py'>,\n",
       " 'jedi.plugins.flask': <module 'jedi.plugins.flask' from 'C:\\\\Users\\\\Hunie\\\\AppData\\\\Roaming\\\\Python\\\\Python312\\\\site-packages\\\\jedi\\\\plugins\\\\flask.py'>,\n",
       " 'jedi.plugins.pytest': <module 'jedi.plugins.pytest' from 'C:\\\\Users\\\\Hunie\\\\AppData\\\\Roaming\\\\Python\\\\Python312\\\\site-packages\\\\jedi\\\\plugins\\\\pytest.py'>,\n",
       " 'jedi.plugins.django': <module 'jedi.plugins.django' from 'C:\\\\Users\\\\Hunie\\\\AppData\\\\Roaming\\\\Python\\\\Python312\\\\site-packages\\\\jedi\\\\plugins\\\\django.py'>,\n",
       " 'jedi.plugins.registry': <module 'jedi.plugins.registry' from 'C:\\\\Users\\\\Hunie\\\\AppData\\\\Roaming\\\\Python\\\\Python312\\\\site-packages\\\\jedi\\\\plugins\\\\registry.py'>,\n",
       " 'jedi': <module 'jedi' from 'C:\\\\Users\\\\Hunie\\\\AppData\\\\Roaming\\\\Python\\\\Python312\\\\site-packages\\\\jedi\\\\__init__.py'>,\n",
       " 'IPython.core.completer': <module 'IPython.core.completer' from 'C:\\\\Users\\\\Hunie\\\\AppData\\\\Roaming\\\\Python\\\\Python312\\\\site-packages\\\\IPython\\\\core\\\\completer.py'>,\n",
       " 'IPython.terminal.ptutils': <module 'IPython.terminal.ptutils' from 'C:\\\\Users\\\\Hunie\\\\AppData\\\\Roaming\\\\Python\\\\Python312\\\\site-packages\\\\IPython\\\\terminal\\\\ptutils.py'>,\n",
       " 'IPython.terminal.shortcuts.auto_match': <module 'IPython.terminal.shortcuts.auto_match' from 'C:\\\\Users\\\\Hunie\\\\AppData\\\\Roaming\\\\Python\\\\Python312\\\\site-packages\\\\IPython\\\\terminal\\\\shortcuts\\\\auto_match.py'>,\n",
       " 'IPython.terminal.shortcuts.filters': <module 'IPython.terminal.shortcuts.filters' from 'C:\\\\Users\\\\Hunie\\\\AppData\\\\Roaming\\\\Python\\\\Python312\\\\site-packages\\\\IPython\\\\terminal\\\\shortcuts\\\\filters.py'>,\n",
       " 'IPython.terminal.shortcuts.auto_suggest': <module 'IPython.terminal.shortcuts.auto_suggest' from 'C:\\\\Users\\\\Hunie\\\\AppData\\\\Roaming\\\\Python\\\\Python312\\\\site-packages\\\\IPython\\\\terminal\\\\shortcuts\\\\auto_suggest.py'>,\n",
       " 'IPython.lib.clipboard': <module 'IPython.lib.clipboard' from 'C:\\\\Users\\\\Hunie\\\\AppData\\\\Roaming\\\\Python\\\\Python312\\\\site-packages\\\\IPython\\\\lib\\\\clipboard.py'>,\n",
       " 'IPython.terminal.shortcuts': <module 'IPython.terminal.shortcuts' from 'C:\\\\Users\\\\Hunie\\\\AppData\\\\Roaming\\\\Python\\\\Python312\\\\site-packages\\\\IPython\\\\terminal\\\\shortcuts\\\\__init__.py'>,\n",
       " 'concurrent.futures.thread': <module 'concurrent.futures.thread' from 'C:\\\\Users\\\\Hunie\\\\anaconda3\\\\envs\\\\notebook\\\\Lib\\\\concurrent\\\\futures\\\\thread.py'>,\n",
       " 'IPython.terminal.debugger': <module 'IPython.terminal.debugger' from 'C:\\\\Users\\\\Hunie\\\\AppData\\\\Roaming\\\\Python\\\\Python312\\\\site-packages\\\\IPython\\\\terminal\\\\debugger.py'>,\n",
       " 'IPython.terminal.magics': <module 'IPython.terminal.magics' from 'C:\\\\Users\\\\Hunie\\\\AppData\\\\Roaming\\\\Python\\\\Python312\\\\site-packages\\\\IPython\\\\terminal\\\\magics.py'>,\n",
       " 'IPython.terminal.pt_inputhooks': <module 'IPython.terminal.pt_inputhooks' from 'C:\\\\Users\\\\Hunie\\\\AppData\\\\Roaming\\\\Python\\\\Python312\\\\site-packages\\\\IPython\\\\terminal\\\\pt_inputhooks\\\\__init__.py'>,\n",
       " 'IPython.terminal.prompts': <module 'IPython.terminal.prompts' from 'C:\\\\Users\\\\Hunie\\\\AppData\\\\Roaming\\\\Python\\\\Python312\\\\site-packages\\\\IPython\\\\terminal\\\\prompts.py'>,\n",
       " 'IPython.terminal.interactiveshell': <module 'IPython.terminal.interactiveshell' from 'C:\\\\Users\\\\Hunie\\\\AppData\\\\Roaming\\\\Python\\\\Python312\\\\site-packages\\\\IPython\\\\terminal\\\\interactiveshell.py'>,\n",
       " 'IPython.core.magics.auto': <module 'IPython.core.magics.auto' from 'C:\\\\Users\\\\Hunie\\\\AppData\\\\Roaming\\\\Python\\\\Python312\\\\site-packages\\\\IPython\\\\core\\\\magics\\\\auto.py'>,\n",
       " 'IPython.core.magics.basic': <module 'IPython.core.magics.basic' from 'C:\\\\Users\\\\Hunie\\\\AppData\\\\Roaming\\\\Python\\\\Python312\\\\site-packages\\\\IPython\\\\core\\\\magics\\\\basic.py'>,\n",
       " 'http': <module 'http' from 'C:\\\\Users\\\\Hunie\\\\anaconda3\\\\envs\\\\notebook\\\\Lib\\\\http\\\\__init__.py'>,\n",
       " 'email.feedparser': <module 'email.feedparser' from 'C:\\\\Users\\\\Hunie\\\\anaconda3\\\\envs\\\\notebook\\\\Lib\\\\email\\\\feedparser.py'>,\n",
       " 'email.parser': <module 'email.parser' from 'C:\\\\Users\\\\Hunie\\\\anaconda3\\\\envs\\\\notebook\\\\Lib\\\\email\\\\parser.py'>,\n",
       " 'http.client': <module 'http.client' from 'C:\\\\Users\\\\Hunie\\\\anaconda3\\\\envs\\\\notebook\\\\Lib\\\\http\\\\client.py'>,\n",
       " 'urllib.response': <module 'urllib.response' from 'C:\\\\Users\\\\Hunie\\\\anaconda3\\\\envs\\\\notebook\\\\Lib\\\\urllib\\\\response.py'>,\n",
       " 'urllib.error': <module 'urllib.error' from 'C:\\\\Users\\\\Hunie\\\\anaconda3\\\\envs\\\\notebook\\\\Lib\\\\urllib\\\\error.py'>,\n",
       " 'nturl2path': <module 'nturl2path' from 'C:\\\\Users\\\\Hunie\\\\anaconda3\\\\envs\\\\notebook\\\\Lib\\\\nturl2path.py'>,\n",
       " 'urllib.request': <module 'urllib.request' from 'C:\\\\Users\\\\Hunie\\\\anaconda3\\\\envs\\\\notebook\\\\Lib\\\\urllib\\\\request.py'>,\n",
       " 'IPython.utils.contexts': <module 'IPython.utils.contexts' from 'C:\\\\Users\\\\Hunie\\\\AppData\\\\Roaming\\\\Python\\\\Python312\\\\site-packages\\\\IPython\\\\utils\\\\contexts.py'>,\n",
       " 'IPython.core.magics.code': <module 'IPython.core.magics.code' from 'C:\\\\Users\\\\Hunie\\\\AppData\\\\Roaming\\\\Python\\\\Python312\\\\site-packages\\\\IPython\\\\core\\\\magics\\\\code.py'>,\n",
       " 'IPython.core.magics.config': <module 'IPython.core.magics.config' from 'C:\\\\Users\\\\Hunie\\\\AppData\\\\Roaming\\\\Python\\\\Python312\\\\site-packages\\\\IPython\\\\core\\\\magics\\\\config.py'>,\n",
       " 'IPython.core.magics.display': <module 'IPython.core.magics.display' from 'C:\\\\Users\\\\Hunie\\\\AppData\\\\Roaming\\\\Python\\\\Python312\\\\site-packages\\\\IPython\\\\core\\\\magics\\\\display.py'>,\n",
       " '_lsprof': <module '_lsprof' (built-in)>,\n",
       " 'profile': <module 'profile' from 'C:\\\\Users\\\\Hunie\\\\anaconda3\\\\envs\\\\notebook\\\\Lib\\\\profile.py'>,\n",
       " 'cProfile': <module 'cProfile' from 'C:\\\\Users\\\\Hunie\\\\anaconda3\\\\envs\\\\notebook\\\\Lib\\\\cProfile.py'>,\n",
       " 'pstats': <module 'pstats' from 'C:\\\\Users\\\\Hunie\\\\anaconda3\\\\envs\\\\notebook\\\\Lib\\\\pstats.py'>,\n",
       " 'timeit': <module 'timeit' from 'C:\\\\Users\\\\Hunie\\\\anaconda3\\\\envs\\\\notebook\\\\Lib\\\\timeit.py'>,\n",
       " 'IPython.utils.module_paths': <module 'IPython.utils.module_paths' from 'C:\\\\Users\\\\Hunie\\\\AppData\\\\Roaming\\\\Python\\\\Python312\\\\site-packages\\\\IPython\\\\utils\\\\module_paths.py'>,\n",
       " 'IPython.utils.timing': <module 'IPython.utils.timing' from 'C:\\\\Users\\\\Hunie\\\\AppData\\\\Roaming\\\\Python\\\\Python312\\\\site-packages\\\\IPython\\\\utils\\\\timing.py'>,\n",
       " 'IPython.core.magics.ast_mod': <module 'IPython.core.magics.ast_mod' from 'C:\\\\Users\\\\Hunie\\\\AppData\\\\Roaming\\\\Python\\\\Python312\\\\site-packages\\\\IPython\\\\core\\\\magics\\\\ast_mod.py'>,\n",
       " 'IPython.core.magics.execution': <module 'IPython.core.magics.execution' from 'C:\\\\Users\\\\Hunie\\\\AppData\\\\Roaming\\\\Python\\\\Python312\\\\site-packages\\\\IPython\\\\core\\\\magics\\\\execution.py'>,\n",
       " 'IPython.core.magics.extension': <module 'IPython.core.magics.extension' from 'C:\\\\Users\\\\Hunie\\\\AppData\\\\Roaming\\\\Python\\\\Python312\\\\site-packages\\\\IPython\\\\core\\\\magics\\\\extension.py'>,\n",
       " 'IPython.core.magics.history': <module 'IPython.core.magics.history' from 'C:\\\\Users\\\\Hunie\\\\AppData\\\\Roaming\\\\Python\\\\Python312\\\\site-packages\\\\IPython\\\\core\\\\magics\\\\history.py'>,\n",
       " 'IPython.core.magics.logging': <module 'IPython.core.magics.logging' from 'C:\\\\Users\\\\Hunie\\\\AppData\\\\Roaming\\\\Python\\\\Python312\\\\site-packages\\\\IPython\\\\core\\\\magics\\\\logging.py'>,\n",
       " 'IPython.core.magics.namespace': <module 'IPython.core.magics.namespace' from 'C:\\\\Users\\\\Hunie\\\\AppData\\\\Roaming\\\\Python\\\\Python312\\\\site-packages\\\\IPython\\\\core\\\\magics\\\\namespace.py'>,\n",
       " 'IPython.core.magics.osm': <module 'IPython.core.magics.osm' from 'C:\\\\Users\\\\Hunie\\\\AppData\\\\Roaming\\\\Python\\\\Python312\\\\site-packages\\\\IPython\\\\core\\\\magics\\\\osm.py'>,\n",
       " 'IPython.core.magics.packaging': <module 'IPython.core.magics.packaging' from 'C:\\\\Users\\\\Hunie\\\\AppData\\\\Roaming\\\\Python\\\\Python312\\\\site-packages\\\\IPython\\\\core\\\\magics\\\\packaging.py'>,\n",
       " 'IPython.core.pylabtools': <module 'IPython.core.pylabtools' from 'C:\\\\Users\\\\Hunie\\\\AppData\\\\Roaming\\\\Python\\\\Python312\\\\site-packages\\\\IPython\\\\core\\\\pylabtools.py'>,\n",
       " 'IPython.core.magics.pylab': <module 'IPython.core.magics.pylab' from 'C:\\\\Users\\\\Hunie\\\\AppData\\\\Roaming\\\\Python\\\\Python312\\\\site-packages\\\\IPython\\\\core\\\\magics\\\\pylab.py'>,\n",
       " 'IPython.core.magics.script': <module 'IPython.core.magics.script' from 'C:\\\\Users\\\\Hunie\\\\AppData\\\\Roaming\\\\Python\\\\Python312\\\\site-packages\\\\IPython\\\\core\\\\magics\\\\script.py'>,\n",
       " 'IPython.core.magics': <module 'IPython.core.magics' from 'C:\\\\Users\\\\Hunie\\\\AppData\\\\Roaming\\\\Python\\\\Python312\\\\site-packages\\\\IPython\\\\core\\\\magics\\\\__init__.py'>,\n",
       " 'IPython.core.shellapp': <module 'IPython.core.shellapp' from 'C:\\\\Users\\\\Hunie\\\\AppData\\\\Roaming\\\\Python\\\\Python312\\\\site-packages\\\\IPython\\\\core\\\\shellapp.py'>,\n",
       " 'IPython.extensions': <module 'IPython.extensions' from 'C:\\\\Users\\\\Hunie\\\\AppData\\\\Roaming\\\\Python\\\\Python312\\\\site-packages\\\\IPython\\\\extensions\\\\__init__.py'>,\n",
       " 'IPython.extensions.storemagic': <module 'IPython.extensions.storemagic' from 'C:\\\\Users\\\\Hunie\\\\AppData\\\\Roaming\\\\Python\\\\Python312\\\\site-packages\\\\IPython\\\\extensions\\\\storemagic.py'>,\n",
       " 'IPython.terminal.ipapp': <module 'IPython.terminal.ipapp' from 'C:\\\\Users\\\\Hunie\\\\AppData\\\\Roaming\\\\Python\\\\Python312\\\\site-packages\\\\IPython\\\\terminal\\\\ipapp.py'>,\n",
       " 'IPython.terminal.embed': <module 'IPython.terminal.embed' from 'C:\\\\Users\\\\Hunie\\\\AppData\\\\Roaming\\\\Python\\\\Python312\\\\site-packages\\\\IPython\\\\terminal\\\\embed.py'>,\n",
       " 'IPython.utils.frame': <module 'IPython.utils.frame' from 'C:\\\\Users\\\\Hunie\\\\AppData\\\\Roaming\\\\Python\\\\Python312\\\\site-packages\\\\IPython\\\\utils\\\\frame.py'>,\n",
       " 'IPython': <module 'IPython' from 'C:\\\\Users\\\\Hunie\\\\AppData\\\\Roaming\\\\Python\\\\Python312\\\\site-packages\\\\IPython\\\\__init__.py'>,\n",
       " 'ipykernel.control': <module 'ipykernel.control' from 'C:\\\\Users\\\\Hunie\\\\AppData\\\\Roaming\\\\Python\\\\Python312\\\\site-packages\\\\ipykernel\\\\control.py'>,\n",
       " 'ipykernel.heartbeat': <module 'ipykernel.heartbeat' from 'C:\\\\Users\\\\Hunie\\\\AppData\\\\Roaming\\\\Python\\\\Python312\\\\site-packages\\\\ipykernel\\\\heartbeat.py'>,\n",
       " 'ipykernel.iostream': <module 'ipykernel.iostream' from 'C:\\\\Users\\\\Hunie\\\\AppData\\\\Roaming\\\\Python\\\\Python312\\\\site-packages\\\\ipykernel\\\\iostream.py'>,\n",
       " 'comm.base_comm': <module 'comm.base_comm' from 'C:\\\\Users\\\\Hunie\\\\AppData\\\\Roaming\\\\Python\\\\Python312\\\\site-packages\\\\comm\\\\base_comm.py'>,\n",
       " 'comm': <module 'comm' from 'C:\\\\Users\\\\Hunie\\\\AppData\\\\Roaming\\\\Python\\\\Python312\\\\site-packages\\\\comm\\\\__init__.py'>,\n",
       " 'ipykernel.jsonutil': <module 'ipykernel.jsonutil' from 'C:\\\\Users\\\\Hunie\\\\AppData\\\\Roaming\\\\Python\\\\Python312\\\\site-packages\\\\ipykernel\\\\jsonutil.py'>,\n",
       " 'psutil._common': <module 'psutil._common' from 'C:\\\\Users\\\\Hunie\\\\AppData\\\\Roaming\\\\Python\\\\Python312\\\\site-packages\\\\psutil\\\\_common.py'>,\n",
       " 'psutil._compat': <module 'psutil._compat' from 'C:\\\\Users\\\\Hunie\\\\AppData\\\\Roaming\\\\Python\\\\Python312\\\\site-packages\\\\psutil\\\\_compat.py'>,\n",
       " 'psutil._psutil_windows': <module 'psutil._psutil_windows' from 'C:\\\\Users\\\\Hunie\\\\AppData\\\\Roaming\\\\Python\\\\Python312\\\\site-packages\\\\psutil\\\\_psutil_windows.pyd'>,\n",
       " 'psutil._pswindows': <module 'psutil._pswindows' from 'C:\\\\Users\\\\Hunie\\\\AppData\\\\Roaming\\\\Python\\\\Python312\\\\site-packages\\\\psutil\\\\_pswindows.py'>,\n",
       " 'psutil': <module 'psutil' from 'C:\\\\Users\\\\Hunie\\\\AppData\\\\Roaming\\\\Python\\\\Python312\\\\site-packages\\\\psutil\\\\__init__.py'>,\n",
       " 'tornado.gen': <module 'tornado.gen' from 'C:\\\\Users\\\\Hunie\\\\AppData\\\\Roaming\\\\Python\\\\Python312\\\\site-packages\\\\tornado\\\\gen.py'>,\n",
       " 'tornado.locks': <module 'tornado.locks' from 'C:\\\\Users\\\\Hunie\\\\AppData\\\\Roaming\\\\Python\\\\Python312\\\\site-packages\\\\tornado\\\\locks.py'>,\n",
       " 'tornado.queues': <module 'tornado.queues' from 'C:\\\\Users\\\\Hunie\\\\AppData\\\\Roaming\\\\Python\\\\Python312\\\\site-packages\\\\tornado\\\\queues.py'>,\n",
       " 'ipykernel.kernelbase': <module 'ipykernel.kernelbase' from 'C:\\\\Users\\\\Hunie\\\\AppData\\\\Roaming\\\\Python\\\\Python312\\\\site-packages\\\\ipykernel\\\\kernelbase.py'>,\n",
       " 'ipykernel.comm.comm': <module 'ipykernel.comm.comm' from 'C:\\\\Users\\\\Hunie\\\\AppData\\\\Roaming\\\\Python\\\\Python312\\\\site-packages\\\\ipykernel\\\\comm\\\\comm.py'>,\n",
       " 'ipykernel.comm.manager': <module 'ipykernel.comm.manager' from 'C:\\\\Users\\\\Hunie\\\\AppData\\\\Roaming\\\\Python\\\\Python312\\\\site-packages\\\\ipykernel\\\\comm\\\\manager.py'>,\n",
       " 'ipykernel.comm': <module 'ipykernel.comm' from 'C:\\\\Users\\\\Hunie\\\\AppData\\\\Roaming\\\\Python\\\\Python312\\\\site-packages\\\\ipykernel\\\\comm\\\\__init__.py'>,\n",
       " 'ipykernel.compiler': <module 'ipykernel.compiler' from 'C:\\\\Users\\\\Hunie\\\\AppData\\\\Roaming\\\\Python\\\\Python312\\\\site-packages\\\\ipykernel\\\\compiler.py'>,\n",
       " 'packaging': <module 'packaging' from 'C:\\\\Users\\\\Hunie\\\\anaconda3\\\\envs\\\\notebook\\\\Lib\\\\site-packages\\\\packaging\\\\__init__.py'>,\n",
       " 'packaging._structures': <module 'packaging._structures' from 'C:\\\\Users\\\\Hunie\\\\anaconda3\\\\envs\\\\notebook\\\\Lib\\\\site-packages\\\\packaging\\\\_structures.py'>,\n",
       " 'packaging.version': <module 'packaging.version' from 'C:\\\\Users\\\\Hunie\\\\anaconda3\\\\envs\\\\notebook\\\\Lib\\\\site-packages\\\\packaging\\\\version.py'>,\n",
       " 'ipykernel.eventloops': <module 'ipykernel.eventloops' from 'C:\\\\Users\\\\Hunie\\\\AppData\\\\Roaming\\\\Python\\\\Python312\\\\site-packages\\\\ipykernel\\\\eventloops.py'>,\n",
       " 'IPython.core.payloadpage': <module 'IPython.core.payloadpage' from 'C:\\\\Users\\\\Hunie\\\\AppData\\\\Roaming\\\\Python\\\\Python312\\\\site-packages\\\\IPython\\\\core\\\\payloadpage.py'>,\n",
       " 'ipykernel.displayhook': <module 'ipykernel.displayhook' from 'C:\\\\Users\\\\Hunie\\\\AppData\\\\Roaming\\\\Python\\\\Python312\\\\site-packages\\\\ipykernel\\\\displayhook.py'>,\n",
       " 'ipykernel.zmqshell': <module 'ipykernel.zmqshell' from 'C:\\\\Users\\\\Hunie\\\\AppData\\\\Roaming\\\\Python\\\\Python312\\\\site-packages\\\\ipykernel\\\\zmqshell.py'>,\n",
       " 'ipykernel.ipkernel': <module 'ipykernel.ipkernel' from 'C:\\\\Users\\\\Hunie\\\\AppData\\\\Roaming\\\\Python\\\\Python312\\\\site-packages\\\\ipykernel\\\\ipkernel.py'>,\n",
       " 'ipykernel.parentpoller': <module 'ipykernel.parentpoller' from 'C:\\\\Users\\\\Hunie\\\\AppData\\\\Roaming\\\\Python\\\\Python312\\\\site-packages\\\\ipykernel\\\\parentpoller.py'>,\n",
       " 'ipykernel.kernelapp': <module 'ipykernel.kernelapp' from 'C:\\\\Users\\\\Hunie\\\\AppData\\\\Roaming\\\\Python\\\\Python312\\\\site-packages\\\\ipykernel\\\\kernelapp.py'>,\n",
       " 'tornado.platform': <module 'tornado.platform' from 'C:\\\\Users\\\\Hunie\\\\AppData\\\\Roaming\\\\Python\\\\Python312\\\\site-packages\\\\tornado\\\\platform\\\\__init__.py'>,\n",
       " 'tornado.platform.asyncio': <module 'tornado.platform.asyncio' from 'C:\\\\Users\\\\Hunie\\\\AppData\\\\Roaming\\\\Python\\\\Python312\\\\site-packages\\\\tornado\\\\platform\\\\asyncio.py'>,\n",
       " 'faulthandler': <module 'faulthandler' (built-in)>,\n",
       " 'debugpy._version': <module 'debugpy._version' from 'C:\\\\Users\\\\Hunie\\\\AppData\\\\Roaming\\\\Python\\\\Python312\\\\site-packages\\\\debugpy\\\\_version.py'>,\n",
       " 'debugpy.public_api': <module 'debugpy.public_api' from 'C:\\\\Users\\\\Hunie\\\\AppData\\\\Roaming\\\\Python\\\\Python312\\\\site-packages\\\\debugpy\\\\public_api.py'>,\n",
       " 'debugpy': <module 'debugpy' from 'C:\\\\Users\\\\Hunie\\\\AppData\\\\Roaming\\\\Python\\\\Python312\\\\site-packages\\\\debugpy\\\\__init__.py'>,\n",
       " 'debugpy._vendored._util': <module 'debugpy._vendored._util' from 'C:\\\\Users\\\\Hunie\\\\AppData\\\\Roaming\\\\Python\\\\Python312\\\\site-packages\\\\debugpy\\\\_vendored\\\\_util.py'>,\n",
       " 'debugpy._vendored': <module 'debugpy._vendored' from 'C:\\\\Users\\\\Hunie\\\\AppData\\\\Roaming\\\\Python\\\\Python312\\\\site-packages\\\\debugpy\\\\_vendored\\\\__init__.py'>,\n",
       " '_pydevd_bundle': <module '_pydevd_bundle' from 'C:\\\\Users\\\\Hunie\\\\AppData\\\\Roaming\\\\Python\\\\Python312\\\\site-packages\\\\debugpy\\\\_vendored\\\\pydevd\\\\_pydevd_bundle\\\\__init__.py'>,\n",
       " 'encodings.ascii': <module 'encodings.ascii' from 'C:\\\\Users\\\\Hunie\\\\anaconda3\\\\envs\\\\notebook\\\\Lib\\\\encodings\\\\ascii.py'>,\n",
       " 'encodings.latin_1': <module 'encodings.latin_1' from 'C:\\\\Users\\\\Hunie\\\\anaconda3\\\\envs\\\\notebook\\\\Lib\\\\encodings\\\\latin_1.py'>,\n",
       " 'stringprep': <module 'stringprep' from 'C:\\\\Users\\\\Hunie\\\\anaconda3\\\\envs\\\\notebook\\\\Lib\\\\stringprep.py'>,\n",
       " 'encodings.idna': <module 'encodings.idna' from 'C:\\\\Users\\\\Hunie\\\\anaconda3\\\\envs\\\\notebook\\\\Lib\\\\encodings\\\\idna.py'>,\n",
       " '_pydevd_bundle.pydevd_vm_type': <module '_pydevd_bundle.pydevd_vm_type' from 'C:\\\\Users\\\\Hunie\\\\AppData\\\\Roaming\\\\Python\\\\Python312\\\\site-packages\\\\debugpy\\\\_vendored\\\\pydevd\\\\_pydevd_bundle\\\\pydevd_vm_type.py'>,\n",
       " '_pydev_bundle': <module '_pydev_bundle' from 'C:\\\\Users\\\\Hunie\\\\AppData\\\\Roaming\\\\Python\\\\Python312\\\\site-packages\\\\debugpy\\\\_vendored\\\\pydevd\\\\_pydev_bundle\\\\__init__.py'>,\n",
       " 'xmlrpc': <module 'xmlrpc' from 'C:\\\\Users\\\\Hunie\\\\anaconda3\\\\envs\\\\notebook\\\\Lib\\\\xmlrpc\\\\__init__.py'>,\n",
       " 'xml.parsers': <module 'xml.parsers' from 'C:\\\\Users\\\\Hunie\\\\anaconda3\\\\envs\\\\notebook\\\\Lib\\\\xml\\\\parsers\\\\__init__.py'>,\n",
       " 'pyexpat.errors': <module 'pyexpat.errors'>,\n",
       " 'pyexpat.model': <module 'pyexpat.model'>,\n",
       " 'pyexpat': <module 'pyexpat' from 'C:\\\\Users\\\\Hunie\\\\anaconda3\\\\envs\\\\notebook\\\\DLLs\\\\pyexpat.pyd'>,\n",
       " 'xml.parsers.expat.model': <module 'pyexpat.model'>,\n",
       " 'xml.parsers.expat.errors': <module 'pyexpat.errors'>,\n",
       " 'xml.parsers.expat': <module 'xml.parsers.expat' from 'C:\\\\Users\\\\Hunie\\\\anaconda3\\\\envs\\\\notebook\\\\Lib\\\\xml\\\\parsers\\\\expat.py'>,\n",
       " 'gzip': <module 'gzip' from 'C:\\\\Users\\\\Hunie\\\\anaconda3\\\\envs\\\\notebook\\\\Lib\\\\gzip.py'>,\n",
       " 'xmlrpc.client': <module 'xmlrpc.client' from 'C:\\\\Users\\\\Hunie\\\\anaconda3\\\\envs\\\\notebook\\\\Lib\\\\xmlrpc\\\\client.py'>,\n",
       " 'http.server': <module 'http.server' from 'C:\\\\Users\\\\Hunie\\\\anaconda3\\\\envs\\\\notebook\\\\Lib\\\\http\\\\server.py'>,\n",
       " 'xmlrpc.server': <module 'xmlrpc.server' from 'C:\\\\Users\\\\Hunie\\\\anaconda3\\\\envs\\\\notebook\\\\Lib\\\\xmlrpc\\\\server.py'>,\n",
       " '_pydev_bundle._pydev_saved_modules': <module '_pydev_bundle._pydev_saved_modules' from 'C:\\\\Users\\\\Hunie\\\\AppData\\\\Roaming\\\\Python\\\\Python312\\\\site-packages\\\\debugpy\\\\_vendored\\\\pydevd\\\\_pydev_bundle\\\\_pydev_saved_modules.py'>,\n",
       " '_pydevd_bundle.pydevd_constants': <module '_pydevd_bundle.pydevd_constants' from 'C:\\\\Users\\\\Hunie\\\\AppData\\\\Roaming\\\\Python\\\\Python312\\\\site-packages\\\\debugpy\\\\_vendored\\\\pydevd\\\\_pydevd_bundle\\\\pydevd_constants.py'>,\n",
       " '_pydev_runfiles': <module '_pydev_runfiles' from 'C:\\\\Users\\\\Hunie\\\\AppData\\\\Roaming\\\\Python\\\\Python312\\\\site-packages\\\\debugpy\\\\_vendored\\\\pydevd\\\\_pydev_runfiles\\\\__init__.py'>,\n",
       " '_pydevd_frame_eval': <module '_pydevd_frame_eval' from 'C:\\\\Users\\\\Hunie\\\\AppData\\\\Roaming\\\\Python\\\\Python312\\\\site-packages\\\\debugpy\\\\_vendored\\\\pydevd\\\\_pydevd_frame_eval\\\\__init__.py'>,\n",
       " 'pydev_ipython': <module 'pydev_ipython' from 'C:\\\\Users\\\\Hunie\\\\AppData\\\\Roaming\\\\Python\\\\Python312\\\\site-packages\\\\debugpy\\\\_vendored\\\\pydevd\\\\pydev_ipython\\\\__init__.py'>,\n",
       " 'pydevd_plugins': <module 'pydevd_plugins' from 'C:\\\\Users\\\\Hunie\\\\AppData\\\\Roaming\\\\Python\\\\Python312\\\\site-packages\\\\debugpy\\\\_vendored\\\\pydevd\\\\pydevd_plugins\\\\__init__.py'>,\n",
       " '_pydev_bundle.pydev_log': <module '_pydev_bundle.pydev_log' from 'C:\\\\Users\\\\Hunie\\\\AppData\\\\Roaming\\\\Python\\\\Python312\\\\site-packages\\\\debugpy\\\\_vendored\\\\pydevd\\\\_pydev_bundle\\\\pydev_log.py'>,\n",
       " '_pydev_bundle._pydev_filesystem_encoding': <module '_pydev_bundle._pydev_filesystem_encoding' from 'C:\\\\Users\\\\Hunie\\\\AppData\\\\Roaming\\\\Python\\\\Python312\\\\site-packages\\\\debugpy\\\\_vendored\\\\pydevd\\\\_pydev_bundle\\\\_pydev_filesystem_encoding.py'>,\n",
       " '_pydevd_bundle.pydevd_comm_constants': <module '_pydevd_bundle.pydevd_comm_constants' from 'C:\\\\Users\\\\Hunie\\\\AppData\\\\Roaming\\\\Python\\\\Python312\\\\site-packages\\\\debugpy\\\\_vendored\\\\pydevd\\\\_pydevd_bundle\\\\pydevd_comm_constants.py'>,\n",
       " 'pydevd_file_utils': <module 'pydevd_file_utils' from 'C:\\\\Users\\\\Hunie\\\\AppData\\\\Roaming\\\\Python\\\\Python312\\\\site-packages\\\\debugpy\\\\_vendored\\\\pydevd\\\\pydevd_file_utils.py'>,\n",
       " '_pydev_bundle._pydev_execfile': <module '_pydev_bundle._pydev_execfile' from 'C:\\\\Users\\\\Hunie\\\\AppData\\\\Roaming\\\\Python\\\\Python312\\\\site-packages\\\\debugpy\\\\_vendored\\\\pydevd\\\\_pydev_bundle\\\\_pydev_execfile.py'>,\n",
       " '_pydevd_bundle.pydevd_exec2': <module '_pydevd_bundle.pydevd_exec2' from 'C:\\\\Users\\\\Hunie\\\\AppData\\\\Roaming\\\\Python\\\\Python312\\\\site-packages\\\\debugpy\\\\_vendored\\\\pydevd\\\\_pydevd_bundle\\\\pydevd_exec2.py'>,\n",
       " '_pydev_bundle.pydev_imports': <module '_pydev_bundle.pydev_imports' from 'C:\\\\Users\\\\Hunie\\\\AppData\\\\Roaming\\\\Python\\\\Python312\\\\site-packages\\\\debugpy\\\\_vendored\\\\pydevd\\\\_pydev_bundle\\\\pydev_imports.py'>,\n",
       " '_pydev_bundle.pydev_is_thread_alive': <module '_pydev_bundle.pydev_is_thread_alive' from 'C:\\\\Users\\\\Hunie\\\\AppData\\\\Roaming\\\\Python\\\\Python312\\\\site-packages\\\\debugpy\\\\_vendored\\\\pydevd\\\\_pydev_bundle\\\\pydev_is_thread_alive.py'>,\n",
       " '_pydev_bundle.pydev_override': <module '_pydev_bundle.pydev_override' from 'C:\\\\Users\\\\Hunie\\\\AppData\\\\Roaming\\\\Python\\\\Python312\\\\site-packages\\\\debugpy\\\\_vendored\\\\pydevd\\\\_pydev_bundle\\\\pydev_override.py'>,\n",
       " 'pydevd_plugins.extensions': <module 'pydevd_plugins.extensions' from 'C:\\\\Users\\\\Hunie\\\\AppData\\\\Roaming\\\\Python\\\\Python312\\\\site-packages\\\\debugpy\\\\_vendored\\\\pydevd\\\\pydevd_plugins\\\\extensions\\\\__init__.py'>,\n",
       " '_pydevd_bundle.pydevd_extension_utils': <module '_pydevd_bundle.pydevd_extension_utils' from 'C:\\\\Users\\\\Hunie\\\\AppData\\\\Roaming\\\\Python\\\\Python312\\\\site-packages\\\\debugpy\\\\_vendored\\\\pydevd\\\\_pydevd_bundle\\\\pydevd_extension_utils.py'>,\n",
       " '_pydevd_bundle.pydevd_frame_utils': <module '_pydevd_bundle.pydevd_frame_utils' from 'C:\\\\Users\\\\Hunie\\\\AppData\\\\Roaming\\\\Python\\\\Python312\\\\site-packages\\\\debugpy\\\\_vendored\\\\pydevd\\\\_pydevd_bundle\\\\pydevd_frame_utils.py'>,\n",
       " '_pydevd_bundle.pydevd_filtering': <module '_pydevd_bundle.pydevd_filtering' from 'C:\\\\Users\\\\Hunie\\\\AppData\\\\Roaming\\\\Python\\\\Python312\\\\site-packages\\\\debugpy\\\\_vendored\\\\pydevd\\\\_pydevd_bundle\\\\pydevd_filtering.py'>,\n",
       " '_pydevd_bundle.pydevd_io': <module '_pydevd_bundle.pydevd_io' from 'C:\\\\Users\\\\Hunie\\\\AppData\\\\Roaming\\\\Python\\\\Python312\\\\site-packages\\\\debugpy\\\\_vendored\\\\pydevd\\\\_pydevd_bundle\\\\pydevd_io.py'>,\n",
       " '_pydevd_bundle.pydevd_defaults': <module '_pydevd_bundle.pydevd_defaults' from 'C:\\\\Users\\\\Hunie\\\\AppData\\\\Roaming\\\\Python\\\\Python312\\\\site-packages\\\\debugpy\\\\_vendored\\\\pydevd\\\\_pydevd_bundle\\\\pydevd_defaults.py'>,\n",
       " '_pydevd_bundle.pydevd_utils': <module '_pydevd_bundle.pydevd_utils' from 'C:\\\\Users\\\\Hunie\\\\AppData\\\\Roaming\\\\Python\\\\Python312\\\\site-packages\\\\debugpy\\\\_vendored\\\\pydevd\\\\_pydevd_bundle\\\\pydevd_utils.py'>,\n",
       " '_pydevd_bundle.pydevd_runpy': <module '_pydevd_bundle.pydevd_runpy' from 'C:\\\\Users\\\\Hunie\\\\AppData\\\\Roaming\\\\Python\\\\Python312\\\\site-packages\\\\debugpy\\\\_vendored\\\\pydevd\\\\_pydevd_bundle\\\\pydevd_runpy.py'>,\n",
       " '_pydev_bundle._pydev_tipper_common': <module '_pydev_bundle._pydev_tipper_common' from 'C:\\\\Users\\\\Hunie\\\\AppData\\\\Roaming\\\\Python\\\\Python312\\\\site-packages\\\\debugpy\\\\_vendored\\\\pydevd\\\\_pydev_bundle\\\\_pydev_tipper_common.py'>,\n",
       " '_pydev_bundle._pydev_imports_tipper': <module '_pydev_bundle._pydev_imports_tipper' from 'C:\\\\Users\\\\Hunie\\\\AppData\\\\Roaming\\\\Python\\\\Python312\\\\site-packages\\\\debugpy\\\\_vendored\\\\pydevd\\\\_pydev_bundle\\\\_pydev_imports_tipper.py'>,\n",
       " '_pydev_bundle._pydev_calltip_util': <module '_pydev_bundle._pydev_calltip_util' from 'C:\\\\Users\\\\Hunie\\\\AppData\\\\Roaming\\\\Python\\\\Python312\\\\site-packages\\\\debugpy\\\\_vendored\\\\pydevd\\\\_pydev_bundle\\\\_pydev_calltip_util.py'>,\n",
       " '_pydevd_bundle.pydevd_safe_repr': <module '_pydevd_bundle.pydevd_safe_repr' from 'C:\\\\Users\\\\Hunie\\\\AppData\\\\Roaming\\\\Python\\\\Python312\\\\site-packages\\\\debugpy\\\\_vendored\\\\pydevd\\\\_pydevd_bundle\\\\pydevd_safe_repr.py'>,\n",
       " '_pydevd_bundle.pydevd_resolver': <module '_pydevd_bundle.pydevd_resolver' from 'C:\\\\Users\\\\Hunie\\\\AppData\\\\Roaming\\\\Python\\\\Python312\\\\site-packages\\\\debugpy\\\\_vendored\\\\pydevd\\\\_pydevd_bundle\\\\pydevd_resolver.py'>,\n",
       " '_pydevd_bundle.pydevd_extension_api': <module '_pydevd_bundle.pydevd_extension_api' from 'C:\\\\Users\\\\Hunie\\\\AppData\\\\Roaming\\\\Python\\\\Python312\\\\site-packages\\\\debugpy\\\\_vendored\\\\pydevd\\\\_pydevd_bundle\\\\pydevd_extension_api.py'>,\n",
       " '_pydevd_bundle.pydevd_xml': <module '_pydevd_bundle.pydevd_xml' from 'C:\\\\Users\\\\Hunie\\\\AppData\\\\Roaming\\\\Python\\\\Python312\\\\site-packages\\\\debugpy\\\\_vendored\\\\pydevd\\\\_pydevd_bundle\\\\pydevd_xml.py'>,\n",
       " '_pydevd_bundle.pydevd_dont_trace': <module '_pydevd_bundle.pydevd_dont_trace' from 'C:\\\\Users\\\\Hunie\\\\AppData\\\\Roaming\\\\Python\\\\Python312\\\\site-packages\\\\debugpy\\\\_vendored\\\\pydevd\\\\_pydevd_bundle\\\\pydevd_dont_trace.py'>,\n",
       " '_pydevd_frame_eval.vendored': <module '_pydevd_frame_eval.vendored' from 'C:\\\\Users\\\\Hunie\\\\AppData\\\\Roaming\\\\Python\\\\Python312\\\\site-packages\\\\debugpy\\\\_vendored\\\\pydevd\\\\_pydevd_frame_eval\\\\vendored\\\\__init__.py'>,\n",
       " '_pydevd_frame_eval.vendored.bytecode.flags': <module '_pydevd_frame_eval.vendored.bytecode.flags' from 'C:\\\\Users\\\\Hunie\\\\AppData\\\\Roaming\\\\Python\\\\Python312\\\\site-packages\\\\debugpy\\\\_vendored\\\\pydevd\\\\_pydevd_frame_eval\\\\vendored\\\\bytecode\\\\flags.py'>,\n",
       " '_pydevd_frame_eval.vendored.bytecode.instr': <module '_pydevd_frame_eval.vendored.bytecode.instr' from 'C:\\\\Users\\\\Hunie\\\\AppData\\\\Roaming\\\\Python\\\\Python312\\\\site-packages\\\\debugpy\\\\_vendored\\\\pydevd\\\\_pydevd_frame_eval\\\\vendored\\\\bytecode\\\\instr.py'>,\n",
       " '_pydevd_frame_eval.vendored.bytecode.bytecode': <module '_pydevd_frame_eval.vendored.bytecode.bytecode' from 'C:\\\\Users\\\\Hunie\\\\AppData\\\\Roaming\\\\Python\\\\Python312\\\\site-packages\\\\debugpy\\\\_vendored\\\\pydevd\\\\_pydevd_frame_eval\\\\vendored\\\\bytecode\\\\bytecode.py'>,\n",
       " '_pydevd_frame_eval.vendored.bytecode.concrete': <module '_pydevd_frame_eval.vendored.bytecode.concrete' from 'C:\\\\Users\\\\Hunie\\\\AppData\\\\Roaming\\\\Python\\\\Python312\\\\site-packages\\\\debugpy\\\\_vendored\\\\pydevd\\\\_pydevd_frame_eval\\\\vendored\\\\bytecode\\\\concrete.py'>,\n",
       " '_pydevd_frame_eval.vendored.bytecode.cfg': <module '_pydevd_frame_eval.vendored.bytecode.cfg' from 'C:\\\\Users\\\\Hunie\\\\AppData\\\\Roaming\\\\Python\\\\Python312\\\\site-packages\\\\debugpy\\\\_vendored\\\\pydevd\\\\_pydevd_frame_eval\\\\vendored\\\\bytecode\\\\cfg.py'>,\n",
       " '_pydevd_frame_eval.vendored.bytecode': <module '_pydevd_frame_eval.vendored.bytecode' from 'C:\\\\Users\\\\Hunie\\\\AppData\\\\Roaming\\\\Python\\\\Python312\\\\site-packages\\\\debugpy\\\\_vendored\\\\pydevd\\\\_pydevd_frame_eval\\\\vendored\\\\bytecode\\\\__init__.py'>,\n",
       " '_pydevd_bundle.pydevd_bytecode_utils': <module '_pydevd_bundle.pydevd_bytecode_utils' from 'C:\\\\Users\\\\Hunie\\\\AppData\\\\Roaming\\\\Python\\\\Python312\\\\site-packages\\\\debugpy\\\\_vendored\\\\pydevd\\\\_pydevd_bundle\\\\pydevd_bytecode_utils.py'>,\n",
       " '_pydevd_bundle.pydevd_frame': <module '_pydevd_bundle.pydevd_frame' from 'C:\\\\Users\\\\Hunie\\\\AppData\\\\Roaming\\\\Python\\\\Python312\\\\site-packages\\\\debugpy\\\\_vendored\\\\pydevd\\\\_pydevd_bundle\\\\pydevd_frame.py'>,\n",
       " '_pydevd_bundle.pydevd_additional_thread_info_regular': <module '_pydevd_bundle.pydevd_additional_thread_info_regular' from 'C:\\\\Users\\\\Hunie\\\\AppData\\\\Roaming\\\\Python\\\\Python312\\\\site-packages\\\\debugpy\\\\_vendored\\\\pydevd\\\\_pydevd_bundle\\\\pydevd_additional_thread_info_regular.py'>,\n",
       " '_pydevd_bundle.pydevd_additional_thread_info': <module '_pydevd_bundle.pydevd_additional_thread_info' from 'C:\\\\Users\\\\Hunie\\\\AppData\\\\Roaming\\\\Python\\\\Python312\\\\site-packages\\\\debugpy\\\\_vendored\\\\pydevd\\\\_pydevd_bundle\\\\pydevd_additional_thread_info.py'>,\n",
       " '_pydevd_bundle.pydevd_thread_lifecycle': <module '_pydevd_bundle.pydevd_thread_lifecycle' from 'C:\\\\Users\\\\Hunie\\\\AppData\\\\Roaming\\\\Python\\\\Python312\\\\site-packages\\\\debugpy\\\\_vendored\\\\pydevd\\\\_pydevd_bundle\\\\pydevd_thread_lifecycle.py'>,\n",
       " '_pydevd_bundle.pydevd_save_locals': <module '_pydevd_bundle.pydevd_save_locals' from 'C:\\\\Users\\\\Hunie\\\\AppData\\\\Roaming\\\\Python\\\\Python312\\\\site-packages\\\\debugpy\\\\_vendored\\\\pydevd\\\\_pydevd_bundle\\\\pydevd_save_locals.py'>,\n",
       " '_pydev_bundle.pydev_monkey': <module '_pydev_bundle.pydev_monkey' from 'C:\\\\Users\\\\Hunie\\\\AppData\\\\Roaming\\\\Python\\\\Python312\\\\site-packages\\\\debugpy\\\\_vendored\\\\pydevd\\\\_pydev_bundle\\\\pydev_monkey.py'>,\n",
       " 'pydevd_tracing': <module 'pydevd_tracing' from 'C:\\\\Users\\\\Hunie\\\\AppData\\\\Roaming\\\\Python\\\\Python312\\\\site-packages\\\\debugpy\\\\_vendored\\\\pydevd\\\\pydevd_tracing.py'>,\n",
       " '_pydevd_bundle.pydevd_collect_bytecode_info': <module '_pydevd_bundle.pydevd_collect_bytecode_info' from 'C:\\\\Users\\\\Hunie\\\\AppData\\\\Roaming\\\\Python\\\\Python312\\\\site-packages\\\\debugpy\\\\_vendored\\\\pydevd\\\\_pydevd_bundle\\\\pydevd_collect_bytecode_info.py'>,\n",
       " '_pydevd_bundle.pydevd_daemon_thread': <module '_pydevd_bundle.pydevd_daemon_thread' from 'C:\\\\Users\\\\Hunie\\\\AppData\\\\Roaming\\\\Python\\\\Python312\\\\site-packages\\\\debugpy\\\\_vendored\\\\pydevd\\\\_pydevd_bundle\\\\pydevd_daemon_thread.py'>,\n",
       " '_pydevd_bundle.pydevd_timeout': <module '_pydevd_bundle.pydevd_timeout' from 'C:\\\\Users\\\\Hunie\\\\AppData\\\\Roaming\\\\Python\\\\Python312\\\\site-packages\\\\debugpy\\\\_vendored\\\\pydevd\\\\_pydevd_bundle\\\\pydevd_timeout.py'>,\n",
       " '_pydevd_bundle.pydevd_vars': <module '_pydevd_bundle.pydevd_vars' from 'C:\\\\Users\\\\Hunie\\\\AppData\\\\Roaming\\\\Python\\\\Python312\\\\site-packages\\\\debugpy\\\\_vendored\\\\pydevd\\\\_pydevd_bundle\\\\pydevd_vars.py'>,\n",
       " '_pydev_bundle.pydev_console_utils': <module '_pydev_bundle.pydev_console_utils' from 'C:\\\\Users\\\\Hunie\\\\AppData\\\\Roaming\\\\Python\\\\Python312\\\\site-packages\\\\debugpy\\\\_vendored\\\\pydevd\\\\_pydev_bundle\\\\pydev_console_utils.py'>,\n",
       " '_pydevd_bundle.pydevd_import_class': <module '_pydevd_bundle.pydevd_import_class' from 'C:\\\\Users\\\\Hunie\\\\AppData\\\\Roaming\\\\Python\\\\Python312\\\\site-packages\\\\debugpy\\\\_vendored\\\\pydevd\\\\_pydevd_bundle\\\\pydevd_import_class.py'>,\n",
       " '_pydevd_bundle.pydevd_breakpoints': <module '_pydevd_bundle.pydevd_breakpoints' from 'C:\\\\Users\\\\Hunie\\\\AppData\\\\Roaming\\\\Python\\\\Python312\\\\site-packages\\\\debugpy\\\\_vendored\\\\pydevd\\\\_pydevd_bundle\\\\pydevd_breakpoints.py'>,\n",
       " '_pydevd_bundle.pydevd_custom_frames': <module '_pydevd_bundle.pydevd_custom_frames' from 'C:\\\\Users\\\\Hunie\\\\AppData\\\\Roaming\\\\Python\\\\Python312\\\\site-packages\\\\debugpy\\\\_vendored\\\\pydevd\\\\_pydevd_bundle\\\\pydevd_custom_frames.py'>,\n",
       " '_pydevd_bundle.pydevd_dont_trace_files': <module '_pydevd_bundle.pydevd_dont_trace_files' from 'C:\\\\Users\\\\Hunie\\\\AppData\\\\Roaming\\\\Python\\\\Python312\\\\site-packages\\\\debugpy\\\\_vendored\\\\pydevd\\\\_pydevd_bundle\\\\pydevd_dont_trace_files.py'>,\n",
       " '_pydevd_bundle.pydevd_net_command': <module '_pydevd_bundle.pydevd_net_command' from 'C:\\\\Users\\\\Hunie\\\\AppData\\\\Roaming\\\\Python\\\\Python312\\\\site-packages\\\\debugpy\\\\_vendored\\\\pydevd\\\\_pydevd_bundle\\\\pydevd_net_command.py'>,\n",
       " '_pydevd_bundle.pydevconsole_code': <module '_pydevd_bundle.pydevconsole_code' from 'C:\\\\Users\\\\Hunie\\\\AppData\\\\Roaming\\\\Python\\\\Python312\\\\site-packages\\\\debugpy\\\\_vendored\\\\pydevd\\\\_pydevd_bundle\\\\pydevconsole_code.py'>,\n",
       " '_pydev_bundle.pydev_umd': <module '_pydev_bundle.pydev_umd' from 'C:\\\\Users\\\\Hunie\\\\AppData\\\\Roaming\\\\Python\\\\Python312\\\\site-packages\\\\debugpy\\\\_vendored\\\\pydevd\\\\_pydev_bundle\\\\pydev_umd.py'>,\n",
       " 'pydevconsole': <module 'pydevconsole' from 'C:\\\\Users\\\\Hunie\\\\AppData\\\\Roaming\\\\Python\\\\Python312\\\\site-packages\\\\debugpy\\\\_vendored\\\\pydevd\\\\pydevconsole.py'>,\n",
       " '_pydev_bundle._pydev_completer': <module '_pydev_bundle._pydev_completer' from 'C:\\\\Users\\\\Hunie\\\\AppData\\\\Roaming\\\\Python\\\\Python312\\\\site-packages\\\\debugpy\\\\_vendored\\\\pydevd\\\\_pydev_bundle\\\\_pydev_completer.py'>,\n",
       " '_pydevd_bundle.pydevd_net_command_factory_xml': <module '_pydevd_bundle.pydevd_net_command_factory_xml' from 'C:\\\\Users\\\\Hunie\\\\AppData\\\\Roaming\\\\Python\\\\Python312\\\\site-packages\\\\debugpy\\\\_vendored\\\\pydevd\\\\_pydevd_bundle\\\\pydevd_net_command_factory_xml.py'>,\n",
       " '_pydevd_bundle.pydevd_trace_dispatch_regular': <module '_pydevd_bundle.pydevd_trace_dispatch_regular' from 'C:\\\\Users\\\\Hunie\\\\AppData\\\\Roaming\\\\Python\\\\Python312\\\\site-packages\\\\debugpy\\\\_vendored\\\\pydevd\\\\_pydevd_bundle\\\\pydevd_trace_dispatch_regular.py'>,\n",
       " '_pydevd_bundle.pydevd_trace_dispatch': <module '_pydevd_bundle.pydevd_trace_dispatch' from 'C:\\\\Users\\\\Hunie\\\\AppData\\\\Roaming\\\\Python\\\\Python312\\\\site-packages\\\\debugpy\\\\_vendored\\\\pydevd\\\\_pydevd_bundle\\\\pydevd_trace_dispatch.py'>,\n",
       " '_pydevd_frame_eval.pydevd_frame_eval_main': <module '_pydevd_frame_eval.pydevd_frame_eval_main' from 'C:\\\\Users\\\\Hunie\\\\AppData\\\\Roaming\\\\Python\\\\Python312\\\\site-packages\\\\debugpy\\\\_vendored\\\\pydevd\\\\_pydevd_frame_eval\\\\pydevd_frame_eval_main.py'>,\n",
       " '_pydevd_bundle.pydevd_source_mapping': <module '_pydevd_bundle.pydevd_source_mapping' from 'C:\\\\Users\\\\Hunie\\\\AppData\\\\Roaming\\\\Python\\\\Python312\\\\site-packages\\\\debugpy\\\\_vendored\\\\pydevd\\\\_pydevd_bundle\\\\pydevd_source_mapping.py'>,\n",
       " '_pydevd_bundle.pydevd_concurrency_analyser': <module '_pydevd_bundle.pydevd_concurrency_analyser' from 'C:\\\\Users\\\\Hunie\\\\AppData\\\\Roaming\\\\Python\\\\Python312\\\\site-packages\\\\debugpy\\\\_vendored\\\\pydevd\\\\_pydevd_bundle\\\\pydevd_concurrency_analyser\\\\__init__.py'>,\n",
       " '_pydevd_bundle.pydevd_concurrency_analyser.pydevd_thread_wrappers': <module '_pydevd_bundle.pydevd_concurrency_analyser.pydevd_thread_wrappers' from 'C:\\\\Users\\\\Hunie\\\\AppData\\\\Roaming\\\\Python\\\\Python312\\\\site-packages\\\\debugpy\\\\_vendored\\\\pydevd\\\\_pydevd_bundle\\\\pydevd_concurrency_analyser\\\\pydevd_thread_wrappers.py'>,\n",
       " '_pydevd_bundle.pydevd_concurrency_analyser.pydevd_concurrency_logger': <module '_pydevd_bundle.pydevd_concurrency_analyser.pydevd_concurrency_logger' from 'C:\\\\Users\\\\Hunie\\\\AppData\\\\Roaming\\\\Python\\\\Python312\\\\site-packages\\\\debugpy\\\\_vendored\\\\pydevd\\\\_pydevd_bundle\\\\pydevd_concurrency_analyser\\\\pydevd_concurrency_logger.py'>,\n",
       " '_pydevd_bundle._debug_adapter': <module '_pydevd_bundle._debug_adapter' from 'C:\\\\Users\\\\Hunie\\\\AppData\\\\Roaming\\\\Python\\\\Python312\\\\site-packages\\\\debugpy\\\\_vendored\\\\pydevd\\\\_pydevd_bundle\\\\_debug_adapter\\\\__init__.py'>,\n",
       " '_pydevd_bundle._debug_adapter.pydevd_schema_log': <module '_pydevd_bundle._debug_adapter.pydevd_schema_log' from 'C:\\\\Users\\\\Hunie\\\\AppData\\\\Roaming\\\\Python\\\\Python312\\\\site-packages\\\\debugpy\\\\_vendored\\\\pydevd\\\\_pydevd_bundle\\\\_debug_adapter\\\\pydevd_schema_log.py'>,\n",
       " '_pydevd_bundle._debug_adapter.pydevd_base_schema': <module '_pydevd_bundle._debug_adapter.pydevd_base_schema' from 'C:\\\\Users\\\\Hunie\\\\AppData\\\\Roaming\\\\Python\\\\Python312\\\\site-packages\\\\debugpy\\\\_vendored\\\\pydevd\\\\_pydevd_bundle\\\\_debug_adapter\\\\pydevd_base_schema.py'>,\n",
       " '_pydevd_bundle._debug_adapter.pydevd_schema': <module '_pydevd_bundle._debug_adapter.pydevd_schema' from 'C:\\\\Users\\\\Hunie\\\\AppData\\\\Roaming\\\\Python\\\\Python312\\\\site-packages\\\\debugpy\\\\_vendored\\\\pydevd\\\\_pydevd_bundle\\\\_debug_adapter\\\\pydevd_schema.py'>,\n",
       " '_pydevd_bundle.pydevd_reload': <module '_pydevd_bundle.pydevd_reload' from 'C:\\\\Users\\\\Hunie\\\\AppData\\\\Roaming\\\\Python\\\\Python312\\\\site-packages\\\\debugpy\\\\_vendored\\\\pydevd\\\\_pydevd_bundle\\\\pydevd_reload.py'>,\n",
       " '_pydev_bundle.fsnotify': <module '_pydev_bundle.fsnotify' from 'C:\\\\Users\\\\Hunie\\\\AppData\\\\Roaming\\\\Python\\\\Python312\\\\site-packages\\\\debugpy\\\\_vendored\\\\pydevd\\\\_pydev_bundle\\\\fsnotify\\\\__init__.py'>,\n",
       " '_pydevd_bundle.pydevd_console': <module '_pydevd_bundle.pydevd_console' from 'C:\\\\Users\\\\Hunie\\\\AppData\\\\Roaming\\\\Python\\\\Python312\\\\site-packages\\\\debugpy\\\\_vendored\\\\pydevd\\\\_pydevd_bundle\\\\pydevd_console.py'>,\n",
       " '_pydevd_bundle.pydevd_comm': <module '_pydevd_bundle.pydevd_comm' from 'C:\\\\Users\\\\Hunie\\\\AppData\\\\Roaming\\\\Python\\\\Python312\\\\site-packages\\\\debugpy\\\\_vendored\\\\pydevd\\\\_pydevd_bundle\\\\pydevd_comm.py'>,\n",
       " '_pydevd_bundle.pydevd_net_command_factory_json': <module '_pydevd_bundle.pydevd_net_command_factory_json' from 'C:\\\\Users\\\\Hunie\\\\AppData\\\\Roaming\\\\Python\\\\Python312\\\\site-packages\\\\debugpy\\\\_vendored\\\\pydevd\\\\_pydevd_bundle\\\\pydevd_net_command_factory_json.py'>,\n",
       " '_pydevd_bundle.pydevd_api': <module '_pydevd_bundle.pydevd_api' from 'C:\\\\Users\\\\Hunie\\\\AppData\\\\Roaming\\\\Python\\\\Python312\\\\site-packages\\\\debugpy\\\\_vendored\\\\pydevd\\\\_pydevd_bundle\\\\pydevd_api.py'>,\n",
       " '_pydevd_bundle.pydevd_json_debug_options': <module '_pydevd_bundle.pydevd_json_debug_options' from 'C:\\\\Users\\\\Hunie\\\\AppData\\\\Roaming\\\\Python\\\\Python312\\\\site-packages\\\\debugpy\\\\_vendored\\\\pydevd\\\\_pydevd_bundle\\\\pydevd_json_debug_options.py'>,\n",
       " '_pydevd_bundle.pydevd_process_net_command_json': <module '_pydevd_bundle.pydevd_process_net_command_json' from 'C:\\\\Users\\\\Hunie\\\\AppData\\\\Roaming\\\\Python\\\\Python312\\\\site-packages\\\\debugpy\\\\_vendored\\\\pydevd\\\\_pydevd_bundle\\\\pydevd_process_net_command_json.py'>,\n",
       " '_pydevd_bundle.pydevd_traceproperty': <module '_pydevd_bundle.pydevd_traceproperty' from 'C:\\\\Users\\\\Hunie\\\\AppData\\\\Roaming\\\\Python\\\\Python312\\\\site-packages\\\\debugpy\\\\_vendored\\\\pydevd\\\\_pydevd_bundle\\\\pydevd_traceproperty.py'>,\n",
       " '_pydevd_bundle.pydevd_process_net_command': <module '_pydevd_bundle.pydevd_process_net_command' from 'C:\\\\Users\\\\Hunie\\\\AppData\\\\Roaming\\\\Python\\\\Python312\\\\site-packages\\\\debugpy\\\\_vendored\\\\pydevd\\\\_pydevd_bundle\\\\pydevd_process_net_command.py'>,\n",
       " '_pydevd_bundle.pydevd_suspended_frames': <module '_pydevd_bundle.pydevd_suspended_frames' from 'C:\\\\Users\\\\Hunie\\\\AppData\\\\Roaming\\\\Python\\\\Python312\\\\site-packages\\\\debugpy\\\\_vendored\\\\pydevd\\\\_pydevd_bundle\\\\pydevd_suspended_frames.py'>,\n",
       " '_pydevd_bundle.pydevd_trace_api': <module '_pydevd_bundle.pydevd_trace_api' from 'C:\\\\Users\\\\Hunie\\\\AppData\\\\Roaming\\\\Python\\\\Python312\\\\site-packages\\\\debugpy\\\\_vendored\\\\pydevd\\\\_pydevd_bundle\\\\pydevd_trace_api.py'>,\n",
       " 'pydevd_plugins.pydevd_line_validation': <module 'pydevd_plugins.pydevd_line_validation' from 'C:\\\\Users\\\\Hunie\\\\AppData\\\\Roaming\\\\Python\\\\Python312\\\\site-packages\\\\debugpy\\\\_vendored\\\\pydevd\\\\pydevd_plugins\\\\pydevd_line_validation.py'>,\n",
       " 'pydevd_plugins.django_debug': <module 'pydevd_plugins.django_debug' from 'C:\\\\Users\\\\Hunie\\\\AppData\\\\Roaming\\\\Python\\\\Python312\\\\site-packages\\\\debugpy\\\\_vendored\\\\pydevd\\\\pydevd_plugins\\\\django_debug.py'>,\n",
       " 'pydevd_plugins.jinja2_debug': <module 'pydevd_plugins.jinja2_debug' from 'C:\\\\Users\\\\Hunie\\\\AppData\\\\Roaming\\\\Python\\\\Python312\\\\site-packages\\\\debugpy\\\\_vendored\\\\pydevd\\\\pydevd_plugins\\\\jinja2_debug.py'>,\n",
       " '_pydevd_bundle.pydevd_plugin_utils': <module '_pydevd_bundle.pydevd_plugin_utils' from 'C:\\\\Users\\\\Hunie\\\\AppData\\\\Roaming\\\\Python\\\\Python312\\\\site-packages\\\\debugpy\\\\_vendored\\\\pydevd\\\\_pydevd_bundle\\\\pydevd_plugin_utils.py'>,\n",
       " 'pydevd_plugins.extensions.types': <module 'pydevd_plugins.extensions.types' from 'C:\\\\Users\\\\Hunie\\\\AppData\\\\Roaming\\\\Python\\\\Python312\\\\site-packages\\\\debugpy\\\\_vendored\\\\pydevd\\\\pydevd_plugins\\\\extensions\\\\types\\\\__init__.py'>,\n",
       " 'pydevd_plugins.extensions.types.pydevd_helpers': <module 'pydevd_plugins.extensions.types.pydevd_helpers' from 'C:\\\\Users\\\\Hunie\\\\AppData\\\\Roaming\\\\Python\\\\Python312\\\\site-packages\\\\debugpy\\\\_vendored\\\\pydevd\\\\pydevd_plugins\\\\extensions\\\\types\\\\pydevd_helpers.py'>,\n",
       " 'pydevd_plugins.extensions.types.pydevd_plugin_numpy_types': <module 'pydevd_plugins.extensions.types.pydevd_plugin_numpy_types' from 'C:\\\\Users\\\\Hunie\\\\AppData\\\\Roaming\\\\Python\\\\Python312\\\\site-packages\\\\debugpy\\\\_vendored\\\\pydevd\\\\pydevd_plugins\\\\extensions\\\\types\\\\pydevd_plugin_numpy_types.py'>,\n",
       " 'pydevd_plugins.extensions.types.pydevd_plugin_pandas_types': <module 'pydevd_plugins.extensions.types.pydevd_plugin_pandas_types' from 'C:\\\\Users\\\\Hunie\\\\AppData\\\\Roaming\\\\Python\\\\Python312\\\\site-packages\\\\debugpy\\\\_vendored\\\\pydevd\\\\pydevd_plugins\\\\extensions\\\\types\\\\pydevd_plugin_pandas_types.py'>,\n",
       " 'pydevd_plugins.extensions.types.pydevd_plugins_django_form_str': <module 'pydevd_plugins.extensions.types.pydevd_plugins_django_form_str' from 'C:\\\\Users\\\\Hunie\\\\AppData\\\\Roaming\\\\Python\\\\Python312\\\\site-packages\\\\debugpy\\\\_vendored\\\\pydevd\\\\pydevd_plugins\\\\extensions\\\\types\\\\pydevd_plugins_django_form_str.py'>,\n",
       " 'pydevd': <module 'pydevd' from 'C:\\\\Users\\\\Hunie\\\\AppData\\\\Roaming\\\\Python\\\\Python312\\\\site-packages\\\\debugpy\\\\_vendored\\\\pydevd\\\\pydevd.py'>,\n",
       " 'debugpy._vendored.force_pydevd': <module 'debugpy._vendored.force_pydevd' from 'C:\\\\Users\\\\Hunie\\\\AppData\\\\Roaming\\\\Python\\\\Python312\\\\site-packages\\\\debugpy\\\\_vendored\\\\force_pydevd.py'>,\n",
       " 'debugpy.server': <module 'debugpy.server' from 'C:\\\\Users\\\\Hunie\\\\AppData\\\\Roaming\\\\Python\\\\Python312\\\\site-packages\\\\debugpy\\\\server\\\\__init__.py'>,\n",
       " 'debugpy.adapter': <module 'debugpy.adapter' from 'C:\\\\Users\\\\Hunie\\\\AppData\\\\Roaming\\\\Python\\\\Python312\\\\site-packages\\\\debugpy\\\\adapter\\\\__init__.py'>,\n",
       " 'debugpy.common': <module 'debugpy.common' from 'C:\\\\Users\\\\Hunie\\\\AppData\\\\Roaming\\\\Python\\\\Python312\\\\site-packages\\\\debugpy\\\\common\\\\__init__.py'>,\n",
       " 'debugpy.common.json': <module 'debugpy.common.json' from 'C:\\\\Users\\\\Hunie\\\\AppData\\\\Roaming\\\\Python\\\\Python312\\\\site-packages\\\\debugpy\\\\common\\\\json.py'>,\n",
       " 'debugpy.common.timestamp': <module 'debugpy.common.timestamp' from 'C:\\\\Users\\\\Hunie\\\\AppData\\\\Roaming\\\\Python\\\\Python312\\\\site-packages\\\\debugpy\\\\common\\\\timestamp.py'>,\n",
       " 'debugpy.common.util': <module 'debugpy.common.util' from 'C:\\\\Users\\\\Hunie\\\\AppData\\\\Roaming\\\\Python\\\\Python312\\\\site-packages\\\\debugpy\\\\common\\\\util.py'>,\n",
       " 'debugpy.common.log': <module 'debugpy.common.log' from 'C:\\\\Users\\\\Hunie\\\\AppData\\\\Roaming\\\\Python\\\\Python312\\\\site-packages\\\\debugpy\\\\common\\\\log.py'>,\n",
       " 'debugpy.common.sockets': <module 'debugpy.common.sockets' from 'C:\\\\Users\\\\Hunie\\\\AppData\\\\Roaming\\\\Python\\\\Python312\\\\site-packages\\\\debugpy\\\\common\\\\sockets.py'>,\n",
       " 'debugpy.server.api': <module 'debugpy.server.api' from 'C:\\\\Users\\\\Hunie\\\\AppData\\\\Roaming\\\\Python\\\\Python312\\\\site-packages\\\\debugpy\\\\server\\\\api.py'>,\n",
       " 'ipykernel.debugger': <module 'ipykernel.debugger' from 'C:\\\\Users\\\\Hunie\\\\AppData\\\\Roaming\\\\Python\\\\Python312\\\\site-packages\\\\ipykernel\\\\debugger.py'>,\n",
       " 'IPython.core.completerlib': <module 'IPython.core.completerlib' from 'C:\\\\Users\\\\Hunie\\\\AppData\\\\Roaming\\\\Python\\\\Python312\\\\site-packages\\\\IPython\\\\core\\\\completerlib.py'>,\n",
       " 'pygments.styles.default': <module 'pygments.styles.default' from 'C:\\\\Users\\\\Hunie\\\\AppData\\\\Roaming\\\\Python\\\\Python312\\\\site-packages\\\\pygments\\\\styles\\\\default.py'>}"
      ]
     },
     "execution_count": 20,
     "metadata": {},
     "output_type": "execute_result"
    }
   ],
   "source": [
    "sys.modules"
   ]
  },
  {
   "cell_type": "code",
   "execution_count": 21,
   "id": "410aadad-9428-4a0b-9c21-719d6a95ec3b",
   "metadata": {},
   "outputs": [
    {
     "data": {
      "text/plain": [
       "['C:\\\\Users\\\\Hunie\\\\anaconda3\\\\envs\\\\notebook\\\\python312.zip',\n",
       " 'C:\\\\Users\\\\Hunie\\\\anaconda3\\\\envs\\\\notebook\\\\DLLs',\n",
       " 'C:\\\\Users\\\\Hunie\\\\anaconda3\\\\envs\\\\notebook\\\\Lib',\n",
       " 'C:\\\\Users\\\\Hunie\\\\anaconda3\\\\envs\\\\notebook',\n",
       " '',\n",
       " 'C:\\\\Users\\\\Hunie\\\\AppData\\\\Roaming\\\\Python\\\\Python312\\\\site-packages',\n",
       " 'C:\\\\Users\\\\Hunie\\\\AppData\\\\Roaming\\\\Python\\\\Python312\\\\site-packages\\\\win32',\n",
       " 'C:\\\\Users\\\\Hunie\\\\AppData\\\\Roaming\\\\Python\\\\Python312\\\\site-packages\\\\win32\\\\lib',\n",
       " 'C:\\\\Users\\\\Hunie\\\\AppData\\\\Roaming\\\\Python\\\\Python312\\\\site-packages\\\\Pythonwin',\n",
       " 'C:\\\\Users\\\\Hunie\\\\anaconda3\\\\envs\\\\notebook\\\\Lib\\\\site-packages',\n",
       " 'C:\\\\Users\\\\Hunie\\\\anaconda3\\\\envs\\\\notebook\\\\Lib\\\\site-packages\\\\win32',\n",
       " 'C:\\\\Users\\\\Hunie\\\\anaconda3\\\\envs\\\\notebook\\\\Lib\\\\site-packages\\\\win32\\\\lib',\n",
       " 'C:\\\\Users\\\\Hunie\\\\anaconda3\\\\envs\\\\notebook\\\\Lib\\\\site-packages\\\\Pythonwin']"
      ]
     },
     "execution_count": 21,
     "metadata": {},
     "output_type": "execute_result"
    }
   ],
   "source": [
    "sys.path"
   ]
  },
  {
   "cell_type": "markdown",
   "id": "5ef6a6dd-8a53-4762-88d9-01caa831dc92",
   "metadata": {},
   "source": [
    "### File Input/Output"
   ]
  },
  {
   "cell_type": "code",
   "execution_count": 22,
   "id": "1c0dd438-0333-44f3-82fe-f53f503a0b2c",
   "metadata": {},
   "outputs": [
    {
     "data": {
      "text/plain": [
       "'C:\\\\Users\\\\Hunie\\\\Gongbro_Review'"
      ]
     },
     "execution_count": 22,
     "metadata": {},
     "output_type": "execute_result"
    }
   ],
   "source": [
    "import os\n",
    "os.getcwd()"
   ]
  },
  {
   "cell_type": "code",
   "execution_count": 23,
   "id": "e657febf-30e5-4941-9d62-e750488e0317",
   "metadata": {},
   "outputs": [
    {
     "data": {
      "text/plain": [
       "'C:\\\\Users\\\\Hunie\\\\Gongbro_Review\\\\temp'"
      ]
     },
     "execution_count": 23,
     "metadata": {},
     "output_type": "execute_result"
    }
   ],
   "source": [
    "os.chdir('C:\\\\Users\\\\Hunie\\\\Gongbro_Review\\\\temp')\n",
    "os.getcwd()"
   ]
  },
  {
   "cell_type": "code",
   "execution_count": 24,
   "id": "c36e3bb6-b0c0-4dd2-abf4-d116028b718f",
   "metadata": {},
   "outputs": [
    {
     "data": {
      "text/plain": [
       "_io.TextIOWrapper"
      ]
     },
     "execution_count": 24,
     "metadata": {},
     "output_type": "execute_result"
    }
   ],
   "source": [
    "# open()\n",
    "f = open('file1.txt', 'w')\n",
    "type(f)"
   ]
  },
  {
   "cell_type": "code",
   "execution_count": 25,
   "id": "4ac1ca71-91e2-41bf-b6c4-7eb4c08416a4",
   "metadata": {},
   "outputs": [
    {
     "data": {
      "text/plain": [
       "False"
      ]
     },
     "execution_count": 25,
     "metadata": {},
     "output_type": "execute_result"
    }
   ],
   "source": [
    "# closed : 파일 닫힘 여부\n",
    "f.closed"
   ]
  },
  {
   "cell_type": "code",
   "execution_count": 26,
   "id": "7488a758-fc17-4d70-9d34-2a9f2b3b9183",
   "metadata": {},
   "outputs": [
    {
     "data": {
      "text/plain": [
       "13"
      ]
     },
     "execution_count": 26,
     "metadata": {},
     "output_type": "execute_result"
    }
   ],
   "source": [
    "f.write('I love Python')"
   ]
  },
  {
   "cell_type": "code",
   "execution_count": 27,
   "id": "29128653-991e-452b-8525-e1d65e0297e8",
   "metadata": {},
   "outputs": [
    {
     "data": {
      "text/plain": [
       "True"
      ]
     },
     "execution_count": 27,
     "metadata": {},
     "output_type": "execute_result"
    }
   ],
   "source": [
    "# close() : 파일 닫기\n",
    "f.close()\n",
    "f.closed"
   ]
  },
  {
   "cell_type": "code",
   "execution_count": 28,
   "id": "ca3c38ae-6f64-4cb4-a826-1674fecd31b2",
   "metadata": {},
   "outputs": [],
   "source": [
    "with open('file2.txt', 'w') as f:\n",
    "    f.write('I love Python\\n')\n",
    "    f.write('I love math\\n')\n",
    "    f.write('I love engineering\\n')\n",
    "# with open(   ,   ) as 형태로 사용하면 자동으로 .close() 파일 닫기가 된다."
   ]
  },
  {
   "cell_type": "code",
   "execution_count": 29,
   "id": "8e5021fa-b823-4205-bfd1-340b6ec660af",
   "metadata": {},
   "outputs": [
    {
     "data": {
      "text/plain": [
       "True"
      ]
     },
     "execution_count": 29,
     "metadata": {},
     "output_type": "execute_result"
    }
   ],
   "source": [
    "f.closed"
   ]
  },
  {
   "cell_type": "code",
   "execution_count": 30,
   "id": "693f1aac-0c84-43ee-986e-093c6fdb6bff",
   "metadata": {},
   "outputs": [
    {
     "data": {
      "text/plain": [
       "'I love Python\\nI love math\\nI love engineering\\n'"
      ]
     },
     "execution_count": 30,
     "metadata": {},
     "output_type": "execute_result"
    }
   ],
   "source": [
    "# read() : 파일 불러오기\n",
    "fid = open('file2.txt', 'r')\n",
    "fid.read()"
   ]
  },
  {
   "cell_type": "code",
   "execution_count": 31,
   "id": "38420363-321c-44ba-afd3-fa435f9ad37d",
   "metadata": {},
   "outputs": [
    {
     "data": {
      "text/plain": [
       "''"
      ]
     },
     "execution_count": 31,
     "metadata": {},
     "output_type": "execute_result"
    }
   ],
   "source": [
    "fid.read() # 이미 다 불러와서 공백이 발생"
   ]
  },
  {
   "cell_type": "code",
   "execution_count": 32,
   "id": "30d5af2b-61e6-4e42-8795-6665f84f0917",
   "metadata": {},
   "outputs": [],
   "source": [
    "fid.close()"
   ]
  },
  {
   "cell_type": "code",
   "execution_count": 33,
   "id": "29adb405-b78a-4ce7-ac20-4784d75ee584",
   "metadata": {},
   "outputs": [
    {
     "data": {
      "text/plain": [
       "'I love Python\\n'"
      ]
     },
     "execution_count": 33,
     "metadata": {},
     "output_type": "execute_result"
    }
   ],
   "source": [
    "# readline() : 한 줄씩 불러오기\n",
    "fid = open('file2.txt', 'r')\n",
    "fid.readline()"
   ]
  },
  {
   "cell_type": "code",
   "execution_count": 34,
   "id": "842a68d7-f169-4b30-ae23-f9fd370625cc",
   "metadata": {},
   "outputs": [
    {
     "data": {
      "text/plain": [
       "'I love math\\n'"
      ]
     },
     "execution_count": 34,
     "metadata": {},
     "output_type": "execute_result"
    }
   ],
   "source": [
    "fid.readline()"
   ]
  },
  {
   "cell_type": "code",
   "execution_count": 35,
   "id": "4a20e2d0-826e-4f2c-9f72-c205b4a27c55",
   "metadata": {},
   "outputs": [
    {
     "data": {
      "text/plain": [
       "'I love engineering\\n'"
      ]
     },
     "execution_count": 35,
     "metadata": {},
     "output_type": "execute_result"
    }
   ],
   "source": [
    "fid.readline()"
   ]
  },
  {
   "cell_type": "code",
   "execution_count": 36,
   "id": "def29cc3-b2a8-45e6-8f6f-fd58c3391628",
   "metadata": {},
   "outputs": [
    {
     "data": {
      "text/plain": [
       "''"
      ]
     },
     "execution_count": 36,
     "metadata": {},
     "output_type": "execute_result"
    }
   ],
   "source": [
    "fid.readline()"
   ]
  },
  {
   "cell_type": "code",
   "execution_count": 37,
   "id": "419ddb81-8be3-42a2-9b3c-da02dc4b858e",
   "metadata": {},
   "outputs": [],
   "source": [
    "fid.close()"
   ]
  },
  {
   "cell_type": "code",
   "execution_count": 38,
   "id": "7dfba176-d1e7-43e3-99cd-d851172b06e2",
   "metadata": {},
   "outputs": [
    {
     "data": {
      "text/plain": [
       "['I love Python\\n', 'I love math\\n', 'I love engineering\\n']"
      ]
     },
     "execution_count": 38,
     "metadata": {},
     "output_type": "execute_result"
    }
   ],
   "source": [
    "# file 내용을 data 리스트로 저장하기\n",
    "fid = open('file2.txt', 'r')\n",
    "data = []\n",
    "for text in fid:\n",
    "    data.append(text)\n",
    "fid.close()\n",
    "data"
   ]
  },
  {
   "cell_type": "markdown",
   "id": "dc87e917-0169-4e29-a067-7291710f90aa",
   "metadata": {},
   "source": [
    "### Json"
   ]
  },
  {
   "cell_type": "code",
   "execution_count": 39,
   "id": "06c59c71-ab11-4b42-81dc-80aaf9cf5210",
   "metadata": {},
   "outputs": [
    {
     "data": {
      "text/plain": [
       "list"
      ]
     },
     "execution_count": 39,
     "metadata": {},
     "output_type": "execute_result"
    }
   ],
   "source": [
    "data = ['String 1', 'String 2', 'String 3']\n",
    "type(data)"
   ]
  },
  {
   "cell_type": "code",
   "execution_count": 40,
   "id": "f46483db-b001-40b1-8117-2a6fcc00e472",
   "metadata": {},
   "outputs": [],
   "source": [
    "import json\n",
    "f = open('file3.txt', 'w')"
   ]
  },
  {
   "cell_type": "code",
   "execution_count": 41,
   "id": "da948fb8-3995-4436-9034-b23f55a82084",
   "metadata": {},
   "outputs": [],
   "source": [
    "# dumo(x, y) : x 를 y 에 던져 넣기\n",
    "json.dump(data, f)\n",
    "f.close()"
   ]
  },
  {
   "cell_type": "code",
   "execution_count": 42,
   "id": "27b93896-aab6-44b7-a4b7-c32199e12bfe",
   "metadata": {},
   "outputs": [
    {
     "data": {
      "text/plain": [
       "['String 1', 'String 2', 'String 3']"
      ]
     },
     "execution_count": 42,
     "metadata": {},
     "output_type": "execute_result"
    }
   ],
   "source": [
    "# load() : data 확인\n",
    "f = open('file3.txt', 'r')\n",
    "x = json.load(f)\n",
    "x"
   ]
  },
  {
   "cell_type": "code",
   "execution_count": 43,
   "id": "87681e69-b9c5-4c0a-b285-e81c393c6192",
   "metadata": {},
   "outputs": [],
   "source": [
    "f.close()"
   ]
  },
  {
   "cell_type": "markdown",
   "id": "0092f461-b089-453f-8a73-c98cb6cbf8a1",
   "metadata": {},
   "source": [
    "### Pickle"
   ]
  },
  {
   "cell_type": "code",
   "execution_count": 44,
   "id": "05588e8e-bd2c-4f8a-aced-2004b702f03f",
   "metadata": {},
   "outputs": [],
   "source": [
    "import pickle # binary 데이터로 집어넣기, 사이즈가 매우 작아진다는 장점\n",
    "f = open('file4.txt', 'wb')\n",
    "pickle.dump(data, f)\n",
    "f.close()"
   ]
  },
  {
   "cell_type": "code",
   "execution_count": 45,
   "id": "9f313580-5372-43f1-86e7-dcf93fa64050",
   "metadata": {},
   "outputs": [
    {
     "ename": "UnicodeDecodeError",
     "evalue": "'cp949' codec can't decode byte 0x80 in position 0: illegal multibyte sequence",
     "output_type": "error",
     "traceback": [
      "\u001b[1;31m---------------------------------------------------------------------------\u001b[0m",
      "\u001b[1;31mUnicodeDecodeError\u001b[0m                        Traceback (most recent call last)",
      "Cell \u001b[1;32mIn[45], line 2\u001b[0m\n\u001b[0;32m      1\u001b[0m f \u001b[38;5;241m=\u001b[39m \u001b[38;5;28mopen\u001b[39m(\u001b[38;5;124m'\u001b[39m\u001b[38;5;124mfile4.txt\u001b[39m\u001b[38;5;124m'\u001b[39m, \u001b[38;5;124m'\u001b[39m\u001b[38;5;124mr\u001b[39m\u001b[38;5;124m'\u001b[39m)\n\u001b[1;32m----> 2\u001b[0m \u001b[43mpickle\u001b[49m\u001b[38;5;241;43m.\u001b[39;49m\u001b[43mload\u001b[49m\u001b[43m(\u001b[49m\u001b[43mf\u001b[49m\u001b[43m)\u001b[49m\n",
      "\u001b[1;31mUnicodeDecodeError\u001b[0m: 'cp949' codec can't decode byte 0x80 in position 0: illegal multibyte sequence"
     ]
    }
   ],
   "source": [
    "f = open('file4.txt', 'r')\n",
    "pickle.load(f)"
   ]
  },
  {
   "cell_type": "code",
   "execution_count": 46,
   "id": "5e210366-37cc-4667-9740-26817e699d1c",
   "metadata": {},
   "outputs": [
    {
     "data": {
      "text/plain": [
       "['String 1', 'String 2', 'String 3']"
      ]
     },
     "execution_count": 46,
     "metadata": {},
     "output_type": "execute_result"
    }
   ],
   "source": [
    "f = open('file4.txt', 'rb') # 'rb' 모드로 적용해야 에러 발생 X\n",
    "pickle.load(f)"
   ]
  }
 ],
 "metadata": {
  "kernelspec": {
   "display_name": "Python 3 (ipykernel)",
   "language": "python",
   "name": "python3"
  },
  "language_info": {
   "codemirror_mode": {
    "name": "ipython",
    "version": 3
   },
   "file_extension": ".py",
   "mimetype": "text/x-python",
   "name": "python",
   "nbconvert_exporter": "python",
   "pygments_lexer": "ipython3",
   "version": "3.12.4"
  }
 },
 "nbformat": 4,
 "nbformat_minor": 5
}
