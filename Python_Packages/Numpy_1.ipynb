{
 "cells": [
  {
   "cell_type": "markdown",
   "id": "fd7b1934-31a7-4248-9176-2c65c64f23ad",
   "metadata": {},
   "source": [
    "### Numpy 활용 이유"
   ]
  },
  {
   "cell_type": "code",
   "execution_count": 1,
   "id": "fd27ebc3-fed1-4b41-97c3-711318da21cb",
   "metadata": {},
   "outputs": [
    {
     "data": {
      "text/plain": [
       "list"
      ]
     },
     "execution_count": 1,
     "metadata": {},
     "output_type": "execute_result"
    }
   ],
   "source": [
    "x = [10, 20, 30]\n",
    "type(x)"
   ]
  },
  {
   "cell_type": "code",
   "execution_count": 2,
   "id": "ed6fe10a-bee0-49d0-8598-c4828e72b7fb",
   "metadata": {},
   "outputs": [
    {
     "ename": "TypeError",
     "evalue": "can't multiply sequence by non-int of type 'list'",
     "output_type": "error",
     "traceback": [
      "\u001b[1;31m---------------------------------------------------------------------------\u001b[0m",
      "\u001b[1;31mTypeError\u001b[0m                                 Traceback (most recent call last)",
      "Cell \u001b[1;32mIn[2], line 1\u001b[0m\n\u001b[1;32m----> 1\u001b[0m \u001b[43mx\u001b[49m\u001b[38;5;241;43m*\u001b[39;49m\u001b[43mx\u001b[49m \u001b[38;5;66;03m# 리스트 안의 값을 곱하고 싶으나 리스트끼리 곱하기는 지원하지 않는다.\u001b[39;00m\n",
      "\u001b[1;31mTypeError\u001b[0m: can't multiply sequence by non-int of type 'list'"
     ]
    }
   ],
   "source": [
    "x*x # 리스트 안의 값을 곱하고 싶으나 리스트끼리 곱하기는 지원하지 않는다."
   ]
  },
  {
   "cell_type": "code",
   "execution_count": 3,
   "id": "8a6f2ae9-48bd-4356-8472-cd672be04e0c",
   "metadata": {},
   "outputs": [
    {
     "ename": "TypeError",
     "evalue": "must be real number, not list",
     "output_type": "error",
     "traceback": [
      "\u001b[1;31m---------------------------------------------------------------------------\u001b[0m",
      "\u001b[1;31mTypeError\u001b[0m                                 Traceback (most recent call last)",
      "Cell \u001b[1;32mIn[3], line 2\u001b[0m\n\u001b[0;32m      1\u001b[0m \u001b[38;5;28;01mimport\u001b[39;00m \u001b[38;5;21;01mmath\u001b[39;00m\n\u001b[1;32m----> 2\u001b[0m \u001b[43mmath\u001b[49m\u001b[38;5;241;43m.\u001b[39;49m\u001b[43msin\u001b[49m\u001b[43m(\u001b[49m\u001b[43mx\u001b[49m\u001b[43m)\u001b[49m \u001b[38;5;66;03m# 각각의 값에 따른 sin 값을 구하고 싶지만 해당 함수는 하나의 값만 받을 수 있다.\u001b[39;00m\n",
      "\u001b[1;31mTypeError\u001b[0m: must be real number, not list"
     ]
    }
   ],
   "source": [
    "import math\n",
    "math.sin(x) # 각각의 값에 따른 sin 값을 구하고 싶지만 해당 함수는 하나의 값만 받을 수 있다."
   ]
  },
  {
   "cell_type": "markdown",
   "id": "cce892e6-4d96-4b90-a43d-48dce6104ec6",
   "metadata": {},
   "source": [
    "### Numpy 의 강력함"
   ]
  },
  {
   "cell_type": "code",
   "execution_count": 4,
   "id": "662bece4-4836-4f48-8998-c261fedede41",
   "metadata": {},
   "outputs": [
    {
     "data": {
      "text/plain": [
       "array([100, 400, 900])"
      ]
     },
     "execution_count": 4,
     "metadata": {},
     "output_type": "execute_result"
    }
   ],
   "source": [
    "import numpy as np\n",
    "x = np.array([10, 20, 30])\n",
    "y = x ** 2\n",
    "y"
   ]
  },
  {
   "cell_type": "code",
   "execution_count": 5,
   "id": "dc1db5e3-6a8c-46ac-91e0-a6d5f97ecd27",
   "metadata": {},
   "outputs": [],
   "source": [
    "# 앞에서 정의한 변수들 리셋하기\n",
    "%reset -f"
   ]
  },
  {
   "cell_type": "markdown",
   "id": "010c2d9b-3f20-4359-871c-2dd85ee77747",
   "metadata": {},
   "source": [
    "### Numpy"
   ]
  },
  {
   "cell_type": "markdown",
   "id": "3d978762-a124-4356-a6af-209d41055f22",
   "metadata": {},
   "source": [
    "▶ Array 생성 및 속성 확인"
   ]
  },
  {
   "cell_type": "code",
   "execution_count": 6,
   "id": "13cd81a8-2f36-4000-b8cd-f7ebb13177e1",
   "metadata": {},
   "outputs": [
    {
     "data": {
      "text/plain": [
       "array([0, 1, 2, 3, 4, 5, 6, 7, 8, 9])"
      ]
     },
     "execution_count": 6,
     "metadata": {},
     "output_type": "execute_result"
    }
   ],
   "source": [
    "import numpy\n",
    "a = numpy.arange(10)\n",
    "a"
   ]
  },
  {
   "cell_type": "code",
   "execution_count": 7,
   "id": "88545299-7895-4d1f-b74d-fc85b4b3bdd8",
   "metadata": {},
   "outputs": [
    {
     "data": {
      "text/plain": [
       "array([10, 20, 30])"
      ]
     },
     "execution_count": 7,
     "metadata": {},
     "output_type": "execute_result"
    }
   ],
   "source": [
    "a = numpy.array([10, 20, 30])\n",
    "a"
   ]
  },
  {
   "cell_type": "code",
   "execution_count": 8,
   "id": "1ecd9d0d-f702-49e7-b2f9-f17557b74bc6",
   "metadata": {},
   "outputs": [
    {
     "data": {
      "text/plain": [
       "(3,)"
      ]
     },
     "execution_count": 8,
     "metadata": {},
     "output_type": "execute_result"
    }
   ],
   "source": [
    "# size related variables\n",
    "a.shape"
   ]
  },
  {
   "cell_type": "code",
   "execution_count": 9,
   "id": "ff77d3ae-c7e8-4630-9391-70441ac84328",
   "metadata": {},
   "outputs": [
    {
     "data": {
      "text/plain": [
       "1"
      ]
     },
     "execution_count": 9,
     "metadata": {},
     "output_type": "execute_result"
    }
   ],
   "source": [
    "a.ndim"
   ]
  },
  {
   "cell_type": "code",
   "execution_count": 10,
   "id": "8118d84e-1908-4af5-b508-e980b798e99f",
   "metadata": {},
   "outputs": [
    {
     "data": {
      "text/plain": [
       "dtype('int32')"
      ]
     },
     "execution_count": 10,
     "metadata": {},
     "output_type": "execute_result"
    }
   ],
   "source": [
    "a.dtype"
   ]
  },
  {
   "cell_type": "code",
   "execution_count": 11,
   "id": "6ba0996e-2cee-421d-ae25-4c7f6d7e800c",
   "metadata": {},
   "outputs": [
    {
     "data": {
      "text/plain": [
       "4"
      ]
     },
     "execution_count": 11,
     "metadata": {},
     "output_type": "execute_result"
    }
   ],
   "source": [
    "a.itemsize \n",
    "# array 에 들어가있는 메모리가 사용하는 바이트의 수, \n",
    "# a.dtype 에서 int32 가 32비트이며, 1바이트 = 8비트 이므로 a.itemsize 는 4이다."
   ]
  },
  {
   "cell_type": "code",
   "execution_count": 12,
   "id": "2a9f9eda-6c38-4ac6-9eb1-6f8f5740c681",
   "metadata": {},
   "outputs": [
    {
     "data": {
      "text/plain": [
       "3"
      ]
     },
     "execution_count": 12,
     "metadata": {},
     "output_type": "execute_result"
    }
   ],
   "source": [
    "a.size # array 에 있는 값의 개수"
   ]
  },
  {
   "cell_type": "code",
   "execution_count": 13,
   "id": "f29bf893-2983-419a-8ab5-35c7f9cae421",
   "metadata": {},
   "outputs": [
    {
     "data": {
      "text/plain": [
       "numpy.ndarray"
      ]
     },
     "execution_count": 13,
     "metadata": {},
     "output_type": "execute_result"
    }
   ],
   "source": [
    "type(a) # N-dimensional array"
   ]
  },
  {
   "cell_type": "markdown",
   "id": "2ebd268e-4b59-412f-9ecc-e117f6d9e16d",
   "metadata": {},
   "source": [
    "▶ 자료형 확인 int vs float"
   ]
  },
  {
   "cell_type": "code",
   "execution_count": 14,
   "id": "7ab42479-6128-45fa-bb51-61da62253124",
   "metadata": {},
   "outputs": [
    {
     "data": {
      "text/plain": [
       "dtype('int32')"
      ]
     },
     "execution_count": 14,
     "metadata": {},
     "output_type": "execute_result"
    }
   ],
   "source": [
    "# number types\n",
    "import numpy as np\n",
    "a = np.array([10, 20, 30])\n",
    "a[2] = 30.1\n",
    "a.dtype"
   ]
  },
  {
   "cell_type": "code",
   "execution_count": 15,
   "id": "3474d7ca-c337-420d-8b47-51fe736bde03",
   "metadata": {},
   "outputs": [
    {
     "data": {
      "text/plain": [
       "array([10, 20, 30])"
      ]
     },
     "execution_count": 15,
     "metadata": {},
     "output_type": "execute_result"
    }
   ],
   "source": [
    "a # a[2] = 30.1 을 해도 a 의 data_type (dtype) 이 int32 이기 때문에 표현되지 않는다."
   ]
  },
  {
   "cell_type": "code",
   "execution_count": 16,
   "id": "ca989b39-4e46-4834-81e5-167458746ccc",
   "metadata": {},
   "outputs": [
    {
     "data": {
      "text/plain": [
       "'int32'"
      ]
     },
     "execution_count": 16,
     "metadata": {},
     "output_type": "execute_result"
    }
   ],
   "source": [
    "a.dtype.name"
   ]
  },
  {
   "cell_type": "code",
   "execution_count": 17,
   "id": "7c04abb3-e625-42e3-96fc-eb1ddd07b469",
   "metadata": {},
   "outputs": [
    {
     "data": {
      "text/plain": [
       "array([10. , 20. , 30.1])"
      ]
     },
     "execution_count": 17,
     "metadata": {},
     "output_type": "execute_result"
    }
   ],
   "source": [
    "a = a.astype('float64') # a 의 data_type (dtype) 을 float64 로 변경\n",
    "a[2] = 30.1\n",
    "a # 제대로 표현됨을 확인 가능하다."
   ]
  },
  {
   "cell_type": "code",
   "execution_count": 18,
   "id": "4f173a1f-a022-478d-a39c-663c76c76939",
   "metadata": {},
   "outputs": [
    {
     "data": {
      "text/plain": [
       "'float64'"
      ]
     },
     "execution_count": 18,
     "metadata": {},
     "output_type": "execute_result"
    }
   ],
   "source": [
    "b = np.array([10., 20., 30.])\n",
    "b.dtype.name # 처음부터 array 안의 값을 float 형태로 입력하면 dtype 이 float이다."
   ]
  },
  {
   "cell_type": "code",
   "execution_count": 19,
   "id": "79acf284-0d96-452e-b123-44895e5f3083",
   "metadata": {},
   "outputs": [
    {
     "data": {
      "text/plain": [
       "array([10, 20, 30])"
      ]
     },
     "execution_count": 19,
     "metadata": {},
     "output_type": "execute_result"
    }
   ],
   "source": [
    "c = np.array([10.1, 20.1, 30.1], 'int32')\n",
    "c # data_type 을 int 로 설정해서 소수점이 다 날라간 모습"
   ]
  },
  {
   "cell_type": "markdown",
   "id": "09fde68e-3dce-48ff-b819-fd61c400c3bb",
   "metadata": {},
   "source": [
    "▶ int32 vs int64"
   ]
  },
  {
   "cell_type": "code",
   "execution_count": 20,
   "id": "bb022b6c-b597-4bd1-a11a-1994de11fbb9",
   "metadata": {},
   "outputs": [
    {
     "name": "stderr",
     "output_type": "stream",
     "text": [
      "C:\\Users\\Hunie\\AppData\\Local\\Temp\\ipykernel_24520\\1386609769.py:4: RuntimeWarning: overflow encountered in scalar add\n",
      "  x[0] = x[0] + 1\n"
     ]
    }
   ],
   "source": [
    "# int32 가 나타낼 수 있는 최대의 숫자 \n",
    "# ▶ 2진법 1 31개, 10진법 2147483647\n",
    "x = np.array([2147483647])\n",
    "x[0] = x[0] + 1"
   ]
  },
  {
   "cell_type": "code",
   "execution_count": 21,
   "id": "c5180393-24fc-4ca6-a4b3-d403ce0f1546",
   "metadata": {},
   "outputs": [],
   "source": [
    "# int64 가 나타낼 수 있는 최대의 숫자\n",
    "# ▶ 2진법 1 63개 이므로 위에서 발생한 오류가 발생하지 않는다.\n",
    "x = np.array([2147483647], 'int64')\n",
    "x[0] = x[0] + 1 "
   ]
  },
  {
   "cell_type": "code",
   "execution_count": 22,
   "id": "e9c7a2b7-dacd-4f25-95dc-239f05384034",
   "metadata": {},
   "outputs": [],
   "source": [
    "# 번외 - float64 의 최대값 : 1.7976931348623158*E+308"
   ]
  },
  {
   "cell_type": "markdown",
   "id": "09d785d8-daba-4117-ac82-665eb5dea5ce",
   "metadata": {},
   "source": [
    "▶ N차원 array 만들기"
   ]
  },
  {
   "cell_type": "code",
   "execution_count": 23,
   "id": "3a2d2834-e589-42cd-9f63-4d378c8e18bb",
   "metadata": {},
   "outputs": [],
   "source": [
    "# make 1D array\n",
    "a = np.array([10, 20, 30])"
   ]
  },
  {
   "cell_type": "code",
   "execution_count": 24,
   "id": "b2584b41-f72a-415b-9880-ee2afddbfee5",
   "metadata": {},
   "outputs": [
    {
     "ename": "UFuncTypeError",
     "evalue": "ufunc 'multiply' did not contain a loop with signature matching types (dtype('<U11'), dtype('int32')) -> None",
     "output_type": "error",
     "traceback": [
      "\u001b[1;31m---------------------------------------------------------------------------\u001b[0m",
      "\u001b[1;31mUFuncTypeError\u001b[0m                            Traceback (most recent call last)",
      "Cell \u001b[1;32mIn[24], line 2\u001b[0m\n\u001b[0;32m      1\u001b[0m a \u001b[38;5;241m=\u001b[39m np\u001b[38;5;241m.\u001b[39marray([\u001b[38;5;241m10\u001b[39m, \u001b[38;5;124m'\u001b[39m\u001b[38;5;124mabc\u001b[39m\u001b[38;5;124m'\u001b[39m, \u001b[38;5;241m30\u001b[39m])\n\u001b[1;32m----> 2\u001b[0m \u001b[43ma\u001b[49m\u001b[43m \u001b[49m\u001b[38;5;241;43m*\u001b[39;49m\u001b[43m \u001b[49m\u001b[38;5;241;43m2\u001b[39;49m \u001b[38;5;66;03m# 문자열이 들어갈 수는 있지만 해당 연산은 불가능하다.\u001b[39;00m\n",
      "\u001b[1;31mUFuncTypeError\u001b[0m: ufunc 'multiply' did not contain a loop with signature matching types (dtype('<U11'), dtype('int32')) -> None"
     ]
    }
   ],
   "source": [
    "a = np.array([10, 'abc', 30])\n",
    "a * 2 # 문자열이 들어갈 수는 있지만 해당 연산은 불가능하다."
   ]
  },
  {
   "cell_type": "code",
   "execution_count": 25,
   "id": "7981e6f7-27d0-46c3-9a1e-a4169b20beba",
   "metadata": {},
   "outputs": [
    {
     "data": {
      "text/plain": [
       "(2, 3)"
      ]
     },
     "execution_count": 25,
     "metadata": {},
     "output_type": "execute_result"
    }
   ],
   "source": [
    "# make 2D array\n",
    "a = np.array([[10, 20, 30], [40, 50, 60]])\n",
    "a.shape"
   ]
  },
  {
   "cell_type": "code",
   "execution_count": 26,
   "id": "4cc1576f-474d-478b-b506-7bb1bd565644",
   "metadata": {},
   "outputs": [
    {
     "data": {
      "text/plain": [
       "6"
      ]
     },
     "execution_count": 26,
     "metadata": {},
     "output_type": "execute_result"
    }
   ],
   "source": [
    "a.size"
   ]
  },
  {
   "cell_type": "code",
   "execution_count": 27,
   "id": "a4f71db8-7159-4621-85a8-25c7d2e64078",
   "metadata": {},
   "outputs": [
    {
     "data": {
      "text/plain": [
       "(3, 3)"
      ]
     },
     "execution_count": 27,
     "metadata": {},
     "output_type": "execute_result"
    }
   ],
   "source": [
    "a = np.array([[10, 20, 30],\n",
    "             [40, 50, 60],\n",
    "             [70, 80, 90]])\n",
    "a.shape"
   ]
  },
  {
   "cell_type": "code",
   "execution_count": 28,
   "id": "da86db95-614a-4054-98fc-11d2c8d11e8e",
   "metadata": {},
   "outputs": [
    {
     "data": {
      "text/plain": [
       "9"
      ]
     },
     "execution_count": 28,
     "metadata": {},
     "output_type": "execute_result"
    }
   ],
   "source": [
    "a.size"
   ]
  },
  {
   "cell_type": "code",
   "execution_count": 29,
   "id": "bff349d2-7059-4d3b-9d6c-25bba2394fe5",
   "metadata": {},
   "outputs": [],
   "source": [
    "# make N-dimensional array\n",
    "a = np. array([10, 20])\n",
    "a = np.array([[10, 20],\n",
    "              [30, 40]])\n",
    "a = np.array(\n",
    "    [\n",
    "        [[10], [20]],\n",
    "        [[30], [40]]\n",
    "    ])"
   ]
  },
  {
   "cell_type": "code",
   "execution_count": 30,
   "id": "e0b5965b-d398-47eb-adfb-363503d4ef08",
   "metadata": {},
   "outputs": [
    {
     "data": {
      "text/plain": [
       "(3, (2, 2, 1))"
      ]
     },
     "execution_count": 30,
     "metadata": {},
     "output_type": "execute_result"
    }
   ],
   "source": [
    "a.ndim, a.shape"
   ]
  },
  {
   "cell_type": "code",
   "execution_count": 31,
   "id": "6c21929a-143d-4eae-a020-02800fee39d6",
   "metadata": {},
   "outputs": [
    {
     "data": {
      "text/plain": [
       "dtype('complex128')"
      ]
     },
     "execution_count": 31,
     "metadata": {},
     "output_type": "execute_result"
    }
   ],
   "source": [
    "# complex numbers\n",
    "a = np.array([10+10j, 20+20j])\n",
    "a.dtype"
   ]
  },
  {
   "cell_type": "code",
   "execution_count": 32,
   "id": "a796c45f-9f94-41b8-ac86-90f059de2cd6",
   "metadata": {},
   "outputs": [
    {
     "data": {
      "text/plain": [
       "dtype('complex128')"
      ]
     },
     "execution_count": 32,
     "metadata": {},
     "output_type": "execute_result"
    }
   ],
   "source": [
    "a = np.array([10, 20], 'complex128')\n",
    "a.dtype"
   ]
  },
  {
   "cell_type": "markdown",
   "id": "3a9e0e7b-f8e2-4b6d-b84a-8cc725002226",
   "metadata": {},
   "source": [
    "▶ Matrix vs Array"
   ]
  },
  {
   "cell_type": "code",
   "execution_count": 33,
   "id": "b1aee698-eae5-4008-8be9-7cc8eb93226f",
   "metadata": {},
   "outputs": [],
   "source": [
    "a = np.array([10, 20])\n",
    "b = np.matrix([10, 20])"
   ]
  },
  {
   "cell_type": "code",
   "execution_count": 34,
   "id": "58be000a-c352-4b62-943f-ee65ac0639f9",
   "metadata": {},
   "outputs": [
    {
     "data": {
      "text/plain": [
       "array([10, 20])"
      ]
     },
     "execution_count": 34,
     "metadata": {},
     "output_type": "execute_result"
    }
   ],
   "source": [
    "a"
   ]
  },
  {
   "cell_type": "code",
   "execution_count": 35,
   "id": "4c587e16-6efc-4aa6-af1e-a069044133eb",
   "metadata": {},
   "outputs": [
    {
     "data": {
      "text/plain": [
       "matrix([[10, 20]])"
      ]
     },
     "execution_count": 35,
     "metadata": {},
     "output_type": "execute_result"
    }
   ],
   "source": [
    "b"
   ]
  },
  {
   "cell_type": "code",
   "execution_count": 36,
   "id": "4c23a552-ef51-4aca-991f-cba40c5bab0d",
   "metadata": {},
   "outputs": [
    {
     "data": {
      "text/plain": [
       "(1, (2,))"
      ]
     },
     "execution_count": 36,
     "metadata": {},
     "output_type": "execute_result"
    }
   ],
   "source": [
    "a.ndim, a.shape"
   ]
  },
  {
   "cell_type": "code",
   "execution_count": 37,
   "id": "fc690cff-37d3-4fb3-8d97-d6589c603514",
   "metadata": {},
   "outputs": [
    {
     "data": {
      "text/plain": [
       "(2, (1, 2))"
      ]
     },
     "execution_count": 37,
     "metadata": {},
     "output_type": "execute_result"
    }
   ],
   "source": [
    "b.ndim, b.shape # matrix 는 2차원이다."
   ]
  },
  {
   "cell_type": "code",
   "execution_count": 38,
   "id": "e9d4e131-c60e-4aee-b773-b5f0fcad02a0",
   "metadata": {},
   "outputs": [
    {
     "ename": "ValueError",
     "evalue": "matrix must be 2-dimensional",
     "output_type": "error",
     "traceback": [
      "\u001b[1;31m---------------------------------------------------------------------------\u001b[0m",
      "\u001b[1;31mValueError\u001b[0m                                Traceback (most recent call last)",
      "Cell \u001b[1;32mIn[38], line 1\u001b[0m\n\u001b[1;32m----> 1\u001b[0m b \u001b[38;5;241m=\u001b[39m \u001b[43mnp\u001b[49m\u001b[38;5;241;43m.\u001b[39;49m\u001b[43mmatrix\u001b[49m\u001b[43m(\u001b[49m\u001b[43m[\u001b[49m\u001b[43m[\u001b[49m\u001b[43m[\u001b[49m\u001b[38;5;241;43m10\u001b[39;49m\u001b[43m]\u001b[49m\u001b[43m]\u001b[49m\u001b[43m]\u001b[49m\u001b[43m)\u001b[49m \u001b[38;5;66;03m# matrix 는 반드시 2차원이어야 한다며 에러가 발생한다.\u001b[39;00m\n",
      "File \u001b[1;32m~\\anaconda3\\envs\\notebook\\Lib\\site-packages\\numpy\\matrixlib\\defmatrix.py:150\u001b[0m, in \u001b[0;36mmatrix.__new__\u001b[1;34m(subtype, data, dtype, copy)\u001b[0m\n\u001b[0;32m    148\u001b[0m shape \u001b[38;5;241m=\u001b[39m arr\u001b[38;5;241m.\u001b[39mshape\n\u001b[0;32m    149\u001b[0m \u001b[38;5;28;01mif\u001b[39;00m (ndim \u001b[38;5;241m>\u001b[39m \u001b[38;5;241m2\u001b[39m):\n\u001b[1;32m--> 150\u001b[0m     \u001b[38;5;28;01mraise\u001b[39;00m \u001b[38;5;167;01mValueError\u001b[39;00m(\u001b[38;5;124m\"\u001b[39m\u001b[38;5;124mmatrix must be 2-dimensional\u001b[39m\u001b[38;5;124m\"\u001b[39m)\n\u001b[0;32m    151\u001b[0m \u001b[38;5;28;01melif\u001b[39;00m ndim \u001b[38;5;241m==\u001b[39m \u001b[38;5;241m0\u001b[39m:\n\u001b[0;32m    152\u001b[0m     shape \u001b[38;5;241m=\u001b[39m (\u001b[38;5;241m1\u001b[39m, \u001b[38;5;241m1\u001b[39m)\n",
      "\u001b[1;31mValueError\u001b[0m: matrix must be 2-dimensional"
     ]
    }
   ],
   "source": [
    "b = np.matrix([[[10]]]) # matrix 는 반드시 2차원이어야 한다며 에러가 발생한다."
   ]
  },
  {
   "cell_type": "markdown",
   "id": "e0c09ff8-e5a9-4c5a-9a61-e34fe075af85",
   "metadata": {},
   "source": [
    "▶ Array 에 값 추가/삭제"
   ]
  },
  {
   "cell_type": "code",
   "execution_count": 39,
   "id": "5a4d6a00-7683-48c9-b808-62380f4df986",
   "metadata": {},
   "outputs": [
    {
     "data": {
      "text/plain": [
       "array([ 5, 10, 20, 30])"
      ]
     },
     "execution_count": 39,
     "metadata": {},
     "output_type": "execute_result"
    }
   ],
   "source": [
    "# insert\n",
    "a = np.array([10, 20, 30])\n",
    "a = np.insert(a, 0, 5)\n",
    "a # a[0] 에 5 를 추가"
   ]
  },
  {
   "cell_type": "code",
   "execution_count": 40,
   "id": "0c0e39c0-f6fa-4b9e-ae5d-d1f127ff1e44",
   "metadata": {},
   "outputs": [
    {
     "data": {
      "text/plain": [
       "array([10, 20, 30])"
      ]
     },
     "execution_count": 40,
     "metadata": {},
     "output_type": "execute_result"
    }
   ],
   "source": [
    "# delete\n",
    "a = np.delete(a, 0)\n",
    "a # a[0] 을 삭제"
   ]
  },
  {
   "cell_type": "markdown",
   "id": "35b7c38b-64aa-494b-a76f-c39ba02b3dbb",
   "metadata": {},
   "source": [
    "▶ Array 생성 함수들"
   ]
  },
  {
   "cell_type": "code",
   "execution_count": 41,
   "id": "c99ddf8c-2514-4664-8c0e-bf4bfd3f6d26",
   "metadata": {},
   "outputs": [
    {
     "data": {
      "text/plain": [
       "array([1, 2, 3])"
      ]
     },
     "execution_count": 41,
     "metadata": {},
     "output_type": "execute_result"
    }
   ],
   "source": [
    "# array()\n",
    "a = np.array([1, 2, 3])\n",
    "a"
   ]
  },
  {
   "cell_type": "code",
   "execution_count": 42,
   "id": "1df2c1cf-2084-4597-8170-51d582fd4124",
   "metadata": {},
   "outputs": [
    {
     "data": {
      "text/plain": [
       "array([0, 1, 2])"
      ]
     },
     "execution_count": 42,
     "metadata": {},
     "output_type": "execute_result"
    }
   ],
   "source": [
    "# arange()\n",
    "a = np.arange(3)\n",
    "a"
   ]
  },
  {
   "cell_type": "code",
   "execution_count": 43,
   "id": "784124bf-ddab-4111-a43f-433e631a498b",
   "metadata": {},
   "outputs": [
    {
     "data": {
      "text/plain": [
       "array([[0., 0., 0.],\n",
       "       [0., 0., 0.]])"
      ]
     },
     "execution_count": 43,
     "metadata": {},
     "output_type": "execute_result"
    }
   ],
   "source": [
    "# zeros()\n",
    "a = np.zeros((2, 3))\n",
    "a"
   ]
  },
  {
   "cell_type": "code",
   "execution_count": 44,
   "id": "e1157fc5-42ca-432a-8dc0-d9049a81718e",
   "metadata": {},
   "outputs": [
    {
     "data": {
      "text/plain": [
       "array([[1., 1., 1.],\n",
       "       [1., 1., 1.]])"
      ]
     },
     "execution_count": 44,
     "metadata": {},
     "output_type": "execute_result"
    }
   ],
   "source": [
    "# ones()\n",
    "a = np.ones((2, 3))\n",
    "a"
   ]
  },
  {
   "cell_type": "code",
   "execution_count": 45,
   "id": "d0cb4886-22b1-463a-8b8d-e4021e2eaa80",
   "metadata": {},
   "outputs": [
    {
     "data": {
      "text/plain": [
       "array([0., 1., 2., 3., 4., 5.])"
      ]
     },
     "execution_count": 45,
     "metadata": {},
     "output_type": "execute_result"
    }
   ],
   "source": [
    "# linspace()\n",
    "a = np.linspace(0, 5, 6) # 0 부터 5 까지를 6개로 나누어준다.\n",
    "a"
   ]
  },
  {
   "cell_type": "code",
   "execution_count": 46,
   "id": "c186b9c9-4de6-4a8a-87e9-7fdcbc1cda01",
   "metadata": {},
   "outputs": [
    {
     "data": {
      "text/plain": [
       "array([1.00000000e+00, 3.16227766e+00, 1.00000000e+01, 3.16227766e+01,\n",
       "       1.00000000e+02, 3.16227766e+02, 1.00000000e+03, 3.16227766e+03,\n",
       "       1.00000000e+04, 3.16227766e+04, 1.00000000e+05])"
      ]
     },
     "execution_count": 46,
     "metadata": {},
     "output_type": "execute_result"
    }
   ],
   "source": [
    "# logspace()\n",
    "a = np.logspace(0, 5, 11) # 0 부터 11 까지를 11개로 나누어주되 log scale 로 나누어준다.\n",
    "a"
   ]
  },
  {
   "cell_type": "markdown",
   "id": "04b5af94-6906-4be2-8b64-8bbb2d5c0120",
   "metadata": {},
   "source": [
    "▶ 수학 & 논리 연산"
   ]
  },
  {
   "cell_type": "code",
   "execution_count": 47,
   "id": "4ec2fa8f-583b-4881-be29-fb33817740e2",
   "metadata": {},
   "outputs": [],
   "source": [
    "# Basic Operations\n",
    "a = np.array([10, 20, 30])\n",
    "b = np.array([1, 2, 3])"
   ]
  },
  {
   "cell_type": "code",
   "execution_count": 48,
   "id": "942c22d5-e826-4830-b3e4-37be3f154671",
   "metadata": {},
   "outputs": [
    {
     "data": {
      "text/plain": [
       "array([11, 22, 33])"
      ]
     },
     "execution_count": 48,
     "metadata": {},
     "output_type": "execute_result"
    }
   ],
   "source": [
    "c = a +b\n",
    "c"
   ]
  },
  {
   "cell_type": "code",
   "execution_count": 49,
   "id": "1a42fcae-723a-423e-9126-d61413925cb2",
   "metadata": {},
   "outputs": [
    {
     "data": {
      "text/plain": [
       "array([ 9, 18, 27])"
      ]
     },
     "execution_count": 49,
     "metadata": {},
     "output_type": "execute_result"
    }
   ],
   "source": [
    "c = a - b\n",
    "c"
   ]
  },
  {
   "cell_type": "code",
   "execution_count": 50,
   "id": "e6ca2d5a-1327-45f4-bae2-5d487bf8c2cf",
   "metadata": {},
   "outputs": [
    {
     "data": {
      "text/plain": [
       "array([1, 4, 9])"
      ]
     },
     "execution_count": 50,
     "metadata": {},
     "output_type": "execute_result"
    }
   ],
   "source": [
    "c = b ** 2\n",
    "c"
   ]
  },
  {
   "cell_type": "code",
   "execution_count": 51,
   "id": "12951a73-49df-4629-bdfd-3e2b1286a62c",
   "metadata": {},
   "outputs": [
    {
     "data": {
      "text/plain": [
       "array([20, 40, 60])"
      ]
     },
     "execution_count": 51,
     "metadata": {},
     "output_type": "execute_result"
    }
   ],
   "source": [
    "c = 2 * a\n",
    "c"
   ]
  },
  {
   "cell_type": "code",
   "execution_count": 52,
   "id": "d7d37081-9276-4a78-89e9-37849b5e3f26",
   "metadata": {},
   "outputs": [
    {
     "data": {
      "text/plain": [
       "array([ True,  True,  True])"
      ]
     },
     "execution_count": 52,
     "metadata": {},
     "output_type": "execute_result"
    }
   ],
   "source": [
    "idx = b < 20\n",
    "idx"
   ]
  },
  {
   "cell_type": "code",
   "execution_count": 53,
   "id": "91ee9f79-e4a3-4282-9d14-a71f356ae89e",
   "metadata": {},
   "outputs": [
    {
     "data": {
      "text/plain": [
       "array([ True, False, False])"
      ]
     },
     "execution_count": 53,
     "metadata": {},
     "output_type": "execute_result"
    }
   ],
   "source": [
    "idx = a < 20\n",
    "idx"
   ]
  },
  {
   "cell_type": "code",
   "execution_count": 54,
   "id": "bfc890e0-230c-4850-afcd-921a6c2532ec",
   "metadata": {},
   "outputs": [
    {
     "data": {
      "text/plain": [
       "array([11, 21, 31])"
      ]
     },
     "execution_count": 54,
     "metadata": {},
     "output_type": "execute_result"
    }
   ],
   "source": [
    "a = a + 1\n",
    "a"
   ]
  },
  {
   "cell_type": "code",
   "execution_count": 55,
   "id": "d8c42a0b-2faf-4803-be20-f28f13198605",
   "metadata": {},
   "outputs": [
    {
     "data": {
      "text/plain": [
       "array([12, 22, 32])"
      ]
     },
     "execution_count": 55,
     "metadata": {},
     "output_type": "execute_result"
    }
   ],
   "source": [
    "a += 1\n",
    "a"
   ]
  },
  {
   "cell_type": "code",
   "execution_count": 56,
   "id": "4468b85d-d5d2-4788-a46b-7cdfea8d7370",
   "metadata": {},
   "outputs": [
    {
     "data": {
      "text/plain": [
       "array([24, 44, 64])"
      ]
     },
     "execution_count": 56,
     "metadata": {},
     "output_type": "execute_result"
    }
   ],
   "source": [
    "a *= 2\n",
    "a"
   ]
  },
  {
   "cell_type": "code",
   "execution_count": 57,
   "id": "c3b53169-c192-41d3-9bb4-ff383edc336b",
   "metadata": {},
   "outputs": [],
   "source": [
    "a = np.array([10, 20, 30])\n",
    "b = np.array([1., 2., 3.])"
   ]
  },
  {
   "cell_type": "code",
   "execution_count": 58,
   "id": "4840a647-f0d2-447e-8415-5cd9768a9807",
   "metadata": {},
   "outputs": [
    {
     "data": {
      "text/plain": [
       "array([11., 22., 33.])"
      ]
     },
     "execution_count": 58,
     "metadata": {},
     "output_type": "execute_result"
    }
   ],
   "source": [
    "a + b"
   ]
  },
  {
   "cell_type": "code",
   "execution_count": 59,
   "id": "daf9f74e-f60e-4c65-9694-a48403665993",
   "metadata": {},
   "outputs": [
    {
     "ename": "UFuncTypeError",
     "evalue": "Cannot cast ufunc 'add' output from dtype('float64') to dtype('int32') with casting rule 'same_kind'",
     "output_type": "error",
     "traceback": [
      "\u001b[1;31m---------------------------------------------------------------------------\u001b[0m",
      "\u001b[1;31mUFuncTypeError\u001b[0m                            Traceback (most recent call last)",
      "Cell \u001b[1;32mIn[59], line 1\u001b[0m\n\u001b[1;32m----> 1\u001b[0m \u001b[43ma\u001b[49m\u001b[43m \u001b[49m\u001b[38;5;241;43m+\u001b[39;49m\u001b[38;5;241;43m=\u001b[39;49m\u001b[43m \u001b[49m\u001b[43mb\u001b[49m\n\u001b[0;32m      2\u001b[0m \u001b[38;5;66;03m# 위 연산은 dtype 을 동일하게 해줘야 가능하다.\u001b[39;00m\n",
      "\u001b[1;31mUFuncTypeError\u001b[0m: Cannot cast ufunc 'add' output from dtype('float64') to dtype('int32') with casting rule 'same_kind'"
     ]
    }
   ],
   "source": [
    "a += b\n",
    "# 위 연산은 dtype 을 동일하게 해줘야 가능하다."
   ]
  },
  {
   "cell_type": "markdown",
   "id": "8e50145a-f436-467d-b7ad-405a998a90e3",
   "metadata": {},
   "source": [
    "▶ Numpy 함수들 사용 수학 연산"
   ]
  },
  {
   "cell_type": "code",
   "execution_count": 60,
   "id": "4cefdf15-80db-40cb-abf6-fb37a31a2a57",
   "metadata": {},
   "outputs": [],
   "source": [
    "a = np.array([10, 20, 30])\n",
    "b = np.array([1, 2, 3])"
   ]
  },
  {
   "cell_type": "code",
   "execution_count": 61,
   "id": "2fdc29d3-38bd-4a9e-9d21-1d8d6abec1d0",
   "metadata": {},
   "outputs": [
    {
     "data": {
      "text/plain": [
       "array([11, 22, 33])"
      ]
     },
     "execution_count": 61,
     "metadata": {},
     "output_type": "execute_result"
    }
   ],
   "source": [
    "# add()\n",
    "np.add(a, b)"
   ]
  },
  {
   "cell_type": "code",
   "execution_count": 62,
   "id": "c78372ca-84d3-414d-9a19-fd0a1d2fb6c3",
   "metadata": {},
   "outputs": [
    {
     "data": {
      "text/plain": [
       "array([ 9, 18, 27])"
      ]
     },
     "execution_count": 62,
     "metadata": {},
     "output_type": "execute_result"
    }
   ],
   "source": [
    "# subtract()\n",
    "np.subtract(a, b)"
   ]
  },
  {
   "cell_type": "code",
   "execution_count": 63,
   "id": "f9b37fca-2bf4-4680-9edf-010ce86b5480",
   "metadata": {},
   "outputs": [
    {
     "data": {
      "text/plain": [
       "array([10, 40, 90])"
      ]
     },
     "execution_count": 63,
     "metadata": {},
     "output_type": "execute_result"
    }
   ],
   "source": [
    "# multiply()\n",
    "np.multiply(a, b)"
   ]
  },
  {
   "cell_type": "code",
   "execution_count": 64,
   "id": "c641a148-d98f-431c-83b5-38af633b916b",
   "metadata": {},
   "outputs": [
    {
     "data": {
      "text/plain": [
       "array([10., 10., 10.])"
      ]
     },
     "execution_count": 64,
     "metadata": {},
     "output_type": "execute_result"
    }
   ],
   "source": [
    "# divide()\n",
    "np.divide(a, b)"
   ]
  },
  {
   "cell_type": "code",
   "execution_count": 65,
   "id": "2d416e1e-18ee-4e88-a145-a95f5b1a2dfd",
   "metadata": {},
   "outputs": [
    {
     "data": {
      "text/plain": [
       "(array([10, 10, 10]), array([0, 0, 0]))"
      ]
     },
     "execution_count": 65,
     "metadata": {},
     "output_type": "execute_result"
    }
   ],
   "source": [
    "# divmod() : 몫과 나머지\n",
    "np.divmod(a, b)"
   ]
  },
  {
   "cell_type": "code",
   "execution_count": 66,
   "id": "c7601954-d06d-4df1-bec8-f0f9bcac548d",
   "metadata": {},
   "outputs": [
    {
     "data": {
      "text/plain": [
       "array([ 2.71828183,  7.3890561 , 20.08553692])"
      ]
     },
     "execution_count": 66,
     "metadata": {},
     "output_type": "execute_result"
    }
   ],
   "source": [
    "# exp() : 자연상수 e 의 n제곱값\n",
    "np.exp(b)"
   ]
  },
  {
   "cell_type": "code",
   "execution_count": 67,
   "id": "d0898ba2-9792-48d3-ad51-ef2d48f5e2ef",
   "metadata": {},
   "outputs": [
    {
     "data": {
      "text/plain": [
       "array([1.        , 1.41421356, 1.73205081])"
      ]
     },
     "execution_count": 67,
     "metadata": {},
     "output_type": "execute_result"
    }
   ],
   "source": [
    "# sqrt() : 제곱근값\n",
    "np.sqrt(b)"
   ]
  },
  {
   "cell_type": "markdown",
   "id": "aaad1b11-7f24-4738-ba1e-e93281a31596",
   "metadata": {},
   "source": [
    "▶ 수학 통계 함수들"
   ]
  },
  {
   "cell_type": "code",
   "execution_count": 68,
   "id": "a42f9086-44e9-4e59-8e01-6991c6083d76",
   "metadata": {},
   "outputs": [],
   "source": [
    "a = np.array([10, 20, 30])"
   ]
  },
  {
   "cell_type": "code",
   "execution_count": 69,
   "id": "836d58aa-b60a-44a7-a42d-8f04da7fd93a",
   "metadata": {},
   "outputs": [
    {
     "data": {
      "text/plain": [
       "20.0"
      ]
     },
     "execution_count": 69,
     "metadata": {},
     "output_type": "execute_result"
    }
   ],
   "source": [
    "# mean()\n",
    "np.mean(a)"
   ]
  },
  {
   "cell_type": "code",
   "execution_count": 70,
   "id": "76537e4e-c234-4587-9125-c1236c1c05bf",
   "metadata": {},
   "outputs": [
    {
     "data": {
      "text/plain": [
       "20.0"
      ]
     },
     "execution_count": 70,
     "metadata": {},
     "output_type": "execute_result"
    }
   ],
   "source": [
    "a.mean()"
   ]
  },
  {
   "cell_type": "code",
   "execution_count": 71,
   "id": "ef576673-b7c4-48b4-b345-5cb5a9bbe7c4",
   "metadata": {},
   "outputs": [
    {
     "data": {
      "text/plain": [
       "20.0"
      ]
     },
     "execution_count": 71,
     "metadata": {},
     "output_type": "execute_result"
    }
   ],
   "source": [
    "# average()\n",
    "np.average(a)"
   ]
  },
  {
   "cell_type": "code",
   "execution_count": 72,
   "id": "a5157ea9-dc7a-4e8e-b608-7a3cadbd6b5d",
   "metadata": {},
   "outputs": [
    {
     "data": {
      "text/plain": [
       "23.333333333333332"
      ]
     },
     "execution_count": 72,
     "metadata": {},
     "output_type": "execute_result"
    }
   ],
   "source": [
    "np.average(a, weights=[1, 0, 2]) # 가중치 적용 가능"
   ]
  },
  {
   "cell_type": "code",
   "execution_count": 73,
   "id": "f7fe446f-6704-4f0c-8f3e-47c4ed750e5d",
   "metadata": {},
   "outputs": [
    {
     "data": {
      "text/plain": [
       "20.0"
      ]
     },
     "execution_count": 73,
     "metadata": {},
     "output_type": "execute_result"
    }
   ],
   "source": [
    "# median()\n",
    "np.median(a)"
   ]
  },
  {
   "cell_type": "code",
   "execution_count": 74,
   "id": "c50b298f-181f-4c1f-97e1-3c709439752b",
   "metadata": {},
   "outputs": [
    {
     "data": {
      "text/plain": [
       "array([10, 30, 60])"
      ]
     },
     "execution_count": 74,
     "metadata": {},
     "output_type": "execute_result"
    }
   ],
   "source": [
    "# cumsum() : cumulative sum\n",
    "np.cumsum(a)"
   ]
  },
  {
   "cell_type": "code",
   "execution_count": 75,
   "id": "78451c07-2011-462f-b250-0d58fbccf815",
   "metadata": {},
   "outputs": [
    {
     "data": {
      "text/plain": [
       "array(100.)"
      ]
     },
     "execution_count": 75,
     "metadata": {},
     "output_type": "execute_result"
    }
   ],
   "source": [
    "# cov() : 공분산행렬 (covariance matrix)\n",
    "np.cov(a)"
   ]
  },
  {
   "cell_type": "code",
   "execution_count": 76,
   "id": "4e2a3e0a-36ee-4af6-9c2c-a4f6b0fab48e",
   "metadata": {},
   "outputs": [
    {
     "data": {
      "text/plain": [
       "8.16496580927726"
      ]
     },
     "execution_count": 76,
     "metadata": {},
     "output_type": "execute_result"
    }
   ],
   "source": [
    "# str()\n",
    "np.std(a)"
   ]
  },
  {
   "cell_type": "code",
   "execution_count": 77,
   "id": "4df5d1d7-5baf-4c4a-9ae7-55b67af0b27f",
   "metadata": {},
   "outputs": [
    {
     "data": {
      "text/plain": [
       "66.66666666666667"
      ]
     },
     "execution_count": 77,
     "metadata": {},
     "output_type": "execute_result"
    }
   ],
   "source": [
    "# var()\n",
    "np.var(a)"
   ]
  },
  {
   "cell_type": "markdown",
   "id": "bebc21a6-2eb0-4c00-b72f-db10abb391dc",
   "metadata": {},
   "source": [
    "▶ 유용한 수학 함수들"
   ]
  },
  {
   "cell_type": "code",
   "execution_count": 78,
   "id": "6bbf6bfa-c71a-4716-9342-405c5aa5deb2",
   "metadata": {},
   "outputs": [],
   "source": [
    "x = np.array([10, 20, 30])"
   ]
  },
  {
   "cell_type": "code",
   "execution_count": 79,
   "id": "544af15f-1e9e-4415-bf10-72baeba780b4",
   "metadata": {},
   "outputs": [
    {
     "data": {
      "text/plain": [
       "60"
      ]
     },
     "execution_count": 79,
     "metadata": {},
     "output_type": "execute_result"
    }
   ],
   "source": [
    "# sum()\n",
    "x.sum()"
   ]
  },
  {
   "cell_type": "code",
   "execution_count": 80,
   "id": "f6e08ce4-e20c-40f4-8e43-8546d077ad02",
   "metadata": {},
   "outputs": [],
   "source": [
    "x = np.array([10., 20., 30., 25., 15.])"
   ]
  },
  {
   "cell_type": "code",
   "execution_count": 81,
   "id": "7b13d53f-ac77-421d-9009-2df12537c00f",
   "metadata": {},
   "outputs": [
    {
     "data": {
      "text/plain": [
       "10.0"
      ]
     },
     "execution_count": 81,
     "metadata": {},
     "output_type": "execute_result"
    }
   ],
   "source": [
    "# min()\n",
    "x.min()"
   ]
  },
  {
   "cell_type": "code",
   "execution_count": 82,
   "id": "48b81429-cc91-4684-af0f-10d325cd5f0e",
   "metadata": {},
   "outputs": [
    {
     "data": {
      "text/plain": [
       "0"
      ]
     },
     "execution_count": 82,
     "metadata": {},
     "output_type": "execute_result"
    }
   ],
   "source": [
    "# argmin() : 최소값이 있는 위치 index\n",
    "x.argmin()"
   ]
  },
  {
   "cell_type": "code",
   "execution_count": 83,
   "id": "4849d2bc-522a-4066-b80b-8d02a85b270a",
   "metadata": {},
   "outputs": [],
   "source": [
    "x_min, x_min_idx = x.min(), x.argmin()"
   ]
  },
  {
   "cell_type": "code",
   "execution_count": 84,
   "id": "b4a58404-fcc3-4ac4-a386-f17fe7c13a2f",
   "metadata": {},
   "outputs": [],
   "source": [
    "# max(), argmax()\n",
    "x_max, x_max_idx = x.max(), x.argmax()"
   ]
  },
  {
   "cell_type": "code",
   "execution_count": 85,
   "id": "cf7bac98-6176-420f-b7a4-2cefb205df05",
   "metadata": {},
   "outputs": [
    {
     "data": {
      "text/plain": [
       "20.0"
      ]
     },
     "execution_count": 85,
     "metadata": {},
     "output_type": "execute_result"
    }
   ],
   "source": [
    "# ptp() : peak-to-peak, 최대값과 최소값의 차이\n",
    "x.ptp()"
   ]
  },
  {
   "cell_type": "code",
   "execution_count": 86,
   "id": "9affc035-dd45-4dc9-be73-f5c58be2fc79",
   "metadata": {},
   "outputs": [
    {
     "data": {
      "text/plain": [
       "array([10., 15., 20., 25., 30.])"
      ]
     },
     "execution_count": 86,
     "metadata": {},
     "output_type": "execute_result"
    }
   ],
   "source": [
    "# sort(), argsort()\n",
    "x.sort()\n",
    "x"
   ]
  },
  {
   "cell_type": "code",
   "execution_count": 87,
   "id": "377e8f23-0129-446f-8ff6-373b20e05e5f",
   "metadata": {},
   "outputs": [
    {
     "data": {
      "text/plain": [
       "array([0, 4, 1, 3, 2], dtype=int64)"
      ]
     },
     "execution_count": 87,
     "metadata": {},
     "output_type": "execute_result"
    }
   ],
   "source": [
    "x = np.array([10., 20., 30., 25., 15.])\n",
    "y = np.sort(x)\n",
    "idx = np.argsort(x) # sort 한 값이 본래 어느 index 에 있었는지\n",
    "idx"
   ]
  },
  {
   "cell_type": "code",
   "execution_count": 88,
   "id": "04aed326-9ca9-4b11-bd11-eb83ea1d65d4",
   "metadata": {},
   "outputs": [
    {
     "data": {
      "text/plain": [
       "(array([10., 20., 30., 25., 15.]), array([10., 15., 20., 25., 30.]))"
      ]
     },
     "execution_count": 88,
     "metadata": {},
     "output_type": "execute_result"
    }
   ],
   "source": [
    "x, y"
   ]
  },
  {
   "cell_type": "code",
   "execution_count": 89,
   "id": "1d56eabf-0600-4ba6-8dfa-bc5131493408",
   "metadata": {},
   "outputs": [
    {
     "data": {
      "text/plain": [
       "array([10., 15., 20., 25., 30.])"
      ]
     },
     "execution_count": 89,
     "metadata": {},
     "output_type": "execute_result"
    }
   ],
   "source": [
    "x[idx] # sort 된 값과 같다."
   ]
  },
  {
   "cell_type": "code",
   "execution_count": 90,
   "id": "27dda073-386d-4f9a-a57c-905a73e5938d",
   "metadata": {},
   "outputs": [
    {
     "data": {
      "text/plain": [
       "array([0, 2], dtype=int64)"
      ]
     },
     "execution_count": 90,
     "metadata": {},
     "output_type": "execute_result"
    }
   ],
   "source": [
    "# searchsorted() : 어느 index 위치에 들어가야 sorted 된 상태를 유지하는가\n",
    "a = np.array([10, 20, 30])\n",
    "b = np.array([-5, 25])\n",
    "np.searchsorted(a, b)"
   ]
  },
  {
   "cell_type": "markdown",
   "id": "8795019a-89e3-4912-99e4-852b93fcebed",
   "metadata": {},
   "source": [
    "▶ Array 변환"
   ]
  },
  {
   "cell_type": "code",
   "execution_count": 91,
   "id": "144ba31c-ebb0-416d-9189-9a85537ffe8c",
   "metadata": {},
   "outputs": [
    {
     "data": {
      "text/plain": [
       "array([1, 2, 3, 4, 5, 6])"
      ]
     },
     "execution_count": 91,
     "metadata": {},
     "output_type": "execute_result"
    }
   ],
   "source": [
    "d = np.arange(1, 7, 1)\n",
    "d"
   ]
  },
  {
   "cell_type": "code",
   "execution_count": 92,
   "id": "3b476ce1-c235-440f-83b2-2064c509848e",
   "metadata": {},
   "outputs": [
    {
     "data": {
      "text/plain": [
       "(6,)"
      ]
     },
     "execution_count": 92,
     "metadata": {},
     "output_type": "execute_result"
    }
   ],
   "source": [
    "d.shape"
   ]
  },
  {
   "cell_type": "code",
   "execution_count": 93,
   "id": "c5ae57ea-3153-49f2-b9e3-fa8140dd6b26",
   "metadata": {},
   "outputs": [
    {
     "data": {
      "text/plain": [
       "(array([1, 2, 3, 4, 5, 6]),\n",
       " array([[1, 2, 3],\n",
       "        [4, 5, 6]]))"
      ]
     },
     "execution_count": 93,
     "metadata": {},
     "output_type": "execute_result"
    }
   ],
   "source": [
    "# reshape()\n",
    "e = d.reshape(2, 3)\n",
    "d, e"
   ]
  },
  {
   "cell_type": "code",
   "execution_count": 94,
   "id": "98116e3f-321a-4c2e-aa60-ceabc91f0eb2",
   "metadata": {},
   "outputs": [
    {
     "data": {
      "text/plain": [
       "(2, 3)"
      ]
     },
     "execution_count": 94,
     "metadata": {},
     "output_type": "execute_result"
    }
   ],
   "source": [
    "e.shape"
   ]
  },
  {
   "cell_type": "code",
   "execution_count": 95,
   "id": "003313be-6783-4f89-af81-eba8067851d9",
   "metadata": {},
   "outputs": [
    {
     "data": {
      "text/plain": [
       "array([ 1.,  2.,  3.,  4.,  5.,  6.,  7.,  8.,  9., 10.])"
      ]
     },
     "execution_count": 95,
     "metadata": {},
     "output_type": "execute_result"
    }
   ],
   "source": [
    "f = np.linspace(1, 10, 10)\n",
    "f"
   ]
  },
  {
   "cell_type": "code",
   "execution_count": 96,
   "id": "ba694310-be24-466e-b00e-307714e189e6",
   "metadata": {},
   "outputs": [
    {
     "data": {
      "text/plain": [
       "array([[ 1.,  2.,  3.,  4.,  5.],\n",
       "       [ 6.,  7.,  8.,  9., 10.]])"
      ]
     },
     "execution_count": 96,
     "metadata": {},
     "output_type": "execute_result"
    }
   ],
   "source": [
    "g = np.linspace(1, 10, 10).reshape(2, 5)\n",
    "g"
   ]
  },
  {
   "cell_type": "code",
   "execution_count": 97,
   "id": "9808c430-75fe-4d74-8230-43b8dafb58b0",
   "metadata": {},
   "outputs": [
    {
     "data": {
      "text/plain": [
       "array([1, 1, 2, 2, 3, 3, 4, 4])"
      ]
     },
     "execution_count": 97,
     "metadata": {},
     "output_type": "execute_result"
    }
   ],
   "source": [
    "# repeat()\n",
    "a = np.array([[1, 2], [3, 4]])\n",
    "np.repeat(a, 2)"
   ]
  },
  {
   "cell_type": "code",
   "execution_count": 98,
   "id": "74fcdf29-0efb-4e16-a555-037c945468e4",
   "metadata": {},
   "outputs": [
    {
     "data": {
      "text/plain": [
       "array([[1, 2],\n",
       "       [1, 2],\n",
       "       [3, 4],\n",
       "       [3, 4]])"
      ]
     },
     "execution_count": 98,
     "metadata": {},
     "output_type": "execute_result"
    }
   ],
   "source": [
    "np.repeat(a, 2, axis=0)"
   ]
  },
  {
   "cell_type": "code",
   "execution_count": 99,
   "id": "5be72de5-4309-4ecb-9dd4-b48ebe67dd06",
   "metadata": {},
   "outputs": [
    {
     "data": {
      "text/plain": [
       "array([[1, 1, 2, 2],\n",
       "       [3, 3, 4, 4]])"
      ]
     },
     "execution_count": 99,
     "metadata": {},
     "output_type": "execute_result"
    }
   ],
   "source": [
    "np.repeat(a, 2, axis=1)"
   ]
  },
  {
   "cell_type": "code",
   "execution_count": 100,
   "id": "1967cc79-59e1-4847-a7c3-1f298b307782",
   "metadata": {},
   "outputs": [
    {
     "data": {
      "text/plain": [
       "array([[1, 2],\n",
       "       [3, 4],\n",
       "       [3, 4]])"
      ]
     },
     "execution_count": 100,
     "metadata": {},
     "output_type": "execute_result"
    }
   ],
   "source": [
    "np.repeat(a, [1, 2], axis=0) # [1, 2] 1번, [3, 4] 2번 반복"
   ]
  },
  {
   "cell_type": "code",
   "execution_count": 101,
   "id": "79f324e8-4604-4488-b61c-cd0e2184ea07",
   "metadata": {},
   "outputs": [
    {
     "data": {
      "text/plain": [
       "array([[1, 2],\n",
       "       [1, 2],\n",
       "       [1, 2],\n",
       "       [3, 4]])"
      ]
     },
     "execution_count": 101,
     "metadata": {},
     "output_type": "execute_result"
    }
   ],
   "source": [
    "np.repeat(a, [3, 1], axis=0) # [1, 2] 3번, [3, 4] 1번 반복"
   ]
  },
  {
   "cell_type": "code",
   "execution_count": 102,
   "id": "291cb069-9631-47fb-867d-60b0ba20d3b8",
   "metadata": {},
   "outputs": [
    {
     "data": {
      "text/plain": [
       "array([[1, 2, 2],\n",
       "       [3, 4, 4]])"
      ]
     },
     "execution_count": 102,
     "metadata": {},
     "output_type": "execute_result"
    }
   ],
   "source": [
    "np.repeat(a, [1, 2], axis=1) # 1, 3 이 1번, 2, 4 가 2번 반복"
   ]
  },
  {
   "cell_type": "code",
   "execution_count": 103,
   "id": "0db432cb-ec8c-4d78-a05d-e101fe14eb9a",
   "metadata": {},
   "outputs": [
    {
     "data": {
      "text/plain": [
       "array([[1, 1, 1, 2],\n",
       "       [3, 3, 3, 4]])"
      ]
     },
     "execution_count": 103,
     "metadata": {},
     "output_type": "execute_result"
    }
   ],
   "source": [
    "np.repeat(a, [3, 1], axis=1) # 1, 3 이 3번, 2, 4 가 1번 반복"
   ]
  },
  {
   "cell_type": "code",
   "execution_count": 104,
   "id": "d4332944-48dc-4c72-9ff3-89465d13b78b",
   "metadata": {},
   "outputs": [
    {
     "data": {
      "text/plain": [
       "((3, 1), (3, 1))"
      ]
     },
     "execution_count": 104,
     "metadata": {},
     "output_type": "execute_result"
    }
   ],
   "source": [
    "# concatenate()\n",
    "a = np.array([[1], [2], [3]])\n",
    "b = np.array([[4], [5], [6]])\n",
    "a.shape, b.shape"
   ]
  },
  {
   "cell_type": "code",
   "execution_count": 105,
   "id": "ab1322ef-937d-4fd1-b0c1-07e0a9e6073e",
   "metadata": {},
   "outputs": [
    {
     "data": {
      "text/plain": [
       "array([[1],\n",
       "       [2],\n",
       "       [3],\n",
       "       [4],\n",
       "       [5],\n",
       "       [6]])"
      ]
     },
     "execution_count": 105,
     "metadata": {},
     "output_type": "execute_result"
    }
   ],
   "source": [
    "np.concatenate((a, b), axis=0)"
   ]
  },
  {
   "cell_type": "code",
   "execution_count": 106,
   "id": "3ac8e7d4-a2ee-4b94-b259-13da10560c9b",
   "metadata": {},
   "outputs": [
    {
     "data": {
      "text/plain": [
       "array([[1, 4],\n",
       "       [2, 5],\n",
       "       [3, 6]])"
      ]
     },
     "execution_count": 106,
     "metadata": {},
     "output_type": "execute_result"
    }
   ],
   "source": [
    "np.concatenate((a, b), axis=1)"
   ]
  },
  {
   "cell_type": "code",
   "execution_count": 107,
   "id": "f36385f4-d337-4b36-975e-a03a10b7239c",
   "metadata": {},
   "outputs": [],
   "source": [
    "# vstack() : vertical (세로, 수직) / hstack() : horizontal (가로, 수평)\n",
    "a = np.array([10, 20, 30])\n",
    "b = np.array([40, 50, 60])"
   ]
  },
  {
   "cell_type": "code",
   "execution_count": 108,
   "id": "4b915e21-5645-4c99-8631-4de4703f3fbb",
   "metadata": {},
   "outputs": [
    {
     "data": {
      "text/plain": [
       "array([[10, 20, 30],\n",
       "       [40, 50, 60]])"
      ]
     },
     "execution_count": 108,
     "metadata": {},
     "output_type": "execute_result"
    }
   ],
   "source": [
    "np.vstack((a, b))"
   ]
  },
  {
   "cell_type": "code",
   "execution_count": 109,
   "id": "014bd2f2-929c-4a7b-a91f-6fe2df843005",
   "metadata": {},
   "outputs": [
    {
     "data": {
      "text/plain": [
       "array([10, 20, 30, 40, 50, 60])"
      ]
     },
     "execution_count": 109,
     "metadata": {},
     "output_type": "execute_result"
    }
   ],
   "source": [
    "np.hstack((a, b))"
   ]
  },
  {
   "cell_type": "code",
   "execution_count": 110,
   "id": "695323e1-4fde-49d7-9176-8ad528240c2c",
   "metadata": {},
   "outputs": [],
   "source": [
    "# vsplit(), hsplit()\n",
    "A = np.array([[10., 20., 30.],\n",
    "              [40., 50., 60.]])"
   ]
  },
  {
   "cell_type": "code",
   "execution_count": 111,
   "id": "b9417685-74c1-4544-bfef-e4d32cb3c6be",
   "metadata": {},
   "outputs": [
    {
     "data": {
      "text/plain": [
       "[array([[10.],\n",
       "        [40.]]),\n",
       " array([[20.],\n",
       "        [50.]]),\n",
       " array([[30.],\n",
       "        [60.]])]"
      ]
     },
     "execution_count": 111,
     "metadata": {},
     "output_type": "execute_result"
    }
   ],
   "source": [
    "np.hsplit(A, 3)"
   ]
  },
  {
   "cell_type": "code",
   "execution_count": 112,
   "id": "577887da-75c0-4128-934b-fdd7f07df026",
   "metadata": {},
   "outputs": [
    {
     "data": {
      "text/plain": [
       "[array([[10., 20., 30.]]), array([[40., 50., 60.]])]"
      ]
     },
     "execution_count": 112,
     "metadata": {},
     "output_type": "execute_result"
    }
   ],
   "source": [
    "np.vsplit(A, 2)"
   ]
  },
  {
   "cell_type": "code",
   "execution_count": 113,
   "id": "c62853f8-b41d-431b-9541-4902aade93c2",
   "metadata": {},
   "outputs": [
    {
     "data": {
      "text/plain": [
       "array([[10, 40],\n",
       "       [20, 50],\n",
       "       [30, 60]])"
      ]
     },
     "execution_count": 113,
     "metadata": {},
     "output_type": "execute_result"
    }
   ],
   "source": [
    "# transpose() : 가로 세로 바꿔주기\n",
    "A = np.array([[10, 20, 30],\n",
    "              [40, 50, 60]])\n",
    "A.transpose()"
   ]
  },
  {
   "cell_type": "code",
   "execution_count": 114,
   "id": "dba6e5b9-aa24-4795-89a1-e80b2a113a12",
   "metadata": {},
   "outputs": [
    {
     "data": {
      "text/plain": [
       "array([10, 20, 30, 40, 50, 60])"
      ]
     },
     "execution_count": 114,
     "metadata": {},
     "output_type": "execute_result"
    }
   ],
   "source": [
    "# ravel() : 2차원을 1차원으로 바꿔주기\n",
    "A.ravel()"
   ]
  },
  {
   "cell_type": "code",
   "execution_count": 115,
   "id": "dd210bd3-9428-4fb0-9242-734b057c7443",
   "metadata": {},
   "outputs": [
    {
     "data": {
      "text/plain": [
       "array([10, 20, 30, 40, 50, 60])"
      ]
     },
     "execution_count": 115,
     "metadata": {},
     "output_type": "execute_result"
    }
   ],
   "source": [
    "A.reshape(-1)"
   ]
  },
  {
   "cell_type": "code",
   "execution_count": 116,
   "id": "313c4ac0-4db6-4b76-a804-fad597df6f8a",
   "metadata": {},
   "outputs": [
    {
     "data": {
      "text/plain": [
       "array([10, 20, 30, 40, 50, 60])"
      ]
     },
     "execution_count": 116,
     "metadata": {},
     "output_type": "execute_result"
    }
   ],
   "source": [
    "A.ravel(order='C') # C-style: row-major"
   ]
  },
  {
   "cell_type": "code",
   "execution_count": 117,
   "id": "fa6570da-1676-48fc-84f9-0ade2d2abcc5",
   "metadata": {},
   "outputs": [
    {
     "data": {
      "text/plain": [
       "array([10, 40, 20, 50, 30, 60])"
      ]
     },
     "execution_count": 117,
     "metadata": {},
     "output_type": "execute_result"
    }
   ],
   "source": [
    "A.ravel(order='F') # Fortran-style : column-major"
   ]
  },
  {
   "cell_type": "code",
   "execution_count": 118,
   "id": "87b00f8a-7152-438e-bb52-e244e8f21b87",
   "metadata": {},
   "outputs": [
    {
     "data": {
      "text/plain": [
       "array([10, 20, 30, 40, 50, 60])"
      ]
     },
     "execution_count": 118,
     "metadata": {},
     "output_type": "execute_result"
    }
   ],
   "source": [
    "# flatten() # 한줄로 바꿔주기\n",
    "A.flatten()"
   ]
  },
  {
   "cell_type": "code",
   "execution_count": 119,
   "id": "3d38ffaf-dce3-4197-a67a-e891f3b7f827",
   "metadata": {},
   "outputs": [
    {
     "data": {
      "text/plain": [
       "(1, 3)"
      ]
     },
     "execution_count": 119,
     "metadata": {},
     "output_type": "execute_result"
    }
   ],
   "source": [
    "# squeeze() : 차원 압축하기\n",
    "A = np.array([[1, 2, 3]])\n",
    "A.shape"
   ]
  },
  {
   "cell_type": "code",
   "execution_count": 120,
   "id": "739d4d6d-1cc6-482a-b7d1-9b30c2b2c10d",
   "metadata": {},
   "outputs": [
    {
     "data": {
      "text/plain": [
       "array([1, 2, 3])"
      ]
     },
     "execution_count": 120,
     "metadata": {},
     "output_type": "execute_result"
    }
   ],
   "source": [
    "B = A.squeeze()\n",
    "B"
   ]
  },
  {
   "cell_type": "code",
   "execution_count": 121,
   "id": "82ae0710-a09b-49cf-8b1b-a3f13a3838df",
   "metadata": {},
   "outputs": [
    {
     "data": {
      "text/plain": [
       "(3,)"
      ]
     },
     "execution_count": 121,
     "metadata": {},
     "output_type": "execute_result"
    }
   ],
   "source": [
    "B.shape"
   ]
  },
  {
   "cell_type": "code",
   "execution_count": 122,
   "id": "a8f3e056-1cf0-42cd-940b-097771abc65d",
   "metadata": {},
   "outputs": [],
   "source": [
    "A = np.array([ [[1, 2]],\n",
    "               [[3, 4]],\n",
    "               [[4, 5]]  ])"
   ]
  },
  {
   "cell_type": "code",
   "execution_count": 123,
   "id": "95cf2099-8541-4d02-88a0-dbe95f18b342",
   "metadata": {},
   "outputs": [
    {
     "data": {
      "text/plain": [
       "(3, 1, 2)"
      ]
     },
     "execution_count": 123,
     "metadata": {},
     "output_type": "execute_result"
    }
   ],
   "source": [
    "A.shape"
   ]
  },
  {
   "cell_type": "code",
   "execution_count": 124,
   "id": "af1f5412-a245-4fe5-ba7f-38f03eecd275",
   "metadata": {},
   "outputs": [
    {
     "data": {
      "text/plain": [
       "array([[1, 2],\n",
       "       [3, 4],\n",
       "       [4, 5]])"
      ]
     },
     "execution_count": 124,
     "metadata": {},
     "output_type": "execute_result"
    }
   ],
   "source": [
    "B = A.squeeze()\n",
    "B"
   ]
  },
  {
   "cell_type": "code",
   "execution_count": 125,
   "id": "806d81bc-d17e-46ca-9f1d-f6037565d03f",
   "metadata": {},
   "outputs": [
    {
     "data": {
      "text/plain": [
       "(3, 2)"
      ]
     },
     "execution_count": 125,
     "metadata": {},
     "output_type": "execute_result"
    }
   ],
   "source": [
    "B.shape"
   ]
  },
  {
   "cell_type": "code",
   "execution_count": 126,
   "id": "9bc18784-9a58-45fb-aaca-101194b6aaa7",
   "metadata": {},
   "outputs": [],
   "source": [
    "# newaxis : 새 차원 추가\n",
    "# [1, 2, 3], [4, 5, 6] 을 [1, 4], [2, 5], [3, 6] 형태로 만드는 3가지 방법\n",
    "A1 = np.array([1, 2, 3])\n",
    "B1 = np.array([4, 5, 6])"
   ]
  },
  {
   "cell_type": "code",
   "execution_count": 127,
   "id": "53d99a3a-991d-42bf-a3fe-a5eb84a49454",
   "metadata": {},
   "outputs": [],
   "source": [
    "# 1번째 방법\n",
    "A2 = A1[:, np.newaxis]\n",
    "B2 = B1[:, np.newaxis]"
   ]
  },
  {
   "cell_type": "code",
   "execution_count": 128,
   "id": "131cc1c1-b7ca-4b0f-ae64-ed301a7fd430",
   "metadata": {},
   "outputs": [
    {
     "data": {
      "text/plain": [
       "(array([[1],\n",
       "        [2],\n",
       "        [3]]),\n",
       " (3,),\n",
       " (3, 1))"
      ]
     },
     "execution_count": 128,
     "metadata": {},
     "output_type": "execute_result"
    }
   ],
   "source": [
    "A2, A1.shape, A2.shape"
   ]
  },
  {
   "cell_type": "code",
   "execution_count": 129,
   "id": "e31a0464-8fc8-4fbd-857d-5c83e420ac1f",
   "metadata": {},
   "outputs": [
    {
     "data": {
      "text/plain": [
       "(array([[4],\n",
       "        [5],\n",
       "        [6]]),\n",
       " (3,),\n",
       " (3, 1))"
      ]
     },
     "execution_count": 129,
     "metadata": {},
     "output_type": "execute_result"
    }
   ],
   "source": [
    "B2, B1.shape, B2.shape"
   ]
  },
  {
   "cell_type": "code",
   "execution_count": 130,
   "id": "0cf2c72e-ccb1-4f3c-8e53-e973419fea79",
   "metadata": {},
   "outputs": [
    {
     "data": {
      "text/plain": [
       "array([[1, 4],\n",
       "       [2, 5],\n",
       "       [3, 6]])"
      ]
     },
     "execution_count": 130,
     "metadata": {},
     "output_type": "execute_result"
    }
   ],
   "source": [
    "np.concatenate((A2, B2), axis=1)"
   ]
  },
  {
   "cell_type": "code",
   "execution_count": 131,
   "id": "741cdc7a-042c-4e1f-a3c6-2aea8fb631ff",
   "metadata": {},
   "outputs": [
    {
     "data": {
      "text/plain": [
       "array([[1, 4],\n",
       "       [2, 5],\n",
       "       [3, 6]])"
      ]
     },
     "execution_count": 131,
     "metadata": {},
     "output_type": "execute_result"
    }
   ],
   "source": [
    "# 2번째 방법\n",
    "np.vstack((A1, B1)).transpose()"
   ]
  },
  {
   "cell_type": "code",
   "execution_count": 132,
   "id": "d2a432fe-102f-40d9-9ac2-6e884eb8885f",
   "metadata": {},
   "outputs": [
    {
     "data": {
      "text/plain": [
       "array([[1, 4],\n",
       "       [2, 5],\n",
       "       [3, 6]])"
      ]
     },
     "execution_count": 132,
     "metadata": {},
     "output_type": "execute_result"
    }
   ],
   "source": [
    "# 3번째 방법\n",
    "np.hstack((A1, B1)).reshape(2, 3).transpose()"
   ]
  }
 ],
 "metadata": {
  "kernelspec": {
   "display_name": "Python 3 (ipykernel)",
   "language": "python",
   "name": "python3"
  },
  "language_info": {
   "codemirror_mode": {
    "name": "ipython",
    "version": 3
   },
   "file_extension": ".py",
   "mimetype": "text/x-python",
   "name": "python",
   "nbconvert_exporter": "python",
   "pygments_lexer": "ipython3",
   "version": "3.12.4"
  }
 },
 "nbformat": 4,
 "nbformat_minor": 5
}
