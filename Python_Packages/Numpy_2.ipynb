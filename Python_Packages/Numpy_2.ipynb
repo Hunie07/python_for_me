{
 "cells": [
  {
   "cell_type": "markdown",
   "id": "e159c210-1a19-4dce-be60-1203734f3cbf",
   "metadata": {},
   "source": [
    "▶ Array View & Copy"
   ]
  },
  {
   "cell_type": "code",
   "execution_count": 1,
   "id": "6d625dae-511b-4f56-92fc-131cc9c33a00",
   "metadata": {},
   "outputs": [],
   "source": [
    "import numpy as np"
   ]
  },
  {
   "cell_type": "code",
   "execution_count": 2,
   "id": "83aca417-72ea-408e-b62f-01d2d27296d0",
   "metadata": {},
   "outputs": [],
   "source": [
    "A = np.array([10, 20, 30])\n",
    "B = A"
   ]
  },
  {
   "cell_type": "code",
   "execution_count": 3,
   "id": "7b58a58d-2751-4b7a-b6e9-2ed39fe7fa88",
   "metadata": {},
   "outputs": [
    {
     "data": {
      "text/plain": [
       "(array([99, 20, 30]), array([99, 20, 30]))"
      ]
     },
     "execution_count": 3,
     "metadata": {},
     "output_type": "execute_result"
    }
   ],
   "source": [
    "B[0] = 99\n",
    "A, B"
   ]
  },
  {
   "cell_type": "code",
   "execution_count": 4,
   "id": "4d814e5c-6211-41fa-b152-b7de06f19cf6",
   "metadata": {},
   "outputs": [
    {
     "data": {
      "text/plain": [
       "True"
      ]
     },
     "execution_count": 4,
     "metadata": {},
     "output_type": "execute_result"
    }
   ],
   "source": [
    "B is A"
   ]
  },
  {
   "cell_type": "code",
   "execution_count": 5,
   "id": "73e614b1-5d3f-4635-9324-ffadeb0e0fde",
   "metadata": {},
   "outputs": [
    {
     "data": {
      "text/plain": [
       "(1764849550512, 1764849550512)"
      ]
     },
     "execution_count": 5,
     "metadata": {},
     "output_type": "execute_result"
    }
   ],
   "source": [
    "id(A), id(B)"
   ]
  },
  {
   "cell_type": "code",
   "execution_count": 6,
   "id": "7fe8b4e1-7ec2-4a7d-80f7-37b4fa7cc42b",
   "metadata": {},
   "outputs": [],
   "source": [
    "# array B 를 따로 만들어준 것이 아니라 A 와 같은 곳에 할당되게 한 것"
   ]
  },
  {
   "cell_type": "code",
   "execution_count": 7,
   "id": "02765a0d-e37b-4da8-9f51-b8649e6d1865",
   "metadata": {},
   "outputs": [],
   "source": [
    "# shallow copy : 얕은 복사\n",
    "# view()\n",
    "A = np.array([10, 20, 30, 40])\n",
    "B = A.view()"
   ]
  },
  {
   "cell_type": "code",
   "execution_count": 8,
   "id": "669e6333-6236-4a17-bb25-5f298744c8f5",
   "metadata": {},
   "outputs": [
    {
     "data": {
      "text/plain": [
       "False"
      ]
     },
     "execution_count": 8,
     "metadata": {},
     "output_type": "execute_result"
    }
   ],
   "source": [
    "B is A"
   ]
  },
  {
   "cell_type": "code",
   "execution_count": 9,
   "id": "de20392a-8c25-473f-ab60-37d164123db7",
   "metadata": {},
   "outputs": [
    {
     "data": {
      "text/plain": [
       "(1765126302832, 1765126302352)"
      ]
     },
     "execution_count": 9,
     "metadata": {},
     "output_type": "execute_result"
    }
   ],
   "source": [
    "id(A), id(B)"
   ]
  },
  {
   "cell_type": "code",
   "execution_count": 10,
   "id": "4d665a07-3530-4393-9a7e-f338bc267693",
   "metadata": {},
   "outputs": [
    {
     "data": {
      "text/plain": [
       "(array([99, 20, 30, 40]), array([99, 20, 30, 40]))"
      ]
     },
     "execution_count": 10,
     "metadata": {},
     "output_type": "execute_result"
    }
   ],
   "source": [
    "# view() 를 사용하면 id 가 다르게 부여되어 이번엔 A와 B가 다르게 된다.\n",
    "B[0] = 99\n",
    "A, B"
   ]
  },
  {
   "cell_type": "code",
   "execution_count": 11,
   "id": "cac839d3-d888-4493-bf17-d9ce42e53440",
   "metadata": {},
   "outputs": [
    {
     "data": {
      "text/plain": [
       "(array([99,  7, 30, 40]),\n",
       " array([[99,  7],\n",
       "        [30, 40]]))"
      ]
     },
     "execution_count": 11,
     "metadata": {},
     "output_type": "execute_result"
    }
   ],
   "source": [
    "# 현재 1차원에서는 앞서 B = A 와 같이 업데이트된 결과로 보이지만 shape 을 다르게 해주면 다름을 알 수 있다.\n",
    "B.shape = (2, 2)\n",
    "B[0][1] = 7\n",
    "A, B"
   ]
  },
  {
   "cell_type": "code",
   "execution_count": 12,
   "id": "68dac7de-ad7c-41d3-b4c6-500f2e6f9be3",
   "metadata": {},
   "outputs": [],
   "source": [
    "# deep copy\n",
    "A = np.array([10, 20, 30, 40])\n",
    "B = A.copy()"
   ]
  },
  {
   "cell_type": "code",
   "execution_count": 13,
   "id": "3e61effd-df8f-4e6b-a5dd-3db2957756b2",
   "metadata": {},
   "outputs": [
    {
     "data": {
      "text/plain": [
       "False"
      ]
     },
     "execution_count": 13,
     "metadata": {},
     "output_type": "execute_result"
    }
   ],
   "source": [
    "B is A"
   ]
  },
  {
   "cell_type": "code",
   "execution_count": 14,
   "id": "1c69ab7a-576a-4312-8a26-17a10df97c4e",
   "metadata": {},
   "outputs": [
    {
     "data": {
      "text/plain": [
       "(array([10, 20, 30, 40]), array([99, 20, 30, 40]))"
      ]
     },
     "execution_count": 14,
     "metadata": {},
     "output_type": "execute_result"
    }
   ],
   "source": [
    "B[0] = 99\n",
    "A, B"
   ]
  },
  {
   "cell_type": "code",
   "execution_count": 15,
   "id": "56a876c6-64e6-457d-a94f-6b89b94d1b9e",
   "metadata": {},
   "outputs": [
    {
     "data": {
      "text/plain": [
       "False"
      ]
     },
     "execution_count": 15,
     "metadata": {},
     "output_type": "execute_result"
    }
   ],
   "source": [
    "B.base is A"
   ]
  },
  {
   "cell_type": "markdown",
   "id": "7adbbc26-990f-49a6-9c15-ef92ca8439a5",
   "metadata": {},
   "source": [
    "▶ 논리 연산 (Logical Operations)"
   ]
  },
  {
   "cell_type": "code",
   "execution_count": 16,
   "id": "0ce01c13-122c-4e97-aaa6-9b2e6667f0f2",
   "metadata": {},
   "outputs": [],
   "source": [
    "import numpy as np"
   ]
  },
  {
   "cell_type": "code",
   "execution_count": 17,
   "id": "2c0c58cb-3877-4c23-afbe-e9650fefdc67",
   "metadata": {},
   "outputs": [],
   "source": [
    "a = np.array([0, 1, 2])"
   ]
  },
  {
   "cell_type": "code",
   "execution_count": 18,
   "id": "29bdb9b5-d627-4a5b-a2de-e4e2e5d3ba06",
   "metadata": {},
   "outputs": [
    {
     "data": {
      "text/plain": [
       "False"
      ]
     },
     "execution_count": 18,
     "metadata": {},
     "output_type": "execute_result"
    }
   ],
   "source": [
    "# all() : 모든 값이 true 인가 ?\n",
    "a.all()"
   ]
  },
  {
   "cell_type": "code",
   "execution_count": 19,
   "id": "747a5036-4c60-4164-973a-685b2223d3d4",
   "metadata": {},
   "outputs": [
    {
     "data": {
      "text/plain": [
       "True"
      ]
     },
     "execution_count": 19,
     "metadata": {},
     "output_type": "execute_result"
    }
   ],
   "source": [
    "# any() : 하나라도 true 인가 ? \n",
    "a.any()"
   ]
  },
  {
   "cell_type": "code",
   "execution_count": 20,
   "id": "f5f16b92-58bf-41d0-827a-d0875788060b",
   "metadata": {},
   "outputs": [
    {
     "data": {
      "text/plain": [
       "(array([1, 2], dtype=int64),)"
      ]
     },
     "execution_count": 20,
     "metadata": {},
     "output_type": "execute_result"
    }
   ],
   "source": [
    "# nonzero() : zero 가 아닌 값을 알려준다.\n",
    "a.nonzero()"
   ]
  },
  {
   "cell_type": "code",
   "execution_count": 21,
   "id": "fa9c2833-8007-4de9-9fb6-ba51720f301c",
   "metadata": {},
   "outputs": [
    {
     "data": {
      "text/plain": [
       "(array([1, 2], dtype=int64),)"
      ]
     },
     "execution_count": 21,
     "metadata": {},
     "output_type": "execute_result"
    }
   ],
   "source": [
    "# where() : 해당 조건에 맞는 값이 있는 index 를 반환\n",
    "a = np.array([0, 1, 2])\n",
    "np.where(a > 0)"
   ]
  },
  {
   "cell_type": "code",
   "execution_count": 22,
   "id": "3fe5f026-c258-4a87-ba8f-53400af3ee80",
   "metadata": {},
   "outputs": [
    {
     "data": {
      "text/plain": [
       "(array([1, 2], dtype=int64),)"
      ]
     },
     "execution_count": 22,
     "metadata": {},
     "output_type": "execute_result"
    }
   ],
   "source": [
    "a= np.array([0, 10, 20])\n",
    "np.where(a > 0)"
   ]
  },
  {
   "cell_type": "code",
   "execution_count": 23,
   "id": "a39d5262-b35b-4cc2-a368-4588daf8af39",
   "metadata": {},
   "outputs": [],
   "source": [
    "# 해당 값을 반환하는게 아니라 index 를 반환하는 것임을 보여주는 위 예시"
   ]
  },
  {
   "cell_type": "code",
   "execution_count": 24,
   "id": "d8ec99c0-0474-4920-9ddc-1af64b69f31d",
   "metadata": {},
   "outputs": [
    {
     "data": {
      "text/plain": [
       "(array([], dtype=int64),)"
      ]
     },
     "execution_count": 24,
     "metadata": {},
     "output_type": "execute_result"
    }
   ],
   "source": [
    "np.where(a < 0)"
   ]
  },
  {
   "cell_type": "markdown",
   "id": "5512b7f4-9d0a-4c9d-a7ea-d855c166f8be",
   "metadata": {},
   "source": [
    "▶ Array Indexing & Slicing"
   ]
  },
  {
   "cell_type": "code",
   "execution_count": 25,
   "id": "379b38f1-46c6-4483-bcee-a544eee8598b",
   "metadata": {},
   "outputs": [],
   "source": [
    "# list indexing / Slicing 원리와 같다."
   ]
  },
  {
   "cell_type": "code",
   "execution_count": 26,
   "id": "b6829209-e3fb-4823-8f69-929727538c09",
   "metadata": {},
   "outputs": [],
   "source": [
    "# 1차원\n",
    "M1 = np.array([100., 101., 102., 103., 104.])"
   ]
  },
  {
   "cell_type": "code",
   "execution_count": 27,
   "id": "0503734e-69ed-4c7e-ad3a-156a4433be00",
   "metadata": {},
   "outputs": [
    {
     "data": {
      "text/plain": [
       "(100.0, 104.0)"
      ]
     },
     "execution_count": 27,
     "metadata": {},
     "output_type": "execute_result"
    }
   ],
   "source": [
    "M1[0], M1[-1]"
   ]
  },
  {
   "cell_type": "code",
   "execution_count": 28,
   "id": "a83ffe2e-04f0-44ae-b0e8-39056795ea3d",
   "metadata": {},
   "outputs": [
    {
     "data": {
      "text/plain": [
       "(array([100., 102.]), array([100., 101., 102.]))"
      ]
     },
     "execution_count": 28,
     "metadata": {},
     "output_type": "execute_result"
    }
   ],
   "source": [
    "M1[[0, 2]], M1[0:3:1]"
   ]
  },
  {
   "cell_type": "code",
   "execution_count": 29,
   "id": "1b905c82-1bf5-47bd-ab15-3b915d4227d3",
   "metadata": {},
   "outputs": [
    {
     "data": {
      "text/plain": [
       "array([100., 101., 102., 103., 104.])"
      ]
     },
     "execution_count": 29,
     "metadata": {},
     "output_type": "execute_result"
    }
   ],
   "source": [
    "M1[:]"
   ]
  },
  {
   "cell_type": "code",
   "execution_count": 30,
   "id": "bd379d8a-b4ca-494b-a45e-3caa95b535c1",
   "metadata": {},
   "outputs": [
    {
     "data": {
      "text/plain": [
       "array([100., 102., 104.])"
      ]
     },
     "execution_count": 30,
     "metadata": {},
     "output_type": "execute_result"
    }
   ],
   "source": [
    "M1[::2]"
   ]
  },
  {
   "cell_type": "code",
   "execution_count": 31,
   "id": "c23e6e32-1224-4080-82ff-d4cca1e27848",
   "metadata": {},
   "outputs": [
    {
     "data": {
      "text/plain": [
       "array([104., 103., 102., 101., 100.])"
      ]
     },
     "execution_count": 31,
     "metadata": {},
     "output_type": "execute_result"
    }
   ],
   "source": [
    "M1[::-1]"
   ]
  },
  {
   "cell_type": "code",
   "execution_count": 32,
   "id": "e066c14e-c2e0-4a67-813d-b60908943054",
   "metadata": {},
   "outputs": [],
   "source": [
    "# 2차원\n",
    "M2 = np.array([[100., 101., 102.],\n",
    "               [200., 201., 202.]])"
   ]
  },
  {
   "cell_type": "code",
   "execution_count": 33,
   "id": "c4b732bc-12c1-4566-9d37-3318603dea1c",
   "metadata": {},
   "outputs": [
    {
     "data": {
      "text/plain": [
       "array([100., 101., 102.])"
      ]
     },
     "execution_count": 33,
     "metadata": {},
     "output_type": "execute_result"
    }
   ],
   "source": [
    "M2[0]"
   ]
  },
  {
   "cell_type": "code",
   "execution_count": 34,
   "id": "4276fd49-9e62-4c9f-ab3b-50180e8838e6",
   "metadata": {},
   "outputs": [
    {
     "data": {
      "text/plain": [
       "(100.0, 100.0)"
      ]
     },
     "execution_count": 34,
     "metadata": {},
     "output_type": "execute_result"
    }
   ],
   "source": [
    "M2[0][0], M2[0, 0]"
   ]
  },
  {
   "cell_type": "code",
   "execution_count": 35,
   "id": "5775f572-cf0b-46b5-a372-ae557c5d2414",
   "metadata": {},
   "outputs": [
    {
     "data": {
      "text/plain": [
       "(202.0, 202.0)"
      ]
     },
     "execution_count": 35,
     "metadata": {},
     "output_type": "execute_result"
    }
   ],
   "source": [
    "M2[1][2], M2[1, 2]"
   ]
  },
  {
   "cell_type": "code",
   "execution_count": 36,
   "id": "3c21703b-715a-4b55-b861-240947903c93",
   "metadata": {},
   "outputs": [
    {
     "data": {
      "text/plain": [
       "array([100., 101., 102.])"
      ]
     },
     "execution_count": 36,
     "metadata": {},
     "output_type": "execute_result"
    }
   ],
   "source": [
    "M2[0, :]"
   ]
  },
  {
   "cell_type": "code",
   "execution_count": 37,
   "id": "f0acb993-dd7b-48ff-b076-4788a0581b2f",
   "metadata": {},
   "outputs": [
    {
     "data": {
      "text/plain": [
       "array([100., 200.])"
      ]
     },
     "execution_count": 37,
     "metadata": {},
     "output_type": "execute_result"
    }
   ],
   "source": [
    "M2[:, 0]"
   ]
  },
  {
   "cell_type": "code",
   "execution_count": 38,
   "id": "24a238e8-e36e-4a40-a2b4-0c6f752d409f",
   "metadata": {},
   "outputs": [
    {
     "data": {
      "text/plain": [
       "array([[102., 101., 100.],\n",
       "       [202., 201., 200.]])"
      ]
     },
     "execution_count": 38,
     "metadata": {},
     "output_type": "execute_result"
    }
   ],
   "source": [
    "M2[:, ::-1]"
   ]
  },
  {
   "cell_type": "code",
   "execution_count": 39,
   "id": "e747501d-8d74-40dc-b05f-6302b32a3e41",
   "metadata": {},
   "outputs": [],
   "source": [
    "# 3차원\n",
    "M3 = np.array(\n",
    "    [\n",
    "        [[100., 101., 102., 103.],\n",
    "         [104., 105., 106., 107.],\n",
    "         [108., 109., 110., 111.]],\n",
    "        [[200., 201., 202., 203.],\n",
    "         [204., 205., 206., 207.],\n",
    "         [208., 209., 210., 211.]]\n",
    "    ])"
   ]
  },
  {
   "cell_type": "code",
   "execution_count": 40,
   "id": "60a8ff0a-bc82-419b-bd91-1af0523eb2ca",
   "metadata": {},
   "outputs": [
    {
     "data": {
      "text/plain": [
       "array([[100., 101., 102., 103.],\n",
       "       [104., 105., 106., 107.],\n",
       "       [108., 109., 110., 111.]])"
      ]
     },
     "execution_count": 40,
     "metadata": {},
     "output_type": "execute_result"
    }
   ],
   "source": [
    "M3[0,:,:]"
   ]
  },
  {
   "cell_type": "code",
   "execution_count": 41,
   "id": "c48fc699-5102-413d-8268-25c7136b243d",
   "metadata": {},
   "outputs": [
    {
     "data": {
      "text/plain": [
       "array([30.])"
      ]
     },
     "execution_count": 41,
     "metadata": {},
     "output_type": "execute_result"
    }
   ],
   "source": [
    "# where() 를 활용\n",
    "x = np.array([10., 20., 30.])\n",
    "idx = np.where(x==30)\n",
    "x[idx]"
   ]
  },
  {
   "cell_type": "code",
   "execution_count": 42,
   "id": "e150ce4f-3d89-42f4-b704-284753cef5b5",
   "metadata": {},
   "outputs": [
    {
     "data": {
      "text/plain": [
       "array([30.])"
      ]
     },
     "execution_count": 42,
     "metadata": {},
     "output_type": "execute_result"
    }
   ],
   "source": [
    "idx = (x==30)\n",
    "x[idx]"
   ]
  },
  {
   "cell_type": "code",
   "execution_count": 43,
   "id": "de90410d-450d-4f11-a4fe-a955226e5126",
   "metadata": {},
   "outputs": [
    {
     "data": {
      "text/plain": [
       "array([30.])"
      ]
     },
     "execution_count": 43,
     "metadata": {},
     "output_type": "execute_result"
    }
   ],
   "source": [
    "# nonzero() 를 활용\n",
    "x[np.where(x==30)]"
   ]
  },
  {
   "cell_type": "code",
   "execution_count": 44,
   "id": "b41ebc6f-3fa1-4115-82e4-d97dddf4ceae",
   "metadata": {},
   "outputs": [
    {
     "data": {
      "text/plain": [
       "array([30.])"
      ]
     },
     "execution_count": 44,
     "metadata": {},
     "output_type": "execute_result"
    }
   ],
   "source": [
    "x[np.nonzero(x==30)] # x==30 인 곳은 참이라 nonzero 일테니 해당 값이 반환된다."
   ]
  },
  {
   "cell_type": "code",
   "execution_count": 45,
   "id": "634cce87-ffed-41f9-b389-275f8b39247a",
   "metadata": {},
   "outputs": [
    {
     "data": {
      "text/plain": [
       "array([[0, 0, 0],\n",
       "       [0, 0, 0],\n",
       "       [0, 0, 0]])"
      ]
     },
     "execution_count": 45,
     "metadata": {},
     "output_type": "execute_result"
    }
   ],
   "source": [
    "# image processing\n",
    "# image 검은색으로 만들기\n",
    "IMAGE = np.array([[255, 0, 255],\n",
    "                  [255, 0, 255],\n",
    "                  [255, 0, 255]])\n",
    "idx = np.where(IMAGE==255)\n",
    "IMAGE[idx] = 0\n",
    "IMAGE"
   ]
  },
  {
   "cell_type": "markdown",
   "id": "9927871a-7273-427f-a491-59efbb29a89a",
   "metadata": {},
   "source": [
    "▶ 선형대수 계산"
   ]
  },
  {
   "cell_type": "code",
   "execution_count": 46,
   "id": "2fea35ee-e971-47ab-8aa4-97e6a2dfb235",
   "metadata": {},
   "outputs": [],
   "source": [
    "M = np.array([[10, 20],\n",
    "              [30, 40]])\n",
    "N = np.array([[1, 2],\n",
    "              [3, 4]])"
   ]
  },
  {
   "cell_type": "code",
   "execution_count": 47,
   "id": "87202531-252d-4c67-9f4e-ced083ea3c07",
   "metadata": {},
   "outputs": [
    {
     "data": {
      "text/plain": [
       "array([[ 10,  40],\n",
       "       [ 90, 160]])"
      ]
     },
     "execution_count": 47,
     "metadata": {},
     "output_type": "execute_result"
    }
   ],
   "source": [
    "# * : 같은 자리의 원소끼리 곱셈\n",
    "M * N"
   ]
  },
  {
   "cell_type": "code",
   "execution_count": 48,
   "id": "bf21250f-3fc0-44af-8c89-3e57b0a25249",
   "metadata": {},
   "outputs": [
    {
     "data": {
      "text/plain": [
       "array([[ 70, 100],\n",
       "       [150, 220]])"
      ]
     },
     "execution_count": 48,
     "metadata": {},
     "output_type": "execute_result"
    }
   ],
   "source": [
    "# @ : 행렬의 곱셈 연산\n",
    "M @ N"
   ]
  },
  {
   "cell_type": "code",
   "execution_count": 49,
   "id": "30f07deb-e230-4d80-b316-4ee39670e863",
   "metadata": {},
   "outputs": [
    {
     "data": {
      "text/plain": [
       "array([[ 70, 100],\n",
       "       [150, 220]])"
      ]
     },
     "execution_count": 49,
     "metadata": {},
     "output_type": "execute_result"
    }
   ],
   "source": [
    "# dot() : 행렬의 곱셈 연산\n",
    "M.dot(N)"
   ]
  },
  {
   "cell_type": "code",
   "execution_count": 50,
   "id": "618a10ef-2ed8-4391-a26e-2f6a4146fef6",
   "metadata": {},
   "outputs": [
    {
     "data": {
      "text/plain": [
       "3.0"
      ]
     },
     "execution_count": 50,
     "metadata": {},
     "output_type": "execute_result"
    }
   ],
   "source": [
    "# trace() : 대각선 방향의 원소들의 합을 반환\n",
    "a = np.zeros((3, 3))\n",
    "b = np.ones((3, 3))\n",
    "np.trace(b)"
   ]
  },
  {
   "cell_type": "code",
   "execution_count": 51,
   "id": "06625466-a2fa-4edd-a4cf-1002750fb6b7",
   "metadata": {},
   "outputs": [
    {
     "data": {
      "text/plain": [
       "array([[1.],\n",
       "       [3.]])"
      ]
     },
     "execution_count": 51,
     "metadata": {},
     "output_type": "execute_result"
    }
   ],
   "source": [
    "# linalg.inv() : 역행렬 구하기\n",
    "# M@x = y\n",
    "M = np.array([[1., -3.],\n",
    "              [2., 4.]])\n",
    "y = np.array([[1.], [3.]])\n",
    "M_inv = np.linalg.inv(M)\n",
    "x = M_inv@y\n",
    "M@x"
   ]
  },
  {
   "cell_type": "code",
   "execution_count": 52,
   "id": "1e28e5fe-724b-49ad-bd82-80026e847cdc",
   "metadata": {},
   "outputs": [
    {
     "data": {
      "text/plain": [
       "array([[ 1.00000000e+00, -2.77555756e-17],\n",
       "       [ 0.00000000e+00,  1.00000000e+00]])"
      ]
     },
     "execution_count": 52,
     "metadata": {},
     "output_type": "execute_result"
    }
   ],
   "source": [
    "M@M_inv # 항등행렬"
   ]
  },
  {
   "cell_type": "code",
   "execution_count": 53,
   "id": "8d675d82-20dd-4ce2-a621-885f54db94c2",
   "metadata": {},
   "outputs": [],
   "source": [
    "# linalg.solve() : 행렬 문제 해결 / (a, b) 를 넣으면 ax = b 의 행렬 문제 계산에서 x 를 구해준다.\n",
    "x = np.linalg.solve(M, y)"
   ]
  },
  {
   "cell_type": "code",
   "execution_count": 54,
   "id": "7374a0b6-3269-4e76-89ee-c29c08a70065",
   "metadata": {},
   "outputs": [
    {
     "data": {
      "text/plain": [
       "array([[1.3],\n",
       "       [0.1]])"
      ]
     },
     "execution_count": 54,
     "metadata": {},
     "output_type": "execute_result"
    }
   ],
   "source": [
    "x"
   ]
  },
  {
   "cell_type": "code",
   "execution_count": 55,
   "id": "3ae01023-bc0a-48f4-97e4-9221d871af7b",
   "metadata": {},
   "outputs": [
    {
     "data": {
      "text/plain": [
       "EigResult(eigenvalues=array([2.5+1.93649167j, 2.5-1.93649167j]), eigenvectors=array([[ 0.77459667+0.j ,  0.77459667-0.j ],\n",
       "       [-0.38729833-0.5j, -0.38729833+0.5j]]))"
      ]
     },
     "execution_count": 55,
     "metadata": {},
     "output_type": "execute_result"
    }
   ],
   "source": [
    "# eig() : 고유값 행렬\n",
    "np.linalg.eig(M)"
   ]
  },
  {
   "cell_type": "code",
   "execution_count": 56,
   "id": "e9ce33e7-cc81-4a97-b417-126bb4747c86",
   "metadata": {},
   "outputs": [
    {
     "data": {
      "text/plain": [
       "SVDResult(U=array([[-0.52573111,  0.85065081],\n",
       "       [ 0.85065081,  0.52573111]]), S=array([5.11667274, 1.95439508]), Vh=array([[ 0.22975292,  0.97324899],\n",
       "       [ 0.97324899, -0.22975292]]))"
      ]
     },
     "execution_count": 56,
     "metadata": {},
     "output_type": "execute_result"
    }
   ],
   "source": [
    "# svd() : 특이값 분해 / singular value decomposition\n",
    "np.linalg.svd(M)"
   ]
  },
  {
   "cell_type": "code",
   "execution_count": 57,
   "id": "13abf7fb-993f-46dc-8be2-d62208b916f0",
   "metadata": {},
   "outputs": [
    {
     "data": {
      "text/plain": [
       "array([[100.,   0.,   0.,   0.,   0.],\n",
       "       [  0., 100.,   0.,   0.,   0.],\n",
       "       [  0.,   0., 100.,   0.,   0.],\n",
       "       [  0.,   0.,   0., 100.,   0.],\n",
       "       [  0.,   0.,   0.,   0., 100.]])"
      ]
     },
     "execution_count": 57,
     "metadata": {},
     "output_type": "execute_result"
    }
   ],
   "source": [
    "# fill_diagonal() : 주대각행렬을 특정값으로 채우기\n",
    "N = np.zeros((5, 5))\n",
    "np.fill_diagonal(N, 100)\n",
    "N"
   ]
  },
  {
   "cell_type": "markdown",
   "id": "5e50ed46-d794-41cc-be0b-2f0d15e3b4d6",
   "metadata": {},
   "source": [
    "▶ Numpy 활용 예시"
   ]
  },
  {
   "cell_type": "code",
   "execution_count": 58,
   "id": "e715fda6-87d7-4cd0-ab2b-1e657fd3c090",
   "metadata": {},
   "outputs": [
    {
     "data": {
      "text/plain": [
       "array([[1, 1, 1],\n",
       "       [2, 2, 2],\n",
       "       [3, 3, 3]])"
      ]
     },
     "execution_count": 58,
     "metadata": {},
     "output_type": "execute_result"
    }
   ],
   "source": [
    "# A 의 첫줄 x 1, 둘째줄 x 2, 셋째줄 x 3 을 하려고 한다.\n",
    "A = np.array([[10, 20, 30],\n",
    "              [40, 50, 60],\n",
    "              [70, 80, 90]])\n",
    "B = np.array([[1], [2], [3]])\n",
    "B = B.repeat(3, axis=1)\n",
    "B"
   ]
  },
  {
   "cell_type": "code",
   "execution_count": 59,
   "id": "3dd65844-5aee-41e6-8592-8396303f5605",
   "metadata": {},
   "outputs": [
    {
     "data": {
      "text/plain": [
       "array([[ 10,  20,  30],\n",
       "       [ 80, 100, 120],\n",
       "       [210, 240, 270]])"
      ]
     },
     "execution_count": 59,
     "metadata": {},
     "output_type": "execute_result"
    }
   ],
   "source": [
    "C = A * B\n",
    "C"
   ]
  },
  {
   "cell_type": "code",
   "execution_count": 60,
   "id": "6a56d0d6-d335-41bf-85d4-25c56522657b",
   "metadata": {},
   "outputs": [],
   "source": [
    "# broadcasting\n",
    "A = np.array([[10, 20, 30],\n",
    "              [40, 50, 60],\n",
    "              [70, 80, 90]])\n",
    "B = np.array([[1], [2], [3]])"
   ]
  },
  {
   "cell_type": "code",
   "execution_count": 61,
   "id": "f1d45116-6251-4651-870e-6ed298ab84aa",
   "metadata": {},
   "outputs": [
    {
     "data": {
      "text/plain": [
       "((3, 3), (3, 1))"
      ]
     },
     "execution_count": 61,
     "metadata": {},
     "output_type": "execute_result"
    }
   ],
   "source": [
    "A.shape, B.shape"
   ]
  },
  {
   "cell_type": "code",
   "execution_count": 62,
   "id": "486448c4-56dd-47e7-9384-368855117251",
   "metadata": {},
   "outputs": [
    {
     "data": {
      "text/plain": [
       "array([[ 10,  20,  30],\n",
       "       [ 80, 100, 120],\n",
       "       [210, 240, 270]])"
      ]
     },
     "execution_count": 62,
     "metadata": {},
     "output_type": "execute_result"
    }
   ],
   "source": [
    "A * B # A, B 가 shape 이 맞지 않아도 알아서 맞춰서 계산해준다. repeat 에서 갱신할 필요가 없다."
   ]
  },
  {
   "cell_type": "code",
   "execution_count": 63,
   "id": "8d1d2293-3e75-453c-ad51-f4a390caa5ea",
   "metadata": {},
   "outputs": [
    {
     "data": {
      "text/plain": [
       "array([[ 0,  0,  0,  0],\n",
       "       [ 0,  1,  2,  3],\n",
       "       [ 0,  2,  4,  6],\n",
       "       [ 0,  3,  6,  9],\n",
       "       [ 0,  4,  8, 12]])"
      ]
     },
     "execution_count": 63,
     "metadata": {},
     "output_type": "execute_result"
    }
   ],
   "source": [
    "# function usage example\n",
    "def f(x, y):\n",
    "    return x*y\n",
    "np.fromfunction(f, (5, 4), dtype=int)"
   ]
  },
  {
   "cell_type": "code",
   "execution_count": 64,
   "id": "a00a307f-a3a9-4b9a-b0be-eeeeda7a0655",
   "metadata": {},
   "outputs": [
    {
     "data": {
      "text/plain": [
       "array([10, 20, 40])"
      ]
     },
     "execution_count": 64,
     "metadata": {},
     "output_type": "execute_result"
    }
   ],
   "source": [
    "# set\n",
    "a = np.array([10, 20, 30, 40, 50])\n",
    "b = np.array([30, 50])\n",
    "np.setdiff1d(a, b) # 차집합 구하기"
   ]
  },
  {
   "cell_type": "code",
   "execution_count": 65,
   "id": "6da0199a-00c4-4a3e-9e42-7ae5922cc6b5",
   "metadata": {},
   "outputs": [
    {
     "data": {
      "text/plain": [
       "7"
      ]
     },
     "execution_count": 65,
     "metadata": {},
     "output_type": "execute_result"
    }
   ],
   "source": [
    "# random.randint() : 해당 숫자까지 중에서 무작위 숫자 반환\n",
    "x = np.random.randint(100)\n",
    "x"
   ]
  },
  {
   "cell_type": "code",
   "execution_count": 66,
   "id": "fd2d6193-ee11-45c8-95b2-bffabf85368d",
   "metadata": {},
   "outputs": [
    {
     "data": {
      "text/plain": [
       "array([0.59990784, 0.31851888, 0.38607086, 0.3180657 , 0.45537427])"
      ]
     },
     "execution_count": 66,
     "metadata": {},
     "output_type": "execute_result"
    }
   ],
   "source": [
    "# random.rand(n) : 0 부터 1까지 중에 무작위 n개의 숫자 반환\n",
    "x = np.random.rand(5) \n",
    "x"
   ]
  }
 ],
 "metadata": {
  "kernelspec": {
   "display_name": "Python 3 (ipykernel)",
   "language": "python",
   "name": "python3"
  },
  "language_info": {
   "codemirror_mode": {
    "name": "ipython",
    "version": 3
   },
   "file_extension": ".py",
   "mimetype": "text/x-python",
   "name": "python",
   "nbconvert_exporter": "python",
   "pygments_lexer": "ipython3",
   "version": "3.12.4"
  }
 },
 "nbformat": 4,
 "nbformat_minor": 5
}
