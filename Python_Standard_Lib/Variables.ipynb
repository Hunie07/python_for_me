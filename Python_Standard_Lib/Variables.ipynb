{
 "cells": [
  {
   "cell_type": "markdown",
   "id": "eee9edea-14e6-46c9-bc8f-02369113c3fd",
   "metadata": {},
   "source": [
    "## Variables\n",
    "-----------\n",
    "### ▶ String"
   ]
  },
  {
   "cell_type": "code",
   "execution_count": 1,
   "id": "a8dbeb20-5a2d-47f6-bc3c-5de96dd07542",
   "metadata": {},
   "outputs": [],
   "source": [
    "# 변수 name 설정\n",
    "name = 'dongsoo'"
   ]
  },
  {
   "cell_type": "code",
   "execution_count": 2,
   "id": "cadbf1f5-8d39-4ac8-a648-3ad09b532a83",
   "metadata": {},
   "outputs": [
    {
     "data": {
      "text/plain": [
       "'Dongsoo'"
      ]
     },
     "execution_count": 2,
     "metadata": {},
     "output_type": "execute_result"
    }
   ],
   "source": [
    "# 첫 글자 대문자로 변경 : .capitalize()\n",
    "name.capitalize()"
   ]
  },
  {
   "cell_type": "code",
   "execution_count": 3,
   "id": "f5a2edd6-eed8-4476-b261-2b5a6e188690",
   "metadata": {},
   "outputs": [
    {
     "data": {
      "text/plain": [
       "3"
      ]
     },
     "execution_count": 3,
     "metadata": {},
     "output_type": "execute_result"
    }
   ],
   "source": [
    "# name에 포함된 string의 개수 세기 : .count('string')\n",
    "name.count('o')"
   ]
  },
  {
   "cell_type": "code",
   "execution_count": 4,
   "id": "d4222246-fe02-4ee1-9432-eb6c9da77e6c",
   "metadata": {},
   "outputs": [
    {
     "data": {
      "text/plain": [
       "0"
      ]
     },
     "execution_count": 4,
     "metadata": {},
     "output_type": "execute_result"
    }
   ],
   "source": [
    "name.count('A')"
   ]
  },
  {
   "cell_type": "code",
   "execution_count": 5,
   "id": "d9606c8b-f930-4ed0-a472-87450f3867a5",
   "metadata": {},
   "outputs": [
    {
     "data": {
      "text/plain": [
       "['don', 'soo']"
      ]
     },
     "execution_count": 5,
     "metadata": {},
     "output_type": "execute_result"
    }
   ],
   "source": [
    "# string 중심으로 문자열 나누기 : .split('string')\n",
    "name.split('g')"
   ]
  },
  {
   "cell_type": "code",
   "execution_count": 6,
   "id": "16495864-b6a6-452c-9496-27db70d4028d",
   "metadata": {},
   "outputs": [
    {
     "data": {
      "text/plain": [
       "'Taehoon'"
      ]
     },
     "execution_count": 6,
     "metadata": {},
     "output_type": "execute_result"
    }
   ],
   "source": [
    "# 변수 설정 없이 바로 문자열로도 사용 가능\n",
    "'taehoon'.capitalize()"
   ]
  },
  {
   "cell_type": "code",
   "execution_count": 7,
   "id": "6e9b3a30-ffaa-4f83-b307-d4a2a2ecb950",
   "metadata": {},
   "outputs": [
    {
     "ename": "SyntaxError",
     "evalue": "unterminated string literal (detected at line 1) (306065548.py, line 1)",
     "output_type": "error",
     "traceback": [
      "\u001b[1;36m  Cell \u001b[1;32mIn[7], line 1\u001b[1;36m\u001b[0m\n\u001b[1;33m    text = 'I'm Gongbro'\u001b[0m\n\u001b[1;37m                       ^\u001b[0m\n\u001b[1;31mSyntaxError\u001b[0m\u001b[1;31m:\u001b[0m unterminated string literal (detected at line 1)\n"
     ]
    }
   ],
   "source": [
    "text = 'I'm Gongbro'"
   ]
  },
  {
   "cell_type": "code",
   "execution_count": 10,
   "id": "c1f0d9a3-3c3b-48a1-bd54-5631a519ec7a",
   "metadata": {},
   "outputs": [
    {
     "data": {
      "text/plain": [
       "\"I'm Gongbro\""
      ]
     },
     "execution_count": 10,
     "metadata": {},
     "output_type": "execute_result"
    }
   ],
   "source": [
    "# ' 를 symbol 취급하도록 \\' 삽입하기\n",
    "text = 'I\\'m Gongbro'\n",
    "text"
   ]
  },
  {
   "cell_type": "code",
   "execution_count": 11,
   "id": "45da854a-fa5d-4c44-b07c-7e1ea8ea6637",
   "metadata": {},
   "outputs": [
    {
     "data": {
      "text/plain": [
       "\"I'm Gongbro\""
      ]
     },
     "execution_count": 11,
     "metadata": {},
     "output_type": "execute_result"
    }
   ],
   "source": [
    "text = \"I'm Gongbro\"\n",
    "text"
   ]
  },
  {
   "cell_type": "code",
   "execution_count": 12,
   "id": "86f342d7-0a7c-42a1-9137-9f88925cd6a5",
   "metadata": {},
   "outputs": [
    {
     "data": {
      "text/plain": [
       "'C:\\\\Python\\\\My_Project'"
      ]
     },
     "execution_count": 12,
     "metadata": {},
     "output_type": "execute_result"
    }
   ],
   "source": [
    "# / 를 symbol 취급하도록 \\\\ 삽입하기\n",
    "dir_path = 'C:\\\\Python\\\\My_Project'\n",
    "dir_path"
   ]
  },
  {
   "cell_type": "code",
   "execution_count": 13,
   "id": "682396ad-f90b-4529-bbae-ab075d2de18e",
   "metadata": {},
   "outputs": [
    {
     "name": "stdout",
     "output_type": "stream",
     "text": [
      "C:\\Python\\My_Project\n"
     ]
    }
   ],
   "source": [
    "print(dir_path)"
   ]
  },
  {
   "cell_type": "markdown",
   "id": "c8220fc8-7435-40ec-a70a-7c286652df40",
   "metadata": {},
   "source": [
    "### ▶ Usage Examples"
   ]
  },
  {
   "cell_type": "code",
   "execution_count": 17,
   "id": "a83d2148-861c-4127-94c1-1ba8aef84381",
   "metadata": {},
   "outputs": [
    {
     "name": "stdin",
     "output_type": "stream",
     "text": [
      "Enter your age:  25\n"
     ]
    }
   ],
   "source": [
    "age = input('Enter your age: ')"
   ]
  },
  {
   "cell_type": "code",
   "execution_count": 18,
   "id": "40c6b6a4-39a9-4215-bca0-e9ceceac6c3e",
   "metadata": {},
   "outputs": [
    {
     "data": {
      "text/plain": [
       "'25'"
      ]
     },
     "execution_count": 18,
     "metadata": {},
     "output_type": "execute_result"
    }
   ],
   "source": [
    "age"
   ]
  },
  {
   "cell_type": "code",
   "execution_count": 19,
   "id": "fd542171-fd66-460c-a593-c8d977b4af9f",
   "metadata": {},
   "outputs": [
    {
     "data": {
      "text/plain": [
       "str"
      ]
     },
     "execution_count": 19,
     "metadata": {},
     "output_type": "execute_result"
    }
   ],
   "source": [
    "type(age)"
   ]
  },
  {
   "cell_type": "code",
   "execution_count": 21,
   "id": "8c39a88f-9f48-48cf-ae5a-a40f0dc6110a",
   "metadata": {},
   "outputs": [
    {
     "data": {
      "text/plain": [
       "25"
      ]
     },
     "execution_count": 21,
     "metadata": {},
     "output_type": "execute_result"
    }
   ],
   "source": [
    "# 정수로 저장하기\n",
    "# 1번째 방법 : int() 로 정수 형태 만들어주기\n",
    "age = int(age)\n",
    "age"
   ]
  },
  {
   "cell_type": "code",
   "execution_count": 22,
   "id": "d720abce-fbc6-46f9-b301-052f81dbaaad",
   "metadata": {},
   "outputs": [
    {
     "name": "stdin",
     "output_type": "stream",
     "text": [
      "Enter your age:  10\n"
     ]
    }
   ],
   "source": [
    "# 2번째 방법 : 입력 받을 때부터 int() 형태로 받아오기\n",
    "age = int(input('Enter your age: '))"
   ]
  },
  {
   "cell_type": "code",
   "execution_count": 23,
   "id": "20fc3b47-f6c1-40f3-95a4-0d86a6a7ac9d",
   "metadata": {},
   "outputs": [
    {
     "data": {
      "text/plain": [
       "10"
      ]
     },
     "execution_count": 23,
     "metadata": {},
     "output_type": "execute_result"
    }
   ],
   "source": [
    "age"
   ]
  },
  {
   "cell_type": "code",
   "execution_count": 24,
   "id": "5e956613-a07a-4893-98d2-03bcb03491a5",
   "metadata": {},
   "outputs": [
    {
     "data": {
      "text/plain": [
       "int"
      ]
     },
     "execution_count": 24,
     "metadata": {},
     "output_type": "execute_result"
    }
   ],
   "source": [
    "type(age)"
   ]
  },
  {
   "cell_type": "code",
   "execution_count": 25,
   "id": "2c0f75d8-cf1e-4e8b-997f-4523af42e8d1",
   "metadata": {},
   "outputs": [],
   "source": [
    "# 변수 삭제하기\n",
    "del age"
   ]
  },
  {
   "cell_type": "code",
   "execution_count": 26,
   "id": "0437de31-cce5-41a8-9c67-76f6229c05e8",
   "metadata": {},
   "outputs": [
    {
     "ename": "NameError",
     "evalue": "name 'age' is not defined",
     "output_type": "error",
     "traceback": [
      "\u001b[1;31m---------------------------------------------------------------------------\u001b[0m",
      "\u001b[1;31mNameError\u001b[0m                                 Traceback (most recent call last)",
      "Cell \u001b[1;32mIn[26], line 1\u001b[0m\n\u001b[1;32m----> 1\u001b[0m \u001b[43mage\u001b[49m\n",
      "\u001b[1;31mNameError\u001b[0m: name 'age' is not defined"
     ]
    }
   ],
   "source": [
    "age"
   ]
  },
  {
   "cell_type": "code",
   "execution_count": 27,
   "id": "da2ab15a-95a3-47ae-ac0a-6771fb28fe76",
   "metadata": {},
   "outputs": [
    {
     "data": {
      "text/plain": [
       "False"
      ]
     },
     "execution_count": 27,
     "metadata": {},
     "output_type": "execute_result"
    }
   ],
   "source": [
    "a = 1\n",
    "b = 3\n",
    "a == b"
   ]
  },
  {
   "cell_type": "code",
   "execution_count": 28,
   "id": "3cbe1bcf-f7c3-413f-ab0b-2091af436575",
   "metadata": {},
   "outputs": [
    {
     "data": {
      "text/plain": [
       "False"
      ]
     },
     "execution_count": 28,
     "metadata": {},
     "output_type": "execute_result"
    }
   ],
   "source": [
    "# 위 셀과 같은 논리연산\n",
    "a.__eq__(b)"
   ]
  },
  {
   "cell_type": "code",
   "execution_count": 29,
   "id": "91f82154-0315-4ec9-84ab-5d09ba10f402",
   "metadata": {},
   "outputs": [],
   "source": [
    "# 변수 여러개 정의하기\n",
    "a, b = 10, 20"
   ]
  },
  {
   "cell_type": "code",
   "execution_count": 30,
   "id": "91383513-e4a9-4e43-b6d9-637051a690d2",
   "metadata": {},
   "outputs": [
    {
     "data": {
      "text/plain": [
       "10"
      ]
     },
     "execution_count": 30,
     "metadata": {},
     "output_type": "execute_result"
    }
   ],
   "source": [
    "a"
   ]
  },
  {
   "cell_type": "code",
   "execution_count": 31,
   "id": "dc03ef9a-ea18-40fd-9400-8328d44b1bb8",
   "metadata": {},
   "outputs": [
    {
     "data": {
      "text/plain": [
       "20"
      ]
     },
     "execution_count": 31,
     "metadata": {},
     "output_type": "execute_result"
    }
   ],
   "source": [
    "b"
   ]
  },
  {
   "cell_type": "code",
   "execution_count": 32,
   "id": "2082d9aa-0049-4835-9415-91d12edf3dd1",
   "metadata": {},
   "outputs": [],
   "source": [
    "# 변수 값 스위칭\n",
    "a, b = b, a"
   ]
  },
  {
   "cell_type": "code",
   "execution_count": 33,
   "id": "45627932-cacd-403b-9336-52dc9d44a422",
   "metadata": {},
   "outputs": [
    {
     "data": {
      "text/plain": [
       "20"
      ]
     },
     "execution_count": 33,
     "metadata": {},
     "output_type": "execute_result"
    }
   ],
   "source": [
    "a"
   ]
  },
  {
   "cell_type": "code",
   "execution_count": 34,
   "id": "db684267-a0b9-4b30-af64-cb329f026ab2",
   "metadata": {},
   "outputs": [
    {
     "data": {
      "text/plain": [
       "10"
      ]
     },
     "execution_count": 34,
     "metadata": {},
     "output_type": "execute_result"
    }
   ],
   "source": [
    "b"
   ]
  },
  {
   "cell_type": "markdown",
   "id": "4e87efd8-405e-4349-ad61-d26687076216",
   "metadata": {},
   "source": [
    "### ▶ Naming Tips"
   ]
  },
  {
   "cell_type": "code",
   "execution_count": 35,
   "id": "5772cbcd-1e6b-47d1-959a-8a2c6c90d1ea",
   "metadata": {},
   "outputs": [],
   "source": [
    "str = 1"
   ]
  },
  {
   "cell_type": "code",
   "execution_count": 36,
   "id": "c15065c6-02ae-4c3e-9e87-6cd393c7c9dc",
   "metadata": {},
   "outputs": [
    {
     "ename": "TypeError",
     "evalue": "'int' object is not callable",
     "output_type": "error",
     "traceback": [
      "\u001b[1;31m---------------------------------------------------------------------------\u001b[0m",
      "\u001b[1;31mTypeError\u001b[0m                                 Traceback (most recent call last)",
      "Cell \u001b[1;32mIn[36], line 1\u001b[0m\n\u001b[1;32m----> 1\u001b[0m \u001b[38;5;28;43mstr\u001b[39;49m\u001b[43m(\u001b[49m\u001b[38;5;241;43m1.3\u001b[39;49m\u001b[43m)\u001b[49m\n",
      "\u001b[1;31mTypeError\u001b[0m: 'int' object is not callable"
     ]
    }
   ],
   "source": [
    "# 파이썬에서 지원되는 함수 이름은 변수로 지정하지 말 것\n",
    "# 해당 함수를 쓰지 못하는 현상이 발생\n",
    "str(1.3)"
   ]
  }
 ],
 "metadata": {
  "kernelspec": {
   "display_name": "Python 3 (ipykernel)",
   "language": "python",
   "name": "python3"
  },
  "language_info": {
   "codemirror_mode": {
    "name": "ipython",
    "version": 3
   },
   "file_extension": ".py",
   "mimetype": "text/x-python",
   "name": "python",
   "nbconvert_exporter": "python",
   "pygments_lexer": "ipython3",
   "version": "3.12.4"
  }
 },
 "nbformat": 4,
 "nbformat_minor": 5
}
