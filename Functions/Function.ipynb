{
 "cells": [
  {
   "cell_type": "markdown",
   "id": "7f920a8d-7bf7-467e-9704-561d0c78439c",
   "metadata": {},
   "source": [
    "▶ Definition"
   ]
  },
  {
   "cell_type": "code",
   "execution_count": 1,
   "id": "44a8d0f6-39e8-4689-a20e-463830d83001",
   "metadata": {},
   "outputs": [],
   "source": [
    "# definition\n",
    "def my_function_1():\n",
    "    print('Hello')"
   ]
  },
  {
   "cell_type": "code",
   "execution_count": 2,
   "id": "1f767e18-f703-45fc-89b2-014b103910f3",
   "metadata": {},
   "outputs": [
    {
     "name": "stdout",
     "output_type": "stream",
     "text": [
      "Hello\n"
     ]
    }
   ],
   "source": [
    "my_function_1()"
   ]
  },
  {
   "cell_type": "code",
   "execution_count": 3,
   "id": "ff257695-3ca1-4391-bb55-0f8078fab0aa",
   "metadata": {},
   "outputs": [],
   "source": [
    "def my_function_2(x):\n",
    "    print('Hello '+str(x))"
   ]
  },
  {
   "cell_type": "code",
   "execution_count": 4,
   "id": "9f6cefe8-f379-40bd-87ce-7bf3b8aeae84",
   "metadata": {},
   "outputs": [
    {
     "name": "stdout",
     "output_type": "stream",
     "text": [
      "Hello Python\n"
     ]
    }
   ],
   "source": [
    "my_function_2('Python')"
   ]
  },
  {
   "cell_type": "code",
   "execution_count": 5,
   "id": "9d275fdf-0441-4455-a79b-354d092ddc78",
   "metadata": {},
   "outputs": [],
   "source": [
    "def my_fn_add_10(x):\n",
    "    y = x + 10\n",
    "    print('Inside fn, y = '+str(y))\n",
    "    return y"
   ]
  },
  {
   "cell_type": "code",
   "execution_count": 6,
   "id": "5392b5e5-3a23-4c32-996a-9f7f26a34e41",
   "metadata": {},
   "outputs": [
    {
     "name": "stdout",
     "output_type": "stream",
     "text": [
      "Inside fn, y = 11\n"
     ]
    },
    {
     "data": {
      "text/plain": [
       "11"
      ]
     },
     "execution_count": 6,
     "metadata": {},
     "output_type": "execute_result"
    }
   ],
   "source": [
    "my_fn_add_10(1)"
   ]
  },
  {
   "cell_type": "code",
   "execution_count": 7,
   "id": "6debe63c-a6fd-4390-be35-0cf581f92fe5",
   "metadata": {},
   "outputs": [],
   "source": [
    "# local vs global\n",
    "def my_fn_add_10(x):\n",
    "    global y\n",
    "    y = x + 10\n",
    "    return y"
   ]
  },
  {
   "cell_type": "code",
   "execution_count": 8,
   "id": "0c7fb65e-38e2-4c50-8c44-c599cb0b304e",
   "metadata": {},
   "outputs": [
    {
     "data": {
      "text/plain": [
       "13"
      ]
     },
     "execution_count": 8,
     "metadata": {},
     "output_type": "execute_result"
    }
   ],
   "source": [
    "my_fn_add_10(3)"
   ]
  },
  {
   "cell_type": "code",
   "execution_count": 9,
   "id": "6ab30ece-bad5-4bf2-a479-5d033f374522",
   "metadata": {},
   "outputs": [
    {
     "data": {
      "text/plain": [
       "13"
      ]
     },
     "execution_count": 9,
     "metadata": {},
     "output_type": "execute_result"
    }
   ],
   "source": [
    "y"
   ]
  },
  {
   "cell_type": "markdown",
   "id": "f0f9afd5-f6d8-4f3b-9863-fb4e6e711b70",
   "metadata": {},
   "source": [
    "▶ Arguments"
   ]
  },
  {
   "cell_type": "code",
   "execution_count": 10,
   "id": "793259e1-94e1-4c70-b0d7-e41b73483334",
   "metadata": {},
   "outputs": [],
   "source": [
    "def my_fn_add_10_v2(x=5):\n",
    "    return x + 10"
   ]
  },
  {
   "cell_type": "code",
   "execution_count": 11,
   "id": "479cf3bf-3ea1-4055-9e43-7fd3c9d0dfe0",
   "metadata": {},
   "outputs": [
    {
     "data": {
      "text/plain": [
       "15"
      ]
     },
     "execution_count": 11,
     "metadata": {},
     "output_type": "execute_result"
    }
   ],
   "source": [
    "my_fn_add_10_v2()"
   ]
  },
  {
   "cell_type": "code",
   "execution_count": 12,
   "id": "c51e7530-3447-4b9d-b0ed-cf3cf20bb15c",
   "metadata": {},
   "outputs": [
    {
     "data": {
      "text/plain": [
       "60"
      ]
     },
     "execution_count": 12,
     "metadata": {},
     "output_type": "execute_result"
    }
   ],
   "source": [
    "my_fn_add_10_v2(50)"
   ]
  },
  {
   "cell_type": "code",
   "execution_count": 13,
   "id": "dd2f7dcd-8a6d-4cbc-9f56-9c17b2d00242",
   "metadata": {},
   "outputs": [],
   "source": [
    "# positional arguments\n",
    "def my_fn_add_two_numbers(x1, x2):\n",
    "    return x1 + x2"
   ]
  },
  {
   "cell_type": "code",
   "execution_count": 14,
   "id": "f7def152-62f2-4990-a46e-6b7b9d104ae0",
   "metadata": {},
   "outputs": [
    {
     "data": {
      "text/plain": [
       "8"
      ]
     },
     "execution_count": 14,
     "metadata": {},
     "output_type": "execute_result"
    }
   ],
   "source": [
    "my_fn_add_two_numbers(3, 5)"
   ]
  },
  {
   "cell_type": "code",
   "execution_count": 15,
   "id": "e288e1d6-6db6-47aa-8724-72e48bb6985c",
   "metadata": {},
   "outputs": [],
   "source": [
    "# keyword arguments\n",
    "def my_print(name, age=0, lan='NONE'):\n",
    "    print(name+' '+str(age)+' '+lan)"
   ]
  },
  {
   "cell_type": "code",
   "execution_count": 16,
   "id": "701922d2-625e-48fd-ae93-d545821b0b5d",
   "metadata": {},
   "outputs": [
    {
     "name": "stdout",
     "output_type": "stream",
     "text": [
      "Dongsoo 0 NONE\n"
     ]
    }
   ],
   "source": [
    "my_print('Dongsoo')"
   ]
  },
  {
   "cell_type": "code",
   "execution_count": 17,
   "id": "225da12f-86a1-4c84-b606-0a980c641681",
   "metadata": {},
   "outputs": [
    {
     "name": "stdout",
     "output_type": "stream",
     "text": [
      "Dongsoo 24 NONE\n"
     ]
    }
   ],
   "source": [
    "my_print('Dongsoo', 24)"
   ]
  },
  {
   "cell_type": "code",
   "execution_count": 18,
   "id": "214971ec-67ae-489a-b640-05a5b9a3f17a",
   "metadata": {},
   "outputs": [
    {
     "name": "stdout",
     "output_type": "stream",
     "text": [
      "Dongsoo 24 Python\n"
     ]
    }
   ],
   "source": [
    "my_print('Dongsoo', 24, 'Python')"
   ]
  },
  {
   "cell_type": "code",
   "execution_count": 19,
   "id": "0b3440b8-ae2c-4d97-b28c-048003db6a13",
   "metadata": {},
   "outputs": [
    {
     "ename": "TypeError",
     "evalue": "can only concatenate str (not \"int\") to str",
     "output_type": "error",
     "traceback": [
      "\u001b[1;31m---------------------------------------------------------------------------\u001b[0m",
      "\u001b[1;31mTypeError\u001b[0m                                 Traceback (most recent call last)",
      "Cell \u001b[1;32mIn[19], line 1\u001b[0m\n\u001b[1;32m----> 1\u001b[0m \u001b[43mmy_print\u001b[49m\u001b[43m(\u001b[49m\u001b[38;5;124;43m'\u001b[39;49m\u001b[38;5;124;43mDongsoo\u001b[39;49m\u001b[38;5;124;43m'\u001b[39;49m\u001b[43m,\u001b[49m\u001b[43m \u001b[49m\u001b[38;5;124;43m'\u001b[39;49m\u001b[38;5;124;43mPython\u001b[39;49m\u001b[38;5;124;43m'\u001b[39;49m\u001b[43m,\u001b[49m\u001b[43m \u001b[49m\u001b[38;5;241;43m24\u001b[39;49m\u001b[43m)\u001b[49m\n\u001b[0;32m      2\u001b[0m \u001b[38;5;66;03m# 24 가 lan 위치에 들어가서 str + int 처리되어 에러발생, keyword 로 명시를 해주어야 한다.\u001b[39;00m\n",
      "Cell \u001b[1;32mIn[15], line 3\u001b[0m, in \u001b[0;36mmy_print\u001b[1;34m(name, age, lan)\u001b[0m\n\u001b[0;32m      2\u001b[0m \u001b[38;5;28;01mdef\u001b[39;00m \u001b[38;5;21mmy_print\u001b[39m(name, age\u001b[38;5;241m=\u001b[39m\u001b[38;5;241m0\u001b[39m, lan\u001b[38;5;241m=\u001b[39m\u001b[38;5;124m'\u001b[39m\u001b[38;5;124mNONE\u001b[39m\u001b[38;5;124m'\u001b[39m):\n\u001b[1;32m----> 3\u001b[0m     \u001b[38;5;28mprint\u001b[39m(\u001b[43mname\u001b[49m\u001b[38;5;241;43m+\u001b[39;49m\u001b[38;5;124;43m'\u001b[39;49m\u001b[38;5;124;43m \u001b[39;49m\u001b[38;5;124;43m'\u001b[39;49m\u001b[38;5;241;43m+\u001b[39;49m\u001b[38;5;28;43mstr\u001b[39;49m\u001b[43m(\u001b[49m\u001b[43mage\u001b[49m\u001b[43m)\u001b[49m\u001b[38;5;241;43m+\u001b[39;49m\u001b[38;5;124;43m'\u001b[39;49m\u001b[38;5;124;43m \u001b[39;49m\u001b[38;5;124;43m'\u001b[39;49m\u001b[38;5;241;43m+\u001b[39;49m\u001b[43mlan\u001b[49m)\n",
      "\u001b[1;31mTypeError\u001b[0m: can only concatenate str (not \"int\") to str"
     ]
    }
   ],
   "source": [
    "my_print('Dongsoo', 'Python', 24)\n",
    "# 24 가 lan 위치에 들어가서 str + int 처리되어 에러발생, keyword 로 명시를 해주어야 한다."
   ]
  },
  {
   "cell_type": "code",
   "execution_count": 20,
   "id": "f3a8d766-9c6b-4995-8a16-fb31272691bb",
   "metadata": {},
   "outputs": [
    {
     "name": "stdout",
     "output_type": "stream",
     "text": [
      "Dongsoo 24 Python\n"
     ]
    }
   ],
   "source": [
    "my_print('Dongsoo', lan='Python', age=24)"
   ]
  },
  {
   "cell_type": "code",
   "execution_count": 21,
   "id": "e49e838b-255d-4778-9ce9-be85dac4a2b0",
   "metadata": {},
   "outputs": [],
   "source": [
    "# arbitrary arguments : 임의의 여러 arguments 가 들어가도 가능하게 해준다.\n",
    "def my_print(*arguments):\n",
    "    for arg in arguments:\n",
    "        print(arg)"
   ]
  },
  {
   "cell_type": "code",
   "execution_count": 22,
   "id": "3d83060b-ec51-40e3-befb-1eb02bcb648a",
   "metadata": {},
   "outputs": [
    {
     "name": "stdout",
     "output_type": "stream",
     "text": [
      "abc\n",
      "def\n",
      "ghi\n"
     ]
    }
   ],
   "source": [
    "my_print('abc', 'def', 'ghi')"
   ]
  },
  {
   "cell_type": "code",
   "execution_count": 23,
   "id": "bdd1bc51-d04e-48a2-98b3-18a136a0ed87",
   "metadata": {},
   "outputs": [],
   "source": [
    "def my_add(*args):\n",
    "    total = 0\n",
    "    for a in args:\n",
    "        total += a\n",
    "    return total"
   ]
  },
  {
   "cell_type": "code",
   "execution_count": 24,
   "id": "249f2179-c72d-49da-8d4e-fa31ecf69246",
   "metadata": {},
   "outputs": [
    {
     "data": {
      "text/plain": [
       "60"
      ]
     },
     "execution_count": 24,
     "metadata": {},
     "output_type": "execute_result"
    }
   ],
   "source": [
    "my_add(10, 20, 30)"
   ]
  },
  {
   "cell_type": "code",
   "execution_count": 25,
   "id": "b9f6cf55-1412-40df-93a2-16b0d27a4487",
   "metadata": {},
   "outputs": [],
   "source": [
    "def my_concat(*args):\n",
    "    combined = str()\n",
    "    for a in args:\n",
    "        combined += a\n",
    "    return combined"
   ]
  },
  {
   "cell_type": "code",
   "execution_count": 26,
   "id": "effdb841-6f63-4ea2-894a-47fa0a277a99",
   "metadata": {},
   "outputs": [
    {
     "data": {
      "text/plain": [
       "'Python'"
      ]
     },
     "execution_count": 26,
     "metadata": {},
     "output_type": "execute_result"
    }
   ],
   "source": [
    "my_concat('Py', 'thon')"
   ]
  },
  {
   "cell_type": "code",
   "execution_count": 27,
   "id": "94fc8cba-3203-4bec-b89f-f77a8b11fde5",
   "metadata": {},
   "outputs": [
    {
     "data": {
      "text/plain": [
       "[0, 1, 2, 3, 4]"
      ]
     },
     "execution_count": 27,
     "metadata": {},
     "output_type": "execute_result"
    }
   ],
   "source": [
    "# unpacking arguments\n",
    "list(range(0, 5, 1))"
   ]
  },
  {
   "cell_type": "code",
   "execution_count": 28,
   "id": "ff117064-34a1-4db1-b14a-a2cfd8826a04",
   "metadata": {},
   "outputs": [
    {
     "data": {
      "text/plain": [
       "[10, 11, 12, 13, 14, 15]"
      ]
     },
     "execution_count": 28,
     "metadata": {},
     "output_type": "execute_result"
    }
   ],
   "source": [
    "a = [10, 15]\n",
    "list(range(a[0], a[1]+1))"
   ]
  },
  {
   "cell_type": "code",
   "execution_count": 29,
   "id": "30cd9af4-85f9-457b-a46d-f76d4b943677",
   "metadata": {},
   "outputs": [
    {
     "data": {
      "text/plain": [
       "[10, 11, 12, 13, 14, 15]"
      ]
     },
     "execution_count": 29,
     "metadata": {},
     "output_type": "execute_result"
    }
   ],
   "source": [
    "a[1] += 1\n",
    "list(range(*a))"
   ]
  },
  {
   "cell_type": "code",
   "execution_count": 30,
   "id": "2f65ea17-672a-4f68-810f-01b7109db4fc",
   "metadata": {},
   "outputs": [],
   "source": [
    "def my_list():\n",
    "    num_s = int(input('Start num: '))\n",
    "    num_e = int(input('End num: '))\n",
    "    num_inc =int(input('Increment: '))\n",
    "\n",
    "    out_list = list(range(num_s, num_e, num_inc))\n",
    "    return out_list"
   ]
  },
  {
   "cell_type": "code",
   "execution_count": 31,
   "id": "2bd0860e-595d-43d6-8683-e599a92b1a8b",
   "metadata": {},
   "outputs": [
    {
     "name": "stdin",
     "output_type": "stream",
     "text": [
      "Start num:  0\n",
      "End num:  10\n",
      "Increment:  2\n"
     ]
    },
    {
     "data": {
      "text/plain": [
       "[0, 2, 4, 6, 8]"
      ]
     },
     "execution_count": 31,
     "metadata": {},
     "output_type": "execute_result"
    }
   ],
   "source": [
    "my_list()"
   ]
  },
  {
   "cell_type": "code",
   "execution_count": 32,
   "id": "2fd84564-d9a1-4816-98e0-982f1501ea98",
   "metadata": {},
   "outputs": [],
   "source": [
    "# unpacking 활용하여 만들기\n",
    "def my_list_v2():\n",
    "    print('Input three numbers: ')\n",
    "    print('Start #, End #, Increment: ')\n",
    "    print('For example: 0, 5, 1')\n",
    "\n",
    "    ui = input('Waiting for input: ')\n",
    "    ui_list = [int(i) for i in ui.split(',')]\n",
    "    \n",
    "    out_list = list(range(*ui_list))\n",
    "    return out_list"
   ]
  },
  {
   "cell_type": "code",
   "execution_count": 33,
   "id": "e1cb0772-2794-4ac8-9f04-d2b4976dbd9f",
   "metadata": {},
   "outputs": [
    {
     "name": "stdout",
     "output_type": "stream",
     "text": [
      "Input three numbers: \n",
      "Start #, End #, Increment: \n",
      "For example: 0, 5, 1\n"
     ]
    },
    {
     "name": "stdin",
     "output_type": "stream",
     "text": [
      "Waiting for input:  0, 10, 2\n"
     ]
    },
    {
     "data": {
      "text/plain": [
       "[0, 2, 4, 6, 8]"
      ]
     },
     "execution_count": 33,
     "metadata": {},
     "output_type": "execute_result"
    }
   ],
   "source": [
    "my_list_v2()"
   ]
  },
  {
   "cell_type": "markdown",
   "id": "a9374237-a4a6-4a88-a9a1-227618a7bf1c",
   "metadata": {},
   "source": [
    "▶ Annotation"
   ]
  },
  {
   "cell_type": "code",
   "execution_count": 34,
   "id": "1e5842c0-dc16-4033-91c2-10cf8264edff",
   "metadata": {},
   "outputs": [],
   "source": [
    "# annotation\n",
    "def my_fn(num):\n",
    "    out = num + 10\n",
    "    return out"
   ]
  },
  {
   "cell_type": "code",
   "execution_count": 35,
   "id": "3e1878ed-ff29-4e4c-b987-8ae674f8dba3",
   "metadata": {},
   "outputs": [
    {
     "data": {
      "text/plain": [
       "{}"
      ]
     },
     "execution_count": 35,
     "metadata": {},
     "output_type": "execute_result"
    }
   ],
   "source": [
    "my_fn.__annotations__"
   ]
  },
  {
   "cell_type": "code",
   "execution_count": 36,
   "id": "7c5ff150-8f0c-44b7-b125-cf247cd48b0c",
   "metadata": {},
   "outputs": [],
   "source": [
    "def my_fn(num:int):\n",
    "    out = num + 10\n",
    "    return out"
   ]
  },
  {
   "cell_type": "code",
   "execution_count": 37,
   "id": "8a8a1f6e-1c59-4ad7-91bc-a8b0c55fc951",
   "metadata": {},
   "outputs": [
    {
     "data": {
      "text/plain": [
       "{'num': int}"
      ]
     },
     "execution_count": 37,
     "metadata": {},
     "output_type": "execute_result"
    }
   ],
   "source": [
    "my_fn.__annotations__"
   ]
  },
  {
   "cell_type": "code",
   "execution_count": 38,
   "id": "5c75f225-8a29-4a09-ab88-0303febc0f39",
   "metadata": {},
   "outputs": [],
   "source": [
    "def my_fn(num:int)->int:\n",
    "    out = num + 10\n",
    "    return out"
   ]
  },
  {
   "cell_type": "code",
   "execution_count": 39,
   "id": "51cbd156-6bd9-4225-ac39-ef8df61b2b7c",
   "metadata": {},
   "outputs": [
    {
     "data": {
      "text/plain": [
       "{'num': int, 'return': int}"
      ]
     },
     "execution_count": 39,
     "metadata": {},
     "output_type": "execute_result"
    }
   ],
   "source": [
    "my_fn.__annotations__"
   ]
  },
  {
   "cell_type": "markdown",
   "id": "ede4787b-1556-408a-bc78-726efa6a9ceb",
   "metadata": {},
   "source": [
    "▶ Lambda"
   ]
  },
  {
   "cell_type": "code",
   "execution_count": 40,
   "id": "21d9c2ec-6134-426b-9b45-7878bedbfaac",
   "metadata": {},
   "outputs": [
    {
     "data": {
      "text/plain": [
       "2"
      ]
     },
     "execution_count": 40,
     "metadata": {},
     "output_type": "execute_result"
    }
   ],
   "source": [
    "# lambda\n",
    "add_one = lambda x: x+1\n",
    "add_one(1)"
   ]
  },
  {
   "cell_type": "code",
   "execution_count": 41,
   "id": "e05c011d-d799-4c0c-a8a9-9b4a4ed0fd34",
   "metadata": {},
   "outputs": [
    {
     "data": {
      "text/plain": [
       "11"
      ]
     },
     "execution_count": 41,
     "metadata": {},
     "output_type": "execute_result"
    }
   ],
   "source": [
    "y = (lambda x: x+1)(10)\n",
    "y"
   ]
  },
  {
   "cell_type": "code",
   "execution_count": 42,
   "id": "21a07f09-7273-4805-ae3a-c84b4c532273",
   "metadata": {},
   "outputs": [
    {
     "data": {
      "text/plain": [
       "14"
      ]
     },
     "execution_count": 42,
     "metadata": {},
     "output_type": "execute_result"
    }
   ],
   "source": [
    "# lambda for higher order functions\n",
    "def my_fn_add_10(x):\n",
    "    return x + 10\n",
    "\n",
    "high_ord_fn = lambda x: x + my_fn_add_10(x)\n",
    "high_ord_fn(2)"
   ]
  },
  {
   "cell_type": "code",
   "execution_count": 43,
   "id": "7a34439a-acd9-45bf-8be7-5cfdbadbec8a",
   "metadata": {},
   "outputs": [
    {
     "data": {
      "text/plain": [
       "5"
      ]
     },
     "execution_count": 43,
     "metadata": {},
     "output_type": "execute_result"
    }
   ],
   "source": [
    "high_ord_fn = lambda x, func: x + func(x)\n",
    "high_ord_fn(2, lambda x: x+1)"
   ]
  },
  {
   "cell_type": "code",
   "execution_count": 44,
   "id": "405a350f-47ea-4c61-a759-3e3496a06a08",
   "metadata": {},
   "outputs": [
    {
     "data": {
      "text/plain": [
       "array([ 2,  4,  6,  8, 10])"
      ]
     },
     "execution_count": 44,
     "metadata": {},
     "output_type": "execute_result"
    }
   ],
   "source": [
    "# map()\n",
    "import numpy as np\n",
    "a = np.array([1, 2, 3, 4, 5])\n",
    "a * 2"
   ]
  },
  {
   "cell_type": "code",
   "execution_count": 45,
   "id": "1ec1ca1f-ab98-44f2-829b-2a0911be0d83",
   "metadata": {},
   "outputs": [
    {
     "data": {
      "text/plain": [
       "[1, 2, 3, 4, 5, 1, 2, 3, 4, 5]"
      ]
     },
     "execution_count": 45,
     "metadata": {},
     "output_type": "execute_result"
    }
   ],
   "source": [
    "a = [1, 2, 3, 4, 5]\n",
    "a * 2"
   ]
  },
  {
   "cell_type": "code",
   "execution_count": 46,
   "id": "56cd3e5e-1fe6-4f4a-83cb-351a21669f26",
   "metadata": {},
   "outputs": [
    {
     "data": {
      "text/plain": [
       "[11, 12, 13, 14, 15]"
      ]
     },
     "execution_count": 46,
     "metadata": {},
     "output_type": "execute_result"
    }
   ],
   "source": [
    "b = list(map(my_fn_add_10, a))\n",
    "b"
   ]
  },
  {
   "cell_type": "code",
   "execution_count": 47,
   "id": "62021f97-2c20-4716-9284-29a008b27408",
   "metadata": {},
   "outputs": [
    {
     "data": {
      "text/plain": [
       "[2, 4, 6, 8, 10]"
      ]
     },
     "execution_count": 47,
     "metadata": {},
     "output_type": "execute_result"
    }
   ],
   "source": [
    "b = list(map(lambda x: x*2, a))\n",
    "b"
   ]
  },
  {
   "cell_type": "code",
   "execution_count": 48,
   "id": "aacc14bb-cdd9-4ab7-af72-a709727aefd0",
   "metadata": {},
   "outputs": [
    {
     "data": {
      "text/plain": [
       "['KEPLER', 'NEWTON', 'EULER']"
      ]
     },
     "execution_count": 48,
     "metadata": {},
     "output_type": "execute_result"
    }
   ],
   "source": [
    "# map examples\n",
    "vip_list = ['kepler', 'newton', 'euler']\n",
    "vip_list = list(map(lambda x: x.upper(), vip_list))\n",
    "vip_list"
   ]
  },
  {
   "cell_type": "code",
   "execution_count": 49,
   "id": "5bb1120a-8bb4-4f55-85e7-13d87b24b043",
   "metadata": {},
   "outputs": [
    {
     "data": {
      "text/plain": [
       "[6, 6, 5]"
      ]
     },
     "execution_count": 49,
     "metadata": {},
     "output_type": "execute_result"
    }
   ],
   "source": [
    "cha_size = list(map(lambda x: len(x), vip_list))\n",
    "cha_size"
   ]
  },
  {
   "cell_type": "code",
   "execution_count": 50,
   "id": "798427b1-027f-4e43-9c71-f7de51a3e1e0",
   "metadata": {},
   "outputs": [
    {
     "data": {
      "text/plain": [
       "['KEPLER']"
      ]
     },
     "execution_count": 50,
     "metadata": {},
     "output_type": "execute_result"
    }
   ],
   "source": [
    "# filter\n",
    "list(filter(lambda x: 'P' in x, vip_list))"
   ]
  },
  {
   "cell_type": "code",
   "execution_count": 51,
   "id": "5abc8dd1-5f11-40b2-9783-c298328ae297",
   "metadata": {},
   "outputs": [
    {
     "data": {
      "text/plain": [
       "[2, 4]"
      ]
     },
     "execution_count": 51,
     "metadata": {},
     "output_type": "execute_result"
    }
   ],
   "source": [
    "num_list = [1, 2, 3, 4, 5]\n",
    "list(filter(lambda x: x%2 == 0, num_list))"
   ]
  },
  {
   "cell_type": "code",
   "execution_count": 52,
   "id": "314a23e0-4c74-4a5e-ae55-ae1bb2392215",
   "metadata": {},
   "outputs": [],
   "source": [
    "# reduce\n",
    "from functools import reduce"
   ]
  },
  {
   "cell_type": "code",
   "execution_count": 53,
   "id": "69707942-6e80-49db-8dd0-c205c592ddd3",
   "metadata": {},
   "outputs": [],
   "source": [
    "num_list = [10, 20, 30]\n",
    "\n",
    "def my_fn_add(x, y):\n",
    "    return x + y"
   ]
  },
  {
   "cell_type": "code",
   "execution_count": 54,
   "id": "9f720a38-d50c-477a-978b-b8350c38dde8",
   "metadata": {},
   "outputs": [
    {
     "data": {
      "text/plain": [
       "60"
      ]
     },
     "execution_count": 54,
     "metadata": {},
     "output_type": "execute_result"
    }
   ],
   "source": [
    "reduce(my_fn_add, num_list)"
   ]
  },
  {
   "cell_type": "code",
   "execution_count": 55,
   "id": "d4e80af3-8772-4c3c-97b9-45bbd263fd81",
   "metadata": {},
   "outputs": [
    {
     "data": {
      "text/plain": [
       "60"
      ]
     },
     "execution_count": 55,
     "metadata": {},
     "output_type": "execute_result"
    }
   ],
   "source": [
    "reduce(lambda a, b: a+b, num_list)"
   ]
  },
  {
   "cell_type": "code",
   "execution_count": 56,
   "id": "263a4149-509a-4df7-975d-7d01f0d0c44c",
   "metadata": {},
   "outputs": [
    {
     "data": {
      "text/plain": [
       "60"
      ]
     },
     "execution_count": 56,
     "metadata": {},
     "output_type": "execute_result"
    }
   ],
   "source": [
    "sum(num_list)"
   ]
  },
  {
   "cell_type": "code",
   "execution_count": 57,
   "id": "1b4b1587-20a1-4f04-8d3d-9f7513cf266b",
   "metadata": {},
   "outputs": [
    {
     "data": {
      "text/plain": [
       "'Python'"
      ]
     },
     "execution_count": 57,
     "metadata": {},
     "output_type": "execute_result"
    }
   ],
   "source": [
    "str_list = ['P', 'y', 't', 'h', 'o', 'n']\n",
    "reduce(lambda x, y: x+y, str_list)"
   ]
  },
  {
   "cell_type": "code",
   "execution_count": 58,
   "id": "14df31d4-590c-472e-917f-1fd11d07a251",
   "metadata": {},
   "outputs": [
    {
     "data": {
      "text/plain": [
       "['P', 'y', 't', 'h', 'o', 'n']"
      ]
     },
     "execution_count": 58,
     "metadata": {},
     "output_type": "execute_result"
    }
   ],
   "source": [
    "# list comprehension vs lambda function\n",
    "letter_list = []\n",
    "for letter in 'Python':\n",
    "    letter_list.append(letter)\n",
    "letter_list"
   ]
  },
  {
   "cell_type": "code",
   "execution_count": 59,
   "id": "553b6deb-3981-4749-bdfc-f0441aef8893",
   "metadata": {},
   "outputs": [
    {
     "data": {
      "text/plain": [
       "['P', 'y', 't', 'h', 'o', 'n']"
      ]
     },
     "execution_count": 59,
     "metadata": {},
     "output_type": "execute_result"
    }
   ],
   "source": [
    "letter_list_2 = [letter for letter in 'Python']\n",
    "letter_list_2"
   ]
  },
  {
   "cell_type": "code",
   "execution_count": 60,
   "id": "3a57ec0f-fbdb-4213-88d4-a2dac1e91b0e",
   "metadata": {},
   "outputs": [
    {
     "data": {
      "text/plain": [
       "['P', 'y', 't', 'h', 'o', 'n']"
      ]
     },
     "execution_count": 60,
     "metadata": {},
     "output_type": "execute_result"
    }
   ],
   "source": [
    "letter_list_3 = list(map(lambda x: x, 'Python'))\n",
    "letter_list_3"
   ]
  }
 ],
 "metadata": {
  "kernelspec": {
   "display_name": "Python 3 (ipykernel)",
   "language": "python",
   "name": "python3"
  },
  "language_info": {
   "codemirror_mode": {
    "name": "ipython",
    "version": 3
   },
   "file_extension": ".py",
   "mimetype": "text/x-python",
   "name": "python",
   "nbconvert_exporter": "python",
   "pygments_lexer": "ipython3",
   "version": "3.12.4"
  }
 },
 "nbformat": 4,
 "nbformat_minor": 5
}
