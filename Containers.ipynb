{
 "cells": [
  {
   "cell_type": "markdown",
   "id": "c38fd12a-914b-42f5-8b5c-8af9d29b96d7",
   "metadata": {},
   "source": [
    "## Containers\n",
    "------------\n",
    "### ▶ List"
   ]
  },
  {
   "cell_type": "code",
   "execution_count": 1,
   "id": "c170a7e1-b0ea-4bca-aeb2-cb33fa1bd279",
   "metadata": {},
   "outputs": [
    {
     "data": {
      "text/plain": [
       "[10, 10.1, 'python', True]"
      ]
     },
     "execution_count": 1,
     "metadata": {},
     "output_type": "execute_result"
    }
   ],
   "source": [
    "my_list1 = [10, 10.1, 'python', True]\n",
    "my_list1"
   ]
  },
  {
   "cell_type": "code",
   "execution_count": 2,
   "id": "7442902b-22ef-4ec9-8c4c-25e49e83cd4b",
   "metadata": {},
   "outputs": [
    {
     "data": {
      "text/plain": [
       "list"
      ]
     },
     "execution_count": 2,
     "metadata": {},
     "output_type": "execute_result"
    }
   ],
   "source": [
    "type(my_list1)"
   ]
  },
  {
   "cell_type": "code",
   "execution_count": 3,
   "id": "ffb58e0a-ec2c-4622-be8e-875f5396bccf",
   "metadata": {},
   "outputs": [
    {
     "data": {
      "text/plain": [
       "[1, 2, 3]"
      ]
     },
     "execution_count": 3,
     "metadata": {},
     "output_type": "execute_result"
    }
   ],
   "source": [
    "my_list1 = list([1, 2, 3])\n",
    "my_list1"
   ]
  },
  {
   "cell_type": "markdown",
   "id": "9d8273ed-8d91-4017-8b61-6e02db40769a",
   "metadata": {},
   "source": [
    "### ▶ Tuple"
   ]
  },
  {
   "cell_type": "code",
   "execution_count": 4,
   "id": "bd798cd5-da93-4991-975b-7fb000f4198c",
   "metadata": {},
   "outputs": [
    {
     "data": {
      "text/plain": [
       "(10, 10.1, 'python', True)"
      ]
     },
     "execution_count": 4,
     "metadata": {},
     "output_type": "execute_result"
    }
   ],
   "source": [
    "my_tuple1 = (10, 10.1, 'python', True)\n",
    "my_tuple1"
   ]
  },
  {
   "cell_type": "code",
   "execution_count": 5,
   "id": "2eb05554-d485-4976-99e7-dfc5a34d6174",
   "metadata": {},
   "outputs": [
    {
     "data": {
      "text/plain": [
       "tuple"
      ]
     },
     "execution_count": 5,
     "metadata": {},
     "output_type": "execute_result"
    }
   ],
   "source": [
    "type(my_tuple1)"
   ]
  },
  {
   "cell_type": "code",
   "execution_count": 6,
   "id": "fe3e9ed8-7acd-4c2a-8414-46ac24f45446",
   "metadata": {},
   "outputs": [
    {
     "data": {
      "text/plain": [
       "(1, 2, 3)"
      ]
     },
     "execution_count": 6,
     "metadata": {},
     "output_type": "execute_result"
    }
   ],
   "source": [
    "my_tuple1 = tuple([1, 2, 3])\n",
    "my_tuple1"
   ]
  },
  {
   "cell_type": "code",
   "execution_count": 7,
   "id": "3873c599-e0e7-482b-b19e-b4417fb31278",
   "metadata": {},
   "outputs": [
    {
     "name": "stdout",
     "output_type": "stream",
     "text": [
      "1\n",
      "1\n"
     ]
    }
   ],
   "source": [
    "# 요소 출력하기\n",
    "print(my_list1[0])\n",
    "print(my_tuple1[0])"
   ]
  },
  {
   "cell_type": "code",
   "execution_count": 8,
   "id": "07efd418-78d7-4dd9-92c3-6c9cafe65dd1",
   "metadata": {},
   "outputs": [
    {
     "data": {
      "text/plain": [
       "['Kepler', 'Euler', 'Gauss']"
      ]
     },
     "execution_count": 8,
     "metadata": {},
     "output_type": "execute_result"
    }
   ],
   "source": [
    "# list / tuple 차이점\n",
    "vip_names = ['Newton', 'Euler', 'Gauss']\n",
    "vip_names[0] = 'Kepler'\n",
    "vip_names"
   ]
  },
  {
   "cell_type": "code",
   "execution_count": 9,
   "id": "f6a81455-718f-4e4d-a7cd-417227a46680",
   "metadata": {},
   "outputs": [
    {
     "ename": "TypeError",
     "evalue": "'tuple' object does not support item assignment",
     "output_type": "error",
     "traceback": [
      "\u001b[1;31m---------------------------------------------------------------------------\u001b[0m",
      "\u001b[1;31mTypeError\u001b[0m                                 Traceback (most recent call last)",
      "Cell \u001b[1;32mIn[9], line 2\u001b[0m\n\u001b[0;32m      1\u001b[0m vip_names \u001b[38;5;241m=\u001b[39m (\u001b[38;5;124m'\u001b[39m\u001b[38;5;124mNewton\u001b[39m\u001b[38;5;124m'\u001b[39m, \u001b[38;5;124m'\u001b[39m\u001b[38;5;124mEuler\u001b[39m\u001b[38;5;124m'\u001b[39m, \u001b[38;5;124m'\u001b[39m\u001b[38;5;124mGauss\u001b[39m\u001b[38;5;124m'\u001b[39m)\n\u001b[1;32m----> 2\u001b[0m \u001b[43mvip_names\u001b[49m\u001b[43m[\u001b[49m\u001b[38;5;241;43m0\u001b[39;49m\u001b[43m]\u001b[49m \u001b[38;5;241m=\u001b[39m \u001b[38;5;124m'\u001b[39m\u001b[38;5;124mKepler\u001b[39m\u001b[38;5;124m'\u001b[39m \n\u001b[0;32m      3\u001b[0m \u001b[38;5;66;03m# tuple 내 item 변경 불가능 → 사용자가 접근은 하나 업데이트는 못하게 하고자 할때 유용\u001b[39;00m\n",
      "\u001b[1;31mTypeError\u001b[0m: 'tuple' object does not support item assignment"
     ]
    }
   ],
   "source": [
    "vip_names = ('Newton', 'Euler', 'Gauss')\n",
    "vip_names[0] = 'Kepler' \n",
    "# tuple 내 item 변경 불가능 → 사용자가 접근은 하나 업데이트는 못하게 하고자 할때 유용"
   ]
  },
  {
   "cell_type": "markdown",
   "id": "354bccb1-bc71-4889-82c3-cee4a6b3139d",
   "metadata": {},
   "source": [
    "### ▶ Operations"
   ]
  },
  {
   "cell_type": "code",
   "execution_count": 10,
   "id": "b6364c39-0635-45bf-ac2a-d7073beb7770",
   "metadata": {},
   "outputs": [
    {
     "data": {
      "text/plain": [
       "[10, 20, 30, 40, 50]"
      ]
     },
     "execution_count": 10,
     "metadata": {},
     "output_type": "execute_result"
    }
   ],
   "source": [
    "# s[i]\n",
    "my_list1 = [10, 20, 30, 40, 50]\n",
    "my_list1"
   ]
  },
  {
   "cell_type": "code",
   "execution_count": 11,
   "id": "25f0ce0b-ffe2-4d95-a408-879bb8f093a0",
   "metadata": {},
   "outputs": [
    {
     "data": {
      "text/plain": [
       "10"
      ]
     },
     "execution_count": 11,
     "metadata": {},
     "output_type": "execute_result"
    }
   ],
   "source": [
    "my_list1[0]"
   ]
  },
  {
   "cell_type": "code",
   "execution_count": 12,
   "id": "d083ec59-40b1-4246-8abf-a00bde665774",
   "metadata": {},
   "outputs": [
    {
     "data": {
      "text/plain": [
       "[10, 20, 30, 40, 50]"
      ]
     },
     "execution_count": 12,
     "metadata": {},
     "output_type": "execute_result"
    }
   ],
   "source": [
    "my_list1[:]"
   ]
  },
  {
   "cell_type": "code",
   "execution_count": 13,
   "id": "5a318ddd-702e-4dd6-8fc9-27e28dbb3f30",
   "metadata": {},
   "outputs": [
    {
     "data": {
      "text/plain": [
       "[10, 20, 30, 40]"
      ]
     },
     "execution_count": 13,
     "metadata": {},
     "output_type": "execute_result"
    }
   ],
   "source": [
    "my_list1[0:4:1]"
   ]
  },
  {
   "cell_type": "code",
   "execution_count": 14,
   "id": "f57486ae-d319-40ce-98b3-d2fc2e5b7772",
   "metadata": {},
   "outputs": [
    {
     "data": {
      "text/plain": [
       "[10, 20, 30, 40, 50]"
      ]
     },
     "execution_count": 14,
     "metadata": {},
     "output_type": "execute_result"
    }
   ],
   "source": [
    "# s[i:j]\n",
    "my_list1[0:5]"
   ]
  },
  {
   "cell_type": "code",
   "execution_count": 15,
   "id": "5da9a6ea-cf88-4037-bffc-f674c8e703e9",
   "metadata": {},
   "outputs": [
    {
     "data": {
      "text/plain": [
       "[10, 40]"
      ]
     },
     "execution_count": 15,
     "metadata": {},
     "output_type": "execute_result"
    }
   ],
   "source": [
    "# s[i:j:k]\n",
    "my_list1[0:5:3]"
   ]
  },
  {
   "cell_type": "code",
   "execution_count": 16,
   "id": "0c0170e8-e9d1-4e49-8a0e-00ffd970bddf",
   "metadata": {},
   "outputs": [
    {
     "data": {
      "text/plain": [
       "50"
      ]
     },
     "execution_count": 16,
     "metadata": {},
     "output_type": "execute_result"
    }
   ],
   "source": [
    "my_list1[-1]"
   ]
  },
  {
   "cell_type": "code",
   "execution_count": 17,
   "id": "8ca3dbcd-37e7-47ac-b989-2a06b32f87d6",
   "metadata": {},
   "outputs": [
    {
     "data": {
      "text/plain": [
       "[50, 40, 30, 20, 10]"
      ]
     },
     "execution_count": 17,
     "metadata": {},
     "output_type": "execute_result"
    }
   ],
   "source": [
    "my_list1[-1::-1]"
   ]
  },
  {
   "cell_type": "code",
   "execution_count": 18,
   "id": "52cf0fa4-818b-42b9-a9ab-68377b4c4357",
   "metadata": {},
   "outputs": [
    {
     "data": {
      "text/plain": [
       "[50, 40]"
      ]
     },
     "execution_count": 18,
     "metadata": {},
     "output_type": "execute_result"
    }
   ],
   "source": [
    "my_list1[-1:2:-1]"
   ]
  },
  {
   "cell_type": "code",
   "execution_count": 19,
   "id": "99b2ad14-54e5-4b22-84bf-0b8e037cddc3",
   "metadata": {},
   "outputs": [
    {
     "data": {
      "text/plain": [
       "[10, 20]"
      ]
     },
     "execution_count": 19,
     "metadata": {},
     "output_type": "execute_result"
    }
   ],
   "source": [
    "# s[i][j][k]\n",
    "my_list4 = [[10, 20, 30],\n",
    "            [40, 50, 60]]\n",
    "my_list4[0][0:2]"
   ]
  },
  {
   "cell_type": "code",
   "execution_count": 20,
   "id": "9f08a3bc-663f-49cf-8a13-9046a45ef91b",
   "metadata": {},
   "outputs": [
    {
     "data": {
      "text/plain": [
       "100"
      ]
     },
     "execution_count": 20,
     "metadata": {},
     "output_type": "execute_result"
    }
   ],
   "source": [
    "my_list5 = [[10, 20, [100, 200, 300]],\n",
    "            [40, 50, 60]]\n",
    "my_list5[0][2][0]"
   ]
  },
  {
   "cell_type": "code",
   "execution_count": 21,
   "id": "006f08a7-cc5f-44ae-9918-d2cea433dc22",
   "metadata": {},
   "outputs": [
    {
     "data": {
      "text/plain": [
       "[10, 20, 30, 100, 200, 300]"
      ]
     },
     "execution_count": 21,
     "metadata": {},
     "output_type": "execute_result"
    }
   ],
   "source": [
    "# s + t\n",
    "my_list1 = [10, 20, 30]\n",
    "my_list2 = [100, 200, 300]\n",
    "my_list1 + my_list2"
   ]
  },
  {
   "cell_type": "code",
   "execution_count": 22,
   "id": "f36760fe-24f2-4efb-a288-c33048131aa3",
   "metadata": {},
   "outputs": [
    {
     "data": {
      "text/plain": [
       "[[10, 20], [30, 40], [50, 60], [70, 80]]"
      ]
     },
     "execution_count": 22,
     "metadata": {},
     "output_type": "execute_result"
    }
   ],
   "source": [
    "my_list1 = [[10, 20], [30, 40]]\n",
    "my_list2 = [[50, 60], [70, 80]]\n",
    "my_list1 + my_list2"
   ]
  },
  {
   "cell_type": "code",
   "execution_count": 23,
   "id": "764c4929-814d-4d31-8e2b-52fe572ee4ff",
   "metadata": {},
   "outputs": [
    {
     "data": {
      "text/plain": [
       "[[10, 20], [30, 40], [10, 20], [30, 40]]"
      ]
     },
     "execution_count": 23,
     "metadata": {},
     "output_type": "execute_result"
    }
   ],
   "source": [
    "# s * n\n",
    "my_list1 * 2"
   ]
  },
  {
   "cell_type": "code",
   "execution_count": 24,
   "id": "6ab90bd8-0f04-4af4-83c8-382d6fa76552",
   "metadata": {},
   "outputs": [],
   "source": [
    "# t = s\n",
    "old_list = [10, 20, 30, 40, 50]\n",
    "new_list = old_list"
   ]
  },
  {
   "cell_type": "code",
   "execution_count": 25,
   "id": "4d652cb1-4c71-4cf6-90a5-cea7f96de9a9",
   "metadata": {},
   "outputs": [
    {
     "data": {
      "text/plain": [
       "[100, 20, 30, 40, 50]"
      ]
     },
     "execution_count": 25,
     "metadata": {},
     "output_type": "execute_result"
    }
   ],
   "source": [
    "old_list[0] = 100\n",
    "old_list"
   ]
  },
  {
   "cell_type": "code",
   "execution_count": 26,
   "id": "58540188-eff1-4919-acef-873683d441bd",
   "metadata": {},
   "outputs": [
    {
     "data": {
      "text/plain": [
       "[100, 20, 30, 40, 50]"
      ]
     },
     "execution_count": 26,
     "metadata": {},
     "output_type": "execute_result"
    }
   ],
   "source": [
    "new_list"
   ]
  },
  {
   "cell_type": "code",
   "execution_count": 27,
   "id": "b0f9eaad-67bb-4b74-8df9-f91cf96167f5",
   "metadata": {},
   "outputs": [
    {
     "data": {
      "text/plain": [
       "[100, 20, 30, 40, 500]"
      ]
     },
     "execution_count": 27,
     "metadata": {},
     "output_type": "execute_result"
    }
   ],
   "source": [
    "new_list[4] = 500\n",
    "new_list"
   ]
  },
  {
   "cell_type": "code",
   "execution_count": 28,
   "id": "7911eb10-8041-4bd1-812c-a17008281a28",
   "metadata": {},
   "outputs": [
    {
     "data": {
      "text/plain": [
       "[100, 20, 30, 40, 500]"
      ]
     },
     "execution_count": 28,
     "metadata": {},
     "output_type": "execute_result"
    }
   ],
   "source": [
    "old_list"
   ]
  },
  {
   "cell_type": "code",
   "execution_count": 29,
   "id": "81131a7b-762d-41df-ac5c-28b692a07069",
   "metadata": {},
   "outputs": [
    {
     "data": {
      "text/plain": [
       "[10, 20, 30, 40, 50]"
      ]
     },
     "execution_count": 29,
     "metadata": {},
     "output_type": "execute_result"
    }
   ],
   "source": [
    "# s.copy()\n",
    "old_list = [10, 20, 30, 40, 50]\n",
    "new_list = old_list.copy()\n",
    "new_list"
   ]
  },
  {
   "cell_type": "code",
   "execution_count": 30,
   "id": "eebecab8-97bd-424e-a4e4-9e8815e6b9cb",
   "metadata": {},
   "outputs": [
    {
     "data": {
      "text/plain": [
       "[100, 20, 30, 40, 50]"
      ]
     },
     "execution_count": 30,
     "metadata": {},
     "output_type": "execute_result"
    }
   ],
   "source": [
    "old_list[0] = 100\n",
    "old_list"
   ]
  },
  {
   "cell_type": "code",
   "execution_count": 31,
   "id": "4896d359-52b1-4025-94a1-c0b61a51f6f0",
   "metadata": {},
   "outputs": [
    {
     "data": {
      "text/plain": [
       "[10, 20, 30, 40, 50]"
      ]
     },
     "execution_count": 31,
     "metadata": {},
     "output_type": "execute_result"
    }
   ],
   "source": [
    "new_list"
   ]
  },
  {
   "cell_type": "code",
   "execution_count": 32,
   "id": "f07ab5d1-3886-4f67-b8b5-6d75c4c57c93",
   "metadata": {},
   "outputs": [
    {
     "data": {
      "text/plain": [
       "[10, 20, 30, 40, 50, 60]"
      ]
     },
     "execution_count": 32,
     "metadata": {},
     "output_type": "execute_result"
    }
   ],
   "source": [
    "# s.extend()\n",
    "num_list1 = [10, 20, 30]\n",
    "num_list2 = [40, 50, 60]\n",
    "num_list1.extend(num_list2)\n",
    "num_list1"
   ]
  },
  {
   "cell_type": "code",
   "execution_count": 33,
   "id": "5bfa5a14-1d49-4352-8af1-d8cb9ff9c548",
   "metadata": {},
   "outputs": [
    {
     "ename": "IndexError",
     "evalue": "list assignment index out of range",
     "output_type": "error",
     "traceback": [
      "\u001b[1;31m---------------------------------------------------------------------------\u001b[0m",
      "\u001b[1;31mIndexError\u001b[0m                                Traceback (most recent call last)",
      "Cell \u001b[1;32mIn[33], line 3\u001b[0m\n\u001b[0;32m      1\u001b[0m \u001b[38;5;66;03m# s.append()\u001b[39;00m\n\u001b[0;32m      2\u001b[0m vip_names \u001b[38;5;241m=\u001b[39m [\u001b[38;5;124m'\u001b[39m\u001b[38;5;124mNewton\u001b[39m\u001b[38;5;124m'\u001b[39m, \u001b[38;5;124m'\u001b[39m\u001b[38;5;124mEuler\u001b[39m\u001b[38;5;124m'\u001b[39m, \u001b[38;5;124m'\u001b[39m\u001b[38;5;124mGauss\u001b[39m\u001b[38;5;124m'\u001b[39m]\n\u001b[1;32m----> 3\u001b[0m \u001b[43mvip_names\u001b[49m\u001b[43m[\u001b[49m\u001b[38;5;241;43m3\u001b[39;49m\u001b[43m]\u001b[49m \u001b[38;5;241m=\u001b[39m \u001b[38;5;124m'\u001b[39m\u001b[38;5;124mKepler\u001b[39m\u001b[38;5;124m'\u001b[39m\n",
      "\u001b[1;31mIndexError\u001b[0m: list assignment index out of range"
     ]
    }
   ],
   "source": [
    "# s.append()\n",
    "vip_names = ['Newton', 'Euler', 'Gauss']\n",
    "vip_names[3] = 'Kepler'"
   ]
  },
  {
   "cell_type": "code",
   "execution_count": 34,
   "id": "44af7087-94a4-4435-af52-bd4cf2ac8757",
   "metadata": {},
   "outputs": [
    {
     "data": {
      "text/plain": [
       "['Newton', 'Euler', 'Gauss', 'Kepler']"
      ]
     },
     "execution_count": 34,
     "metadata": {},
     "output_type": "execute_result"
    }
   ],
   "source": [
    "vip_names.append('Kepler')\n",
    "vip_names"
   ]
  },
  {
   "cell_type": "code",
   "execution_count": 35,
   "id": "a14c5b38-da46-49d2-8e85-50d8442c7019",
   "metadata": {},
   "outputs": [
    {
     "data": {
      "text/plain": [
       "['Newton', 'Euler', 'Gauss']"
      ]
     },
     "execution_count": 35,
     "metadata": {},
     "output_type": "execute_result"
    }
   ],
   "source": [
    "# s.remove()\n",
    "vip_names.remove('Kepler')\n",
    "vip_names"
   ]
  },
  {
   "cell_type": "code",
   "execution_count": 36,
   "id": "ee1546ac-9cb2-4436-af75-b392520c7409",
   "metadata": {},
   "outputs": [
    {
     "ename": "ValueError",
     "evalue": "list.remove(x): x not in list",
     "output_type": "error",
     "traceback": [
      "\u001b[1;31m---------------------------------------------------------------------------\u001b[0m",
      "\u001b[1;31mValueError\u001b[0m                                Traceback (most recent call last)",
      "Cell \u001b[1;32mIn[36], line 2\u001b[0m\n\u001b[0;32m      1\u001b[0m \u001b[38;5;66;03m# s.pop()\u001b[39;00m\n\u001b[1;32m----> 2\u001b[0m \u001b[43mvip_names\u001b[49m\u001b[38;5;241;43m.\u001b[39;49m\u001b[43mremove\u001b[49m\u001b[43m(\u001b[49m\u001b[38;5;241;43m0\u001b[39;49m\u001b[43m)\u001b[49m\n",
      "\u001b[1;31mValueError\u001b[0m: list.remove(x): x not in list"
     ]
    }
   ],
   "source": [
    "# s.pop()\n",
    "vip_names.remove(0)"
   ]
  },
  {
   "cell_type": "code",
   "execution_count": 37,
   "id": "5abc1f9c-75b4-4ede-9234-7166836c90fb",
   "metadata": {},
   "outputs": [
    {
     "data": {
      "text/plain": [
       "'Newton'"
      ]
     },
     "execution_count": 37,
     "metadata": {},
     "output_type": "execute_result"
    }
   ],
   "source": [
    "vip_names.pop(0)"
   ]
  },
  {
   "cell_type": "code",
   "execution_count": 38,
   "id": "09e89509-18ff-4002-9b09-f4869065faf6",
   "metadata": {},
   "outputs": [
    {
     "data": {
      "text/plain": [
       "['Euler', 'Gauss']"
      ]
     },
     "execution_count": 38,
     "metadata": {},
     "output_type": "execute_result"
    }
   ],
   "source": [
    "vip_names"
   ]
  },
  {
   "cell_type": "code",
   "execution_count": 39,
   "id": "b196387c-f958-4712-a3e2-98467f49fbe6",
   "metadata": {},
   "outputs": [
    {
     "data": {
      "text/plain": [
       "[]"
      ]
     },
     "execution_count": 39,
     "metadata": {},
     "output_type": "execute_result"
    }
   ],
   "source": [
    "# s.clear()\n",
    "vip_names.clear()\n",
    "vip_names"
   ]
  },
  {
   "cell_type": "code",
   "execution_count": 40,
   "id": "48e3738b-8555-4f9a-95ec-cc96401c2072",
   "metadata": {},
   "outputs": [
    {
     "data": {
      "text/plain": [
       "['Newton']"
      ]
     },
     "execution_count": 40,
     "metadata": {},
     "output_type": "execute_result"
    }
   ],
   "source": [
    "# s.insert(i, x)\n",
    "vip_names.insert(0, 'Newton')\n",
    "vip_names"
   ]
  },
  {
   "cell_type": "code",
   "execution_count": 41,
   "id": "e7f9cedb-d7f2-41a0-b039-df20611e7640",
   "metadata": {},
   "outputs": [
    {
     "data": {
      "text/plain": [
       "['Euler', 'Newton', 'Gauss']"
      ]
     },
     "execution_count": 41,
     "metadata": {},
     "output_type": "execute_result"
    }
   ],
   "source": [
    "vip_names.insert(0, 'Euler')\n",
    "vip_names.insert(5, 'Gauss') # 5번째 index 는 없으므로 끝에 들어간다.\n",
    "vip_names"
   ]
  },
  {
   "cell_type": "code",
   "execution_count": 42,
   "id": "ba8fc2f4-3ae1-4ec1-90df-75c34d89e3d4",
   "metadata": {},
   "outputs": [
    {
     "data": {
      "text/plain": [
       "2"
      ]
     },
     "execution_count": 42,
     "metadata": {},
     "output_type": "execute_result"
    }
   ],
   "source": [
    "# s.index()\n",
    "# 몇 번쨰 index 인가\n",
    "vip_names.index('Gauss')"
   ]
  },
  {
   "cell_type": "code",
   "execution_count": 43,
   "id": "d1450673-d388-42d8-8ac6-2f3434e903c9",
   "metadata": {},
   "outputs": [
    {
     "data": {
      "text/plain": [
       "1"
      ]
     },
     "execution_count": 43,
     "metadata": {},
     "output_type": "execute_result"
    }
   ],
   "source": [
    "# s.count()\n",
    "vip_names.count('Newton')"
   ]
  },
  {
   "cell_type": "code",
   "execution_count": 44,
   "id": "efab4211-574e-4679-8e4d-02965fdd0ee2",
   "metadata": {},
   "outputs": [
    {
     "data": {
      "text/plain": [
       "['Euler', 'Gauss', 'Newton']"
      ]
     },
     "execution_count": 44,
     "metadata": {},
     "output_type": "execute_result"
    }
   ],
   "source": [
    "# s.sort()\n",
    "vip_names.sort()\n",
    "vip_names"
   ]
  },
  {
   "cell_type": "code",
   "execution_count": 45,
   "id": "39cfc8ae-9ffa-4e3e-bdff-8ec5783a5ed0",
   "metadata": {},
   "outputs": [
    {
     "data": {
      "text/plain": [
       "['a', 'b', 'c', 'd', 'e']"
      ]
     },
     "execution_count": 45,
     "metadata": {},
     "output_type": "execute_result"
    }
   ],
   "source": [
    "alphabet = ['b', 'c', 'a', 'e', 'd']\n",
    "alphabet.sort()\n",
    "alphabet"
   ]
  },
  {
   "cell_type": "code",
   "execution_count": 46,
   "id": "56749fdf-e71a-45b8-b1d2-e8b1fe084be9",
   "metadata": {},
   "outputs": [
    {
     "data": {
      "text/plain": [
       "[1, 2, 3, 4, 5]"
      ]
     },
     "execution_count": 46,
     "metadata": {},
     "output_type": "execute_result"
    }
   ],
   "source": [
    "numbers = [5, 3, 1, 2, 4]\n",
    "numbers.sort()\n",
    "numbers"
   ]
  },
  {
   "cell_type": "code",
   "execution_count": 47,
   "id": "7e711ebf-4914-4305-ac99-9851fe71320c",
   "metadata": {},
   "outputs": [
    {
     "ename": "TypeError",
     "evalue": "'<' not supported between instances of 'str' and 'bool'",
     "output_type": "error",
     "traceback": [
      "\u001b[1;31m---------------------------------------------------------------------------\u001b[0m",
      "\u001b[1;31mTypeError\u001b[0m                                 Traceback (most recent call last)",
      "Cell \u001b[1;32mIn[47], line 2\u001b[0m\n\u001b[0;32m      1\u001b[0m mixed \u001b[38;5;241m=\u001b[39m [\u001b[38;5;241m-\u001b[39m\u001b[38;5;241m1\u001b[39m, \u001b[38;5;28;01mFalse\u001b[39;00m, \u001b[38;5;124m'\u001b[39m\u001b[38;5;124ma\u001b[39m\u001b[38;5;124m'\u001b[39m, \u001b[38;5;28;01mTrue\u001b[39;00m, \u001b[38;5;241m5\u001b[39m, \u001b[38;5;124m'\u001b[39m\u001b[38;5;124mc\u001b[39m\u001b[38;5;124m'\u001b[39m]\n\u001b[1;32m----> 2\u001b[0m \u001b[43mmixed\u001b[49m\u001b[38;5;241;43m.\u001b[39;49m\u001b[43msort\u001b[49m\u001b[43m(\u001b[49m\u001b[43m)\u001b[49m\n\u001b[0;32m      3\u001b[0m \u001b[38;5;66;03m# 비교 불가능한 자료형이 있어서 sort 불가능\u001b[39;00m\n",
      "\u001b[1;31mTypeError\u001b[0m: '<' not supported between instances of 'str' and 'bool'"
     ]
    }
   ],
   "source": [
    "mixed = [-1, False, 'a', True, 5, 'c']\n",
    "mixed.sort()\n",
    "# 비교 불가능한 자료형이 있어서 sort 불가능"
   ]
  },
  {
   "cell_type": "code",
   "execution_count": 48,
   "id": "553bacdf-b559-4465-b176-5513e65a868e",
   "metadata": {},
   "outputs": [
    {
     "data": {
      "text/plain": [
       "[-1, False, True, 5]"
      ]
     },
     "execution_count": 48,
     "metadata": {},
     "output_type": "execute_result"
    }
   ],
   "source": [
    "mixed = [-1, False, 5, True]\n",
    "mixed.sort()\n",
    "mixed\n",
    "# False = 0, True = 1 취급"
   ]
  },
  {
   "cell_type": "code",
   "execution_count": 49,
   "id": "07604fe2-0a5f-44e6-86f4-062b11098ca9",
   "metadata": {},
   "outputs": [
    {
     "data": {
      "text/plain": [
       "['Euler', 'Gauss', 'Newton']"
      ]
     },
     "execution_count": 49,
     "metadata": {},
     "output_type": "execute_result"
    }
   ],
   "source": [
    "# s.reverse()\n",
    "vip_names"
   ]
  },
  {
   "cell_type": "code",
   "execution_count": 50,
   "id": "178462a7-c99c-485e-b58c-5ddf593f0f05",
   "metadata": {},
   "outputs": [
    {
     "data": {
      "text/plain": [
       "['Newton', 'Gauss', 'Euler']"
      ]
     },
     "execution_count": 50,
     "metadata": {},
     "output_type": "execute_result"
    }
   ],
   "source": [
    "vip_names.reverse()\n",
    "vip_names"
   ]
  },
  {
   "cell_type": "markdown",
   "id": "888414a5-7f6e-44bb-b601-ce5439699b89",
   "metadata": {},
   "source": [
    "### ▶ Set"
   ]
  },
  {
   "cell_type": "code",
   "execution_count": 51,
   "id": "d1f556a8-c982-4c20-a787-01f0f84a04ef",
   "metadata": {},
   "outputs": [
    {
     "ename": "TypeError",
     "evalue": "'set' object is not subscriptable",
     "output_type": "error",
     "traceback": [
      "\u001b[1;31m---------------------------------------------------------------------------\u001b[0m",
      "\u001b[1;31mTypeError\u001b[0m                                 Traceback (most recent call last)",
      "Cell \u001b[1;32mIn[51], line 2\u001b[0m\n\u001b[0;32m      1\u001b[0m my_set1 \u001b[38;5;241m=\u001b[39m {\u001b[38;5;241m10\u001b[39m, \u001b[38;5;241m20\u001b[39m, \u001b[38;5;241m30\u001b[39m}\n\u001b[1;32m----> 2\u001b[0m \u001b[43mmy_set1\u001b[49m\u001b[43m[\u001b[49m\u001b[38;5;241;43m0\u001b[39;49m\u001b[43m]\u001b[49m\n\u001b[0;32m      3\u001b[0m \u001b[38;5;66;03m# index 사용 불가능\u001b[39;00m\n",
      "\u001b[1;31mTypeError\u001b[0m: 'set' object is not subscriptable"
     ]
    }
   ],
   "source": [
    "my_set1 = {10, 20, 30}\n",
    "my_set1[0]\n",
    "# index 사용 불가능"
   ]
  },
  {
   "cell_type": "code",
   "execution_count": 52,
   "id": "0767105d-9633-4597-a2d8-ff4b3a47c815",
   "metadata": {},
   "outputs": [
    {
     "data": {
      "text/plain": [
       "{10, 20, 30}"
      ]
     },
     "execution_count": 52,
     "metadata": {},
     "output_type": "execute_result"
    }
   ],
   "source": [
    "my_set3 = {10, 20, 30, 20}\n",
    "my_set3\n",
    "# 자료 반복이 불가능"
   ]
  },
  {
   "cell_type": "code",
   "execution_count": 53,
   "id": "4afc31b6-41eb-4c2e-862e-8be374b1a15a",
   "metadata": {},
   "outputs": [
    {
     "data": {
      "text/plain": [
       "{10, 20, 30, 40, 50}"
      ]
     },
     "execution_count": 53,
     "metadata": {},
     "output_type": "execute_result"
    }
   ],
   "source": [
    "my_list4 = [10, 20, 30, 40, 50]\n",
    "my_set4 = set(my_list4)\n",
    "my_set4"
   ]
  },
  {
   "cell_type": "code",
   "execution_count": 54,
   "id": "ca955486-3a74-45c3-b579-b55bdb2225c3",
   "metadata": {},
   "outputs": [
    {
     "data": {
      "text/plain": [
       "{10, 20, 30}"
      ]
     },
     "execution_count": 54,
     "metadata": {},
     "output_type": "execute_result"
    }
   ],
   "source": [
    "# s.add\n",
    "my_set1.add(30)\n",
    "my_set1"
   ]
  },
  {
   "cell_type": "code",
   "execution_count": 55,
   "id": "f962dbbc-ec49-4c3e-bec9-d0a9ca46e05b",
   "metadata": {},
   "outputs": [
    {
     "data": {
      "text/plain": [
       "{10, 20, 30, 40}"
      ]
     },
     "execution_count": 55,
     "metadata": {},
     "output_type": "execute_result"
    }
   ],
   "source": [
    "my_set1.add(40)\n",
    "my_set1"
   ]
  },
  {
   "cell_type": "code",
   "execution_count": 56,
   "id": "d8949c32-7410-444f-b6c0-466bba27a493",
   "metadata": {},
   "outputs": [
    {
     "data": {
      "text/plain": [
       "{10, 20, 30, 40, 50}"
      ]
     },
     "execution_count": 56,
     "metadata": {},
     "output_type": "execute_result"
    }
   ],
   "source": [
    "# s.update()\n",
    "my_set1.update([30, 50])\n",
    "my_set1"
   ]
  },
  {
   "cell_type": "code",
   "execution_count": 57,
   "id": "828eb4eb-f638-4e65-a3bb-deb4dc0871de",
   "metadata": {},
   "outputs": [
    {
     "data": {
      "text/plain": [
       "{10, 20, 30, 40}"
      ]
     },
     "execution_count": 57,
     "metadata": {},
     "output_type": "execute_result"
    }
   ],
   "source": [
    "# s.discard()\n",
    "# 값 삭제\n",
    "my_set1.discard(50)\n",
    "my_set1"
   ]
  },
  {
   "cell_type": "code",
   "execution_count": 58,
   "id": "471b5891-6af2-4b15-9139-20bbb253c00f",
   "metadata": {},
   "outputs": [],
   "source": [
    "# discard vs remove\n",
    "# discard 는 없는 값을 discard 해도 되지만 remove 는 없는 값을 remove 시도하면 에러 발생\n",
    "my_set1.discard(50)"
   ]
  },
  {
   "cell_type": "code",
   "execution_count": 59,
   "id": "eeca374e-c850-4b3f-bbe6-b2bea91121de",
   "metadata": {},
   "outputs": [
    {
     "ename": "KeyError",
     "evalue": "50",
     "output_type": "error",
     "traceback": [
      "\u001b[1;31m---------------------------------------------------------------------------\u001b[0m",
      "\u001b[1;31mKeyError\u001b[0m                                  Traceback (most recent call last)",
      "Cell \u001b[1;32mIn[59], line 1\u001b[0m\n\u001b[1;32m----> 1\u001b[0m \u001b[43mmy_set1\u001b[49m\u001b[38;5;241;43m.\u001b[39;49m\u001b[43mremove\u001b[49m\u001b[43m(\u001b[49m\u001b[38;5;241;43m50\u001b[39;49m\u001b[43m)\u001b[49m\n",
      "\u001b[1;31mKeyError\u001b[0m: 50"
     ]
    }
   ],
   "source": [
    "my_set1.remove(50)"
   ]
  },
  {
   "cell_type": "code",
   "execution_count": 60,
   "id": "a02d3bcc-2b5e-47d4-8f0e-3530f88e4c2e",
   "metadata": {},
   "outputs": [
    {
     "data": {
      "text/plain": [
       "{10, 20, 30, 40, 50, 60, 70, 80}"
      ]
     },
     "execution_count": 60,
     "metadata": {},
     "output_type": "execute_result"
    }
   ],
   "source": [
    "# s.union()\n",
    "A = {10, 20, 30, 40, 50}\n",
    "B = {40, 50, 60, 70, 80}\n",
    "A | B"
   ]
  },
  {
   "cell_type": "code",
   "execution_count": 61,
   "id": "0b748659-92f4-4738-8b44-ddc627e9238a",
   "metadata": {},
   "outputs": [
    {
     "data": {
      "text/plain": [
       "{10, 20, 30, 40, 50, 60, 70, 80}"
      ]
     },
     "execution_count": 61,
     "metadata": {},
     "output_type": "execute_result"
    }
   ],
   "source": [
    "A.union(B)"
   ]
  },
  {
   "cell_type": "code",
   "execution_count": 62,
   "id": "bccd3221-a5b2-4954-b64c-c8433ac900e3",
   "metadata": {},
   "outputs": [
    {
     "data": {
      "text/plain": [
       "{10, 20, 30, 40, 50, 60, 70, 80}"
      ]
     },
     "execution_count": 62,
     "metadata": {},
     "output_type": "execute_result"
    }
   ],
   "source": [
    "B.union(A)"
   ]
  },
  {
   "cell_type": "code",
   "execution_count": 63,
   "id": "bd52a54d-2b8c-41ee-9efa-3d5db23c6ea8",
   "metadata": {},
   "outputs": [
    {
     "data": {
      "text/plain": [
       "{40, 50}"
      ]
     },
     "execution_count": 63,
     "metadata": {},
     "output_type": "execute_result"
    }
   ],
   "source": [
    "# s.intersection()\n",
    "A & B"
   ]
  },
  {
   "cell_type": "code",
   "execution_count": 64,
   "id": "ece9dfc3-aa36-492d-accc-ab8530403aff",
   "metadata": {},
   "outputs": [
    {
     "data": {
      "text/plain": [
       "{40, 50}"
      ]
     },
     "execution_count": 64,
     "metadata": {},
     "output_type": "execute_result"
    }
   ],
   "source": [
    "A.intersection(B)"
   ]
  },
  {
   "cell_type": "code",
   "execution_count": 65,
   "id": "a63d314c-425c-46fc-8a72-18efa417460b",
   "metadata": {},
   "outputs": [
    {
     "data": {
      "text/plain": [
       "{40, 50}"
      ]
     },
     "execution_count": 65,
     "metadata": {},
     "output_type": "execute_result"
    }
   ],
   "source": [
    "B.intersection(A)"
   ]
  },
  {
   "cell_type": "code",
   "execution_count": 66,
   "id": "239f065b-7142-4f19-bb50-c98857b0ac84",
   "metadata": {},
   "outputs": [
    {
     "data": {
      "text/plain": [
       "{10, 20, 30}"
      ]
     },
     "execution_count": 66,
     "metadata": {},
     "output_type": "execute_result"
    }
   ],
   "source": [
    "# s.difference()\n",
    "A - B"
   ]
  },
  {
   "cell_type": "code",
   "execution_count": 67,
   "id": "76ec24a5-6315-409c-a25e-180f74286a14",
   "metadata": {},
   "outputs": [
    {
     "data": {
      "text/plain": [
       "{10, 20, 30}"
      ]
     },
     "execution_count": 67,
     "metadata": {},
     "output_type": "execute_result"
    }
   ],
   "source": [
    "A.difference(B)"
   ]
  },
  {
   "cell_type": "code",
   "execution_count": 68,
   "id": "4ea6a275-0bf9-4ca8-8bc7-b50eea5c193d",
   "metadata": {},
   "outputs": [
    {
     "data": {
      "text/plain": [
       "{60, 70, 80}"
      ]
     },
     "execution_count": 68,
     "metadata": {},
     "output_type": "execute_result"
    }
   ],
   "source": [
    "B.difference(A)"
   ]
  },
  {
   "cell_type": "code",
   "execution_count": 69,
   "id": "93f554e9-e4ae-4ac9-b836-1f2950411032",
   "metadata": {},
   "outputs": [
    {
     "data": {
      "text/plain": [
       "{10, 20, 30, 60, 70, 80}"
      ]
     },
     "execution_count": 69,
     "metadata": {},
     "output_type": "execute_result"
    }
   ],
   "source": [
    "# s.symmetric_difference()\n",
    "# 겹치는 것 제외 출력\n",
    "A ^ B"
   ]
  },
  {
   "cell_type": "code",
   "execution_count": 70,
   "id": "14e0a216-f95d-4af5-af41-430624010f8e",
   "metadata": {},
   "outputs": [
    {
     "data": {
      "text/plain": [
       "{10, 20, 30, 60, 70, 80}"
      ]
     },
     "execution_count": 70,
     "metadata": {},
     "output_type": "execute_result"
    }
   ],
   "source": [
    "A.symmetric_difference(B)"
   ]
  },
  {
   "cell_type": "code",
   "execution_count": 71,
   "id": "88e94321-36cc-4783-af04-83818852e8f2",
   "metadata": {},
   "outputs": [
    {
     "data": {
      "text/plain": [
       "{10, 20, 30, 60, 70, 80}"
      ]
     },
     "execution_count": 71,
     "metadata": {},
     "output_type": "execute_result"
    }
   ],
   "source": [
    "B.symmetric_difference(A)"
   ]
  },
  {
   "cell_type": "code",
   "execution_count": 72,
   "id": "f156de2e-4fe6-42b7-8652-9e6361394497",
   "metadata": {},
   "outputs": [
    {
     "data": {
      "text/plain": [
       "True"
      ]
     },
     "execution_count": 72,
     "metadata": {},
     "output_type": "execute_result"
    }
   ],
   "source": [
    "# s.issubset()\n",
    "A = {10, 20, 30, 40, 50}\n",
    "B = {40}\n",
    "B.issubset(A)"
   ]
  },
  {
   "cell_type": "code",
   "execution_count": 73,
   "id": "8960187a-8947-40f4-8686-0d033cfe59ce",
   "metadata": {},
   "outputs": [
    {
     "data": {
      "text/plain": [
       "False"
      ]
     },
     "execution_count": 73,
     "metadata": {},
     "output_type": "execute_result"
    }
   ],
   "source": [
    "A.issubset(B)"
   ]
  },
  {
   "cell_type": "code",
   "execution_count": 74,
   "id": "e6f32d05-913e-400d-a416-798ced2a5545",
   "metadata": {},
   "outputs": [
    {
     "data": {
      "text/plain": [
       "True"
      ]
     },
     "execution_count": 74,
     "metadata": {},
     "output_type": "execute_result"
    }
   ],
   "source": [
    "# s.issuperset()\n",
    "A.issuperset(B)"
   ]
  },
  {
   "cell_type": "code",
   "execution_count": 75,
   "id": "7f5192de-a9de-4694-8d72-7ce79fa4ce0e",
   "metadata": {},
   "outputs": [
    {
     "data": {
      "text/plain": [
       "False"
      ]
     },
     "execution_count": 75,
     "metadata": {},
     "output_type": "execute_result"
    }
   ],
   "source": [
    "B.issuperset(A)"
   ]
  },
  {
   "cell_type": "markdown",
   "id": "ada123c9-83e1-4b39-baa9-d8874628cc98",
   "metadata": {},
   "source": [
    "### ▶ Frozenset"
   ]
  },
  {
   "cell_type": "code",
   "execution_count": 76,
   "id": "afec7a41-a8ce-461e-8652-a041bb608d88",
   "metadata": {},
   "outputs": [
    {
     "data": {
      "text/plain": [
       "frozenset({10, 20, 30, 40, 50, 60, 70, 80})"
      ]
     },
     "execution_count": 76,
     "metadata": {},
     "output_type": "execute_result"
    }
   ],
   "source": [
    "A = frozenset([10, 20, 30, 40, 50])\n",
    "B = frozenset([40, 50, 60, 70, 80])\n",
    "A | B"
   ]
  },
  {
   "cell_type": "code",
   "execution_count": 77,
   "id": "007ffd38-4604-41b9-bb61-e5c18a7525fd",
   "metadata": {},
   "outputs": [
    {
     "ename": "AttributeError",
     "evalue": "'frozenset' object has no attribute 'add'",
     "output_type": "error",
     "traceback": [
      "\u001b[1;31m---------------------------------------------------------------------------\u001b[0m",
      "\u001b[1;31mAttributeError\u001b[0m                            Traceback (most recent call last)",
      "Cell \u001b[1;32mIn[77], line 1\u001b[0m\n\u001b[1;32m----> 1\u001b[0m \u001b[43mA\u001b[49m\u001b[38;5;241;43m.\u001b[39;49m\u001b[43madd\u001b[49m(\u001b[38;5;241m100\u001b[39m)\n\u001b[0;32m      2\u001b[0m \u001b[38;5;66;03m# frozenset 은 비교는 가능하나 원소 터치 불가\u001b[39;00m\n",
      "\u001b[1;31mAttributeError\u001b[0m: 'frozenset' object has no attribute 'add'"
     ]
    }
   ],
   "source": [
    "A.add(100)\n",
    "# frozenset 은 비교는 가능하나 원소 터치 불가"
   ]
  },
  {
   "cell_type": "markdown",
   "id": "390c4030-40f6-41b4-ba12-bfc42374924e",
   "metadata": {},
   "source": [
    "### ▶ Dictionary"
   ]
  },
  {
   "cell_type": "code",
   "execution_count": 78,
   "id": "16751305-2ec9-4480-938c-8eb14d1ac244",
   "metadata": {},
   "outputs": [
    {
     "data": {
      "text/plain": [
       "'111-1111'"
      ]
     },
     "execution_count": 78,
     "metadata": {},
     "output_type": "execute_result"
    }
   ],
   "source": [
    "# dict['key'] → value\n",
    "phone_book = {'Dongsoo': '111-1111',\n",
    "              'Jason': '222-2222',\n",
    "              'David': '333-3333'}\n",
    "phone_book['Dongsoo']"
   ]
  },
  {
   "cell_type": "code",
   "execution_count": 79,
   "id": "7c4dbb59-a748-4ade-ba1d-6d6443bc575c",
   "metadata": {},
   "outputs": [
    {
     "data": {
      "text/plain": [
       "'111-1111'"
      ]
     },
     "execution_count": 79,
     "metadata": {},
     "output_type": "execute_result"
    }
   ],
   "source": [
    "phone_book.get('Dongsoo')"
   ]
  },
  {
   "cell_type": "code",
   "execution_count": 80,
   "id": "404b87ad-bc53-44dd-b0d6-a868d5b1e124",
   "metadata": {},
   "outputs": [
    {
     "data": {
      "text/plain": [
       "{'Dongsoo': '111-1111', 'Jason': '222-2222', 'David': '555-5555'}"
      ]
     },
     "execution_count": 80,
     "metadata": {},
     "output_type": "execute_result"
    }
   ],
   "source": [
    "phone_book['David'] = '555-5555'\n",
    "phone_book"
   ]
  },
  {
   "cell_type": "code",
   "execution_count": 81,
   "id": "dbc213c2-dc60-4454-a3e0-1b0f9dd22f1a",
   "metadata": {},
   "outputs": [
    {
     "data": {
      "text/plain": [
       "{'Dongsoo': '111-1111', 'Jason': '222-2222', 'David': '666-6666'}"
      ]
     },
     "execution_count": 81,
     "metadata": {},
     "output_type": "execute_result"
    }
   ],
   "source": [
    "phone_book.update({'David': '666-6666'})\n",
    "phone_book"
   ]
  },
  {
   "cell_type": "code",
   "execution_count": 82,
   "id": "25a20c4f-cde3-4129-8547-a9c612475939",
   "metadata": {},
   "outputs": [
    {
     "data": {
      "text/plain": [
       "True"
      ]
     },
     "execution_count": 82,
     "metadata": {},
     "output_type": "execute_result"
    }
   ],
   "source": [
    "'Jason' in phone_book"
   ]
  },
  {
   "cell_type": "code",
   "execution_count": 83,
   "id": "682ea10d-5c30-4acf-ac58-ba022d6d022c",
   "metadata": {},
   "outputs": [
    {
     "data": {
      "text/plain": [
       "'666-6666'"
      ]
     },
     "execution_count": 83,
     "metadata": {},
     "output_type": "execute_result"
    }
   ],
   "source": [
    "phone_book.pop('David')"
   ]
  },
  {
   "cell_type": "code",
   "execution_count": 84,
   "id": "f5ede039-95a2-4919-b942-ba5823860c8f",
   "metadata": {},
   "outputs": [
    {
     "data": {
      "text/plain": [
       "{'Dongsoo': '111-1111', 'Jason': '222-2222'}"
      ]
     },
     "execution_count": 84,
     "metadata": {},
     "output_type": "execute_result"
    }
   ],
   "source": [
    "phone_book"
   ]
  },
  {
   "cell_type": "code",
   "execution_count": 85,
   "id": "fea4d2d4-65c9-48b9-a829-964d3833faa6",
   "metadata": {},
   "outputs": [
    {
     "data": {
      "text/plain": [
       "{}"
      ]
     },
     "execution_count": 85,
     "metadata": {},
     "output_type": "execute_result"
    }
   ],
   "source": [
    "phone_book.clear()\n",
    "phone_book"
   ]
  },
  {
   "cell_type": "markdown",
   "id": "53cc4e87-4a9c-4b4e-baab-e808b08c2993",
   "metadata": {},
   "source": [
    "### ▶ Examples"
   ]
  },
  {
   "cell_type": "code",
   "execution_count": 86,
   "id": "7cb55b06-ba63-4dc0-83d1-d1007ed0dcac",
   "metadata": {},
   "outputs": [],
   "source": [
    "my_list = [10, 20, 30, 40, 50]\n",
    "my_tuple = (10, 20, 30, 40, 50)\n",
    "my_set = {10, 20, 30, 40, 50}"
   ]
  },
  {
   "cell_type": "code",
   "execution_count": 87,
   "id": "f47ef3d1-dc54-4bf4-9f43-d13178b9ee06",
   "metadata": {},
   "outputs": [
    {
     "data": {
      "text/plain": [
       "(5, 5, 5)"
      ]
     },
     "execution_count": 87,
     "metadata": {},
     "output_type": "execute_result"
    }
   ],
   "source": [
    "# len()\n",
    "len(my_list), len(my_tuple), len(my_set)"
   ]
  },
  {
   "cell_type": "code",
   "execution_count": 88,
   "id": "4a8cacb5-9a7b-4689-a021-239ec95a8c5c",
   "metadata": {},
   "outputs": [
    {
     "data": {
      "text/plain": [
       "50"
      ]
     },
     "execution_count": 88,
     "metadata": {},
     "output_type": "execute_result"
    }
   ],
   "source": [
    "# max()\n",
    "max(my_list)"
   ]
  },
  {
   "cell_type": "code",
   "execution_count": 89,
   "id": "34d71b85-c98b-4609-bcbc-fdfaa83fcd56",
   "metadata": {},
   "outputs": [
    {
     "data": {
      "text/plain": [
       "10"
      ]
     },
     "execution_count": 89,
     "metadata": {},
     "output_type": "execute_result"
    }
   ],
   "source": [
    "# min()\n",
    "min(my_list)"
   ]
  },
  {
   "cell_type": "code",
   "execution_count": 90,
   "id": "1b914bc8-4926-4ef2-9add-c7925937e3f6",
   "metadata": {},
   "outputs": [
    {
     "data": {
      "text/plain": [
       "True"
      ]
     },
     "execution_count": 90,
     "metadata": {},
     "output_type": "execute_result"
    }
   ],
   "source": [
    "# x in s\n",
    "30 in my_list"
   ]
  },
  {
   "cell_type": "code",
   "execution_count": 91,
   "id": "6096604d-aaba-4a4c-9579-6aac5ce58188",
   "metadata": {},
   "outputs": [
    {
     "data": {
      "text/plain": [
       "False"
      ]
     },
     "execution_count": 91,
     "metadata": {},
     "output_type": "execute_result"
    }
   ],
   "source": [
    "# x not in s\n",
    "30 not in my_list"
   ]
  },
  {
   "cell_type": "code",
   "execution_count": 92,
   "id": "317a21ea-0d0c-4152-8f22-d59461acacd4",
   "metadata": {},
   "outputs": [],
   "source": [
    "# List Unpacking\n",
    "member_list = ['Kevin', 24, 'Python']\n",
    "name = member_list[0]\n",
    "age = member_list[1]\n",
    "lan = member_list[2]"
   ]
  },
  {
   "cell_type": "code",
   "execution_count": 93,
   "id": "1c74e572-4122-4b20-9489-b20d23fc88ca",
   "metadata": {},
   "outputs": [],
   "source": [
    "name, age, lan = member_list"
   ]
  },
  {
   "cell_type": "code",
   "execution_count": 94,
   "id": "a076d6fd-1636-4dd3-9bf5-689abdffeb47",
   "metadata": {},
   "outputs": [
    {
     "data": {
      "text/plain": [
       "'Kevin'"
      ]
     },
     "execution_count": 94,
     "metadata": {},
     "output_type": "execute_result"
    }
   ],
   "source": [
    "name"
   ]
  },
  {
   "cell_type": "code",
   "execution_count": 95,
   "id": "5bede979-cb2c-4fe7-85e8-56b0eec36e0b",
   "metadata": {},
   "outputs": [
    {
     "data": {
      "text/plain": [
       "24"
      ]
     },
     "execution_count": 95,
     "metadata": {},
     "output_type": "execute_result"
    }
   ],
   "source": [
    "age"
   ]
  },
  {
   "cell_type": "code",
   "execution_count": 96,
   "id": "d70207bd-8561-4cdf-b5e2-655f0b23766f",
   "metadata": {},
   "outputs": [
    {
     "data": {
      "text/plain": [
       "'Python'"
      ]
     },
     "execution_count": 96,
     "metadata": {},
     "output_type": "execute_result"
    }
   ],
   "source": [
    "lan"
   ]
  },
  {
   "cell_type": "code",
   "execution_count": 97,
   "id": "56cfc6b6-ee69-42d9-ae1c-94ce71967114",
   "metadata": {},
   "outputs": [
    {
     "data": {
      "text/plain": [
       "['Kevin', 24, 'Python']"
      ]
     },
     "execution_count": 97,
     "metadata": {},
     "output_type": "execute_result"
    }
   ],
   "source": [
    "member_list"
   ]
  },
  {
   "cell_type": "code",
   "execution_count": 98,
   "id": "13a27927-01c2-4143-8eb1-e3df63640e8a",
   "metadata": {},
   "outputs": [],
   "source": [
    "# name 을 제외한 나머지가 pdata 로 들어간다.\n",
    "name, *pdata = member_list"
   ]
  },
  {
   "cell_type": "code",
   "execution_count": 99,
   "id": "6dd65959-25a6-4851-8d65-943473a5aee4",
   "metadata": {},
   "outputs": [
    {
     "data": {
      "text/plain": [
       "'Kevin'"
      ]
     },
     "execution_count": 99,
     "metadata": {},
     "output_type": "execute_result"
    }
   ],
   "source": [
    "name"
   ]
  },
  {
   "cell_type": "code",
   "execution_count": 100,
   "id": "baa30b54-946f-4bd0-8f44-c9f887c67bfc",
   "metadata": {},
   "outputs": [
    {
     "data": {
      "text/plain": [
       "[24, 'Python']"
      ]
     },
     "execution_count": 100,
     "metadata": {},
     "output_type": "execute_result"
    }
   ],
   "source": [
    "pdata"
   ]
  },
  {
   "cell_type": "code",
   "execution_count": 101,
   "id": "eb43f53f-95e4-407a-ad64-d5462f1faf2a",
   "metadata": {},
   "outputs": [],
   "source": [
    "num_list = [10, 20, 30, 40, 50]\n",
    "first, *rest = num_list"
   ]
  },
  {
   "cell_type": "code",
   "execution_count": 102,
   "id": "c28f6cc6-4de0-4abd-b718-4c4dfdfe1446",
   "metadata": {},
   "outputs": [
    {
     "data": {
      "text/plain": [
       "10"
      ]
     },
     "execution_count": 102,
     "metadata": {},
     "output_type": "execute_result"
    }
   ],
   "source": [
    "first"
   ]
  },
  {
   "cell_type": "code",
   "execution_count": 103,
   "id": "b7cb9159-e599-4727-97ca-ac6e943e7862",
   "metadata": {},
   "outputs": [
    {
     "data": {
      "text/plain": [
       "[20, 30, 40, 50]"
      ]
     },
     "execution_count": 103,
     "metadata": {},
     "output_type": "execute_result"
    }
   ],
   "source": [
    "rest"
   ]
  },
  {
   "cell_type": "code",
   "execution_count": 104,
   "id": "4d41b040-e0d7-4cae-8f21-a0a9c91a5202",
   "metadata": {},
   "outputs": [],
   "source": [
    "*rest, last = num_list"
   ]
  },
  {
   "cell_type": "code",
   "execution_count": 105,
   "id": "8544ba48-7440-4465-90bf-88bfec641d44",
   "metadata": {},
   "outputs": [
    {
     "data": {
      "text/plain": [
       "[10, 20, 30, 40]"
      ]
     },
     "execution_count": 105,
     "metadata": {},
     "output_type": "execute_result"
    }
   ],
   "source": [
    "rest"
   ]
  },
  {
   "cell_type": "code",
   "execution_count": 106,
   "id": "36e17404-d576-4d11-a8c2-54c1558797ef",
   "metadata": {},
   "outputs": [
    {
     "data": {
      "text/plain": [
       "50"
      ]
     },
     "execution_count": 106,
     "metadata": {},
     "output_type": "execute_result"
    }
   ],
   "source": [
    "last"
   ]
  },
  {
   "cell_type": "code",
   "execution_count": 107,
   "id": "f6cc54eb-f44c-44f9-9292-9018559cc845",
   "metadata": {},
   "outputs": [],
   "source": [
    "first, second, *rest = num_list"
   ]
  },
  {
   "cell_type": "code",
   "execution_count": 108,
   "id": "0425c809-c18e-4053-91f3-c8bf9c7138d1",
   "metadata": {},
   "outputs": [
    {
     "data": {
      "text/plain": [
       "10"
      ]
     },
     "execution_count": 108,
     "metadata": {},
     "output_type": "execute_result"
    }
   ],
   "source": [
    "first"
   ]
  },
  {
   "cell_type": "code",
   "execution_count": 109,
   "id": "60300013-5f0c-4bf5-ba0c-84ecc92e131f",
   "metadata": {},
   "outputs": [
    {
     "data": {
      "text/plain": [
       "20"
      ]
     },
     "execution_count": 109,
     "metadata": {},
     "output_type": "execute_result"
    }
   ],
   "source": [
    "second"
   ]
  },
  {
   "cell_type": "code",
   "execution_count": 110,
   "id": "3ec1ec67-ad5a-45fb-965d-aea12d4526a0",
   "metadata": {},
   "outputs": [
    {
     "data": {
      "text/plain": [
       "[30, 40, 50]"
      ]
     },
     "execution_count": 110,
     "metadata": {},
     "output_type": "execute_result"
    }
   ],
   "source": [
    "rest"
   ]
  },
  {
   "cell_type": "code",
   "execution_count": 111,
   "id": "c9769f40-4d3d-44a8-ba2f-0a1246106607",
   "metadata": {},
   "outputs": [],
   "source": [
    "first, *body, last = num_list"
   ]
  },
  {
   "cell_type": "code",
   "execution_count": 112,
   "id": "f90beae1-f396-42fe-b7ab-b3805f4b1499",
   "metadata": {},
   "outputs": [
    {
     "data": {
      "text/plain": [
       "10"
      ]
     },
     "execution_count": 112,
     "metadata": {},
     "output_type": "execute_result"
    }
   ],
   "source": [
    "first"
   ]
  },
  {
   "cell_type": "code",
   "execution_count": 113,
   "id": "6949e3a8-94a9-417b-938a-583d8a5edf04",
   "metadata": {},
   "outputs": [
    {
     "data": {
      "text/plain": [
       "[20, 30, 40]"
      ]
     },
     "execution_count": 113,
     "metadata": {},
     "output_type": "execute_result"
    }
   ],
   "source": [
    "body"
   ]
  },
  {
   "cell_type": "code",
   "execution_count": 114,
   "id": "df647e47-be56-4f0c-b9a6-5b123ee40b59",
   "metadata": {},
   "outputs": [
    {
     "data": {
      "text/plain": [
       "50"
      ]
     },
     "execution_count": 114,
     "metadata": {},
     "output_type": "execute_result"
    }
   ],
   "source": [
    "last"
   ]
  },
  {
   "cell_type": "code",
   "execution_count": 115,
   "id": "0f1e6ee6-669e-469b-91ba-e8b1eebddaf1",
   "metadata": {},
   "outputs": [],
   "source": [
    "# range()\n",
    "r = range(0, 20, 2)"
   ]
  },
  {
   "cell_type": "code",
   "execution_count": 116,
   "id": "5f99843a-3062-4e79-a799-996f5b21f968",
   "metadata": {},
   "outputs": [
    {
     "data": {
      "text/plain": [
       "False"
      ]
     },
     "execution_count": 116,
     "metadata": {},
     "output_type": "execute_result"
    }
   ],
   "source": [
    "11 in r"
   ]
  },
  {
   "cell_type": "code",
   "execution_count": 117,
   "id": "22cab115-8eab-41cc-b5de-3fa482ccfeeb",
   "metadata": {},
   "outputs": [
    {
     "data": {
      "text/plain": [
       "5"
      ]
     },
     "execution_count": 117,
     "metadata": {},
     "output_type": "execute_result"
    }
   ],
   "source": [
    "r.index(10)"
   ]
  },
  {
   "cell_type": "code",
   "execution_count": 118,
   "id": "31a1f5ce-d6a0-4e27-878d-df8d08b92a22",
   "metadata": {},
   "outputs": [
    {
     "data": {
      "text/plain": [
       "10"
      ]
     },
     "execution_count": 118,
     "metadata": {},
     "output_type": "execute_result"
    }
   ],
   "source": [
    "r[5]"
   ]
  },
  {
   "cell_type": "code",
   "execution_count": 119,
   "id": "7a2a191b-33cc-49a1-8662-2dba65f0edc3",
   "metadata": {},
   "outputs": [
    {
     "data": {
      "text/plain": [
       "range(0, 10, 2)"
      ]
     },
     "execution_count": 119,
     "metadata": {},
     "output_type": "execute_result"
    }
   ],
   "source": [
    "r[:5]"
   ]
  },
  {
   "cell_type": "code",
   "execution_count": 120,
   "id": "64c1a6e5-dc9d-462e-8194-28557c2925b7",
   "metadata": {},
   "outputs": [
    {
     "data": {
      "text/plain": [
       "[10, 20, 30, 40]"
      ]
     },
     "execution_count": 120,
     "metadata": {},
     "output_type": "execute_result"
    }
   ],
   "source": [
    "list(range(10, 50, 10))"
   ]
  },
  {
   "cell_type": "code",
   "execution_count": 121,
   "id": "8a0648f3-1bc6-42ff-a723-7cf9d0970192",
   "metadata": {},
   "outputs": [
    {
     "name": "stdout",
     "output_type": "stream",
     "text": [
      "0\n",
      "1\n",
      "2\n",
      "3\n",
      "4\n"
     ]
    }
   ],
   "source": [
    "for i in range(5):\n",
    "    print(i)"
   ]
  }
 ],
 "metadata": {
  "kernelspec": {
   "display_name": "Python 3 (ipykernel)",
   "language": "python",
   "name": "python3"
  },
  "language_info": {
   "codemirror_mode": {
    "name": "ipython",
    "version": 3
   },
   "file_extension": ".py",
   "mimetype": "text/x-python",
   "name": "python",
   "nbconvert_exporter": "python",
   "pygments_lexer": "ipython3",
   "version": "3.12.4"
  }
 },
 "nbformat": 4,
 "nbformat_minor": 5
}
