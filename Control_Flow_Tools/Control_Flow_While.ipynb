{
 "cells": [
  {
   "cell_type": "code",
   "execution_count": 1,
   "id": "620e9f8f-913b-493d-8587-32bd519687e3",
   "metadata": {},
   "outputs": [],
   "source": [
    "import time"
   ]
  },
  {
   "cell_type": "code",
   "execution_count": 2,
   "id": "015e658e-a358-4e79-8395-11bf88d1a29d",
   "metadata": {},
   "outputs": [
    {
     "name": "stdout",
     "output_type": "stream",
     "text": [
      "Kepler\n",
      "Remaining guest #: 2\n",
      "Newton\n",
      "Remaining guest #: 1\n",
      "Euler\n",
      "Remaining guest #: 0\n"
     ]
    }
   ],
   "source": [
    "vip_list = ['Kepler', 'Newton', 'Euler']\n",
    "while vip_list:\n",
    "    print(vip_list.pop(0))\n",
    "    print(f'Remaining guest #: {len(vip_list)}')"
   ]
  },
  {
   "cell_type": "code",
   "execution_count": 3,
   "id": "d4059748-b615-48fe-b11c-ddf2f669cf4f",
   "metadata": {},
   "outputs": [
    {
     "name": "stdout",
     "output_type": "stream",
     "text": [
      "# of Year = 1\n",
      "Current balance = 10500.0\n",
      "# of Year = 2\n",
      "Current balance = 11025.0\n",
      "# of Year = 3\n",
      "Current balance = 11576.25\n",
      "# of Year = 4\n",
      "Current balance = 12155.0625\n",
      "# of Year = 5\n",
      "Current balance = 12762.815625\n",
      "# of Year = 6\n",
      "Current balance = 13400.95640625\n",
      "# of Year = 7\n",
      "Current balance = 14071.0042265625\n",
      "# of Year = 8\n",
      "Current balance = 14774.554437890625\n",
      "# of Year = 9\n",
      "Current balance = 15513.282159785156\n",
      "# of Year = 10\n",
      "Current balance = 16288.946267774414\n",
      "# of Year = 11\n",
      "Current balance = 17103.393581163135\n",
      "# of Year = 12\n",
      "Current balance = 17958.56326022129\n",
      "# of Year = 13\n",
      "Current balance = 18856.491423232354\n",
      "# of Year = 14\n",
      "Current balance = 19799.31599439397\n",
      "# of Year = 15\n",
      "Current balance = 20789.28179411367\n"
     ]
    }
   ],
   "source": [
    "# balance example (잔고)\n",
    "balance = 10000\n",
    "interest = 0.05\n",
    "yr = 0\n",
    "while balance < 20000:\n",
    "    balance += balance*interest\n",
    "    yr += 1\n",
    "    print(f'# of Year = {yr}')\n",
    "    print(f'Current balance = {balance}')"
   ]
  }
 ],
 "metadata": {
  "kernelspec": {
   "display_name": "Python 3 (ipykernel)",
   "language": "python",
   "name": "python3"
  },
  "language_info": {
   "codemirror_mode": {
    "name": "ipython",
    "version": 3
   },
   "file_extension": ".py",
   "mimetype": "text/x-python",
   "name": "python",
   "nbconvert_exporter": "python",
   "pygments_lexer": "ipython3",
   "version": "3.12.4"
  }
 },
 "nbformat": 4,
 "nbformat_minor": 5
}
