{
 "cells": [
  {
   "cell_type": "code",
   "execution_count": 1,
   "id": "fe868d57-2222-4ade-931c-271afc88e9eb",
   "metadata": {},
   "outputs": [],
   "source": [
    "# pass : 실행하지 않고 지나간다. (코드가 아직 미완성인 경우)\n",
    "for x in range(5):\n",
    "    pass\n",
    "\n",
    "x = 1"
   ]
  },
  {
   "cell_type": "code",
   "execution_count": 2,
   "id": "7fde5127-3e03-4d57-8c18-6d114d0249ff",
   "metadata": {},
   "outputs": [],
   "source": [
    "if True:\n",
    "    pass\n",
    "\n",
    "x = 1"
   ]
  },
  {
   "cell_type": "code",
   "execution_count": 3,
   "id": "dde0cef5-5675-4b6e-a1eb-b36257ec4abc",
   "metadata": {},
   "outputs": [],
   "source": [
    "def my_fun():\n",
    "    #\n",
    "    #\n",
    "    pass"
   ]
  }
 ],
 "metadata": {
  "kernelspec": {
   "display_name": "Python 3 (ipykernel)",
   "language": "python",
   "name": "python3"
  },
  "language_info": {
   "codemirror_mode": {
    "name": "ipython",
    "version": 3
   },
   "file_extension": ".py",
   "mimetype": "text/x-python",
   "name": "python",
   "nbconvert_exporter": "python",
   "pygments_lexer": "ipython3",
   "version": "3.12.4"
  }
 },
 "nbformat": 4,
 "nbformat_minor": 5
}
