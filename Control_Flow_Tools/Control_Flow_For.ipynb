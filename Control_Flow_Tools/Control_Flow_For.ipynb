{
 "cells": [
  {
   "cell_type": "code",
   "execution_count": 1,
   "id": "288b2709-939d-4e98-8a07-ef15215736bb",
   "metadata": {},
   "outputs": [],
   "source": [
    "# iterable : 반복문을 사용하여 각 요소를 반복할 수 있으면 iterable 이라고 한다.\n",
    "import numpy as np\n",
    "\n",
    "x_list = [1, 2, 3]\n",
    "x_tuple = (1, 2, 3)\n",
    "x_set = {1, 2, 3}\n",
    "x_dict = {'a': 1, 'b': 2, 'c': 3}\n",
    "x_array = np.array([1, 2, 3])\n",
    "x_range = range(1, 4, 1)"
   ]
  },
  {
   "cell_type": "markdown",
   "id": "bc5ebb9a-a62f-429c-bcfb-8170e496d778",
   "metadata": {},
   "source": [
    "▶ For Loop"
   ]
  },
  {
   "cell_type": "code",
   "execution_count": 2,
   "id": "fbd451c0-99b6-460c-813c-2d456845f9c7",
   "metadata": {},
   "outputs": [
    {
     "name": "stdout",
     "output_type": "stream",
     "text": [
      "1\n",
      "2\n",
      "3\n"
     ]
    }
   ],
   "source": [
    "# list\n",
    "for num in x_list:\n",
    "    print(num)"
   ]
  },
  {
   "cell_type": "code",
   "execution_count": 3,
   "id": "2d223651-cab4-4d6e-bfee-6aafcbba892d",
   "metadata": {},
   "outputs": [
    {
     "name": "stdout",
     "output_type": "stream",
     "text": [
      "1\n",
      "2\n",
      "3\n"
     ]
    }
   ],
   "source": [
    "# tuple\n",
    "for num in x_tuple:\n",
    "    print(num)"
   ]
  },
  {
   "cell_type": "code",
   "execution_count": 4,
   "id": "4ad20a18-5b35-49e4-ad9b-096f537722ff",
   "metadata": {},
   "outputs": [
    {
     "name": "stdout",
     "output_type": "stream",
     "text": [
      "1\n",
      "2\n",
      "3\n"
     ]
    }
   ],
   "source": [
    "# set\n",
    "for num in x_set:\n",
    "    print(num)"
   ]
  },
  {
   "cell_type": "code",
   "execution_count": 5,
   "id": "b790d60d-0644-4f8d-b99c-5b1e96401b73",
   "metadata": {},
   "outputs": [
    {
     "name": "stdout",
     "output_type": "stream",
     "text": [
      "1\n",
      "2\n",
      "3\n"
     ]
    }
   ],
   "source": [
    "# array\n",
    "for num in x_array:\n",
    "    print(num)"
   ]
  },
  {
   "cell_type": "code",
   "execution_count": 6,
   "id": "f0aac2d7-8683-4f60-b0ae-618afc2abc74",
   "metadata": {},
   "outputs": [
    {
     "name": "stdout",
     "output_type": "stream",
     "text": [
      "1\n",
      "2\n",
      "3\n"
     ]
    }
   ],
   "source": [
    "# range\n",
    "for num in x_range:\n",
    "    print(num)"
   ]
  },
  {
   "cell_type": "code",
   "execution_count": 7,
   "id": "229abc35-2760-45ba-9237-444d84235e52",
   "metadata": {},
   "outputs": [
    {
     "name": "stdout",
     "output_type": "stream",
     "text": [
      "i=a\n",
      "i=b\n",
      "i=c\n",
      "i=d\n",
      "i=e\n"
     ]
    }
   ],
   "source": [
    "# string\n",
    "for i in 'abcde':\n",
    "    print('i='+i)"
   ]
  },
  {
   "cell_type": "code",
   "execution_count": 8,
   "id": "9197e95b-1cd0-497c-bd8a-c6370d3c2ffc",
   "metadata": {},
   "outputs": [
    {
     "name": "stdout",
     "output_type": "stream",
     "text": [
      "i=('P1', 20)\n",
      "i=('P2', 22)\n",
      "i=('P3', 25)\n"
     ]
    }
   ],
   "source": [
    "# dictionary\n",
    "D = {'P1': 20, 'P2': 22, 'P3': 25}\n",
    "for i in D.items(): # .values() / .keys() 도 가능\n",
    "    print('i='+str(i))"
   ]
  },
  {
   "cell_type": "code",
   "execution_count": 9,
   "id": "d738feb7-3a54-49cd-8096-fb2cbe747bcd",
   "metadata": {},
   "outputs": [
    {
     "name": "stdout",
     "output_type": "stream",
     "text": [
      "1 * 1 = 1\n",
      "1 * 2 = 2\n",
      "1 * 3 = 3\n",
      "2 * 1 = 2\n",
      "2 * 2 = 4\n",
      "2 * 3 = 6\n",
      "3 * 1 = 3\n",
      "3 * 2 = 6\n",
      "3 * 3 = 9\n"
     ]
    }
   ],
   "source": [
    "# multiple loops\n",
    "for i in [1, 2, 3]:\n",
    "    for j in [1, 2, 3]:\n",
    "        print(f'{i} * {j} = {i*j}')"
   ]
  },
  {
   "cell_type": "code",
   "execution_count": 10,
   "id": "865f376a-d548-49e4-b033-2abed3208759",
   "metadata": {},
   "outputs": [
    {
     "data": {
      "text/plain": [
       "1"
      ]
     },
     "execution_count": 10,
     "metadata": {},
     "output_type": "execute_result"
    }
   ],
   "source": [
    "# iterate()\n",
    "x_list = [1, 2, 3]\n",
    "x_iter = iter(x_list) # iter() : iterable 하게 만들어준다.\n",
    "next(x_iter) # 실행할때마다 다음 값이 출력된다."
   ]
  },
  {
   "cell_type": "code",
   "execution_count": 11,
   "id": "e1fb8183-f9ad-43de-8c55-64aa7dfca0d4",
   "metadata": {},
   "outputs": [
    {
     "data": {
      "text/plain": [
       "2"
      ]
     },
     "execution_count": 11,
     "metadata": {},
     "output_type": "execute_result"
    }
   ],
   "source": [
    "next(x_iter)"
   ]
  },
  {
   "cell_type": "code",
   "execution_count": 12,
   "id": "3e689cd9-3537-4735-b37f-2215ed4c8903",
   "metadata": {},
   "outputs": [
    {
     "data": {
      "text/plain": [
       "3"
      ]
     },
     "execution_count": 12,
     "metadata": {},
     "output_type": "execute_result"
    }
   ],
   "source": [
    "next(x_iter)"
   ]
  },
  {
   "cell_type": "code",
   "execution_count": 13,
   "id": "d34b9c3d-00c6-4486-9441-de6a3a09f6da",
   "metadata": {},
   "outputs": [
    {
     "name": "stdout",
     "output_type": "stream",
     "text": [
      "Inside For Loop\n",
      "Inside For Loop\n",
      "Inside For Loop\n",
      "Outside For Loop\n"
     ]
    }
   ],
   "source": [
    "# indentation\n",
    "for i in range(3):\n",
    "    print('Inside For Loop')\n",
    "print('Outside For Loop')"
   ]
  },
  {
   "cell_type": "code",
   "execution_count": 14,
   "id": "a6b453fe-306c-47a3-a7bc-ad36d94f124a",
   "metadata": {},
   "outputs": [
    {
     "name": "stdout",
     "output_type": "stream",
     "text": [
      "Inside For Loop\n",
      "Outside For Loop\n",
      "Inside For Loop\n",
      "Outside For Loop\n",
      "Inside For Loop\n",
      "Outside For Loop\n"
     ]
    }
   ],
   "source": [
    "for i in range(3):\n",
    "    print('Inside For Loop')\n",
    "    print('Outside For Loop')"
   ]
  },
  {
   "cell_type": "code",
   "execution_count": 15,
   "id": "6949cf5d-d5c4-4fb7-85d5-0bbba1e66e81",
   "metadata": {},
   "outputs": [],
   "source": [
    "# enumerate()\n",
    "M = np.array([10, 20, 30])\n",
    "VIP = ['Newton', 'Kepler', 'Euler']\n",
    "PD = {'P1': 25, 'P2': 28, 'P3': 24}"
   ]
  },
  {
   "cell_type": "code",
   "execution_count": 16,
   "id": "3d2f05a5-db0e-4297-9dc4-7a4fe6ff4673",
   "metadata": {},
   "outputs": [
    {
     "name": "stdout",
     "output_type": "stream",
     "text": [
      "0\n",
      "Newton\n",
      "\n",
      "1\n",
      "Kepler\n",
      "\n",
      "2\n",
      "Euler\n",
      "\n"
     ]
    }
   ],
   "source": [
    "for idx, value in enumerate(VIP):\n",
    "    print(idx)\n",
    "    print(value)\n",
    "    print('')"
   ]
  },
  {
   "cell_type": "code",
   "execution_count": 17,
   "id": "7d31279f-bd9b-48e7-a17d-bad23966d97b",
   "metadata": {},
   "outputs": [
    {
     "name": "stdout",
     "output_type": "stream",
     "text": [
      "0\n",
      "25\n",
      "\n",
      "1\n",
      "28\n",
      "\n",
      "2\n",
      "24\n",
      "\n"
     ]
    }
   ],
   "source": [
    "for idx, value in enumerate(PD.values()):\n",
    "    print(idx)\n",
    "    print(value)\n",
    "    print('')"
   ]
  },
  {
   "cell_type": "code",
   "execution_count": 18,
   "id": "9f7aa5c3-f08c-4e6c-aef7-5137c4469477",
   "metadata": {},
   "outputs": [
    {
     "name": "stdout",
     "output_type": "stream",
     "text": [
      "1\n",
      "\n",
      "2\n",
      "\n",
      "3\n",
      "\n"
     ]
    }
   ],
   "source": [
    "for cnt, value in enumerate(PD.values(), start=1):\n",
    "    print(cnt)\n",
    "    print('')"
   ]
  },
  {
   "cell_type": "code",
   "execution_count": 19,
   "id": "6707f6c5-d70b-42b4-b2ac-9292f144606d",
   "metadata": {},
   "outputs": [
    {
     "name": "stdout",
     "output_type": "stream",
     "text": [
      "(10, 'Newton')\n",
      "(20, 'Kepler')\n",
      "(30, 'Euler')\n"
     ]
    }
   ],
   "source": [
    "# zip() : 여러 컨테이너를 한번에\n",
    "for i in zip(M, VIP):\n",
    "    print(i)"
   ]
  },
  {
   "cell_type": "code",
   "execution_count": 20,
   "id": "661f14c7-c228-418b-bad2-37a67681bc54",
   "metadata": {},
   "outputs": [
    {
     "name": "stdout",
     "output_type": "stream",
     "text": [
      "[10, 'Newton', 'P1']\n",
      "[20, 'Kepler', 'P2']\n",
      "[30, 'Euler', 'P3']\n"
     ]
    }
   ],
   "source": [
    "for i in zip(M, VIP, PD):\n",
    "    print(list(i))"
   ]
  },
  {
   "cell_type": "markdown",
   "id": "0d56f226-8b1f-494d-9a1c-1403ae96bfd3",
   "metadata": {},
   "source": [
    "▶ For Loop Examples"
   ]
  },
  {
   "cell_type": "code",
   "execution_count": 21,
   "id": "cc224681-d2fa-4cbd-bf76-f6b7594efc79",
   "metadata": {},
   "outputs": [
    {
     "name": "stdout",
     "output_type": "stream",
     "text": [
      "Best Company. Tel: 777- 7777\n",
      "\n",
      "Best Company. Tel: 777- 7777\n",
      "\n",
      "Best Company. Tel: 777- 7777\n",
      "\n"
     ]
    }
   ],
   "source": [
    "# example 1 - for loop\n",
    "s = 'Best Company. Tel: 777- 7777'\n",
    "for i in range(3):\n",
    "    print(s)\n",
    "    print('')"
   ]
  },
  {
   "cell_type": "code",
   "execution_count": 22,
   "id": "4251dfde-93e5-4580-ab84-ce6b0f4169a0",
   "metadata": {},
   "outputs": [
    {
     "name": "stdout",
     "output_type": "stream",
     "text": [
      "Name: Newton\n",
      "Great Party 2020\n",
      "\n",
      "Name: Kepler\n",
      "Great Party 2020\n",
      "\n",
      "Name: Euler\n",
      "Great Party 2020\n",
      "\n"
     ]
    }
   ],
   "source": [
    "# example 2 - for loop\n",
    "for i in VIP:\n",
    "    print('Name: '+i)\n",
    "    print('Great Party 2020')\n",
    "    print('')"
   ]
  },
  {
   "cell_type": "code",
   "execution_count": 23,
   "id": "56c27c48-07d9-4244-9aa6-175839c4f7fb",
   "metadata": {},
   "outputs": [
    {
     "name": "stdout",
     "output_type": "stream",
     "text": [
      "[100.   0.   0.   0.   0.]\n",
      "[100. 400.   0.   0.   0.]\n",
      "[100. 400. 900.   0.   0.]\n",
      "[ 100.  400.  900. 1600.    0.]\n",
      "[ 100.  400.  900. 1600. 2500.]\n"
     ]
    }
   ],
   "source": [
    "# example 3 - for loop\n",
    "x = np.array([10, 20, 30, 40, 50])\n",
    "y = np.zeros(x.shape)\n",
    "for idx, value in enumerate(x):\n",
    "    y[idx] = value ** 2\n",
    "    print(y)"
   ]
  },
  {
   "cell_type": "code",
   "execution_count": 24,
   "id": "170c7d5d-ce05-4590-b81f-0523040ff6c1",
   "metadata": {},
   "outputs": [
    {
     "name": "stdout",
     "output_type": "stream",
     "text": [
      "[0 1 1]\n",
      "[0 1 1 2]\n",
      "[0 1 1 2 3]\n"
     ]
    }
   ],
   "source": [
    "# fibonacci task\n",
    "fib = np.array([0, 1])\n",
    "N = 5\n",
    "for i in range(N-2):\n",
    "    fib = np.append(fib, fib[-1] + fib[-2])\n",
    "    print(fib)"
   ]
  },
  {
   "cell_type": "code",
   "execution_count": 25,
   "id": "6ea1f7e2-6885-4b10-a965-5e0dd7f9cc7d",
   "metadata": {},
   "outputs": [
    {
     "name": "stdout",
     "output_type": "stream",
     "text": [
      "0\n",
      "1\n",
      "1\n",
      "2\n",
      "3\n",
      "5\n",
      "8\n",
      "13\n",
      "21\n",
      "34\n"
     ]
    }
   ],
   "source": [
    "a, b = 0, 1\n",
    "for i in range(10):\n",
    "    print(a)\n",
    "    a, b = b, a+b"
   ]
  },
  {
   "cell_type": "code",
   "execution_count": 26,
   "id": "4f0d2419-c555-4e42-8643-29416515c8cb",
   "metadata": {},
   "outputs": [
    {
     "data": {
      "image/png": "[encoded data removed]",
      "text/plain": [
       "<Figure size 640x480 with 1 Axes>"
      ]
     },
     "metadata": {},
     "output_type": "display_data"
    }
   ],
   "source": [
    "# animation graph\n",
    "import matplotlib.pyplot as plt\n",
    "t = np.linspace(0, 1, 100)\n",
    "phase = 0\n",
    "y = np.sin(2*np.pi*1*(t-phase))\n",
    "\n",
    "fig, ax = plt.subplots()\n",
    "line, = ax.plot(t, y)\n",
    "ax.set_xlabel('t [s]')\n",
    "ax.set_ylabel('Sin Graph')\n",
    "\n",
    "phase_array = np.linspace(0, 1, 10)\n",
    "for phase in phase_array:\n",
    "    y = np.sin(2*np.pi*1*(t-phase))\n",
    "    line.set_ydata(y)\n",
    "    plt.pause(1)\n",
    "# ※ spyder 에서 graphics : Qt5 로 설정 후 실행"
   ]
  }
 ],
 "metadata": {
  "kernelspec": {
   "display_name": "Python 3 (ipykernel)",
   "language": "python",
   "name": "python3"
  },
  "language_info": {
   "codemirror_mode": {
    "name": "ipython",
    "version": 3
   },
   "file_extension": ".py",
   "mimetype": "text/x-python",
   "name": "python",
   "nbconvert_exporter": "python",
   "pygments_lexer": "ipython3",
   "version": "3.12.4"
  }
 },
 "nbformat": 4,
 "nbformat_minor": 5
}
