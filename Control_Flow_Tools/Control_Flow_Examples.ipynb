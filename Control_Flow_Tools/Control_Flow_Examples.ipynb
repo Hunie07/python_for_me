{
 "cells": [
  {
   "cell_type": "code",
   "execution_count": 1,
   "id": "31a0bf51-49a7-48e4-b729-08f7c8d7717b",
   "metadata": {},
   "outputs": [],
   "source": [
    "import numpy as np"
   ]
  },
  {
   "cell_type": "code",
   "execution_count": 2,
   "id": "acd5d36d-1141-4975-a9e9-86b4b31cd0e7",
   "metadata": {},
   "outputs": [],
   "source": [
    "# find max\n",
    "x = np.array([10, 15, 13, 12, 11])\n",
    "\n",
    "num_max = np.NINF # negative infinity\n",
    "for i in x:\n",
    "    num_curr = i\n",
    "    if num_max < num_curr:\n",
    "        num_max = num_curr\n",
    "# 현재 num 이 num_max 보다 크면 새로운 max 값으로 설정"
   ]
  },
  {
   "cell_type": "code",
   "execution_count": 3,
   "id": "4e32aaa2-9b14-4141-b084-fd3daca5cac1",
   "metadata": {},
   "outputs": [
    {
     "data": {
      "text/plain": [
       "15"
      ]
     },
     "execution_count": 3,
     "metadata": {},
     "output_type": "execute_result"
    }
   ],
   "source": [
    "num_max"
   ]
  },
  {
   "cell_type": "code",
   "execution_count": 4,
   "id": "264bc7a0-427d-49bc-b2bb-0db606cf3df0",
   "metadata": {},
   "outputs": [
    {
     "name": "stdout",
     "output_type": "stream",
     "text": [
      "1.0 is odd number\n",
      "2.0 is even number\n",
      "3.0 is odd number\n",
      "4.0 is even number\n",
      "5.0 is odd number\n",
      "6.0 is even number\n"
     ]
    }
   ],
   "source": [
    "# even and odd numbers\n",
    "x = np.array([1., 2., 3., 4., 5., 6.])\n",
    "for i in x:\n",
    "    if i % 2 == 0:\n",
    "        print(f'{i} is even number')\n",
    "    else:\n",
    "        print(f'{i} is odd number')"
   ]
  },
  {
   "cell_type": "code",
   "execution_count": 5,
   "id": "7b03ef58-9ac0-4503-acba-42439b426635",
   "metadata": {},
   "outputs": [
    {
     "name": "stdin",
     "output_type": "stream",
     "text": [
      "ID :  u1\n",
      "PW :  ········\n"
     ]
    },
    {
     "name": "stdout",
     "output_type": "stream",
     "text": [
      "Try again!\n",
      "2 attempts left\n"
     ]
    },
    {
     "name": "stdin",
     "output_type": "stream",
     "text": [
      "ID :  u1\n",
      "PW :  ········\n"
     ]
    },
    {
     "name": "stdout",
     "output_type": "stream",
     "text": [
      "Log in successful!\n"
     ]
    }
   ],
   "source": [
    "# UI example\n",
    "import getpass\n",
    "\n",
    "DATABASE = {'u1': 'aaa',\n",
    "            'u2': 'bbb',\n",
    "            'u3': 'ccc'}\n",
    "password_attempts = 3\n",
    "while password_attempts > 0:\n",
    "    user_id = input('ID : ')\n",
    "    user_ps = getpass.getpass('PW : ') # 비밀번호를 보안상 점 형태로 표시되게 하는 기능\n",
    "    if user_id in DATABASE.keys() and user_ps in DATABASE.values():\n",
    "        print('Log in successful!')\n",
    "        break\n",
    "    else:\n",
    "        password_attempts -= 1\n",
    "        print('Try again!')\n",
    "        print(f'{password_attempts} attempts left')"
   ]
  }
 ],
 "metadata": {
  "kernelspec": {
   "display_name": "Python 3 (ipykernel)",
   "language": "python",
   "name": "python3"
  },
  "language_info": {
   "codemirror_mode": {
    "name": "ipython",
    "version": 3
   },
   "file_extension": ".py",
   "mimetype": "text/x-python",
   "name": "python",
   "nbconvert_exporter": "python",
   "pygments_lexer": "ipython3",
   "version": "3.12.4"
  }
 },
 "nbformat": 4,
 "nbformat_minor": 5
}
