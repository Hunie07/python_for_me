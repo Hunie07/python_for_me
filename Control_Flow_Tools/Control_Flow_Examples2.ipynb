{
 "cells": [
  {
   "cell_type": "code",
   "execution_count": 1,
   "id": "7b5bd3e0-a4e2-41c5-8e21-79e7088650c1",
   "metadata": {},
   "outputs": [],
   "source": [
    "import sys, os"
   ]
  },
  {
   "cell_type": "code",
   "execution_count": 2,
   "id": "1fb5909b-a7b4-4236-9e13-acad57e79be8",
   "metadata": {},
   "outputs": [
    {
     "data": {
      "text/plain": [
       "'C:\\\\Users\\\\Hunie\\\\Gongbro_Review'"
      ]
     },
     "execution_count": 2,
     "metadata": {},
     "output_type": "execute_result"
    }
   ],
   "source": [
    "os.getcwd()"
   ]
  },
  {
   "cell_type": "code",
   "execution_count": null,
   "id": "d4e24725-351f-4ebe-a5fb-78820c07da92",
   "metadata": {},
   "outputs": [],
   "source": [
    "os.mkdir('my_dir')"
   ]
  },
  {
   "cell_type": "code",
   "execution_count": 3,
   "id": "d457d7a6-ab1c-4f17-a811-d7b1b3199f5d",
   "metadata": {},
   "outputs": [],
   "source": [
    "os.chdir('.\\\\my_dir')"
   ]
  },
  {
   "cell_type": "code",
   "execution_count": 4,
   "id": "7e32586b-bb2c-43dc-a330-d1e64b521977",
   "metadata": {},
   "outputs": [
    {
     "data": {
      "text/plain": [
       "'C:\\\\Users\\\\Hunie\\\\Gongbro_Review\\\\my_dir'"
      ]
     },
     "execution_count": 4,
     "metadata": {},
     "output_type": "execute_result"
    }
   ],
   "source": [
    "os.getcwd()"
   ]
  },
  {
   "cell_type": "code",
   "execution_count": 5,
   "id": "deac00cc-c7d5-4c99-993e-885b732cd214",
   "metadata": {},
   "outputs": [],
   "source": [
    "for i in range(100):\n",
    "    f = open('file'+str(i), 'w')\n",
    "    f.close()"
   ]
  },
  {
   "cell_type": "code",
   "execution_count": 6,
   "id": "caf3d32d-4c62-441e-bcb1-a910d27f5ec5",
   "metadata": {},
   "outputs": [],
   "source": [
    "# rename files\n",
    "flist = os.listdir('.')\n",
    "for fid in flist:\n",
    "    if 'nb_checkpoints' in fid:\n",
    "        continue\n",
    "    f_name = fid[0:4]\n",
    "    f_num = fid[4:]\n",
    "    if int(f_num) < 50:\n",
    "        os.replace(fid, '2023_'+fid)\n",
    "    else:\n",
    "        os.replace(fid, '2024_'+fid)"
   ]
  },
  {
   "cell_type": "code",
   "execution_count": 7,
   "id": "ff4de8ad-8262-406b-8a09-613748ff2510",
   "metadata": {},
   "outputs": [],
   "source": [
    "# create directories\n",
    "os.mkdir('2023_data')\n",
    "os.mkdir('2024_data')"
   ]
  },
  {
   "cell_type": "code",
   "execution_count": 8,
   "id": "e4497c79-5123-4565-a0b0-4cb499909a30",
   "metadata": {
    "scrolled": true
   },
   "outputs": [
    {
     "data": {
      "text/plain": [
       "('.ipynb_checkpoints', '2023_file9', 103)"
      ]
     },
     "execution_count": 8,
     "metadata": {},
     "output_type": "execute_result"
    }
   ],
   "source": [
    "# move to directory\n",
    "flist = os.listdir('.')\n",
    "flist[0], flist[51], len(flist) # file 뿐만 아니라 directory 이름도 포함되어 있다."
   ]
  },
  {
   "cell_type": "code",
   "execution_count": 9,
   "id": "6bd17d84-74e8-469f-8eb2-e772933b9c47",
   "metadata": {},
   "outputs": [
    {
     "data": {
      "text/plain": [
       "100"
      ]
     },
     "execution_count": 9,
     "metadata": {},
     "output_type": "execute_result"
    }
   ],
   "source": [
    "# filter - method 1\n",
    "from itertools import compress\n",
    "idx = list(map(lambda x: 'file' in x, flist)) # flist 에서 'file' 이 포함된 것들만 list 로 생성\n",
    "flist2 = list(compress(flist, idx))\n",
    "len(flist2) # file 만 포함된 모습"
   ]
  },
  {
   "cell_type": "code",
   "execution_count": 10,
   "id": "6133019a-53db-4d51-bdc8-72d103e70bc4",
   "metadata": {},
   "outputs": [
    {
     "data": {
      "text/plain": [
       "100"
      ]
     },
     "execution_count": 10,
     "metadata": {},
     "output_type": "execute_result"
    }
   ],
   "source": [
    "# filter - method 2\n",
    "flist3 = list(filter(lambda x: 'file' in x, flist))\n",
    "len(flist3)"
   ]
  },
  {
   "cell_type": "code",
   "execution_count": 11,
   "id": "ae8459bd-3cc7-47dd-8127-6c5397ce643b",
   "metadata": {},
   "outputs": [
    {
     "data": {
      "text/plain": [
       "100"
      ]
     },
     "execution_count": 11,
     "metadata": {},
     "output_type": "execute_result"
    }
   ],
   "source": [
    "# method 3\n",
    "flist4 = [x for x in flist if 'file' in x]\n",
    "len(flist4)"
   ]
  },
  {
   "cell_type": "code",
   "execution_count": 12,
   "id": "3e15bcc7-3b40-4f22-a04e-3ec35ea7e91a",
   "metadata": {},
   "outputs": [
    {
     "data": {
      "text/plain": [
       "100"
      ]
     },
     "execution_count": 12,
     "metadata": {},
     "output_type": "execute_result"
    }
   ],
   "source": [
    "# method 4\n",
    "import glob\n",
    "flist5 = glob.glob('*file*')\n",
    "len(flist5)"
   ]
  },
  {
   "cell_type": "code",
   "execution_count": 13,
   "id": "63a27ce5-3bd5-439c-95f9-e8a370ed5d34",
   "metadata": {},
   "outputs": [
    {
     "data": {
      "text/plain": [
       "[]"
      ]
     },
     "execution_count": 13,
     "metadata": {},
     "output_type": "execute_result"
    }
   ],
   "source": [
    "# glob usage\n",
    "glob.glob('file?') # file 로 시작하는 파일들"
   ]
  },
  {
   "cell_type": "code",
   "execution_count": 14,
   "id": "8407175d-f068-431f-9cb7-0c38982ece58",
   "metadata": {},
   "outputs": [
    {
     "data": {
      "text/plain": [
       "['2023_file0',\n",
       " '2023_file1',\n",
       " '2023_file2',\n",
       " '2023_file3',\n",
       " '2023_file4',\n",
       " '2023_file5',\n",
       " '2023_file6',\n",
       " '2023_file7',\n",
       " '2023_file8',\n",
       " '2023_file9']"
      ]
     },
     "execution_count": 14,
     "metadata": {},
     "output_type": "execute_result"
    }
   ],
   "source": [
    "glob.glob('2023_file?') # 2023_file + 문자 한개로 구성된 파일들"
   ]
  },
  {
   "cell_type": "code",
   "execution_count": 15,
   "id": "ca61ac4a-f9fc-46f1-ba83-effee1828a1a",
   "metadata": {},
   "outputs": [
    {
     "data": {
      "text/plain": [
       "['2023_file10',\n",
       " '2023_file11',\n",
       " '2023_file12',\n",
       " '2023_file13',\n",
       " '2023_file14',\n",
       " '2023_file15',\n",
       " '2023_file16',\n",
       " '2023_file17',\n",
       " '2023_file18',\n",
       " '2023_file19',\n",
       " '2023_file20',\n",
       " '2023_file21',\n",
       " '2023_file22',\n",
       " '2023_file23',\n",
       " '2023_file24',\n",
       " '2023_file25',\n",
       " '2023_file26',\n",
       " '2023_file27',\n",
       " '2023_file28',\n",
       " '2023_file29',\n",
       " '2023_file30',\n",
       " '2023_file31',\n",
       " '2023_file32',\n",
       " '2023_file33',\n",
       " '2023_file34',\n",
       " '2023_file35',\n",
       " '2023_file36',\n",
       " '2023_file37',\n",
       " '2023_file38',\n",
       " '2023_file39',\n",
       " '2023_file40',\n",
       " '2023_file41',\n",
       " '2023_file42',\n",
       " '2023_file43',\n",
       " '2023_file44',\n",
       " '2023_file45',\n",
       " '2023_file46',\n",
       " '2023_file47',\n",
       " '2023_file48',\n",
       " '2023_file49']"
      ]
     },
     "execution_count": 15,
     "metadata": {},
     "output_type": "execute_result"
    }
   ],
   "source": [
    "glob.glob('2023_file??') # 2023_file + 문자 두개로 구성된 파일들"
   ]
  },
  {
   "cell_type": "code",
   "execution_count": 16,
   "id": "221a8951-5a2c-4085-8715-783802fa4605",
   "metadata": {},
   "outputs": [
    {
     "data": {
      "text/plain": [
       "['2023_file1', '2023_file5']"
      ]
     },
     "execution_count": 16,
     "metadata": {},
     "output_type": "execute_result"
    }
   ],
   "source": [
    "glob.glob('2023_file[1, 5]') # 2023_file + 1 혹은 5 가 들어간 파일"
   ]
  },
  {
   "cell_type": "code",
   "execution_count": 17,
   "id": "e3832034-42c5-4753-a388-7f262a9a3762",
   "metadata": {},
   "outputs": [],
   "source": [
    "# move files to folder\n",
    "import shutil\n",
    "for f_curr in flist4:\n",
    "    f_name = f_curr[0:9]\n",
    "    f_num = f_curr[9:]\n",
    "    if int(f_num) < 50:\n",
    "        shutil.move(f_curr, '.\\\\2023_data')\n",
    "    else:\n",
    "        shutil.move(f_curr, '.\\\\2024_data')"
   ]
  }
 ],
 "metadata": {
  "kernelspec": {
   "display_name": "Python 3 (ipykernel)",
   "language": "python",
   "name": "python3"
  },
  "language_info": {
   "codemirror_mode": {
    "name": "ipython",
    "version": 3
   },
   "file_extension": ".py",
   "mimetype": "text/x-python",
   "name": "python",
   "nbconvert_exporter": "python",
   "pygments_lexer": "ipython3",
   "version": "3.12.4"
  }
 },
 "nbformat": 4,
 "nbformat_minor": 5
}
