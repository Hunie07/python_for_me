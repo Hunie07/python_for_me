{
 "cells": [
  {
   "cell_type": "code",
   "execution_count": 1,
   "id": "51eb095b-0543-4dfc-bfd7-f2cdafb3ca50",
   "metadata": {},
   "outputs": [
    {
     "data": {
      "text/plain": [
       "['P', 'y', 't', 'h', 'o', 'n']"
      ]
     },
     "execution_count": 1,
     "metadata": {},
     "output_type": "execute_result"
    }
   ],
   "source": [
    "my_str = 'Python'\n",
    "my_str2 = []\n",
    "for letter in my_str:\n",
    "    my_str2.append(letter)\n",
    "my_str2"
   ]
  },
  {
   "cell_type": "code",
   "execution_count": 2,
   "id": "ed5a4cd5-fcd4-47eb-a85a-8f60426b34de",
   "metadata": {},
   "outputs": [
    {
     "data": {
      "text/plain": [
       "['P', 'y', 't', 'h', 'o', 'n']"
      ]
     },
     "execution_count": 2,
     "metadata": {},
     "output_type": "execute_result"
    }
   ],
   "source": [
    "# list comprehension\n",
    "my_str3 = [letter for letter in my_str]\n",
    "my_str3"
   ]
  },
  {
   "cell_type": "code",
   "execution_count": 3,
   "id": "ddb8da3c-5cff-4a27-bd0a-b270a7f653d9",
   "metadata": {},
   "outputs": [
    {
     "data": {
      "text/plain": [
       "[0, 2, 4, 6, 8, 10, 12, 14, 16, 18]"
      ]
     },
     "execution_count": 3,
     "metadata": {},
     "output_type": "execute_result"
    }
   ],
   "source": [
    "# conditionals in list comprehension\n",
    "num_list = [num for num in range(20) if num % 2 == 0]\n",
    "num_list"
   ]
  },
  {
   "cell_type": "code",
   "execution_count": 4,
   "id": "32952f98-e088-4990-afd3-a80359afc296",
   "metadata": {},
   "outputs": [
    {
     "data": {
      "text/plain": [
       "[0, 10, 20, 30, 40, 50, 60, 70, 80, 90]"
      ]
     },
     "execution_count": 4,
     "metadata": {},
     "output_type": "execute_result"
    }
   ],
   "source": [
    "num_list = [num for num in range(100) \n",
    "            if num % 2 == 0\n",
    "            if num % 5 == 0]\n",
    "num_list"
   ]
  },
  {
   "cell_type": "code",
   "execution_count": 5,
   "id": "f94feded-ecb3-494b-81f4-7dfb43442c77",
   "metadata": {},
   "outputs": [
    {
     "data": {
      "text/plain": [
       "['Even', 'Odd', 'Even', 'Odd', 'Even', 'Odd', 'Even', 'Odd', 'Even', 'Odd']"
      ]
     },
     "execution_count": 5,
     "metadata": {},
     "output_type": "execute_result"
    }
   ],
   "source": [
    "obj = ['Even' if i % 2 == 0 else 'Odd' for i in range(10)]\n",
    "obj"
   ]
  },
  {
   "cell_type": "code",
   "execution_count": 6,
   "id": "fdeecd7a-1adb-4284-b75e-5d5de3b53036",
   "metadata": {},
   "outputs": [
    {
     "data": {
      "text/plain": [
       "{0: 0, 1: 1, 2: 4, 3: 9, 4: 16, 5: 25}"
      ]
     },
     "execution_count": 6,
     "metadata": {},
     "output_type": "execute_result"
    }
   ],
   "source": [
    "# dictionary comprehension\n",
    "squares = {x: x**2 for x in range(6)}\n",
    "squares"
   ]
  }
 ],
 "metadata": {
  "kernelspec": {
   "display_name": "Python 3 (ipykernel)",
   "language": "python",
   "name": "python3"
  },
  "language_info": {
   "codemirror_mode": {
    "name": "ipython",
    "version": 3
   },
   "file_extension": ".py",
   "mimetype": "text/x-python",
   "name": "python",
   "nbconvert_exporter": "python",
   "pygments_lexer": "ipython3",
   "version": "3.12.4"
  }
 },
 "nbformat": 4,
 "nbformat_minor": 5
}
