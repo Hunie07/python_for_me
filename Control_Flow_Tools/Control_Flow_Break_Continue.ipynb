{
 "cells": [
  {
   "cell_type": "code",
   "execution_count": 1,
   "id": "d8462892-7c62-4c33-a927-206d1e87ac6c",
   "metadata": {},
   "outputs": [
    {
     "name": "stdout",
     "output_type": "stream",
     "text": [
      "0\n",
      "1\n",
      "2\n",
      "3\n"
     ]
    }
   ],
   "source": [
    "# break : 반복문 탈출\n",
    "for i in range(5):\n",
    "    print(i)\n",
    "    if i == 3:\n",
    "        break"
   ]
  },
  {
   "cell_type": "code",
   "execution_count": 2,
   "id": "5ccb68f0-a714-41da-a26d-33f1ffce0a73",
   "metadata": {},
   "outputs": [
    {
     "name": "stdout",
     "output_type": "stream",
     "text": [
      "# of Year = 1\n",
      "Current balance = 10500.0\n",
      "\n",
      "# of Year = 2\n",
      "Current balance = 11025.0\n",
      "\n",
      "# of Year = 3\n",
      "Current balance = 11576.25\n",
      "\n",
      "# of Year = 4\n",
      "Current balance = 12155.0625\n",
      "\n",
      "# of Year = 5\n",
      "Current balance = 12762.815625\n",
      "\n",
      "# of Year = 6\n",
      "Current balance = 13400.95640625\n",
      "\n",
      "# of Year = 7\n",
      "Current balance = 14071.0042265625\n",
      "\n",
      "# of Year = 8\n",
      "Current balance = 14774.554437890625\n",
      "\n",
      "# of Year = 9\n",
      "Current balance = 15513.282159785156\n",
      "\n",
      "# of Year = 10\n",
      "Current balance = 16288.946267774414\n",
      "\n",
      "# of Year = 11\n",
      "Current balance = 17103.393581163135\n",
      "\n",
      "# of Year = 12\n",
      "Current balance = 17958.56326022129\n",
      "\n",
      "# of Year = 13\n",
      "Current balance = 18856.491423232354\n",
      "\n",
      "# of Year = 14\n",
      "Current balance = 19799.31599439397\n",
      "\n",
      "# of Year = 15\n",
      "Current balance = 20789.28179411367\n",
      "\n"
     ]
    }
   ],
   "source": [
    "balance = 10000\n",
    "interest = 0.05\n",
    "yr = 0\n",
    "for i in range(100000):\n",
    "    balance += balance*interest\n",
    "    yr += 1\n",
    "    print(f'# of Year = {yr}')\n",
    "    print(f'Current balance = {balance}')\n",
    "    print('')\n",
    "    if balance > 20000:\n",
    "        break"
   ]
  },
  {
   "cell_type": "code",
   "execution_count": 3,
   "id": "eaea82b3-7441-4839-a334-8c67349737b6",
   "metadata": {},
   "outputs": [
    {
     "name": "stdout",
     "output_type": "stream",
     "text": [
      "0\n",
      "1\n",
      "3\n",
      "4\n"
     ]
    }
   ],
   "source": [
    "# continue : 반복문 맨 처음으로 이동\n",
    "for i in range(5):\n",
    "    if i == 2:\n",
    "        continue\n",
    "    print(i)"
   ]
  },
  {
   "cell_type": "code",
   "execution_count": 4,
   "id": "e5484805-0875-44b2-9b3e-0bb8f0e91965",
   "metadata": {},
   "outputs": [
    {
     "name": "stdout",
     "output_type": "stream",
     "text": [
      "T = 19\n",
      "T = 19\n",
      "T = 20\n",
      "T = 20\n",
      "T = 19\n"
     ]
    }
   ],
   "source": [
    "# continue example\n",
    "temp = [19, 19, 20, -10, 20, 19]\n",
    "for t in temp:\n",
    "    if t < 0:\n",
    "        continue\n",
    "    print(f'T = {t}')"
   ]
  }
 ],
 "metadata": {
  "kernelspec": {
   "display_name": "Python 3 (ipykernel)",
   "language": "python",
   "name": "python3"
  },
  "language_info": {
   "codemirror_mode": {
    "name": "ipython",
    "version": 3
   },
   "file_extension": ".py",
   "mimetype": "text/x-python",
   "name": "python",
   "nbconvert_exporter": "python",
   "pygments_lexer": "ipython3",
   "version": "3.12.4"
  }
 },
 "nbformat": 4,
 "nbformat_minor": 5
}
